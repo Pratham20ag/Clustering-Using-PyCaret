{
 "cells": [
  {
   "cell_type": "code",
   "execution_count": 1,
   "id": "47265e1f",
   "metadata": {},
   "outputs": [],
   "source": [
    "# pip install pycaret"
   ]
  },
  {
   "cell_type": "code",
   "execution_count": 2,
   "id": "92012c53",
   "metadata": {},
   "outputs": [
    {
     "data": {
      "text/html": [
       "<div>\n",
       "<style scoped>\n",
       "    .dataframe tbody tr th:only-of-type {\n",
       "        vertical-align: middle;\n",
       "    }\n",
       "\n",
       "    .dataframe tbody tr th {\n",
       "        vertical-align: top;\n",
       "    }\n",
       "\n",
       "    .dataframe thead th {\n",
       "        text-align: right;\n",
       "    }\n",
       "</style>\n",
       "<table border=\"1\" class=\"dataframe\">\n",
       "  <thead>\n",
       "    <tr style=\"text-align: right;\">\n",
       "      <th></th>\n",
       "      <th>sepal_length</th>\n",
       "      <th>sepal_width</th>\n",
       "      <th>petal_length</th>\n",
       "      <th>petal_width</th>\n",
       "      <th>species</th>\n",
       "    </tr>\n",
       "  </thead>\n",
       "  <tbody>\n",
       "    <tr>\n",
       "      <th>0</th>\n",
       "      <td>5.1</td>\n",
       "      <td>3.5</td>\n",
       "      <td>1.4</td>\n",
       "      <td>0.2</td>\n",
       "      <td>Iris-setosa</td>\n",
       "    </tr>\n",
       "    <tr>\n",
       "      <th>1</th>\n",
       "      <td>4.9</td>\n",
       "      <td>3.0</td>\n",
       "      <td>1.4</td>\n",
       "      <td>0.2</td>\n",
       "      <td>Iris-setosa</td>\n",
       "    </tr>\n",
       "    <tr>\n",
       "      <th>2</th>\n",
       "      <td>4.7</td>\n",
       "      <td>3.2</td>\n",
       "      <td>1.3</td>\n",
       "      <td>0.2</td>\n",
       "      <td>Iris-setosa</td>\n",
       "    </tr>\n",
       "    <tr>\n",
       "      <th>3</th>\n",
       "      <td>4.6</td>\n",
       "      <td>3.1</td>\n",
       "      <td>1.5</td>\n",
       "      <td>0.2</td>\n",
       "      <td>Iris-setosa</td>\n",
       "    </tr>\n",
       "    <tr>\n",
       "      <th>4</th>\n",
       "      <td>5.0</td>\n",
       "      <td>3.6</td>\n",
       "      <td>1.4</td>\n",
       "      <td>0.2</td>\n",
       "      <td>Iris-setosa</td>\n",
       "    </tr>\n",
       "  </tbody>\n",
       "</table>\n",
       "</div>"
      ],
      "text/plain": [
       "   sepal_length  sepal_width  petal_length  petal_width      species\n",
       "0           5.1          3.5           1.4          0.2  Iris-setosa\n",
       "1           4.9          3.0           1.4          0.2  Iris-setosa\n",
       "2           4.7          3.2           1.3          0.2  Iris-setosa\n",
       "3           4.6          3.1           1.5          0.2  Iris-setosa\n",
       "4           5.0          3.6           1.4          0.2  Iris-setosa"
      ]
     },
     "metadata": {},
     "output_type": "display_data"
    }
   ],
   "source": [
    "from pycaret.datasets import get_data\n",
    "from pycaret.clustering import *\n",
    "data = get_data('iris')\n",
    "data = data.drop('species',axis = 1)"
   ]
  },
  {
   "cell_type": "markdown",
   "id": "8d9e27f8",
   "metadata": {},
   "source": [
    "#### Dataset"
   ]
  },
  {
   "cell_type": "code",
   "execution_count": 3,
   "id": "a6175f0a",
   "metadata": {},
   "outputs": [
    {
     "name": "stdout",
     "output_type": "stream",
     "text": [
      "     sepal_length  sepal_width  petal_length  petal_width\n",
      "0             5.1          3.5           1.4          0.2\n",
      "1             4.9          3.0           1.4          0.2\n",
      "2             4.7          3.2           1.3          0.2\n",
      "3             4.6          3.1           1.5          0.2\n",
      "4             5.0          3.6           1.4          0.2\n",
      "..            ...          ...           ...          ...\n",
      "145           6.7          3.0           5.2          2.3\n",
      "146           6.3          2.5           5.0          1.9\n",
      "147           6.5          3.0           5.2          2.0\n",
      "148           6.2          3.4           5.4          2.3\n",
      "149           5.9          3.0           5.1          1.8\n",
      "\n",
      "[150 rows x 4 columns]\n"
     ]
    }
   ],
   "source": [
    "print(data)"
   ]
  },
  {
   "cell_type": "code",
   "execution_count": 4,
   "id": "f2880a7b",
   "metadata": {},
   "outputs": [],
   "source": [
    "models = ['kmeans','hclust','meanshift']\n",
    "clusters = [3,4,5]"
   ]
  },
  {
   "cell_type": "markdown",
   "id": "6dd26603",
   "metadata": {},
   "source": [
    "### No  Preprocessing"
   ]
  },
  {
   "cell_type": "code",
   "execution_count": 11,
   "id": "3a115f95",
   "metadata": {},
   "outputs": [
    {
     "data": {
      "text/html": [
       "<style type=\"text/css\">\n",
       "</style>\n",
       "<table id=\"T_7ed2a\">\n",
       "  <thead>\n",
       "    <tr>\n",
       "      <th class=\"blank level0\" >&nbsp;</th>\n",
       "      <th id=\"T_7ed2a_level0_col0\" class=\"col_heading level0 col0\" >Description</th>\n",
       "      <th id=\"T_7ed2a_level0_col1\" class=\"col_heading level0 col1\" >Value</th>\n",
       "    </tr>\n",
       "  </thead>\n",
       "  <tbody>\n",
       "    <tr>\n",
       "      <th id=\"T_7ed2a_level0_row0\" class=\"row_heading level0 row0\" >0</th>\n",
       "      <td id=\"T_7ed2a_row0_col0\" class=\"data row0 col0\" >Session id</td>\n",
       "      <td id=\"T_7ed2a_row0_col1\" class=\"data row0 col1\" >2</td>\n",
       "    </tr>\n",
       "    <tr>\n",
       "      <th id=\"T_7ed2a_level0_row1\" class=\"row_heading level0 row1\" >1</th>\n",
       "      <td id=\"T_7ed2a_row1_col0\" class=\"data row1 col0\" >Original data shape</td>\n",
       "      <td id=\"T_7ed2a_row1_col1\" class=\"data row1 col1\" >(150, 4)</td>\n",
       "    </tr>\n",
       "    <tr>\n",
       "      <th id=\"T_7ed2a_level0_row2\" class=\"row_heading level0 row2\" >2</th>\n",
       "      <td id=\"T_7ed2a_row2_col0\" class=\"data row2 col0\" >Transformed data shape</td>\n",
       "      <td id=\"T_7ed2a_row2_col1\" class=\"data row2 col1\" >(150, 4)</td>\n",
       "    </tr>\n",
       "    <tr>\n",
       "      <th id=\"T_7ed2a_level0_row3\" class=\"row_heading level0 row3\" >3</th>\n",
       "      <td id=\"T_7ed2a_row3_col0\" class=\"data row3 col0\" >Numeric features</td>\n",
       "      <td id=\"T_7ed2a_row3_col1\" class=\"data row3 col1\" >4</td>\n",
       "    </tr>\n",
       "  </tbody>\n",
       "</table>\n"
      ],
      "text/plain": [
       "<pandas.io.formats.style.Styler at 0x20aa759c790>"
      ]
     },
     "metadata": {},
     "output_type": "display_data"
    },
    {
     "data": {
      "text/html": [],
      "text/plain": [
       "<IPython.core.display.HTML object>"
      ]
     },
     "metadata": {},
     "output_type": "display_data"
    },
    {
     "data": {
      "text/html": [
       "<style type=\"text/css\">\n",
       "</style>\n",
       "<table id=\"T_186a7\">\n",
       "  <thead>\n",
       "    <tr>\n",
       "      <th class=\"blank level0\" >&nbsp;</th>\n",
       "      <th id=\"T_186a7_level0_col0\" class=\"col_heading level0 col0\" >Silhouette</th>\n",
       "      <th id=\"T_186a7_level0_col1\" class=\"col_heading level0 col1\" >Calinski-Harabasz</th>\n",
       "      <th id=\"T_186a7_level0_col2\" class=\"col_heading level0 col2\" >Davies-Bouldin</th>\n",
       "      <th id=\"T_186a7_level0_col3\" class=\"col_heading level0 col3\" >Homogeneity</th>\n",
       "      <th id=\"T_186a7_level0_col4\" class=\"col_heading level0 col4\" >Rand Index</th>\n",
       "      <th id=\"T_186a7_level0_col5\" class=\"col_heading level0 col5\" >Completeness</th>\n",
       "    </tr>\n",
       "  </thead>\n",
       "  <tbody>\n",
       "    <tr>\n",
       "      <th id=\"T_186a7_level0_row0\" class=\"row_heading level0 row0\" >0</th>\n",
       "      <td id=\"T_186a7_row0_col0\" class=\"data row0 col0\" >0.5526</td>\n",
       "      <td id=\"T_186a7_row0_col1\" class=\"data row0 col1\" >560.3999</td>\n",
       "      <td id=\"T_186a7_row0_col2\" class=\"data row0 col2\" >0.6623</td>\n",
       "      <td id=\"T_186a7_row0_col3\" class=\"data row0 col3\" >0</td>\n",
       "      <td id=\"T_186a7_row0_col4\" class=\"data row0 col4\" >0</td>\n",
       "      <td id=\"T_186a7_row0_col5\" class=\"data row0 col5\" >0</td>\n",
       "    </tr>\n",
       "  </tbody>\n",
       "</table>\n"
      ],
      "text/plain": [
       "<pandas.io.formats.style.Styler at 0x20aa5de7970>"
      ]
     },
     "metadata": {},
     "output_type": "display_data"
    },
    {
     "data": {
      "text/html": [],
      "text/plain": [
       "<IPython.core.display.HTML object>"
      ]
     },
     "metadata": {},
     "output_type": "display_data"
    },
    {
     "name": "stdout",
     "output_type": "stream",
     "text": [
      "For kmeans with 3 clusters without PreProcessing\n"
     ]
    },
    {
     "data": {
      "application/vnd.jupyter.widget-view+json": {
       "model_id": "2985e6eeb85c407dab0d1070b74bb746",
       "version_major": 2,
       "version_minor": 0
      },
      "text/plain": [
       "interactive(children=(ToggleButtons(description='Plot Type:', icons=('',), options=(('Pipeline Plot', 'pipelin…"
      ]
     },
     "metadata": {},
     "output_type": "display_data"
    },
    {
     "data": {
      "text/html": [
       "<style type=\"text/css\">\n",
       "</style>\n",
       "<table id=\"T_57c06\">\n",
       "  <thead>\n",
       "    <tr>\n",
       "      <th class=\"blank level0\" >&nbsp;</th>\n",
       "      <th id=\"T_57c06_level0_col0\" class=\"col_heading level0 col0\" >Description</th>\n",
       "      <th id=\"T_57c06_level0_col1\" class=\"col_heading level0 col1\" >Value</th>\n",
       "    </tr>\n",
       "  </thead>\n",
       "  <tbody>\n",
       "    <tr>\n",
       "      <th id=\"T_57c06_level0_row0\" class=\"row_heading level0 row0\" >0</th>\n",
       "      <td id=\"T_57c06_row0_col0\" class=\"data row0 col0\" >Session id</td>\n",
       "      <td id=\"T_57c06_row0_col1\" class=\"data row0 col1\" >2</td>\n",
       "    </tr>\n",
       "    <tr>\n",
       "      <th id=\"T_57c06_level0_row1\" class=\"row_heading level0 row1\" >1</th>\n",
       "      <td id=\"T_57c06_row1_col0\" class=\"data row1 col0\" >Original data shape</td>\n",
       "      <td id=\"T_57c06_row1_col1\" class=\"data row1 col1\" >(150, 4)</td>\n",
       "    </tr>\n",
       "    <tr>\n",
       "      <th id=\"T_57c06_level0_row2\" class=\"row_heading level0 row2\" >2</th>\n",
       "      <td id=\"T_57c06_row2_col0\" class=\"data row2 col0\" >Transformed data shape</td>\n",
       "      <td id=\"T_57c06_row2_col1\" class=\"data row2 col1\" >(150, 4)</td>\n",
       "    </tr>\n",
       "    <tr>\n",
       "      <th id=\"T_57c06_level0_row3\" class=\"row_heading level0 row3\" >3</th>\n",
       "      <td id=\"T_57c06_row3_col0\" class=\"data row3 col0\" >Numeric features</td>\n",
       "      <td id=\"T_57c06_row3_col1\" class=\"data row3 col1\" >4</td>\n",
       "    </tr>\n",
       "  </tbody>\n",
       "</table>\n"
      ],
      "text/plain": [
       "<pandas.io.formats.style.Styler at 0x20aa767abf0>"
      ]
     },
     "metadata": {},
     "output_type": "display_data"
    },
    {
     "data": {
      "text/html": [],
      "text/plain": [
       "<IPython.core.display.HTML object>"
      ]
     },
     "metadata": {},
     "output_type": "display_data"
    },
    {
     "data": {
      "text/html": [
       "<style type=\"text/css\">\n",
       "</style>\n",
       "<table id=\"T_d26f1\">\n",
       "  <thead>\n",
       "    <tr>\n",
       "      <th class=\"blank level0\" >&nbsp;</th>\n",
       "      <th id=\"T_d26f1_level0_col0\" class=\"col_heading level0 col0\" >Silhouette</th>\n",
       "      <th id=\"T_d26f1_level0_col1\" class=\"col_heading level0 col1\" >Calinski-Harabasz</th>\n",
       "      <th id=\"T_d26f1_level0_col2\" class=\"col_heading level0 col2\" >Davies-Bouldin</th>\n",
       "      <th id=\"T_d26f1_level0_col3\" class=\"col_heading level0 col3\" >Homogeneity</th>\n",
       "      <th id=\"T_d26f1_level0_col4\" class=\"col_heading level0 col4\" >Rand Index</th>\n",
       "      <th id=\"T_d26f1_level0_col5\" class=\"col_heading level0 col5\" >Completeness</th>\n",
       "    </tr>\n",
       "  </thead>\n",
       "  <tbody>\n",
       "    <tr>\n",
       "      <th id=\"T_d26f1_level0_row0\" class=\"row_heading level0 row0\" >0</th>\n",
       "      <td id=\"T_d26f1_row0_col0\" class=\"data row0 col0\" >0.4972</td>\n",
       "      <td id=\"T_d26f1_row0_col1\" class=\"data row0 col1\" >529.1207</td>\n",
       "      <td id=\"T_d26f1_row0_col2\" class=\"data row0 col2\" >0.7760</td>\n",
       "      <td id=\"T_d26f1_row0_col3\" class=\"data row0 col3\" >0</td>\n",
       "      <td id=\"T_d26f1_row0_col4\" class=\"data row0 col4\" >0</td>\n",
       "      <td id=\"T_d26f1_row0_col5\" class=\"data row0 col5\" >0</td>\n",
       "    </tr>\n",
       "  </tbody>\n",
       "</table>\n"
      ],
      "text/plain": [
       "<pandas.io.formats.style.Styler at 0x20aa747e5c0>"
      ]
     },
     "metadata": {},
     "output_type": "display_data"
    },
    {
     "data": {
      "text/html": [],
      "text/plain": [
       "<IPython.core.display.HTML object>"
      ]
     },
     "metadata": {},
     "output_type": "display_data"
    },
    {
     "name": "stdout",
     "output_type": "stream",
     "text": [
      "For kmeans with 4 clusters without PreProcessing\n"
     ]
    },
    {
     "data": {
      "application/vnd.jupyter.widget-view+json": {
       "model_id": "1ee524becfe3480f85c5e6959f121d1c",
       "version_major": 2,
       "version_minor": 0
      },
      "text/plain": [
       "interactive(children=(ToggleButtons(description='Plot Type:', icons=('',), options=(('Pipeline Plot', 'pipelin…"
      ]
     },
     "metadata": {},
     "output_type": "display_data"
    },
    {
     "data": {
      "text/html": [
       "<style type=\"text/css\">\n",
       "</style>\n",
       "<table id=\"T_315e6\">\n",
       "  <thead>\n",
       "    <tr>\n",
       "      <th class=\"blank level0\" >&nbsp;</th>\n",
       "      <th id=\"T_315e6_level0_col0\" class=\"col_heading level0 col0\" >Description</th>\n",
       "      <th id=\"T_315e6_level0_col1\" class=\"col_heading level0 col1\" >Value</th>\n",
       "    </tr>\n",
       "  </thead>\n",
       "  <tbody>\n",
       "    <tr>\n",
       "      <th id=\"T_315e6_level0_row0\" class=\"row_heading level0 row0\" >0</th>\n",
       "      <td id=\"T_315e6_row0_col0\" class=\"data row0 col0\" >Session id</td>\n",
       "      <td id=\"T_315e6_row0_col1\" class=\"data row0 col1\" >2</td>\n",
       "    </tr>\n",
       "    <tr>\n",
       "      <th id=\"T_315e6_level0_row1\" class=\"row_heading level0 row1\" >1</th>\n",
       "      <td id=\"T_315e6_row1_col0\" class=\"data row1 col0\" >Original data shape</td>\n",
       "      <td id=\"T_315e6_row1_col1\" class=\"data row1 col1\" >(150, 4)</td>\n",
       "    </tr>\n",
       "    <tr>\n",
       "      <th id=\"T_315e6_level0_row2\" class=\"row_heading level0 row2\" >2</th>\n",
       "      <td id=\"T_315e6_row2_col0\" class=\"data row2 col0\" >Transformed data shape</td>\n",
       "      <td id=\"T_315e6_row2_col1\" class=\"data row2 col1\" >(150, 4)</td>\n",
       "    </tr>\n",
       "    <tr>\n",
       "      <th id=\"T_315e6_level0_row3\" class=\"row_heading level0 row3\" >3</th>\n",
       "      <td id=\"T_315e6_row3_col0\" class=\"data row3 col0\" >Numeric features</td>\n",
       "      <td id=\"T_315e6_row3_col1\" class=\"data row3 col1\" >4</td>\n",
       "    </tr>\n",
       "  </tbody>\n",
       "</table>\n"
      ],
      "text/plain": [
       "<pandas.io.formats.style.Styler at 0x20aa72a74c0>"
      ]
     },
     "metadata": {},
     "output_type": "display_data"
    },
    {
     "data": {
      "text/html": [],
      "text/plain": [
       "<IPython.core.display.HTML object>"
      ]
     },
     "metadata": {},
     "output_type": "display_data"
    },
    {
     "data": {
      "text/html": [
       "<style type=\"text/css\">\n",
       "</style>\n",
       "<table id=\"T_15dd1\">\n",
       "  <thead>\n",
       "    <tr>\n",
       "      <th class=\"blank level0\" >&nbsp;</th>\n",
       "      <th id=\"T_15dd1_level0_col0\" class=\"col_heading level0 col0\" >Silhouette</th>\n",
       "      <th id=\"T_15dd1_level0_col1\" class=\"col_heading level0 col1\" >Calinski-Harabasz</th>\n",
       "      <th id=\"T_15dd1_level0_col2\" class=\"col_heading level0 col2\" >Davies-Bouldin</th>\n",
       "      <th id=\"T_15dd1_level0_col3\" class=\"col_heading level0 col3\" >Homogeneity</th>\n",
       "      <th id=\"T_15dd1_level0_col4\" class=\"col_heading level0 col4\" >Rand Index</th>\n",
       "      <th id=\"T_15dd1_level0_col5\" class=\"col_heading level0 col5\" >Completeness</th>\n",
       "    </tr>\n",
       "  </thead>\n",
       "  <tbody>\n",
       "    <tr>\n",
       "      <th id=\"T_15dd1_level0_row0\" class=\"row_heading level0 row0\" >0</th>\n",
       "      <td id=\"T_15dd1_row0_col0\" class=\"data row0 col0\" >0.4885</td>\n",
       "      <td id=\"T_15dd1_row0_col1\" class=\"data row0 col1\" >494.0944</td>\n",
       "      <td id=\"T_15dd1_row0_col2\" class=\"data row0 col2\" >0.8062</td>\n",
       "      <td id=\"T_15dd1_row0_col3\" class=\"data row0 col3\" >0</td>\n",
       "      <td id=\"T_15dd1_row0_col4\" class=\"data row0 col4\" >0</td>\n",
       "      <td id=\"T_15dd1_row0_col5\" class=\"data row0 col5\" >0</td>\n",
       "    </tr>\n",
       "  </tbody>\n",
       "</table>\n"
      ],
      "text/plain": [
       "<pandas.io.formats.style.Styler at 0x20aa1778b20>"
      ]
     },
     "metadata": {},
     "output_type": "display_data"
    },
    {
     "data": {
      "text/html": [],
      "text/plain": [
       "<IPython.core.display.HTML object>"
      ]
     },
     "metadata": {},
     "output_type": "display_data"
    },
    {
     "name": "stdout",
     "output_type": "stream",
     "text": [
      "For kmeans with 5 clusters without PreProcessing\n"
     ]
    },
    {
     "data": {
      "application/vnd.jupyter.widget-view+json": {
       "model_id": "8ded577b368c4b7dba69f1d50b89bf39",
       "version_major": 2,
       "version_minor": 0
      },
      "text/plain": [
       "interactive(children=(ToggleButtons(description='Plot Type:', icons=('',), options=(('Pipeline Plot', 'pipelin…"
      ]
     },
     "metadata": {},
     "output_type": "display_data"
    },
    {
     "data": {
      "text/html": [
       "<style type=\"text/css\">\n",
       "</style>\n",
       "<table id=\"T_f7280\">\n",
       "  <thead>\n",
       "    <tr>\n",
       "      <th class=\"blank level0\" >&nbsp;</th>\n",
       "      <th id=\"T_f7280_level0_col0\" class=\"col_heading level0 col0\" >Description</th>\n",
       "      <th id=\"T_f7280_level0_col1\" class=\"col_heading level0 col1\" >Value</th>\n",
       "    </tr>\n",
       "  </thead>\n",
       "  <tbody>\n",
       "    <tr>\n",
       "      <th id=\"T_f7280_level0_row0\" class=\"row_heading level0 row0\" >0</th>\n",
       "      <td id=\"T_f7280_row0_col0\" class=\"data row0 col0\" >Session id</td>\n",
       "      <td id=\"T_f7280_row0_col1\" class=\"data row0 col1\" >2</td>\n",
       "    </tr>\n",
       "    <tr>\n",
       "      <th id=\"T_f7280_level0_row1\" class=\"row_heading level0 row1\" >1</th>\n",
       "      <td id=\"T_f7280_row1_col0\" class=\"data row1 col0\" >Original data shape</td>\n",
       "      <td id=\"T_f7280_row1_col1\" class=\"data row1 col1\" >(150, 4)</td>\n",
       "    </tr>\n",
       "    <tr>\n",
       "      <th id=\"T_f7280_level0_row2\" class=\"row_heading level0 row2\" >2</th>\n",
       "      <td id=\"T_f7280_row2_col0\" class=\"data row2 col0\" >Transformed data shape</td>\n",
       "      <td id=\"T_f7280_row2_col1\" class=\"data row2 col1\" >(150, 4)</td>\n",
       "    </tr>\n",
       "    <tr>\n",
       "      <th id=\"T_f7280_level0_row3\" class=\"row_heading level0 row3\" >3</th>\n",
       "      <td id=\"T_f7280_row3_col0\" class=\"data row3 col0\" >Numeric features</td>\n",
       "      <td id=\"T_f7280_row3_col1\" class=\"data row3 col1\" >4</td>\n",
       "    </tr>\n",
       "  </tbody>\n",
       "</table>\n"
      ],
      "text/plain": [
       "<pandas.io.formats.style.Styler at 0x20aa75c0fa0>"
      ]
     },
     "metadata": {},
     "output_type": "display_data"
    },
    {
     "data": {
      "text/html": [],
      "text/plain": [
       "<IPython.core.display.HTML object>"
      ]
     },
     "metadata": {},
     "output_type": "display_data"
    },
    {
     "data": {
      "text/html": [
       "<style type=\"text/css\">\n",
       "</style>\n",
       "<table id=\"T_1569a\">\n",
       "  <thead>\n",
       "    <tr>\n",
       "      <th class=\"blank level0\" >&nbsp;</th>\n",
       "      <th id=\"T_1569a_level0_col0\" class=\"col_heading level0 col0\" >Silhouette</th>\n",
       "      <th id=\"T_1569a_level0_col1\" class=\"col_heading level0 col1\" >Calinski-Harabasz</th>\n",
       "      <th id=\"T_1569a_level0_col2\" class=\"col_heading level0 col2\" >Davies-Bouldin</th>\n",
       "      <th id=\"T_1569a_level0_col3\" class=\"col_heading level0 col3\" >Homogeneity</th>\n",
       "      <th id=\"T_1569a_level0_col4\" class=\"col_heading level0 col4\" >Rand Index</th>\n",
       "      <th id=\"T_1569a_level0_col5\" class=\"col_heading level0 col5\" >Completeness</th>\n",
       "    </tr>\n",
       "  </thead>\n",
       "  <tbody>\n",
       "    <tr>\n",
       "      <th id=\"T_1569a_level0_row0\" class=\"row_heading level0 row0\" >0</th>\n",
       "      <td id=\"T_1569a_row0_col0\" class=\"data row0 col0\" >0.5541</td>\n",
       "      <td id=\"T_1569a_row0_col1\" class=\"data row0 col1\" >556.8410</td>\n",
       "      <td id=\"T_1569a_row0_col2\" class=\"data row0 col2\" >0.6566</td>\n",
       "      <td id=\"T_1569a_row0_col3\" class=\"data row0 col3\" >0</td>\n",
       "      <td id=\"T_1569a_row0_col4\" class=\"data row0 col4\" >0</td>\n",
       "      <td id=\"T_1569a_row0_col5\" class=\"data row0 col5\" >0</td>\n",
       "    </tr>\n",
       "  </tbody>\n",
       "</table>\n"
      ],
      "text/plain": [
       "<pandas.io.formats.style.Styler at 0x20aa767a890>"
      ]
     },
     "metadata": {},
     "output_type": "display_data"
    },
    {
     "data": {
      "text/html": [],
      "text/plain": [
       "<IPython.core.display.HTML object>"
      ]
     },
     "metadata": {},
     "output_type": "display_data"
    },
    {
     "name": "stdout",
     "output_type": "stream",
     "text": [
      "For hclust with 3 clusters without PreProcessing\n"
     ]
    },
    {
     "data": {
      "application/vnd.jupyter.widget-view+json": {
       "model_id": "62d068fda8e34cc0898e7e3636c2158b",
       "version_major": 2,
       "version_minor": 0
      },
      "text/plain": [
       "interactive(children=(ToggleButtons(description='Plot Type:', icons=('',), options=(('Pipeline Plot', 'pipelin…"
      ]
     },
     "metadata": {},
     "output_type": "display_data"
    },
    {
     "data": {
      "text/html": [
       "<style type=\"text/css\">\n",
       "</style>\n",
       "<table id=\"T_46bb7\">\n",
       "  <thead>\n",
       "    <tr>\n",
       "      <th class=\"blank level0\" >&nbsp;</th>\n",
       "      <th id=\"T_46bb7_level0_col0\" class=\"col_heading level0 col0\" >Description</th>\n",
       "      <th id=\"T_46bb7_level0_col1\" class=\"col_heading level0 col1\" >Value</th>\n",
       "    </tr>\n",
       "  </thead>\n",
       "  <tbody>\n",
       "    <tr>\n",
       "      <th id=\"T_46bb7_level0_row0\" class=\"row_heading level0 row0\" >0</th>\n",
       "      <td id=\"T_46bb7_row0_col0\" class=\"data row0 col0\" >Session id</td>\n",
       "      <td id=\"T_46bb7_row0_col1\" class=\"data row0 col1\" >2</td>\n",
       "    </tr>\n",
       "    <tr>\n",
       "      <th id=\"T_46bb7_level0_row1\" class=\"row_heading level0 row1\" >1</th>\n",
       "      <td id=\"T_46bb7_row1_col0\" class=\"data row1 col0\" >Original data shape</td>\n",
       "      <td id=\"T_46bb7_row1_col1\" class=\"data row1 col1\" >(150, 4)</td>\n",
       "    </tr>\n",
       "    <tr>\n",
       "      <th id=\"T_46bb7_level0_row2\" class=\"row_heading level0 row2\" >2</th>\n",
       "      <td id=\"T_46bb7_row2_col0\" class=\"data row2 col0\" >Transformed data shape</td>\n",
       "      <td id=\"T_46bb7_row2_col1\" class=\"data row2 col1\" >(150, 4)</td>\n",
       "    </tr>\n",
       "    <tr>\n",
       "      <th id=\"T_46bb7_level0_row3\" class=\"row_heading level0 row3\" >3</th>\n",
       "      <td id=\"T_46bb7_row3_col0\" class=\"data row3 col0\" >Numeric features</td>\n",
       "      <td id=\"T_46bb7_row3_col1\" class=\"data row3 col1\" >4</td>\n",
       "    </tr>\n",
       "  </tbody>\n",
       "</table>\n"
      ],
      "text/plain": [
       "<pandas.io.formats.style.Styler at 0x20aa74ff520>"
      ]
     },
     "metadata": {},
     "output_type": "display_data"
    },
    {
     "data": {
      "text/html": [],
      "text/plain": [
       "<IPython.core.display.HTML object>"
      ]
     },
     "metadata": {},
     "output_type": "display_data"
    },
    {
     "data": {
      "text/html": [
       "<style type=\"text/css\">\n",
       "</style>\n",
       "<table id=\"T_14a6b\">\n",
       "  <thead>\n",
       "    <tr>\n",
       "      <th class=\"blank level0\" >&nbsp;</th>\n",
       "      <th id=\"T_14a6b_level0_col0\" class=\"col_heading level0 col0\" >Silhouette</th>\n",
       "      <th id=\"T_14a6b_level0_col1\" class=\"col_heading level0 col1\" >Calinski-Harabasz</th>\n",
       "      <th id=\"T_14a6b_level0_col2\" class=\"col_heading level0 col2\" >Davies-Bouldin</th>\n",
       "      <th id=\"T_14a6b_level0_col3\" class=\"col_heading level0 col3\" >Homogeneity</th>\n",
       "      <th id=\"T_14a6b_level0_col4\" class=\"col_heading level0 col4\" >Rand Index</th>\n",
       "      <th id=\"T_14a6b_level0_col5\" class=\"col_heading level0 col5\" >Completeness</th>\n",
       "    </tr>\n",
       "  </thead>\n",
       "  <tbody>\n",
       "    <tr>\n",
       "      <th id=\"T_14a6b_level0_row0\" class=\"row_heading level0 row0\" >0</th>\n",
       "      <td id=\"T_14a6b_row0_col0\" class=\"data row0 col0\" >0.4887</td>\n",
       "      <td id=\"T_14a6b_row0_col1\" class=\"data row0 col1\" >513.7721</td>\n",
       "      <td id=\"T_14a6b_row0_col2\" class=\"data row0 col2\" >0.7956</td>\n",
       "      <td id=\"T_14a6b_row0_col3\" class=\"data row0 col3\" >0</td>\n",
       "      <td id=\"T_14a6b_row0_col4\" class=\"data row0 col4\" >0</td>\n",
       "      <td id=\"T_14a6b_row0_col5\" class=\"data row0 col5\" >0</td>\n",
       "    </tr>\n",
       "  </tbody>\n",
       "</table>\n"
      ],
      "text/plain": [
       "<pandas.io.formats.style.Styler at 0x20aa759e5f0>"
      ]
     },
     "metadata": {},
     "output_type": "display_data"
    },
    {
     "data": {
      "text/html": [],
      "text/plain": [
       "<IPython.core.display.HTML object>"
      ]
     },
     "metadata": {},
     "output_type": "display_data"
    },
    {
     "name": "stdout",
     "output_type": "stream",
     "text": [
      "For hclust with 4 clusters without PreProcessing\n"
     ]
    },
    {
     "data": {
      "application/vnd.jupyter.widget-view+json": {
       "model_id": "76ea04b7a4fb4279ba10e9132c9efa1d",
       "version_major": 2,
       "version_minor": 0
      },
      "text/plain": [
       "interactive(children=(ToggleButtons(description='Plot Type:', icons=('',), options=(('Pipeline Plot', 'pipelin…"
      ]
     },
     "metadata": {},
     "output_type": "display_data"
    },
    {
     "data": {
      "text/html": [
       "<style type=\"text/css\">\n",
       "</style>\n",
       "<table id=\"T_8f83e\">\n",
       "  <thead>\n",
       "    <tr>\n",
       "      <th class=\"blank level0\" >&nbsp;</th>\n",
       "      <th id=\"T_8f83e_level0_col0\" class=\"col_heading level0 col0\" >Description</th>\n",
       "      <th id=\"T_8f83e_level0_col1\" class=\"col_heading level0 col1\" >Value</th>\n",
       "    </tr>\n",
       "  </thead>\n",
       "  <tbody>\n",
       "    <tr>\n",
       "      <th id=\"T_8f83e_level0_row0\" class=\"row_heading level0 row0\" >0</th>\n",
       "      <td id=\"T_8f83e_row0_col0\" class=\"data row0 col0\" >Session id</td>\n",
       "      <td id=\"T_8f83e_row0_col1\" class=\"data row0 col1\" >2</td>\n",
       "    </tr>\n",
       "    <tr>\n",
       "      <th id=\"T_8f83e_level0_row1\" class=\"row_heading level0 row1\" >1</th>\n",
       "      <td id=\"T_8f83e_row1_col0\" class=\"data row1 col0\" >Original data shape</td>\n",
       "      <td id=\"T_8f83e_row1_col1\" class=\"data row1 col1\" >(150, 4)</td>\n",
       "    </tr>\n",
       "    <tr>\n",
       "      <th id=\"T_8f83e_level0_row2\" class=\"row_heading level0 row2\" >2</th>\n",
       "      <td id=\"T_8f83e_row2_col0\" class=\"data row2 col0\" >Transformed data shape</td>\n",
       "      <td id=\"T_8f83e_row2_col1\" class=\"data row2 col1\" >(150, 4)</td>\n",
       "    </tr>\n",
       "    <tr>\n",
       "      <th id=\"T_8f83e_level0_row3\" class=\"row_heading level0 row3\" >3</th>\n",
       "      <td id=\"T_8f83e_row3_col0\" class=\"data row3 col0\" >Numeric features</td>\n",
       "      <td id=\"T_8f83e_row3_col1\" class=\"data row3 col1\" >4</td>\n",
       "    </tr>\n",
       "  </tbody>\n",
       "</table>\n"
      ],
      "text/plain": [
       "<pandas.io.formats.style.Styler at 0x20aa7718a00>"
      ]
     },
     "metadata": {},
     "output_type": "display_data"
    },
    {
     "data": {
      "text/html": [],
      "text/plain": [
       "<IPython.core.display.HTML object>"
      ]
     },
     "metadata": {},
     "output_type": "display_data"
    },
    {
     "data": {
      "text/html": [
       "<style type=\"text/css\">\n",
       "</style>\n",
       "<table id=\"T_3ff37\">\n",
       "  <thead>\n",
       "    <tr>\n",
       "      <th class=\"blank level0\" >&nbsp;</th>\n",
       "      <th id=\"T_3ff37_level0_col0\" class=\"col_heading level0 col0\" >Silhouette</th>\n",
       "      <th id=\"T_3ff37_level0_col1\" class=\"col_heading level0 col1\" >Calinski-Harabasz</th>\n",
       "      <th id=\"T_3ff37_level0_col2\" class=\"col_heading level0 col2\" >Davies-Bouldin</th>\n",
       "      <th id=\"T_3ff37_level0_col3\" class=\"col_heading level0 col3\" >Homogeneity</th>\n",
       "      <th id=\"T_3ff37_level0_col4\" class=\"col_heading level0 col4\" >Rand Index</th>\n",
       "      <th id=\"T_3ff37_level0_col5\" class=\"col_heading level0 col5\" >Completeness</th>\n",
       "    </tr>\n",
       "  </thead>\n",
       "  <tbody>\n",
       "    <tr>\n",
       "      <th id=\"T_3ff37_level0_row0\" class=\"row_heading level0 row0\" >0</th>\n",
       "      <td id=\"T_3ff37_row0_col0\" class=\"data row0 col0\" >0.4842</td>\n",
       "      <td id=\"T_3ff37_row0_col1\" class=\"data row0 col1\" >487.0704</td>\n",
       "      <td id=\"T_3ff37_row0_col2\" class=\"data row0 col2\" >0.8207</td>\n",
       "      <td id=\"T_3ff37_row0_col3\" class=\"data row0 col3\" >0</td>\n",
       "      <td id=\"T_3ff37_row0_col4\" class=\"data row0 col4\" >0</td>\n",
       "      <td id=\"T_3ff37_row0_col5\" class=\"data row0 col5\" >0</td>\n",
       "    </tr>\n",
       "  </tbody>\n",
       "</table>\n"
      ],
      "text/plain": [
       "<pandas.io.formats.style.Styler at 0x20aa7719360>"
      ]
     },
     "metadata": {},
     "output_type": "display_data"
    },
    {
     "data": {
      "text/html": [],
      "text/plain": [
       "<IPython.core.display.HTML object>"
      ]
     },
     "metadata": {},
     "output_type": "display_data"
    },
    {
     "name": "stdout",
     "output_type": "stream",
     "text": [
      "For hclust with 5 clusters without PreProcessing\n"
     ]
    },
    {
     "data": {
      "application/vnd.jupyter.widget-view+json": {
       "model_id": "5a77b93f37e54ac89e83bf84c2104f55",
       "version_major": 2,
       "version_minor": 0
      },
      "text/plain": [
       "interactive(children=(ToggleButtons(description='Plot Type:', icons=('',), options=(('Pipeline Plot', 'pipelin…"
      ]
     },
     "metadata": {},
     "output_type": "display_data"
    },
    {
     "data": {
      "text/html": [
       "<style type=\"text/css\">\n",
       "</style>\n",
       "<table id=\"T_cca27\">\n",
       "  <thead>\n",
       "    <tr>\n",
       "      <th class=\"blank level0\" >&nbsp;</th>\n",
       "      <th id=\"T_cca27_level0_col0\" class=\"col_heading level0 col0\" >Description</th>\n",
       "      <th id=\"T_cca27_level0_col1\" class=\"col_heading level0 col1\" >Value</th>\n",
       "    </tr>\n",
       "  </thead>\n",
       "  <tbody>\n",
       "    <tr>\n",
       "      <th id=\"T_cca27_level0_row0\" class=\"row_heading level0 row0\" >0</th>\n",
       "      <td id=\"T_cca27_row0_col0\" class=\"data row0 col0\" >Session id</td>\n",
       "      <td id=\"T_cca27_row0_col1\" class=\"data row0 col1\" >2</td>\n",
       "    </tr>\n",
       "    <tr>\n",
       "      <th id=\"T_cca27_level0_row1\" class=\"row_heading level0 row1\" >1</th>\n",
       "      <td id=\"T_cca27_row1_col0\" class=\"data row1 col0\" >Original data shape</td>\n",
       "      <td id=\"T_cca27_row1_col1\" class=\"data row1 col1\" >(150, 4)</td>\n",
       "    </tr>\n",
       "    <tr>\n",
       "      <th id=\"T_cca27_level0_row2\" class=\"row_heading level0 row2\" >2</th>\n",
       "      <td id=\"T_cca27_row2_col0\" class=\"data row2 col0\" >Transformed data shape</td>\n",
       "      <td id=\"T_cca27_row2_col1\" class=\"data row2 col1\" >(150, 4)</td>\n",
       "    </tr>\n",
       "    <tr>\n",
       "      <th id=\"T_cca27_level0_row3\" class=\"row_heading level0 row3\" >3</th>\n",
       "      <td id=\"T_cca27_row3_col0\" class=\"data row3 col0\" >Numeric features</td>\n",
       "      <td id=\"T_cca27_row3_col1\" class=\"data row3 col1\" >4</td>\n",
       "    </tr>\n",
       "  </tbody>\n",
       "</table>\n"
      ],
      "text/plain": [
       "<pandas.io.formats.style.Styler at 0x20aa76b6bc0>"
      ]
     },
     "metadata": {},
     "output_type": "display_data"
    },
    {
     "data": {
      "text/html": [],
      "text/plain": [
       "<IPython.core.display.HTML object>"
      ]
     },
     "metadata": {},
     "output_type": "display_data"
    },
    {
     "data": {
      "text/html": [
       "<style type=\"text/css\">\n",
       "</style>\n",
       "<table id=\"T_97a2c\">\n",
       "  <thead>\n",
       "    <tr>\n",
       "      <th class=\"blank level0\" >&nbsp;</th>\n",
       "      <th id=\"T_97a2c_level0_col0\" class=\"col_heading level0 col0\" >Silhouette</th>\n",
       "      <th id=\"T_97a2c_level0_col1\" class=\"col_heading level0 col1\" >Calinski-Harabasz</th>\n",
       "      <th id=\"T_97a2c_level0_col2\" class=\"col_heading level0 col2\" >Davies-Bouldin</th>\n",
       "      <th id=\"T_97a2c_level0_col3\" class=\"col_heading level0 col3\" >Homogeneity</th>\n",
       "      <th id=\"T_97a2c_level0_col4\" class=\"col_heading level0 col4\" >Rand Index</th>\n",
       "      <th id=\"T_97a2c_level0_col5\" class=\"col_heading level0 col5\" >Completeness</th>\n",
       "    </tr>\n",
       "  </thead>\n",
       "  <tbody>\n",
       "    <tr>\n",
       "      <th id=\"T_97a2c_level0_row0\" class=\"row_heading level0 row0\" >0</th>\n",
       "      <td id=\"T_97a2c_row0_col0\" class=\"data row0 col0\" >0.6855</td>\n",
       "      <td id=\"T_97a2c_row0_col1\" class=\"data row0 col1\" >508.8825</td>\n",
       "      <td id=\"T_97a2c_row0_col2\" class=\"data row0 col2\" >0.3893</td>\n",
       "      <td id=\"T_97a2c_row0_col3\" class=\"data row0 col3\" >0</td>\n",
       "      <td id=\"T_97a2c_row0_col4\" class=\"data row0 col4\" >0</td>\n",
       "      <td id=\"T_97a2c_row0_col5\" class=\"data row0 col5\" >0</td>\n",
       "    </tr>\n",
       "  </tbody>\n",
       "</table>\n"
      ],
      "text/plain": [
       "<pandas.io.formats.style.Styler at 0x20aa76b7d00>"
      ]
     },
     "metadata": {},
     "output_type": "display_data"
    },
    {
     "data": {
      "text/html": [],
      "text/plain": [
       "<IPython.core.display.HTML object>"
      ]
     },
     "metadata": {},
     "output_type": "display_data"
    },
    {
     "name": "stdout",
     "output_type": "stream",
     "text": [
      "For meanshift with 3 clusters without PreProcessing\n"
     ]
    },
    {
     "data": {
      "application/vnd.jupyter.widget-view+json": {
       "model_id": "95ddf1067e4a4abd954461bcb75d5b74",
       "version_major": 2,
       "version_minor": 0
      },
      "text/plain": [
       "interactive(children=(ToggleButtons(description='Plot Type:', icons=('',), options=(('Pipeline Plot', 'pipelin…"
      ]
     },
     "metadata": {},
     "output_type": "display_data"
    },
    {
     "data": {
      "text/html": [
       "<style type=\"text/css\">\n",
       "</style>\n",
       "<table id=\"T_21f61\">\n",
       "  <thead>\n",
       "    <tr>\n",
       "      <th class=\"blank level0\" >&nbsp;</th>\n",
       "      <th id=\"T_21f61_level0_col0\" class=\"col_heading level0 col0\" >Description</th>\n",
       "      <th id=\"T_21f61_level0_col1\" class=\"col_heading level0 col1\" >Value</th>\n",
       "    </tr>\n",
       "  </thead>\n",
       "  <tbody>\n",
       "    <tr>\n",
       "      <th id=\"T_21f61_level0_row0\" class=\"row_heading level0 row0\" >0</th>\n",
       "      <td id=\"T_21f61_row0_col0\" class=\"data row0 col0\" >Session id</td>\n",
       "      <td id=\"T_21f61_row0_col1\" class=\"data row0 col1\" >2</td>\n",
       "    </tr>\n",
       "    <tr>\n",
       "      <th id=\"T_21f61_level0_row1\" class=\"row_heading level0 row1\" >1</th>\n",
       "      <td id=\"T_21f61_row1_col0\" class=\"data row1 col0\" >Original data shape</td>\n",
       "      <td id=\"T_21f61_row1_col1\" class=\"data row1 col1\" >(150, 4)</td>\n",
       "    </tr>\n",
       "    <tr>\n",
       "      <th id=\"T_21f61_level0_row2\" class=\"row_heading level0 row2\" >2</th>\n",
       "      <td id=\"T_21f61_row2_col0\" class=\"data row2 col0\" >Transformed data shape</td>\n",
       "      <td id=\"T_21f61_row2_col1\" class=\"data row2 col1\" >(150, 4)</td>\n",
       "    </tr>\n",
       "    <tr>\n",
       "      <th id=\"T_21f61_level0_row3\" class=\"row_heading level0 row3\" >3</th>\n",
       "      <td id=\"T_21f61_row3_col0\" class=\"data row3 col0\" >Numeric features</td>\n",
       "      <td id=\"T_21f61_row3_col1\" class=\"data row3 col1\" >4</td>\n",
       "    </tr>\n",
       "  </tbody>\n",
       "</table>\n"
      ],
      "text/plain": [
       "<pandas.io.formats.style.Styler at 0x20aa75d3e50>"
      ]
     },
     "metadata": {},
     "output_type": "display_data"
    },
    {
     "data": {
      "text/html": [],
      "text/plain": [
       "<IPython.core.display.HTML object>"
      ]
     },
     "metadata": {},
     "output_type": "display_data"
    },
    {
     "data": {
      "text/html": [
       "<style type=\"text/css\">\n",
       "</style>\n",
       "<table id=\"T_c10c1\">\n",
       "  <thead>\n",
       "    <tr>\n",
       "      <th class=\"blank level0\" >&nbsp;</th>\n",
       "      <th id=\"T_c10c1_level0_col0\" class=\"col_heading level0 col0\" >Silhouette</th>\n",
       "      <th id=\"T_c10c1_level0_col1\" class=\"col_heading level0 col1\" >Calinski-Harabasz</th>\n",
       "      <th id=\"T_c10c1_level0_col2\" class=\"col_heading level0 col2\" >Davies-Bouldin</th>\n",
       "      <th id=\"T_c10c1_level0_col3\" class=\"col_heading level0 col3\" >Homogeneity</th>\n",
       "      <th id=\"T_c10c1_level0_col4\" class=\"col_heading level0 col4\" >Rand Index</th>\n",
       "      <th id=\"T_c10c1_level0_col5\" class=\"col_heading level0 col5\" >Completeness</th>\n",
       "    </tr>\n",
       "  </thead>\n",
       "  <tbody>\n",
       "    <tr>\n",
       "      <th id=\"T_c10c1_level0_row0\" class=\"row_heading level0 row0\" >0</th>\n",
       "      <td id=\"T_c10c1_row0_col0\" class=\"data row0 col0\" >0.6855</td>\n",
       "      <td id=\"T_c10c1_row0_col1\" class=\"data row0 col1\" >508.8825</td>\n",
       "      <td id=\"T_c10c1_row0_col2\" class=\"data row0 col2\" >0.3893</td>\n",
       "      <td id=\"T_c10c1_row0_col3\" class=\"data row0 col3\" >0</td>\n",
       "      <td id=\"T_c10c1_row0_col4\" class=\"data row0 col4\" >0</td>\n",
       "      <td id=\"T_c10c1_row0_col5\" class=\"data row0 col5\" >0</td>\n",
       "    </tr>\n",
       "  </tbody>\n",
       "</table>\n"
      ],
      "text/plain": [
       "<pandas.io.formats.style.Styler at 0x20aa7749d80>"
      ]
     },
     "metadata": {},
     "output_type": "display_data"
    },
    {
     "data": {
      "text/html": [],
      "text/plain": [
       "<IPython.core.display.HTML object>"
      ]
     },
     "metadata": {},
     "output_type": "display_data"
    },
    {
     "name": "stdout",
     "output_type": "stream",
     "text": [
      "For meanshift with 4 clusters without PreProcessing\n"
     ]
    },
    {
     "data": {
      "application/vnd.jupyter.widget-view+json": {
       "model_id": "3d74936061534e0d88c1ece0f2c0ca9b",
       "version_major": 2,
       "version_minor": 0
      },
      "text/plain": [
       "interactive(children=(ToggleButtons(description='Plot Type:', icons=('',), options=(('Pipeline Plot', 'pipelin…"
      ]
     },
     "metadata": {},
     "output_type": "display_data"
    },
    {
     "data": {
      "text/html": [
       "<style type=\"text/css\">\n",
       "</style>\n",
       "<table id=\"T_a859b\">\n",
       "  <thead>\n",
       "    <tr>\n",
       "      <th class=\"blank level0\" >&nbsp;</th>\n",
       "      <th id=\"T_a859b_level0_col0\" class=\"col_heading level0 col0\" >Description</th>\n",
       "      <th id=\"T_a859b_level0_col1\" class=\"col_heading level0 col1\" >Value</th>\n",
       "    </tr>\n",
       "  </thead>\n",
       "  <tbody>\n",
       "    <tr>\n",
       "      <th id=\"T_a859b_level0_row0\" class=\"row_heading level0 row0\" >0</th>\n",
       "      <td id=\"T_a859b_row0_col0\" class=\"data row0 col0\" >Session id</td>\n",
       "      <td id=\"T_a859b_row0_col1\" class=\"data row0 col1\" >2</td>\n",
       "    </tr>\n",
       "    <tr>\n",
       "      <th id=\"T_a859b_level0_row1\" class=\"row_heading level0 row1\" >1</th>\n",
       "      <td id=\"T_a859b_row1_col0\" class=\"data row1 col0\" >Original data shape</td>\n",
       "      <td id=\"T_a859b_row1_col1\" class=\"data row1 col1\" >(150, 4)</td>\n",
       "    </tr>\n",
       "    <tr>\n",
       "      <th id=\"T_a859b_level0_row2\" class=\"row_heading level0 row2\" >2</th>\n",
       "      <td id=\"T_a859b_row2_col0\" class=\"data row2 col0\" >Transformed data shape</td>\n",
       "      <td id=\"T_a859b_row2_col1\" class=\"data row2 col1\" >(150, 4)</td>\n",
       "    </tr>\n",
       "    <tr>\n",
       "      <th id=\"T_a859b_level0_row3\" class=\"row_heading level0 row3\" >3</th>\n",
       "      <td id=\"T_a859b_row3_col0\" class=\"data row3 col0\" >Numeric features</td>\n",
       "      <td id=\"T_a859b_row3_col1\" class=\"data row3 col1\" >4</td>\n",
       "    </tr>\n",
       "  </tbody>\n",
       "</table>\n"
      ],
      "text/plain": [
       "<pandas.io.formats.style.Styler at 0x20aa77298d0>"
      ]
     },
     "metadata": {},
     "output_type": "display_data"
    },
    {
     "data": {
      "text/html": [],
      "text/plain": [
       "<IPython.core.display.HTML object>"
      ]
     },
     "metadata": {},
     "output_type": "display_data"
    },
    {
     "data": {
      "text/html": [
       "<style type=\"text/css\">\n",
       "</style>\n",
       "<table id=\"T_5c823\">\n",
       "  <thead>\n",
       "    <tr>\n",
       "      <th class=\"blank level0\" >&nbsp;</th>\n",
       "      <th id=\"T_5c823_level0_col0\" class=\"col_heading level0 col0\" >Silhouette</th>\n",
       "      <th id=\"T_5c823_level0_col1\" class=\"col_heading level0 col1\" >Calinski-Harabasz</th>\n",
       "      <th id=\"T_5c823_level0_col2\" class=\"col_heading level0 col2\" >Davies-Bouldin</th>\n",
       "      <th id=\"T_5c823_level0_col3\" class=\"col_heading level0 col3\" >Homogeneity</th>\n",
       "      <th id=\"T_5c823_level0_col4\" class=\"col_heading level0 col4\" >Rand Index</th>\n",
       "      <th id=\"T_5c823_level0_col5\" class=\"col_heading level0 col5\" >Completeness</th>\n",
       "    </tr>\n",
       "  </thead>\n",
       "  <tbody>\n",
       "    <tr>\n",
       "      <th id=\"T_5c823_level0_row0\" class=\"row_heading level0 row0\" >0</th>\n",
       "      <td id=\"T_5c823_row0_col0\" class=\"data row0 col0\" >0.6855</td>\n",
       "      <td id=\"T_5c823_row0_col1\" class=\"data row0 col1\" >508.8825</td>\n",
       "      <td id=\"T_5c823_row0_col2\" class=\"data row0 col2\" >0.3893</td>\n",
       "      <td id=\"T_5c823_row0_col3\" class=\"data row0 col3\" >0</td>\n",
       "      <td id=\"T_5c823_row0_col4\" class=\"data row0 col4\" >0</td>\n",
       "      <td id=\"T_5c823_row0_col5\" class=\"data row0 col5\" >0</td>\n",
       "    </tr>\n",
       "  </tbody>\n",
       "</table>\n"
      ],
      "text/plain": [
       "<pandas.io.formats.style.Styler at 0x20aa772af50>"
      ]
     },
     "metadata": {},
     "output_type": "display_data"
    },
    {
     "data": {
      "text/html": [],
      "text/plain": [
       "<IPython.core.display.HTML object>"
      ]
     },
     "metadata": {},
     "output_type": "display_data"
    },
    {
     "name": "stdout",
     "output_type": "stream",
     "text": [
      "For meanshift with 5 clusters without PreProcessing\n"
     ]
    },
    {
     "data": {
      "application/vnd.jupyter.widget-view+json": {
       "model_id": "6bec18ff8fa148b0b94b5796ed85b94c",
       "version_major": 2,
       "version_minor": 0
      },
      "text/plain": [
       "interactive(children=(ToggleButtons(description='Plot Type:', icons=('',), options=(('Pipeline Plot', 'pipelin…"
      ]
     },
     "metadata": {},
     "output_type": "display_data"
    }
   ],
   "source": [
    "for model in models:\n",
    "    for cluster in clusters:\n",
    "        setup1 = setup(data, normalize=False, pca=False,preprocess = False,session_id = 2)\n",
    "        mod1  = create_model(model,num_clusters = cluster)\n",
    "        print(f\"For {model} with {cluster} clusters without PreProcessing\")\n",
    "        evaluate_model(mod1)"
   ]
  },
  {
   "cell_type": "markdown",
   "id": "dc320aa0",
   "metadata": {},
   "source": [
    "### With Normalization"
   ]
  },
  {
   "cell_type": "code",
   "execution_count": 6,
   "id": "83e3fe91",
   "metadata": {},
   "outputs": [
    {
     "data": {
      "text/html": [
       "<style type=\"text/css\">\n",
       "#T_ea063_row4_col1, #T_ea063_row8_col1 {\n",
       "  background-color: lightgreen;\n",
       "}\n",
       "</style>\n",
       "<table id=\"T_ea063\">\n",
       "  <thead>\n",
       "    <tr>\n",
       "      <th class=\"blank level0\" >&nbsp;</th>\n",
       "      <th id=\"T_ea063_level0_col0\" class=\"col_heading level0 col0\" >Description</th>\n",
       "      <th id=\"T_ea063_level0_col1\" class=\"col_heading level0 col1\" >Value</th>\n",
       "    </tr>\n",
       "  </thead>\n",
       "  <tbody>\n",
       "    <tr>\n",
       "      <th id=\"T_ea063_level0_row0\" class=\"row_heading level0 row0\" >0</th>\n",
       "      <td id=\"T_ea063_row0_col0\" class=\"data row0 col0\" >Session id</td>\n",
       "      <td id=\"T_ea063_row0_col1\" class=\"data row0 col1\" >2</td>\n",
       "    </tr>\n",
       "    <tr>\n",
       "      <th id=\"T_ea063_level0_row1\" class=\"row_heading level0 row1\" >1</th>\n",
       "      <td id=\"T_ea063_row1_col0\" class=\"data row1 col0\" >Original data shape</td>\n",
       "      <td id=\"T_ea063_row1_col1\" class=\"data row1 col1\" >(150, 4)</td>\n",
       "    </tr>\n",
       "    <tr>\n",
       "      <th id=\"T_ea063_level0_row2\" class=\"row_heading level0 row2\" >2</th>\n",
       "      <td id=\"T_ea063_row2_col0\" class=\"data row2 col0\" >Transformed data shape</td>\n",
       "      <td id=\"T_ea063_row2_col1\" class=\"data row2 col1\" >(150, 4)</td>\n",
       "    </tr>\n",
       "    <tr>\n",
       "      <th id=\"T_ea063_level0_row3\" class=\"row_heading level0 row3\" >3</th>\n",
       "      <td id=\"T_ea063_row3_col0\" class=\"data row3 col0\" >Numeric features</td>\n",
       "      <td id=\"T_ea063_row3_col1\" class=\"data row3 col1\" >4</td>\n",
       "    </tr>\n",
       "    <tr>\n",
       "      <th id=\"T_ea063_level0_row4\" class=\"row_heading level0 row4\" >4</th>\n",
       "      <td id=\"T_ea063_row4_col0\" class=\"data row4 col0\" >Preprocess</td>\n",
       "      <td id=\"T_ea063_row4_col1\" class=\"data row4 col1\" >True</td>\n",
       "    </tr>\n",
       "    <tr>\n",
       "      <th id=\"T_ea063_level0_row5\" class=\"row_heading level0 row5\" >5</th>\n",
       "      <td id=\"T_ea063_row5_col0\" class=\"data row5 col0\" >Imputation type</td>\n",
       "      <td id=\"T_ea063_row5_col1\" class=\"data row5 col1\" >simple</td>\n",
       "    </tr>\n",
       "    <tr>\n",
       "      <th id=\"T_ea063_level0_row6\" class=\"row_heading level0 row6\" >6</th>\n",
       "      <td id=\"T_ea063_row6_col0\" class=\"data row6 col0\" >Numeric imputation</td>\n",
       "      <td id=\"T_ea063_row6_col1\" class=\"data row6 col1\" >mean</td>\n",
       "    </tr>\n",
       "    <tr>\n",
       "      <th id=\"T_ea063_level0_row7\" class=\"row_heading level0 row7\" >7</th>\n",
       "      <td id=\"T_ea063_row7_col0\" class=\"data row7 col0\" >Categorical imputation</td>\n",
       "      <td id=\"T_ea063_row7_col1\" class=\"data row7 col1\" >mode</td>\n",
       "    </tr>\n",
       "    <tr>\n",
       "      <th id=\"T_ea063_level0_row8\" class=\"row_heading level0 row8\" >8</th>\n",
       "      <td id=\"T_ea063_row8_col0\" class=\"data row8 col0\" >Normalize</td>\n",
       "      <td id=\"T_ea063_row8_col1\" class=\"data row8 col1\" >True</td>\n",
       "    </tr>\n",
       "    <tr>\n",
       "      <th id=\"T_ea063_level0_row9\" class=\"row_heading level0 row9\" >9</th>\n",
       "      <td id=\"T_ea063_row9_col0\" class=\"data row9 col0\" >Normalize method</td>\n",
       "      <td id=\"T_ea063_row9_col1\" class=\"data row9 col1\" >zscore</td>\n",
       "    </tr>\n",
       "    <tr>\n",
       "      <th id=\"T_ea063_level0_row10\" class=\"row_heading level0 row10\" >10</th>\n",
       "      <td id=\"T_ea063_row10_col0\" class=\"data row10 col0\" >CPU Jobs</td>\n",
       "      <td id=\"T_ea063_row10_col1\" class=\"data row10 col1\" >-1</td>\n",
       "    </tr>\n",
       "    <tr>\n",
       "      <th id=\"T_ea063_level0_row11\" class=\"row_heading level0 row11\" >11</th>\n",
       "      <td id=\"T_ea063_row11_col0\" class=\"data row11 col0\" >Use GPU</td>\n",
       "      <td id=\"T_ea063_row11_col1\" class=\"data row11 col1\" >False</td>\n",
       "    </tr>\n",
       "    <tr>\n",
       "      <th id=\"T_ea063_level0_row12\" class=\"row_heading level0 row12\" >12</th>\n",
       "      <td id=\"T_ea063_row12_col0\" class=\"data row12 col0\" >Log Experiment</td>\n",
       "      <td id=\"T_ea063_row12_col1\" class=\"data row12 col1\" >False</td>\n",
       "    </tr>\n",
       "    <tr>\n",
       "      <th id=\"T_ea063_level0_row13\" class=\"row_heading level0 row13\" >13</th>\n",
       "      <td id=\"T_ea063_row13_col0\" class=\"data row13 col0\" >Experiment Name</td>\n",
       "      <td id=\"T_ea063_row13_col1\" class=\"data row13 col1\" >cluster-default-name</td>\n",
       "    </tr>\n",
       "    <tr>\n",
       "      <th id=\"T_ea063_level0_row14\" class=\"row_heading level0 row14\" >14</th>\n",
       "      <td id=\"T_ea063_row14_col0\" class=\"data row14 col0\" >USI</td>\n",
       "      <td id=\"T_ea063_row14_col1\" class=\"data row14 col1\" >3fdc</td>\n",
       "    </tr>\n",
       "  </tbody>\n",
       "</table>\n"
      ],
      "text/plain": [
       "<pandas.io.formats.style.Styler at 0x20aa71453c0>"
      ]
     },
     "metadata": {},
     "output_type": "display_data"
    },
    {
     "data": {
      "text/html": [],
      "text/plain": [
       "<IPython.core.display.HTML object>"
      ]
     },
     "metadata": {},
     "output_type": "display_data"
    },
    {
     "data": {
      "text/html": [
       "<style type=\"text/css\">\n",
       "</style>\n",
       "<table id=\"T_a277b\">\n",
       "  <thead>\n",
       "    <tr>\n",
       "      <th class=\"blank level0\" >&nbsp;</th>\n",
       "      <th id=\"T_a277b_level0_col0\" class=\"col_heading level0 col0\" >Silhouette</th>\n",
       "      <th id=\"T_a277b_level0_col1\" class=\"col_heading level0 col1\" >Calinski-Harabasz</th>\n",
       "      <th id=\"T_a277b_level0_col2\" class=\"col_heading level0 col2\" >Davies-Bouldin</th>\n",
       "      <th id=\"T_a277b_level0_col3\" class=\"col_heading level0 col3\" >Homogeneity</th>\n",
       "      <th id=\"T_a277b_level0_col4\" class=\"col_heading level0 col4\" >Rand Index</th>\n",
       "      <th id=\"T_a277b_level0_col5\" class=\"col_heading level0 col5\" >Completeness</th>\n",
       "    </tr>\n",
       "  </thead>\n",
       "  <tbody>\n",
       "    <tr>\n",
       "      <th id=\"T_a277b_level0_row0\" class=\"row_heading level0 row0\" >0</th>\n",
       "      <td id=\"T_a277b_row0_col0\" class=\"data row0 col0\" >0.4590</td>\n",
       "      <td id=\"T_a277b_row0_col1\" class=\"data row0 col1\" >239.3419</td>\n",
       "      <td id=\"T_a277b_row0_col2\" class=\"data row0 col2\" >0.8354</td>\n",
       "      <td id=\"T_a277b_row0_col3\" class=\"data row0 col3\" >0</td>\n",
       "      <td id=\"T_a277b_row0_col4\" class=\"data row0 col4\" >0</td>\n",
       "      <td id=\"T_a277b_row0_col5\" class=\"data row0 col5\" >0</td>\n",
       "    </tr>\n",
       "  </tbody>\n",
       "</table>\n"
      ],
      "text/plain": [
       "<pandas.io.formats.style.Styler at 0x20aa71467a0>"
      ]
     },
     "metadata": {},
     "output_type": "display_data"
    },
    {
     "data": {
      "text/html": [],
      "text/plain": [
       "<IPython.core.display.HTML object>"
      ]
     },
     "metadata": {},
     "output_type": "display_data"
    },
    {
     "name": "stdout",
     "output_type": "stream",
     "text": [
      "For kmeans with 3 clusters with Normalization\n"
     ]
    },
    {
     "data": {
      "application/vnd.jupyter.widget-view+json": {
       "model_id": "226b0c46d2d844158afa65c10ad2e4fa",
       "version_major": 2,
       "version_minor": 0
      },
      "text/plain": [
       "interactive(children=(ToggleButtons(description='Plot Type:', icons=('',), options=(('Pipeline Plot', 'pipelin…"
      ]
     },
     "metadata": {},
     "output_type": "display_data"
    },
    {
     "data": {
      "text/html": [
       "<style type=\"text/css\">\n",
       "#T_291da_row4_col1, #T_291da_row8_col1 {\n",
       "  background-color: lightgreen;\n",
       "}\n",
       "</style>\n",
       "<table id=\"T_291da\">\n",
       "  <thead>\n",
       "    <tr>\n",
       "      <th class=\"blank level0\" >&nbsp;</th>\n",
       "      <th id=\"T_291da_level0_col0\" class=\"col_heading level0 col0\" >Description</th>\n",
       "      <th id=\"T_291da_level0_col1\" class=\"col_heading level0 col1\" >Value</th>\n",
       "    </tr>\n",
       "  </thead>\n",
       "  <tbody>\n",
       "    <tr>\n",
       "      <th id=\"T_291da_level0_row0\" class=\"row_heading level0 row0\" >0</th>\n",
       "      <td id=\"T_291da_row0_col0\" class=\"data row0 col0\" >Session id</td>\n",
       "      <td id=\"T_291da_row0_col1\" class=\"data row0 col1\" >2</td>\n",
       "    </tr>\n",
       "    <tr>\n",
       "      <th id=\"T_291da_level0_row1\" class=\"row_heading level0 row1\" >1</th>\n",
       "      <td id=\"T_291da_row1_col0\" class=\"data row1 col0\" >Original data shape</td>\n",
       "      <td id=\"T_291da_row1_col1\" class=\"data row1 col1\" >(150, 4)</td>\n",
       "    </tr>\n",
       "    <tr>\n",
       "      <th id=\"T_291da_level0_row2\" class=\"row_heading level0 row2\" >2</th>\n",
       "      <td id=\"T_291da_row2_col0\" class=\"data row2 col0\" >Transformed data shape</td>\n",
       "      <td id=\"T_291da_row2_col1\" class=\"data row2 col1\" >(150, 4)</td>\n",
       "    </tr>\n",
       "    <tr>\n",
       "      <th id=\"T_291da_level0_row3\" class=\"row_heading level0 row3\" >3</th>\n",
       "      <td id=\"T_291da_row3_col0\" class=\"data row3 col0\" >Numeric features</td>\n",
       "      <td id=\"T_291da_row3_col1\" class=\"data row3 col1\" >4</td>\n",
       "    </tr>\n",
       "    <tr>\n",
       "      <th id=\"T_291da_level0_row4\" class=\"row_heading level0 row4\" >4</th>\n",
       "      <td id=\"T_291da_row4_col0\" class=\"data row4 col0\" >Preprocess</td>\n",
       "      <td id=\"T_291da_row4_col1\" class=\"data row4 col1\" >True</td>\n",
       "    </tr>\n",
       "    <tr>\n",
       "      <th id=\"T_291da_level0_row5\" class=\"row_heading level0 row5\" >5</th>\n",
       "      <td id=\"T_291da_row5_col0\" class=\"data row5 col0\" >Imputation type</td>\n",
       "      <td id=\"T_291da_row5_col1\" class=\"data row5 col1\" >simple</td>\n",
       "    </tr>\n",
       "    <tr>\n",
       "      <th id=\"T_291da_level0_row6\" class=\"row_heading level0 row6\" >6</th>\n",
       "      <td id=\"T_291da_row6_col0\" class=\"data row6 col0\" >Numeric imputation</td>\n",
       "      <td id=\"T_291da_row6_col1\" class=\"data row6 col1\" >mean</td>\n",
       "    </tr>\n",
       "    <tr>\n",
       "      <th id=\"T_291da_level0_row7\" class=\"row_heading level0 row7\" >7</th>\n",
       "      <td id=\"T_291da_row7_col0\" class=\"data row7 col0\" >Categorical imputation</td>\n",
       "      <td id=\"T_291da_row7_col1\" class=\"data row7 col1\" >mode</td>\n",
       "    </tr>\n",
       "    <tr>\n",
       "      <th id=\"T_291da_level0_row8\" class=\"row_heading level0 row8\" >8</th>\n",
       "      <td id=\"T_291da_row8_col0\" class=\"data row8 col0\" >Normalize</td>\n",
       "      <td id=\"T_291da_row8_col1\" class=\"data row8 col1\" >True</td>\n",
       "    </tr>\n",
       "    <tr>\n",
       "      <th id=\"T_291da_level0_row9\" class=\"row_heading level0 row9\" >9</th>\n",
       "      <td id=\"T_291da_row9_col0\" class=\"data row9 col0\" >Normalize method</td>\n",
       "      <td id=\"T_291da_row9_col1\" class=\"data row9 col1\" >zscore</td>\n",
       "    </tr>\n",
       "    <tr>\n",
       "      <th id=\"T_291da_level0_row10\" class=\"row_heading level0 row10\" >10</th>\n",
       "      <td id=\"T_291da_row10_col0\" class=\"data row10 col0\" >CPU Jobs</td>\n",
       "      <td id=\"T_291da_row10_col1\" class=\"data row10 col1\" >-1</td>\n",
       "    </tr>\n",
       "    <tr>\n",
       "      <th id=\"T_291da_level0_row11\" class=\"row_heading level0 row11\" >11</th>\n",
       "      <td id=\"T_291da_row11_col0\" class=\"data row11 col0\" >Use GPU</td>\n",
       "      <td id=\"T_291da_row11_col1\" class=\"data row11 col1\" >False</td>\n",
       "    </tr>\n",
       "    <tr>\n",
       "      <th id=\"T_291da_level0_row12\" class=\"row_heading level0 row12\" >12</th>\n",
       "      <td id=\"T_291da_row12_col0\" class=\"data row12 col0\" >Log Experiment</td>\n",
       "      <td id=\"T_291da_row12_col1\" class=\"data row12 col1\" >False</td>\n",
       "    </tr>\n",
       "    <tr>\n",
       "      <th id=\"T_291da_level0_row13\" class=\"row_heading level0 row13\" >13</th>\n",
       "      <td id=\"T_291da_row13_col0\" class=\"data row13 col0\" >Experiment Name</td>\n",
       "      <td id=\"T_291da_row13_col1\" class=\"data row13 col1\" >cluster-default-name</td>\n",
       "    </tr>\n",
       "    <tr>\n",
       "      <th id=\"T_291da_level0_row14\" class=\"row_heading level0 row14\" >14</th>\n",
       "      <td id=\"T_291da_row14_col0\" class=\"data row14 col0\" >USI</td>\n",
       "      <td id=\"T_291da_row14_col1\" class=\"data row14 col1\" >e176</td>\n",
       "    </tr>\n",
       "  </tbody>\n",
       "</table>\n"
      ],
      "text/plain": [
       "<pandas.io.formats.style.Styler at 0x20aa71443a0>"
      ]
     },
     "metadata": {},
     "output_type": "display_data"
    },
    {
     "data": {
      "text/html": [],
      "text/plain": [
       "<IPython.core.display.HTML object>"
      ]
     },
     "metadata": {},
     "output_type": "display_data"
    },
    {
     "data": {
      "text/html": [
       "<style type=\"text/css\">\n",
       "</style>\n",
       "<table id=\"T_22ea2\">\n",
       "  <thead>\n",
       "    <tr>\n",
       "      <th class=\"blank level0\" >&nbsp;</th>\n",
       "      <th id=\"T_22ea2_level0_col0\" class=\"col_heading level0 col0\" >Silhouette</th>\n",
       "      <th id=\"T_22ea2_level0_col1\" class=\"col_heading level0 col1\" >Calinski-Harabasz</th>\n",
       "      <th id=\"T_22ea2_level0_col2\" class=\"col_heading level0 col2\" >Davies-Bouldin</th>\n",
       "      <th id=\"T_22ea2_level0_col3\" class=\"col_heading level0 col3\" >Homogeneity</th>\n",
       "      <th id=\"T_22ea2_level0_col4\" class=\"col_heading level0 col4\" >Rand Index</th>\n",
       "      <th id=\"T_22ea2_level0_col5\" class=\"col_heading level0 col5\" >Completeness</th>\n",
       "    </tr>\n",
       "  </thead>\n",
       "  <tbody>\n",
       "    <tr>\n",
       "      <th id=\"T_22ea2_level0_row0\" class=\"row_heading level0 row0\" >0</th>\n",
       "      <td id=\"T_22ea2_row0_col0\" class=\"data row0 col0\" >0.3888</td>\n",
       "      <td id=\"T_22ea2_row0_col1\" class=\"data row0 col1\" >206.5119</td>\n",
       "      <td id=\"T_22ea2_row0_col2\" class=\"data row0 col2\" >0.8663</td>\n",
       "      <td id=\"T_22ea2_row0_col3\" class=\"data row0 col3\" >0</td>\n",
       "      <td id=\"T_22ea2_row0_col4\" class=\"data row0 col4\" >0</td>\n",
       "      <td id=\"T_22ea2_row0_col5\" class=\"data row0 col5\" >0</td>\n",
       "    </tr>\n",
       "  </tbody>\n",
       "</table>\n"
      ],
      "text/plain": [
       "<pandas.io.formats.style.Styler at 0x20aa712c430>"
      ]
     },
     "metadata": {},
     "output_type": "display_data"
    },
    {
     "data": {
      "text/html": [],
      "text/plain": [
       "<IPython.core.display.HTML object>"
      ]
     },
     "metadata": {},
     "output_type": "display_data"
    },
    {
     "name": "stdout",
     "output_type": "stream",
     "text": [
      "For kmeans with 4 clusters with Normalization\n"
     ]
    },
    {
     "data": {
      "application/vnd.jupyter.widget-view+json": {
       "model_id": "228f61a979bf4bc285641547c56b6c7b",
       "version_major": 2,
       "version_minor": 0
      },
      "text/plain": [
       "interactive(children=(ToggleButtons(description='Plot Type:', icons=('',), options=(('Pipeline Plot', 'pipelin…"
      ]
     },
     "metadata": {},
     "output_type": "display_data"
    },
    {
     "data": {
      "text/html": [
       "<style type=\"text/css\">\n",
       "#T_0f434_row4_col1, #T_0f434_row8_col1 {\n",
       "  background-color: lightgreen;\n",
       "}\n",
       "</style>\n",
       "<table id=\"T_0f434\">\n",
       "  <thead>\n",
       "    <tr>\n",
       "      <th class=\"blank level0\" >&nbsp;</th>\n",
       "      <th id=\"T_0f434_level0_col0\" class=\"col_heading level0 col0\" >Description</th>\n",
       "      <th id=\"T_0f434_level0_col1\" class=\"col_heading level0 col1\" >Value</th>\n",
       "    </tr>\n",
       "  </thead>\n",
       "  <tbody>\n",
       "    <tr>\n",
       "      <th id=\"T_0f434_level0_row0\" class=\"row_heading level0 row0\" >0</th>\n",
       "      <td id=\"T_0f434_row0_col0\" class=\"data row0 col0\" >Session id</td>\n",
       "      <td id=\"T_0f434_row0_col1\" class=\"data row0 col1\" >2</td>\n",
       "    </tr>\n",
       "    <tr>\n",
       "      <th id=\"T_0f434_level0_row1\" class=\"row_heading level0 row1\" >1</th>\n",
       "      <td id=\"T_0f434_row1_col0\" class=\"data row1 col0\" >Original data shape</td>\n",
       "      <td id=\"T_0f434_row1_col1\" class=\"data row1 col1\" >(150, 4)</td>\n",
       "    </tr>\n",
       "    <tr>\n",
       "      <th id=\"T_0f434_level0_row2\" class=\"row_heading level0 row2\" >2</th>\n",
       "      <td id=\"T_0f434_row2_col0\" class=\"data row2 col0\" >Transformed data shape</td>\n",
       "      <td id=\"T_0f434_row2_col1\" class=\"data row2 col1\" >(150, 4)</td>\n",
       "    </tr>\n",
       "    <tr>\n",
       "      <th id=\"T_0f434_level0_row3\" class=\"row_heading level0 row3\" >3</th>\n",
       "      <td id=\"T_0f434_row3_col0\" class=\"data row3 col0\" >Numeric features</td>\n",
       "      <td id=\"T_0f434_row3_col1\" class=\"data row3 col1\" >4</td>\n",
       "    </tr>\n",
       "    <tr>\n",
       "      <th id=\"T_0f434_level0_row4\" class=\"row_heading level0 row4\" >4</th>\n",
       "      <td id=\"T_0f434_row4_col0\" class=\"data row4 col0\" >Preprocess</td>\n",
       "      <td id=\"T_0f434_row4_col1\" class=\"data row4 col1\" >True</td>\n",
       "    </tr>\n",
       "    <tr>\n",
       "      <th id=\"T_0f434_level0_row5\" class=\"row_heading level0 row5\" >5</th>\n",
       "      <td id=\"T_0f434_row5_col0\" class=\"data row5 col0\" >Imputation type</td>\n",
       "      <td id=\"T_0f434_row5_col1\" class=\"data row5 col1\" >simple</td>\n",
       "    </tr>\n",
       "    <tr>\n",
       "      <th id=\"T_0f434_level0_row6\" class=\"row_heading level0 row6\" >6</th>\n",
       "      <td id=\"T_0f434_row6_col0\" class=\"data row6 col0\" >Numeric imputation</td>\n",
       "      <td id=\"T_0f434_row6_col1\" class=\"data row6 col1\" >mean</td>\n",
       "    </tr>\n",
       "    <tr>\n",
       "      <th id=\"T_0f434_level0_row7\" class=\"row_heading level0 row7\" >7</th>\n",
       "      <td id=\"T_0f434_row7_col0\" class=\"data row7 col0\" >Categorical imputation</td>\n",
       "      <td id=\"T_0f434_row7_col1\" class=\"data row7 col1\" >mode</td>\n",
       "    </tr>\n",
       "    <tr>\n",
       "      <th id=\"T_0f434_level0_row8\" class=\"row_heading level0 row8\" >8</th>\n",
       "      <td id=\"T_0f434_row8_col0\" class=\"data row8 col0\" >Normalize</td>\n",
       "      <td id=\"T_0f434_row8_col1\" class=\"data row8 col1\" >True</td>\n",
       "    </tr>\n",
       "    <tr>\n",
       "      <th id=\"T_0f434_level0_row9\" class=\"row_heading level0 row9\" >9</th>\n",
       "      <td id=\"T_0f434_row9_col0\" class=\"data row9 col0\" >Normalize method</td>\n",
       "      <td id=\"T_0f434_row9_col1\" class=\"data row9 col1\" >zscore</td>\n",
       "    </tr>\n",
       "    <tr>\n",
       "      <th id=\"T_0f434_level0_row10\" class=\"row_heading level0 row10\" >10</th>\n",
       "      <td id=\"T_0f434_row10_col0\" class=\"data row10 col0\" >CPU Jobs</td>\n",
       "      <td id=\"T_0f434_row10_col1\" class=\"data row10 col1\" >-1</td>\n",
       "    </tr>\n",
       "    <tr>\n",
       "      <th id=\"T_0f434_level0_row11\" class=\"row_heading level0 row11\" >11</th>\n",
       "      <td id=\"T_0f434_row11_col0\" class=\"data row11 col0\" >Use GPU</td>\n",
       "      <td id=\"T_0f434_row11_col1\" class=\"data row11 col1\" >False</td>\n",
       "    </tr>\n",
       "    <tr>\n",
       "      <th id=\"T_0f434_level0_row12\" class=\"row_heading level0 row12\" >12</th>\n",
       "      <td id=\"T_0f434_row12_col0\" class=\"data row12 col0\" >Log Experiment</td>\n",
       "      <td id=\"T_0f434_row12_col1\" class=\"data row12 col1\" >False</td>\n",
       "    </tr>\n",
       "    <tr>\n",
       "      <th id=\"T_0f434_level0_row13\" class=\"row_heading level0 row13\" >13</th>\n",
       "      <td id=\"T_0f434_row13_col0\" class=\"data row13 col0\" >Experiment Name</td>\n",
       "      <td id=\"T_0f434_row13_col1\" class=\"data row13 col1\" >cluster-default-name</td>\n",
       "    </tr>\n",
       "    <tr>\n",
       "      <th id=\"T_0f434_level0_row14\" class=\"row_heading level0 row14\" >14</th>\n",
       "      <td id=\"T_0f434_row14_col0\" class=\"data row14 col0\" >USI</td>\n",
       "      <td id=\"T_0f434_row14_col1\" class=\"data row14 col1\" >4cbd</td>\n",
       "    </tr>\n",
       "  </tbody>\n",
       "</table>\n"
      ],
      "text/plain": [
       "<pandas.io.formats.style.Styler at 0x20aa5f5f7c0>"
      ]
     },
     "metadata": {},
     "output_type": "display_data"
    },
    {
     "data": {
      "text/html": [],
      "text/plain": [
       "<IPython.core.display.HTML object>"
      ]
     },
     "metadata": {},
     "output_type": "display_data"
    },
    {
     "data": {
      "text/html": [
       "<style type=\"text/css\">\n",
       "</style>\n",
       "<table id=\"T_708e3\">\n",
       "  <thead>\n",
       "    <tr>\n",
       "      <th class=\"blank level0\" >&nbsp;</th>\n",
       "      <th id=\"T_708e3_level0_col0\" class=\"col_heading level0 col0\" >Silhouette</th>\n",
       "      <th id=\"T_708e3_level0_col1\" class=\"col_heading level0 col1\" >Calinski-Harabasz</th>\n",
       "      <th id=\"T_708e3_level0_col2\" class=\"col_heading level0 col2\" >Davies-Bouldin</th>\n",
       "      <th id=\"T_708e3_level0_col3\" class=\"col_heading level0 col3\" >Homogeneity</th>\n",
       "      <th id=\"T_708e3_level0_col4\" class=\"col_heading level0 col4\" >Rand Index</th>\n",
       "      <th id=\"T_708e3_level0_col5\" class=\"col_heading level0 col5\" >Completeness</th>\n",
       "    </tr>\n",
       "  </thead>\n",
       "  <tbody>\n",
       "    <tr>\n",
       "      <th id=\"T_708e3_level0_row0\" class=\"row_heading level0 row0\" >0</th>\n",
       "      <td id=\"T_708e3_row0_col0\" class=\"data row0 col0\" >0.3481</td>\n",
       "      <td id=\"T_708e3_row0_col1\" class=\"data row0 col1\" >202.2578</td>\n",
       "      <td id=\"T_708e3_row0_col2\" class=\"data row0 col2\" >0.9452</td>\n",
       "      <td id=\"T_708e3_row0_col3\" class=\"data row0 col3\" >0</td>\n",
       "      <td id=\"T_708e3_row0_col4\" class=\"data row0 col4\" >0</td>\n",
       "      <td id=\"T_708e3_row0_col5\" class=\"data row0 col5\" >0</td>\n",
       "    </tr>\n",
       "  </tbody>\n",
       "</table>\n"
      ],
      "text/plain": [
       "<pandas.io.formats.style.Styler at 0x20aa5f5e2f0>"
      ]
     },
     "metadata": {},
     "output_type": "display_data"
    },
    {
     "data": {
      "text/html": [],
      "text/plain": [
       "<IPython.core.display.HTML object>"
      ]
     },
     "metadata": {},
     "output_type": "display_data"
    },
    {
     "name": "stdout",
     "output_type": "stream",
     "text": [
      "For kmeans with 5 clusters with Normalization\n"
     ]
    },
    {
     "data": {
      "application/vnd.jupyter.widget-view+json": {
       "model_id": "8f4780d600c14ff59ed04032737e63ef",
       "version_major": 2,
       "version_minor": 0
      },
      "text/plain": [
       "interactive(children=(ToggleButtons(description='Plot Type:', icons=('',), options=(('Pipeline Plot', 'pipelin…"
      ]
     },
     "metadata": {},
     "output_type": "display_data"
    },
    {
     "data": {
      "text/html": [
       "<style type=\"text/css\">\n",
       "#T_6bfb0_row4_col1, #T_6bfb0_row8_col1 {\n",
       "  background-color: lightgreen;\n",
       "}\n",
       "</style>\n",
       "<table id=\"T_6bfb0\">\n",
       "  <thead>\n",
       "    <tr>\n",
       "      <th class=\"blank level0\" >&nbsp;</th>\n",
       "      <th id=\"T_6bfb0_level0_col0\" class=\"col_heading level0 col0\" >Description</th>\n",
       "      <th id=\"T_6bfb0_level0_col1\" class=\"col_heading level0 col1\" >Value</th>\n",
       "    </tr>\n",
       "  </thead>\n",
       "  <tbody>\n",
       "    <tr>\n",
       "      <th id=\"T_6bfb0_level0_row0\" class=\"row_heading level0 row0\" >0</th>\n",
       "      <td id=\"T_6bfb0_row0_col0\" class=\"data row0 col0\" >Session id</td>\n",
       "      <td id=\"T_6bfb0_row0_col1\" class=\"data row0 col1\" >2</td>\n",
       "    </tr>\n",
       "    <tr>\n",
       "      <th id=\"T_6bfb0_level0_row1\" class=\"row_heading level0 row1\" >1</th>\n",
       "      <td id=\"T_6bfb0_row1_col0\" class=\"data row1 col0\" >Original data shape</td>\n",
       "      <td id=\"T_6bfb0_row1_col1\" class=\"data row1 col1\" >(150, 4)</td>\n",
       "    </tr>\n",
       "    <tr>\n",
       "      <th id=\"T_6bfb0_level0_row2\" class=\"row_heading level0 row2\" >2</th>\n",
       "      <td id=\"T_6bfb0_row2_col0\" class=\"data row2 col0\" >Transformed data shape</td>\n",
       "      <td id=\"T_6bfb0_row2_col1\" class=\"data row2 col1\" >(150, 4)</td>\n",
       "    </tr>\n",
       "    <tr>\n",
       "      <th id=\"T_6bfb0_level0_row3\" class=\"row_heading level0 row3\" >3</th>\n",
       "      <td id=\"T_6bfb0_row3_col0\" class=\"data row3 col0\" >Numeric features</td>\n",
       "      <td id=\"T_6bfb0_row3_col1\" class=\"data row3 col1\" >4</td>\n",
       "    </tr>\n",
       "    <tr>\n",
       "      <th id=\"T_6bfb0_level0_row4\" class=\"row_heading level0 row4\" >4</th>\n",
       "      <td id=\"T_6bfb0_row4_col0\" class=\"data row4 col0\" >Preprocess</td>\n",
       "      <td id=\"T_6bfb0_row4_col1\" class=\"data row4 col1\" >True</td>\n",
       "    </tr>\n",
       "    <tr>\n",
       "      <th id=\"T_6bfb0_level0_row5\" class=\"row_heading level0 row5\" >5</th>\n",
       "      <td id=\"T_6bfb0_row5_col0\" class=\"data row5 col0\" >Imputation type</td>\n",
       "      <td id=\"T_6bfb0_row5_col1\" class=\"data row5 col1\" >simple</td>\n",
       "    </tr>\n",
       "    <tr>\n",
       "      <th id=\"T_6bfb0_level0_row6\" class=\"row_heading level0 row6\" >6</th>\n",
       "      <td id=\"T_6bfb0_row6_col0\" class=\"data row6 col0\" >Numeric imputation</td>\n",
       "      <td id=\"T_6bfb0_row6_col1\" class=\"data row6 col1\" >mean</td>\n",
       "    </tr>\n",
       "    <tr>\n",
       "      <th id=\"T_6bfb0_level0_row7\" class=\"row_heading level0 row7\" >7</th>\n",
       "      <td id=\"T_6bfb0_row7_col0\" class=\"data row7 col0\" >Categorical imputation</td>\n",
       "      <td id=\"T_6bfb0_row7_col1\" class=\"data row7 col1\" >mode</td>\n",
       "    </tr>\n",
       "    <tr>\n",
       "      <th id=\"T_6bfb0_level0_row8\" class=\"row_heading level0 row8\" >8</th>\n",
       "      <td id=\"T_6bfb0_row8_col0\" class=\"data row8 col0\" >Normalize</td>\n",
       "      <td id=\"T_6bfb0_row8_col1\" class=\"data row8 col1\" >True</td>\n",
       "    </tr>\n",
       "    <tr>\n",
       "      <th id=\"T_6bfb0_level0_row9\" class=\"row_heading level0 row9\" >9</th>\n",
       "      <td id=\"T_6bfb0_row9_col0\" class=\"data row9 col0\" >Normalize method</td>\n",
       "      <td id=\"T_6bfb0_row9_col1\" class=\"data row9 col1\" >zscore</td>\n",
       "    </tr>\n",
       "    <tr>\n",
       "      <th id=\"T_6bfb0_level0_row10\" class=\"row_heading level0 row10\" >10</th>\n",
       "      <td id=\"T_6bfb0_row10_col0\" class=\"data row10 col0\" >CPU Jobs</td>\n",
       "      <td id=\"T_6bfb0_row10_col1\" class=\"data row10 col1\" >-1</td>\n",
       "    </tr>\n",
       "    <tr>\n",
       "      <th id=\"T_6bfb0_level0_row11\" class=\"row_heading level0 row11\" >11</th>\n",
       "      <td id=\"T_6bfb0_row11_col0\" class=\"data row11 col0\" >Use GPU</td>\n",
       "      <td id=\"T_6bfb0_row11_col1\" class=\"data row11 col1\" >False</td>\n",
       "    </tr>\n",
       "    <tr>\n",
       "      <th id=\"T_6bfb0_level0_row12\" class=\"row_heading level0 row12\" >12</th>\n",
       "      <td id=\"T_6bfb0_row12_col0\" class=\"data row12 col0\" >Log Experiment</td>\n",
       "      <td id=\"T_6bfb0_row12_col1\" class=\"data row12 col1\" >False</td>\n",
       "    </tr>\n",
       "    <tr>\n",
       "      <th id=\"T_6bfb0_level0_row13\" class=\"row_heading level0 row13\" >13</th>\n",
       "      <td id=\"T_6bfb0_row13_col0\" class=\"data row13 col0\" >Experiment Name</td>\n",
       "      <td id=\"T_6bfb0_row13_col1\" class=\"data row13 col1\" >cluster-default-name</td>\n",
       "    </tr>\n",
       "    <tr>\n",
       "      <th id=\"T_6bfb0_level0_row14\" class=\"row_heading level0 row14\" >14</th>\n",
       "      <td id=\"T_6bfb0_row14_col0\" class=\"data row14 col0\" >USI</td>\n",
       "      <td id=\"T_6bfb0_row14_col1\" class=\"data row14 col1\" >c9a2</td>\n",
       "    </tr>\n",
       "  </tbody>\n",
       "</table>\n"
      ],
      "text/plain": [
       "<pandas.io.formats.style.Styler at 0x20aa5f5f9d0>"
      ]
     },
     "metadata": {},
     "output_type": "display_data"
    },
    {
     "data": {
      "text/html": [],
      "text/plain": [
       "<IPython.core.display.HTML object>"
      ]
     },
     "metadata": {},
     "output_type": "display_data"
    },
    {
     "data": {
      "text/html": [
       "<style type=\"text/css\">\n",
       "</style>\n",
       "<table id=\"T_f75c4\">\n",
       "  <thead>\n",
       "    <tr>\n",
       "      <th class=\"blank level0\" >&nbsp;</th>\n",
       "      <th id=\"T_f75c4_level0_col0\" class=\"col_heading level0 col0\" >Silhouette</th>\n",
       "      <th id=\"T_f75c4_level0_col1\" class=\"col_heading level0 col1\" >Calinski-Harabasz</th>\n",
       "      <th id=\"T_f75c4_level0_col2\" class=\"col_heading level0 col2\" >Davies-Bouldin</th>\n",
       "      <th id=\"T_f75c4_level0_col3\" class=\"col_heading level0 col3\" >Homogeneity</th>\n",
       "      <th id=\"T_f75c4_level0_col4\" class=\"col_heading level0 col4\" >Rand Index</th>\n",
       "      <th id=\"T_f75c4_level0_col5\" class=\"col_heading level0 col5\" >Completeness</th>\n",
       "    </tr>\n",
       "  </thead>\n",
       "  <tbody>\n",
       "    <tr>\n",
       "      <th id=\"T_f75c4_level0_row0\" class=\"row_heading level0 row0\" >0</th>\n",
       "      <td id=\"T_f75c4_row0_col0\" class=\"data row0 col0\" >0.4455</td>\n",
       "      <td id=\"T_f75c4_row0_col1\" class=\"data row0 col1\" >220.2605</td>\n",
       "      <td id=\"T_f75c4_row0_col2\" class=\"data row0 col2\" >0.8059</td>\n",
       "      <td id=\"T_f75c4_row0_col3\" class=\"data row0 col3\" >0</td>\n",
       "      <td id=\"T_f75c4_row0_col4\" class=\"data row0 col4\" >0</td>\n",
       "      <td id=\"T_f75c4_row0_col5\" class=\"data row0 col5\" >0</td>\n",
       "    </tr>\n",
       "  </tbody>\n",
       "</table>\n"
      ],
      "text/plain": [
       "<pandas.io.formats.style.Styler at 0x20aa712c880>"
      ]
     },
     "metadata": {},
     "output_type": "display_data"
    },
    {
     "data": {
      "text/html": [],
      "text/plain": [
       "<IPython.core.display.HTML object>"
      ]
     },
     "metadata": {},
     "output_type": "display_data"
    },
    {
     "name": "stdout",
     "output_type": "stream",
     "text": [
      "For hclust with 3 clusters with Normalization\n"
     ]
    },
    {
     "data": {
      "application/vnd.jupyter.widget-view+json": {
       "model_id": "28690aa8468c44d6b5785de9676efbec",
       "version_major": 2,
       "version_minor": 0
      },
      "text/plain": [
       "interactive(children=(ToggleButtons(description='Plot Type:', icons=('',), options=(('Pipeline Plot', 'pipelin…"
      ]
     },
     "metadata": {},
     "output_type": "display_data"
    },
    {
     "data": {
      "text/html": [
       "<style type=\"text/css\">\n",
       "#T_c7ec8_row4_col1, #T_c7ec8_row8_col1 {\n",
       "  background-color: lightgreen;\n",
       "}\n",
       "</style>\n",
       "<table id=\"T_c7ec8\">\n",
       "  <thead>\n",
       "    <tr>\n",
       "      <th class=\"blank level0\" >&nbsp;</th>\n",
       "      <th id=\"T_c7ec8_level0_col0\" class=\"col_heading level0 col0\" >Description</th>\n",
       "      <th id=\"T_c7ec8_level0_col1\" class=\"col_heading level0 col1\" >Value</th>\n",
       "    </tr>\n",
       "  </thead>\n",
       "  <tbody>\n",
       "    <tr>\n",
       "      <th id=\"T_c7ec8_level0_row0\" class=\"row_heading level0 row0\" >0</th>\n",
       "      <td id=\"T_c7ec8_row0_col0\" class=\"data row0 col0\" >Session id</td>\n",
       "      <td id=\"T_c7ec8_row0_col1\" class=\"data row0 col1\" >2</td>\n",
       "    </tr>\n",
       "    <tr>\n",
       "      <th id=\"T_c7ec8_level0_row1\" class=\"row_heading level0 row1\" >1</th>\n",
       "      <td id=\"T_c7ec8_row1_col0\" class=\"data row1 col0\" >Original data shape</td>\n",
       "      <td id=\"T_c7ec8_row1_col1\" class=\"data row1 col1\" >(150, 4)</td>\n",
       "    </tr>\n",
       "    <tr>\n",
       "      <th id=\"T_c7ec8_level0_row2\" class=\"row_heading level0 row2\" >2</th>\n",
       "      <td id=\"T_c7ec8_row2_col0\" class=\"data row2 col0\" >Transformed data shape</td>\n",
       "      <td id=\"T_c7ec8_row2_col1\" class=\"data row2 col1\" >(150, 4)</td>\n",
       "    </tr>\n",
       "    <tr>\n",
       "      <th id=\"T_c7ec8_level0_row3\" class=\"row_heading level0 row3\" >3</th>\n",
       "      <td id=\"T_c7ec8_row3_col0\" class=\"data row3 col0\" >Numeric features</td>\n",
       "      <td id=\"T_c7ec8_row3_col1\" class=\"data row3 col1\" >4</td>\n",
       "    </tr>\n",
       "    <tr>\n",
       "      <th id=\"T_c7ec8_level0_row4\" class=\"row_heading level0 row4\" >4</th>\n",
       "      <td id=\"T_c7ec8_row4_col0\" class=\"data row4 col0\" >Preprocess</td>\n",
       "      <td id=\"T_c7ec8_row4_col1\" class=\"data row4 col1\" >True</td>\n",
       "    </tr>\n",
       "    <tr>\n",
       "      <th id=\"T_c7ec8_level0_row5\" class=\"row_heading level0 row5\" >5</th>\n",
       "      <td id=\"T_c7ec8_row5_col0\" class=\"data row5 col0\" >Imputation type</td>\n",
       "      <td id=\"T_c7ec8_row5_col1\" class=\"data row5 col1\" >simple</td>\n",
       "    </tr>\n",
       "    <tr>\n",
       "      <th id=\"T_c7ec8_level0_row6\" class=\"row_heading level0 row6\" >6</th>\n",
       "      <td id=\"T_c7ec8_row6_col0\" class=\"data row6 col0\" >Numeric imputation</td>\n",
       "      <td id=\"T_c7ec8_row6_col1\" class=\"data row6 col1\" >mean</td>\n",
       "    </tr>\n",
       "    <tr>\n",
       "      <th id=\"T_c7ec8_level0_row7\" class=\"row_heading level0 row7\" >7</th>\n",
       "      <td id=\"T_c7ec8_row7_col0\" class=\"data row7 col0\" >Categorical imputation</td>\n",
       "      <td id=\"T_c7ec8_row7_col1\" class=\"data row7 col1\" >mode</td>\n",
       "    </tr>\n",
       "    <tr>\n",
       "      <th id=\"T_c7ec8_level0_row8\" class=\"row_heading level0 row8\" >8</th>\n",
       "      <td id=\"T_c7ec8_row8_col0\" class=\"data row8 col0\" >Normalize</td>\n",
       "      <td id=\"T_c7ec8_row8_col1\" class=\"data row8 col1\" >True</td>\n",
       "    </tr>\n",
       "    <tr>\n",
       "      <th id=\"T_c7ec8_level0_row9\" class=\"row_heading level0 row9\" >9</th>\n",
       "      <td id=\"T_c7ec8_row9_col0\" class=\"data row9 col0\" >Normalize method</td>\n",
       "      <td id=\"T_c7ec8_row9_col1\" class=\"data row9 col1\" >zscore</td>\n",
       "    </tr>\n",
       "    <tr>\n",
       "      <th id=\"T_c7ec8_level0_row10\" class=\"row_heading level0 row10\" >10</th>\n",
       "      <td id=\"T_c7ec8_row10_col0\" class=\"data row10 col0\" >CPU Jobs</td>\n",
       "      <td id=\"T_c7ec8_row10_col1\" class=\"data row10 col1\" >-1</td>\n",
       "    </tr>\n",
       "    <tr>\n",
       "      <th id=\"T_c7ec8_level0_row11\" class=\"row_heading level0 row11\" >11</th>\n",
       "      <td id=\"T_c7ec8_row11_col0\" class=\"data row11 col0\" >Use GPU</td>\n",
       "      <td id=\"T_c7ec8_row11_col1\" class=\"data row11 col1\" >False</td>\n",
       "    </tr>\n",
       "    <tr>\n",
       "      <th id=\"T_c7ec8_level0_row12\" class=\"row_heading level0 row12\" >12</th>\n",
       "      <td id=\"T_c7ec8_row12_col0\" class=\"data row12 col0\" >Log Experiment</td>\n",
       "      <td id=\"T_c7ec8_row12_col1\" class=\"data row12 col1\" >False</td>\n",
       "    </tr>\n",
       "    <tr>\n",
       "      <th id=\"T_c7ec8_level0_row13\" class=\"row_heading level0 row13\" >13</th>\n",
       "      <td id=\"T_c7ec8_row13_col0\" class=\"data row13 col0\" >Experiment Name</td>\n",
       "      <td id=\"T_c7ec8_row13_col1\" class=\"data row13 col1\" >cluster-default-name</td>\n",
       "    </tr>\n",
       "    <tr>\n",
       "      <th id=\"T_c7ec8_level0_row14\" class=\"row_heading level0 row14\" >14</th>\n",
       "      <td id=\"T_c7ec8_row14_col0\" class=\"data row14 col0\" >USI</td>\n",
       "      <td id=\"T_c7ec8_row14_col1\" class=\"data row14 col1\" >ee53</td>\n",
       "    </tr>\n",
       "  </tbody>\n",
       "</table>\n"
      ],
      "text/plain": [
       "<pandas.io.formats.style.Styler at 0x20aa5f970a0>"
      ]
     },
     "metadata": {},
     "output_type": "display_data"
    },
    {
     "data": {
      "text/html": [],
      "text/plain": [
       "<IPython.core.display.HTML object>"
      ]
     },
     "metadata": {},
     "output_type": "display_data"
    },
    {
     "data": {
      "text/html": [
       "<style type=\"text/css\">\n",
       "</style>\n",
       "<table id=\"T_3924d\">\n",
       "  <thead>\n",
       "    <tr>\n",
       "      <th class=\"blank level0\" >&nbsp;</th>\n",
       "      <th id=\"T_3924d_level0_col0\" class=\"col_heading level0 col0\" >Silhouette</th>\n",
       "      <th id=\"T_3924d_level0_col1\" class=\"col_heading level0 col1\" >Calinski-Harabasz</th>\n",
       "      <th id=\"T_3924d_level0_col2\" class=\"col_heading level0 col2\" >Davies-Bouldin</th>\n",
       "      <th id=\"T_3924d_level0_col3\" class=\"col_heading level0 col3\" >Homogeneity</th>\n",
       "      <th id=\"T_3924d_level0_col4\" class=\"col_heading level0 col4\" >Rand Index</th>\n",
       "      <th id=\"T_3924d_level0_col5\" class=\"col_heading level0 col5\" >Completeness</th>\n",
       "    </tr>\n",
       "  </thead>\n",
       "  <tbody>\n",
       "    <tr>\n",
       "      <th id=\"T_3924d_level0_row0\" class=\"row_heading level0 row0\" >0</th>\n",
       "      <td id=\"T_3924d_row0_col0\" class=\"data row0 col0\" >0.3993</td>\n",
       "      <td id=\"T_3924d_row0_col1\" class=\"data row0 col1\" >198.7303</td>\n",
       "      <td id=\"T_3924d_row0_col2\" class=\"data row0 col2\" >0.9811</td>\n",
       "      <td id=\"T_3924d_row0_col3\" class=\"data row0 col3\" >0</td>\n",
       "      <td id=\"T_3924d_row0_col4\" class=\"data row0 col4\" >0</td>\n",
       "      <td id=\"T_3924d_row0_col5\" class=\"data row0 col5\" >0</td>\n",
       "    </tr>\n",
       "  </tbody>\n",
       "</table>\n"
      ],
      "text/plain": [
       "<pandas.io.formats.style.Styler at 0x20aa5f968c0>"
      ]
     },
     "metadata": {},
     "output_type": "display_data"
    },
    {
     "data": {
      "text/html": [],
      "text/plain": [
       "<IPython.core.display.HTML object>"
      ]
     },
     "metadata": {},
     "output_type": "display_data"
    },
    {
     "name": "stdout",
     "output_type": "stream",
     "text": [
      "For hclust with 4 clusters with Normalization\n"
     ]
    },
    {
     "data": {
      "application/vnd.jupyter.widget-view+json": {
       "model_id": "a7b09966b43642ceaa5a7e2f770ab8b9",
       "version_major": 2,
       "version_minor": 0
      },
      "text/plain": [
       "interactive(children=(ToggleButtons(description='Plot Type:', icons=('',), options=(('Pipeline Plot', 'pipelin…"
      ]
     },
     "metadata": {},
     "output_type": "display_data"
    },
    {
     "data": {
      "text/html": [
       "<style type=\"text/css\">\n",
       "#T_ebd53_row4_col1, #T_ebd53_row8_col1 {\n",
       "  background-color: lightgreen;\n",
       "}\n",
       "</style>\n",
       "<table id=\"T_ebd53\">\n",
       "  <thead>\n",
       "    <tr>\n",
       "      <th class=\"blank level0\" >&nbsp;</th>\n",
       "      <th id=\"T_ebd53_level0_col0\" class=\"col_heading level0 col0\" >Description</th>\n",
       "      <th id=\"T_ebd53_level0_col1\" class=\"col_heading level0 col1\" >Value</th>\n",
       "    </tr>\n",
       "  </thead>\n",
       "  <tbody>\n",
       "    <tr>\n",
       "      <th id=\"T_ebd53_level0_row0\" class=\"row_heading level0 row0\" >0</th>\n",
       "      <td id=\"T_ebd53_row0_col0\" class=\"data row0 col0\" >Session id</td>\n",
       "      <td id=\"T_ebd53_row0_col1\" class=\"data row0 col1\" >2</td>\n",
       "    </tr>\n",
       "    <tr>\n",
       "      <th id=\"T_ebd53_level0_row1\" class=\"row_heading level0 row1\" >1</th>\n",
       "      <td id=\"T_ebd53_row1_col0\" class=\"data row1 col0\" >Original data shape</td>\n",
       "      <td id=\"T_ebd53_row1_col1\" class=\"data row1 col1\" >(150, 4)</td>\n",
       "    </tr>\n",
       "    <tr>\n",
       "      <th id=\"T_ebd53_level0_row2\" class=\"row_heading level0 row2\" >2</th>\n",
       "      <td id=\"T_ebd53_row2_col0\" class=\"data row2 col0\" >Transformed data shape</td>\n",
       "      <td id=\"T_ebd53_row2_col1\" class=\"data row2 col1\" >(150, 4)</td>\n",
       "    </tr>\n",
       "    <tr>\n",
       "      <th id=\"T_ebd53_level0_row3\" class=\"row_heading level0 row3\" >3</th>\n",
       "      <td id=\"T_ebd53_row3_col0\" class=\"data row3 col0\" >Numeric features</td>\n",
       "      <td id=\"T_ebd53_row3_col1\" class=\"data row3 col1\" >4</td>\n",
       "    </tr>\n",
       "    <tr>\n",
       "      <th id=\"T_ebd53_level0_row4\" class=\"row_heading level0 row4\" >4</th>\n",
       "      <td id=\"T_ebd53_row4_col0\" class=\"data row4 col0\" >Preprocess</td>\n",
       "      <td id=\"T_ebd53_row4_col1\" class=\"data row4 col1\" >True</td>\n",
       "    </tr>\n",
       "    <tr>\n",
       "      <th id=\"T_ebd53_level0_row5\" class=\"row_heading level0 row5\" >5</th>\n",
       "      <td id=\"T_ebd53_row5_col0\" class=\"data row5 col0\" >Imputation type</td>\n",
       "      <td id=\"T_ebd53_row5_col1\" class=\"data row5 col1\" >simple</td>\n",
       "    </tr>\n",
       "    <tr>\n",
       "      <th id=\"T_ebd53_level0_row6\" class=\"row_heading level0 row6\" >6</th>\n",
       "      <td id=\"T_ebd53_row6_col0\" class=\"data row6 col0\" >Numeric imputation</td>\n",
       "      <td id=\"T_ebd53_row6_col1\" class=\"data row6 col1\" >mean</td>\n",
       "    </tr>\n",
       "    <tr>\n",
       "      <th id=\"T_ebd53_level0_row7\" class=\"row_heading level0 row7\" >7</th>\n",
       "      <td id=\"T_ebd53_row7_col0\" class=\"data row7 col0\" >Categorical imputation</td>\n",
       "      <td id=\"T_ebd53_row7_col1\" class=\"data row7 col1\" >mode</td>\n",
       "    </tr>\n",
       "    <tr>\n",
       "      <th id=\"T_ebd53_level0_row8\" class=\"row_heading level0 row8\" >8</th>\n",
       "      <td id=\"T_ebd53_row8_col0\" class=\"data row8 col0\" >Normalize</td>\n",
       "      <td id=\"T_ebd53_row8_col1\" class=\"data row8 col1\" >True</td>\n",
       "    </tr>\n",
       "    <tr>\n",
       "      <th id=\"T_ebd53_level0_row9\" class=\"row_heading level0 row9\" >9</th>\n",
       "      <td id=\"T_ebd53_row9_col0\" class=\"data row9 col0\" >Normalize method</td>\n",
       "      <td id=\"T_ebd53_row9_col1\" class=\"data row9 col1\" >zscore</td>\n",
       "    </tr>\n",
       "    <tr>\n",
       "      <th id=\"T_ebd53_level0_row10\" class=\"row_heading level0 row10\" >10</th>\n",
       "      <td id=\"T_ebd53_row10_col0\" class=\"data row10 col0\" >CPU Jobs</td>\n",
       "      <td id=\"T_ebd53_row10_col1\" class=\"data row10 col1\" >-1</td>\n",
       "    </tr>\n",
       "    <tr>\n",
       "      <th id=\"T_ebd53_level0_row11\" class=\"row_heading level0 row11\" >11</th>\n",
       "      <td id=\"T_ebd53_row11_col0\" class=\"data row11 col0\" >Use GPU</td>\n",
       "      <td id=\"T_ebd53_row11_col1\" class=\"data row11 col1\" >False</td>\n",
       "    </tr>\n",
       "    <tr>\n",
       "      <th id=\"T_ebd53_level0_row12\" class=\"row_heading level0 row12\" >12</th>\n",
       "      <td id=\"T_ebd53_row12_col0\" class=\"data row12 col0\" >Log Experiment</td>\n",
       "      <td id=\"T_ebd53_row12_col1\" class=\"data row12 col1\" >False</td>\n",
       "    </tr>\n",
       "    <tr>\n",
       "      <th id=\"T_ebd53_level0_row13\" class=\"row_heading level0 row13\" >13</th>\n",
       "      <td id=\"T_ebd53_row13_col0\" class=\"data row13 col0\" >Experiment Name</td>\n",
       "      <td id=\"T_ebd53_row13_col1\" class=\"data row13 col1\" >cluster-default-name</td>\n",
       "    </tr>\n",
       "    <tr>\n",
       "      <th id=\"T_ebd53_level0_row14\" class=\"row_heading level0 row14\" >14</th>\n",
       "      <td id=\"T_ebd53_row14_col0\" class=\"data row14 col0\" >USI</td>\n",
       "      <td id=\"T_ebd53_row14_col1\" class=\"data row14 col1\" >462b</td>\n",
       "    </tr>\n",
       "  </tbody>\n",
       "</table>\n"
      ],
      "text/plain": [
       "<pandas.io.formats.style.Styler at 0x20aa7152c80>"
      ]
     },
     "metadata": {},
     "output_type": "display_data"
    },
    {
     "data": {
      "text/html": [],
      "text/plain": [
       "<IPython.core.display.HTML object>"
      ]
     },
     "metadata": {},
     "output_type": "display_data"
    },
    {
     "data": {
      "text/html": [
       "<style type=\"text/css\">\n",
       "</style>\n",
       "<table id=\"T_9629a\">\n",
       "  <thead>\n",
       "    <tr>\n",
       "      <th class=\"blank level0\" >&nbsp;</th>\n",
       "      <th id=\"T_9629a_level0_col0\" class=\"col_heading level0 col0\" >Silhouette</th>\n",
       "      <th id=\"T_9629a_level0_col1\" class=\"col_heading level0 col1\" >Calinski-Harabasz</th>\n",
       "      <th id=\"T_9629a_level0_col2\" class=\"col_heading level0 col2\" >Davies-Bouldin</th>\n",
       "      <th id=\"T_9629a_level0_col3\" class=\"col_heading level0 col3\" >Homogeneity</th>\n",
       "      <th id=\"T_9629a_level0_col4\" class=\"col_heading level0 col4\" >Rand Index</th>\n",
       "      <th id=\"T_9629a_level0_col5\" class=\"col_heading level0 col5\" >Completeness</th>\n",
       "    </tr>\n",
       "  </thead>\n",
       "  <tbody>\n",
       "    <tr>\n",
       "      <th id=\"T_9629a_level0_row0\" class=\"row_heading level0 row0\" >0</th>\n",
       "      <td id=\"T_9629a_row0_col0\" class=\"data row0 col0\" >0.3550</td>\n",
       "      <td id=\"T_9629a_row0_col1\" class=\"data row0 col1\" >194.9616</td>\n",
       "      <td id=\"T_9629a_row0_col2\" class=\"data row0 col2\" >0.9465</td>\n",
       "      <td id=\"T_9629a_row0_col3\" class=\"data row0 col3\" >0</td>\n",
       "      <td id=\"T_9629a_row0_col4\" class=\"data row0 col4\" >0</td>\n",
       "      <td id=\"T_9629a_row0_col5\" class=\"data row0 col5\" >0</td>\n",
       "    </tr>\n",
       "  </tbody>\n",
       "</table>\n"
      ],
      "text/plain": [
       "<pandas.io.formats.style.Styler at 0x20aa7152cb0>"
      ]
     },
     "metadata": {},
     "output_type": "display_data"
    },
    {
     "data": {
      "text/html": [],
      "text/plain": [
       "<IPython.core.display.HTML object>"
      ]
     },
     "metadata": {},
     "output_type": "display_data"
    },
    {
     "name": "stdout",
     "output_type": "stream",
     "text": [
      "For hclust with 5 clusters with Normalization\n"
     ]
    },
    {
     "data": {
      "application/vnd.jupyter.widget-view+json": {
       "model_id": "90cc30e4752847b58150de56f13d32ff",
       "version_major": 2,
       "version_minor": 0
      },
      "text/plain": [
       "interactive(children=(ToggleButtons(description='Plot Type:', icons=('',), options=(('Pipeline Plot', 'pipelin…"
      ]
     },
     "metadata": {},
     "output_type": "display_data"
    },
    {
     "data": {
      "text/html": [
       "<style type=\"text/css\">\n",
       "#T_bc5ae_row4_col1, #T_bc5ae_row8_col1 {\n",
       "  background-color: lightgreen;\n",
       "}\n",
       "</style>\n",
       "<table id=\"T_bc5ae\">\n",
       "  <thead>\n",
       "    <tr>\n",
       "      <th class=\"blank level0\" >&nbsp;</th>\n",
       "      <th id=\"T_bc5ae_level0_col0\" class=\"col_heading level0 col0\" >Description</th>\n",
       "      <th id=\"T_bc5ae_level0_col1\" class=\"col_heading level0 col1\" >Value</th>\n",
       "    </tr>\n",
       "  </thead>\n",
       "  <tbody>\n",
       "    <tr>\n",
       "      <th id=\"T_bc5ae_level0_row0\" class=\"row_heading level0 row0\" >0</th>\n",
       "      <td id=\"T_bc5ae_row0_col0\" class=\"data row0 col0\" >Session id</td>\n",
       "      <td id=\"T_bc5ae_row0_col1\" class=\"data row0 col1\" >2</td>\n",
       "    </tr>\n",
       "    <tr>\n",
       "      <th id=\"T_bc5ae_level0_row1\" class=\"row_heading level0 row1\" >1</th>\n",
       "      <td id=\"T_bc5ae_row1_col0\" class=\"data row1 col0\" >Original data shape</td>\n",
       "      <td id=\"T_bc5ae_row1_col1\" class=\"data row1 col1\" >(150, 4)</td>\n",
       "    </tr>\n",
       "    <tr>\n",
       "      <th id=\"T_bc5ae_level0_row2\" class=\"row_heading level0 row2\" >2</th>\n",
       "      <td id=\"T_bc5ae_row2_col0\" class=\"data row2 col0\" >Transformed data shape</td>\n",
       "      <td id=\"T_bc5ae_row2_col1\" class=\"data row2 col1\" >(150, 4)</td>\n",
       "    </tr>\n",
       "    <tr>\n",
       "      <th id=\"T_bc5ae_level0_row3\" class=\"row_heading level0 row3\" >3</th>\n",
       "      <td id=\"T_bc5ae_row3_col0\" class=\"data row3 col0\" >Numeric features</td>\n",
       "      <td id=\"T_bc5ae_row3_col1\" class=\"data row3 col1\" >4</td>\n",
       "    </tr>\n",
       "    <tr>\n",
       "      <th id=\"T_bc5ae_level0_row4\" class=\"row_heading level0 row4\" >4</th>\n",
       "      <td id=\"T_bc5ae_row4_col0\" class=\"data row4 col0\" >Preprocess</td>\n",
       "      <td id=\"T_bc5ae_row4_col1\" class=\"data row4 col1\" >True</td>\n",
       "    </tr>\n",
       "    <tr>\n",
       "      <th id=\"T_bc5ae_level0_row5\" class=\"row_heading level0 row5\" >5</th>\n",
       "      <td id=\"T_bc5ae_row5_col0\" class=\"data row5 col0\" >Imputation type</td>\n",
       "      <td id=\"T_bc5ae_row5_col1\" class=\"data row5 col1\" >simple</td>\n",
       "    </tr>\n",
       "    <tr>\n",
       "      <th id=\"T_bc5ae_level0_row6\" class=\"row_heading level0 row6\" >6</th>\n",
       "      <td id=\"T_bc5ae_row6_col0\" class=\"data row6 col0\" >Numeric imputation</td>\n",
       "      <td id=\"T_bc5ae_row6_col1\" class=\"data row6 col1\" >mean</td>\n",
       "    </tr>\n",
       "    <tr>\n",
       "      <th id=\"T_bc5ae_level0_row7\" class=\"row_heading level0 row7\" >7</th>\n",
       "      <td id=\"T_bc5ae_row7_col0\" class=\"data row7 col0\" >Categorical imputation</td>\n",
       "      <td id=\"T_bc5ae_row7_col1\" class=\"data row7 col1\" >mode</td>\n",
       "    </tr>\n",
       "    <tr>\n",
       "      <th id=\"T_bc5ae_level0_row8\" class=\"row_heading level0 row8\" >8</th>\n",
       "      <td id=\"T_bc5ae_row8_col0\" class=\"data row8 col0\" >Normalize</td>\n",
       "      <td id=\"T_bc5ae_row8_col1\" class=\"data row8 col1\" >True</td>\n",
       "    </tr>\n",
       "    <tr>\n",
       "      <th id=\"T_bc5ae_level0_row9\" class=\"row_heading level0 row9\" >9</th>\n",
       "      <td id=\"T_bc5ae_row9_col0\" class=\"data row9 col0\" >Normalize method</td>\n",
       "      <td id=\"T_bc5ae_row9_col1\" class=\"data row9 col1\" >zscore</td>\n",
       "    </tr>\n",
       "    <tr>\n",
       "      <th id=\"T_bc5ae_level0_row10\" class=\"row_heading level0 row10\" >10</th>\n",
       "      <td id=\"T_bc5ae_row10_col0\" class=\"data row10 col0\" >CPU Jobs</td>\n",
       "      <td id=\"T_bc5ae_row10_col1\" class=\"data row10 col1\" >-1</td>\n",
       "    </tr>\n",
       "    <tr>\n",
       "      <th id=\"T_bc5ae_level0_row11\" class=\"row_heading level0 row11\" >11</th>\n",
       "      <td id=\"T_bc5ae_row11_col0\" class=\"data row11 col0\" >Use GPU</td>\n",
       "      <td id=\"T_bc5ae_row11_col1\" class=\"data row11 col1\" >False</td>\n",
       "    </tr>\n",
       "    <tr>\n",
       "      <th id=\"T_bc5ae_level0_row12\" class=\"row_heading level0 row12\" >12</th>\n",
       "      <td id=\"T_bc5ae_row12_col0\" class=\"data row12 col0\" >Log Experiment</td>\n",
       "      <td id=\"T_bc5ae_row12_col1\" class=\"data row12 col1\" >False</td>\n",
       "    </tr>\n",
       "    <tr>\n",
       "      <th id=\"T_bc5ae_level0_row13\" class=\"row_heading level0 row13\" >13</th>\n",
       "      <td id=\"T_bc5ae_row13_col0\" class=\"data row13 col0\" >Experiment Name</td>\n",
       "      <td id=\"T_bc5ae_row13_col1\" class=\"data row13 col1\" >cluster-default-name</td>\n",
       "    </tr>\n",
       "    <tr>\n",
       "      <th id=\"T_bc5ae_level0_row14\" class=\"row_heading level0 row14\" >14</th>\n",
       "      <td id=\"T_bc5ae_row14_col0\" class=\"data row14 col0\" >USI</td>\n",
       "      <td id=\"T_bc5ae_row14_col1\" class=\"data row14 col1\" >2f0a</td>\n",
       "    </tr>\n",
       "  </tbody>\n",
       "</table>\n"
      ],
      "text/plain": [
       "<pandas.io.formats.style.Styler at 0x20aa5f17be0>"
      ]
     },
     "metadata": {},
     "output_type": "display_data"
    },
    {
     "data": {
      "text/html": [],
      "text/plain": [
       "<IPython.core.display.HTML object>"
      ]
     },
     "metadata": {},
     "output_type": "display_data"
    },
    {
     "data": {
      "text/html": [
       "<style type=\"text/css\">\n",
       "</style>\n",
       "<table id=\"T_e5f63\">\n",
       "  <thead>\n",
       "    <tr>\n",
       "      <th class=\"blank level0\" >&nbsp;</th>\n",
       "      <th id=\"T_e5f63_level0_col0\" class=\"col_heading level0 col0\" >Silhouette</th>\n",
       "      <th id=\"T_e5f63_level0_col1\" class=\"col_heading level0 col1\" >Calinski-Harabasz</th>\n",
       "      <th id=\"T_e5f63_level0_col2\" class=\"col_heading level0 col2\" >Davies-Bouldin</th>\n",
       "      <th id=\"T_e5f63_level0_col3\" class=\"col_heading level0 col3\" >Homogeneity</th>\n",
       "      <th id=\"T_e5f63_level0_col4\" class=\"col_heading level0 col4\" >Rand Index</th>\n",
       "      <th id=\"T_e5f63_level0_col5\" class=\"col_heading level0 col5\" >Completeness</th>\n",
       "    </tr>\n",
       "  </thead>\n",
       "  <tbody>\n",
       "    <tr>\n",
       "      <th id=\"T_e5f63_level0_row0\" class=\"row_heading level0 row0\" >0</th>\n",
       "      <td id=\"T_e5f63_row0_col0\" class=\"data row0 col0\" >0.5802</td>\n",
       "      <td id=\"T_e5f63_row0_col1\" class=\"data row0 col1\" >248.9035</td>\n",
       "      <td id=\"T_e5f63_row0_col2\" class=\"data row0 col2\" >0.5976</td>\n",
       "      <td id=\"T_e5f63_row0_col3\" class=\"data row0 col3\" >0</td>\n",
       "      <td id=\"T_e5f63_row0_col4\" class=\"data row0 col4\" >0</td>\n",
       "      <td id=\"T_e5f63_row0_col5\" class=\"data row0 col5\" >0</td>\n",
       "    </tr>\n",
       "  </tbody>\n",
       "</table>\n"
      ],
      "text/plain": [
       "<pandas.io.formats.style.Styler at 0x20aa5f16da0>"
      ]
     },
     "metadata": {},
     "output_type": "display_data"
    },
    {
     "data": {
      "text/html": [],
      "text/plain": [
       "<IPython.core.display.HTML object>"
      ]
     },
     "metadata": {},
     "output_type": "display_data"
    },
    {
     "name": "stdout",
     "output_type": "stream",
     "text": [
      "For meanshift with 3 clusters with Normalization\n"
     ]
    },
    {
     "data": {
      "application/vnd.jupyter.widget-view+json": {
       "model_id": "b9d5a75ae8634ded87df4f159955f45b",
       "version_major": 2,
       "version_minor": 0
      },
      "text/plain": [
       "interactive(children=(ToggleButtons(description='Plot Type:', icons=('',), options=(('Pipeline Plot', 'pipelin…"
      ]
     },
     "metadata": {},
     "output_type": "display_data"
    },
    {
     "data": {
      "text/html": [
       "<style type=\"text/css\">\n",
       "#T_9a3af_row4_col1, #T_9a3af_row8_col1 {\n",
       "  background-color: lightgreen;\n",
       "}\n",
       "</style>\n",
       "<table id=\"T_9a3af\">\n",
       "  <thead>\n",
       "    <tr>\n",
       "      <th class=\"blank level0\" >&nbsp;</th>\n",
       "      <th id=\"T_9a3af_level0_col0\" class=\"col_heading level0 col0\" >Description</th>\n",
       "      <th id=\"T_9a3af_level0_col1\" class=\"col_heading level0 col1\" >Value</th>\n",
       "    </tr>\n",
       "  </thead>\n",
       "  <tbody>\n",
       "    <tr>\n",
       "      <th id=\"T_9a3af_level0_row0\" class=\"row_heading level0 row0\" >0</th>\n",
       "      <td id=\"T_9a3af_row0_col0\" class=\"data row0 col0\" >Session id</td>\n",
       "      <td id=\"T_9a3af_row0_col1\" class=\"data row0 col1\" >2</td>\n",
       "    </tr>\n",
       "    <tr>\n",
       "      <th id=\"T_9a3af_level0_row1\" class=\"row_heading level0 row1\" >1</th>\n",
       "      <td id=\"T_9a3af_row1_col0\" class=\"data row1 col0\" >Original data shape</td>\n",
       "      <td id=\"T_9a3af_row1_col1\" class=\"data row1 col1\" >(150, 4)</td>\n",
       "    </tr>\n",
       "    <tr>\n",
       "      <th id=\"T_9a3af_level0_row2\" class=\"row_heading level0 row2\" >2</th>\n",
       "      <td id=\"T_9a3af_row2_col0\" class=\"data row2 col0\" >Transformed data shape</td>\n",
       "      <td id=\"T_9a3af_row2_col1\" class=\"data row2 col1\" >(150, 4)</td>\n",
       "    </tr>\n",
       "    <tr>\n",
       "      <th id=\"T_9a3af_level0_row3\" class=\"row_heading level0 row3\" >3</th>\n",
       "      <td id=\"T_9a3af_row3_col0\" class=\"data row3 col0\" >Numeric features</td>\n",
       "      <td id=\"T_9a3af_row3_col1\" class=\"data row3 col1\" >4</td>\n",
       "    </tr>\n",
       "    <tr>\n",
       "      <th id=\"T_9a3af_level0_row4\" class=\"row_heading level0 row4\" >4</th>\n",
       "      <td id=\"T_9a3af_row4_col0\" class=\"data row4 col0\" >Preprocess</td>\n",
       "      <td id=\"T_9a3af_row4_col1\" class=\"data row4 col1\" >True</td>\n",
       "    </tr>\n",
       "    <tr>\n",
       "      <th id=\"T_9a3af_level0_row5\" class=\"row_heading level0 row5\" >5</th>\n",
       "      <td id=\"T_9a3af_row5_col0\" class=\"data row5 col0\" >Imputation type</td>\n",
       "      <td id=\"T_9a3af_row5_col1\" class=\"data row5 col1\" >simple</td>\n",
       "    </tr>\n",
       "    <tr>\n",
       "      <th id=\"T_9a3af_level0_row6\" class=\"row_heading level0 row6\" >6</th>\n",
       "      <td id=\"T_9a3af_row6_col0\" class=\"data row6 col0\" >Numeric imputation</td>\n",
       "      <td id=\"T_9a3af_row6_col1\" class=\"data row6 col1\" >mean</td>\n",
       "    </tr>\n",
       "    <tr>\n",
       "      <th id=\"T_9a3af_level0_row7\" class=\"row_heading level0 row7\" >7</th>\n",
       "      <td id=\"T_9a3af_row7_col0\" class=\"data row7 col0\" >Categorical imputation</td>\n",
       "      <td id=\"T_9a3af_row7_col1\" class=\"data row7 col1\" >mode</td>\n",
       "    </tr>\n",
       "    <tr>\n",
       "      <th id=\"T_9a3af_level0_row8\" class=\"row_heading level0 row8\" >8</th>\n",
       "      <td id=\"T_9a3af_row8_col0\" class=\"data row8 col0\" >Normalize</td>\n",
       "      <td id=\"T_9a3af_row8_col1\" class=\"data row8 col1\" >True</td>\n",
       "    </tr>\n",
       "    <tr>\n",
       "      <th id=\"T_9a3af_level0_row9\" class=\"row_heading level0 row9\" >9</th>\n",
       "      <td id=\"T_9a3af_row9_col0\" class=\"data row9 col0\" >Normalize method</td>\n",
       "      <td id=\"T_9a3af_row9_col1\" class=\"data row9 col1\" >zscore</td>\n",
       "    </tr>\n",
       "    <tr>\n",
       "      <th id=\"T_9a3af_level0_row10\" class=\"row_heading level0 row10\" >10</th>\n",
       "      <td id=\"T_9a3af_row10_col0\" class=\"data row10 col0\" >CPU Jobs</td>\n",
       "      <td id=\"T_9a3af_row10_col1\" class=\"data row10 col1\" >-1</td>\n",
       "    </tr>\n",
       "    <tr>\n",
       "      <th id=\"T_9a3af_level0_row11\" class=\"row_heading level0 row11\" >11</th>\n",
       "      <td id=\"T_9a3af_row11_col0\" class=\"data row11 col0\" >Use GPU</td>\n",
       "      <td id=\"T_9a3af_row11_col1\" class=\"data row11 col1\" >False</td>\n",
       "    </tr>\n",
       "    <tr>\n",
       "      <th id=\"T_9a3af_level0_row12\" class=\"row_heading level0 row12\" >12</th>\n",
       "      <td id=\"T_9a3af_row12_col0\" class=\"data row12 col0\" >Log Experiment</td>\n",
       "      <td id=\"T_9a3af_row12_col1\" class=\"data row12 col1\" >False</td>\n",
       "    </tr>\n",
       "    <tr>\n",
       "      <th id=\"T_9a3af_level0_row13\" class=\"row_heading level0 row13\" >13</th>\n",
       "      <td id=\"T_9a3af_row13_col0\" class=\"data row13 col0\" >Experiment Name</td>\n",
       "      <td id=\"T_9a3af_row13_col1\" class=\"data row13 col1\" >cluster-default-name</td>\n",
       "    </tr>\n",
       "    <tr>\n",
       "      <th id=\"T_9a3af_level0_row14\" class=\"row_heading level0 row14\" >14</th>\n",
       "      <td id=\"T_9a3af_row14_col0\" class=\"data row14 col0\" >USI</td>\n",
       "      <td id=\"T_9a3af_row14_col1\" class=\"data row14 col1\" >33c9</td>\n",
       "    </tr>\n",
       "  </tbody>\n",
       "</table>\n"
      ],
      "text/plain": [
       "<pandas.io.formats.style.Styler at 0x20aa7185c00>"
      ]
     },
     "metadata": {},
     "output_type": "display_data"
    },
    {
     "data": {
      "text/html": [],
      "text/plain": [
       "<IPython.core.display.HTML object>"
      ]
     },
     "metadata": {},
     "output_type": "display_data"
    },
    {
     "data": {
      "text/html": [
       "<style type=\"text/css\">\n",
       "</style>\n",
       "<table id=\"T_1a0c9\">\n",
       "  <thead>\n",
       "    <tr>\n",
       "      <th class=\"blank level0\" >&nbsp;</th>\n",
       "      <th id=\"T_1a0c9_level0_col0\" class=\"col_heading level0 col0\" >Silhouette</th>\n",
       "      <th id=\"T_1a0c9_level0_col1\" class=\"col_heading level0 col1\" >Calinski-Harabasz</th>\n",
       "      <th id=\"T_1a0c9_level0_col2\" class=\"col_heading level0 col2\" >Davies-Bouldin</th>\n",
       "      <th id=\"T_1a0c9_level0_col3\" class=\"col_heading level0 col3\" >Homogeneity</th>\n",
       "      <th id=\"T_1a0c9_level0_col4\" class=\"col_heading level0 col4\" >Rand Index</th>\n",
       "      <th id=\"T_1a0c9_level0_col5\" class=\"col_heading level0 col5\" >Completeness</th>\n",
       "    </tr>\n",
       "  </thead>\n",
       "  <tbody>\n",
       "    <tr>\n",
       "      <th id=\"T_1a0c9_level0_row0\" class=\"row_heading level0 row0\" >0</th>\n",
       "      <td id=\"T_1a0c9_row0_col0\" class=\"data row0 col0\" >0.5802</td>\n",
       "      <td id=\"T_1a0c9_row0_col1\" class=\"data row0 col1\" >248.9035</td>\n",
       "      <td id=\"T_1a0c9_row0_col2\" class=\"data row0 col2\" >0.5976</td>\n",
       "      <td id=\"T_1a0c9_row0_col3\" class=\"data row0 col3\" >0</td>\n",
       "      <td id=\"T_1a0c9_row0_col4\" class=\"data row0 col4\" >0</td>\n",
       "      <td id=\"T_1a0c9_row0_col5\" class=\"data row0 col5\" >0</td>\n",
       "    </tr>\n",
       "  </tbody>\n",
       "</table>\n"
      ],
      "text/plain": [
       "<pandas.io.formats.style.Styler at 0x20aa71859f0>"
      ]
     },
     "metadata": {},
     "output_type": "display_data"
    },
    {
     "data": {
      "text/html": [],
      "text/plain": [
       "<IPython.core.display.HTML object>"
      ]
     },
     "metadata": {},
     "output_type": "display_data"
    },
    {
     "name": "stdout",
     "output_type": "stream",
     "text": [
      "For meanshift with 4 clusters with Normalization\n"
     ]
    },
    {
     "data": {
      "application/vnd.jupyter.widget-view+json": {
       "model_id": "efe59f2793124adf800ce2e9de73956f",
       "version_major": 2,
       "version_minor": 0
      },
      "text/plain": [
       "interactive(children=(ToggleButtons(description='Plot Type:', icons=('',), options=(('Pipeline Plot', 'pipelin…"
      ]
     },
     "metadata": {},
     "output_type": "display_data"
    },
    {
     "data": {
      "text/html": [
       "<style type=\"text/css\">\n",
       "#T_43446_row4_col1, #T_43446_row8_col1 {\n",
       "  background-color: lightgreen;\n",
       "}\n",
       "</style>\n",
       "<table id=\"T_43446\">\n",
       "  <thead>\n",
       "    <tr>\n",
       "      <th class=\"blank level0\" >&nbsp;</th>\n",
       "      <th id=\"T_43446_level0_col0\" class=\"col_heading level0 col0\" >Description</th>\n",
       "      <th id=\"T_43446_level0_col1\" class=\"col_heading level0 col1\" >Value</th>\n",
       "    </tr>\n",
       "  </thead>\n",
       "  <tbody>\n",
       "    <tr>\n",
       "      <th id=\"T_43446_level0_row0\" class=\"row_heading level0 row0\" >0</th>\n",
       "      <td id=\"T_43446_row0_col0\" class=\"data row0 col0\" >Session id</td>\n",
       "      <td id=\"T_43446_row0_col1\" class=\"data row0 col1\" >2</td>\n",
       "    </tr>\n",
       "    <tr>\n",
       "      <th id=\"T_43446_level0_row1\" class=\"row_heading level0 row1\" >1</th>\n",
       "      <td id=\"T_43446_row1_col0\" class=\"data row1 col0\" >Original data shape</td>\n",
       "      <td id=\"T_43446_row1_col1\" class=\"data row1 col1\" >(150, 4)</td>\n",
       "    </tr>\n",
       "    <tr>\n",
       "      <th id=\"T_43446_level0_row2\" class=\"row_heading level0 row2\" >2</th>\n",
       "      <td id=\"T_43446_row2_col0\" class=\"data row2 col0\" >Transformed data shape</td>\n",
       "      <td id=\"T_43446_row2_col1\" class=\"data row2 col1\" >(150, 4)</td>\n",
       "    </tr>\n",
       "    <tr>\n",
       "      <th id=\"T_43446_level0_row3\" class=\"row_heading level0 row3\" >3</th>\n",
       "      <td id=\"T_43446_row3_col0\" class=\"data row3 col0\" >Numeric features</td>\n",
       "      <td id=\"T_43446_row3_col1\" class=\"data row3 col1\" >4</td>\n",
       "    </tr>\n",
       "    <tr>\n",
       "      <th id=\"T_43446_level0_row4\" class=\"row_heading level0 row4\" >4</th>\n",
       "      <td id=\"T_43446_row4_col0\" class=\"data row4 col0\" >Preprocess</td>\n",
       "      <td id=\"T_43446_row4_col1\" class=\"data row4 col1\" >True</td>\n",
       "    </tr>\n",
       "    <tr>\n",
       "      <th id=\"T_43446_level0_row5\" class=\"row_heading level0 row5\" >5</th>\n",
       "      <td id=\"T_43446_row5_col0\" class=\"data row5 col0\" >Imputation type</td>\n",
       "      <td id=\"T_43446_row5_col1\" class=\"data row5 col1\" >simple</td>\n",
       "    </tr>\n",
       "    <tr>\n",
       "      <th id=\"T_43446_level0_row6\" class=\"row_heading level0 row6\" >6</th>\n",
       "      <td id=\"T_43446_row6_col0\" class=\"data row6 col0\" >Numeric imputation</td>\n",
       "      <td id=\"T_43446_row6_col1\" class=\"data row6 col1\" >mean</td>\n",
       "    </tr>\n",
       "    <tr>\n",
       "      <th id=\"T_43446_level0_row7\" class=\"row_heading level0 row7\" >7</th>\n",
       "      <td id=\"T_43446_row7_col0\" class=\"data row7 col0\" >Categorical imputation</td>\n",
       "      <td id=\"T_43446_row7_col1\" class=\"data row7 col1\" >mode</td>\n",
       "    </tr>\n",
       "    <tr>\n",
       "      <th id=\"T_43446_level0_row8\" class=\"row_heading level0 row8\" >8</th>\n",
       "      <td id=\"T_43446_row8_col0\" class=\"data row8 col0\" >Normalize</td>\n",
       "      <td id=\"T_43446_row8_col1\" class=\"data row8 col1\" >True</td>\n",
       "    </tr>\n",
       "    <tr>\n",
       "      <th id=\"T_43446_level0_row9\" class=\"row_heading level0 row9\" >9</th>\n",
       "      <td id=\"T_43446_row9_col0\" class=\"data row9 col0\" >Normalize method</td>\n",
       "      <td id=\"T_43446_row9_col1\" class=\"data row9 col1\" >zscore</td>\n",
       "    </tr>\n",
       "    <tr>\n",
       "      <th id=\"T_43446_level0_row10\" class=\"row_heading level0 row10\" >10</th>\n",
       "      <td id=\"T_43446_row10_col0\" class=\"data row10 col0\" >CPU Jobs</td>\n",
       "      <td id=\"T_43446_row10_col1\" class=\"data row10 col1\" >-1</td>\n",
       "    </tr>\n",
       "    <tr>\n",
       "      <th id=\"T_43446_level0_row11\" class=\"row_heading level0 row11\" >11</th>\n",
       "      <td id=\"T_43446_row11_col0\" class=\"data row11 col0\" >Use GPU</td>\n",
       "      <td id=\"T_43446_row11_col1\" class=\"data row11 col1\" >False</td>\n",
       "    </tr>\n",
       "    <tr>\n",
       "      <th id=\"T_43446_level0_row12\" class=\"row_heading level0 row12\" >12</th>\n",
       "      <td id=\"T_43446_row12_col0\" class=\"data row12 col0\" >Log Experiment</td>\n",
       "      <td id=\"T_43446_row12_col1\" class=\"data row12 col1\" >False</td>\n",
       "    </tr>\n",
       "    <tr>\n",
       "      <th id=\"T_43446_level0_row13\" class=\"row_heading level0 row13\" >13</th>\n",
       "      <td id=\"T_43446_row13_col0\" class=\"data row13 col0\" >Experiment Name</td>\n",
       "      <td id=\"T_43446_row13_col1\" class=\"data row13 col1\" >cluster-default-name</td>\n",
       "    </tr>\n",
       "    <tr>\n",
       "      <th id=\"T_43446_level0_row14\" class=\"row_heading level0 row14\" >14</th>\n",
       "      <td id=\"T_43446_row14_col0\" class=\"data row14 col0\" >USI</td>\n",
       "      <td id=\"T_43446_row14_col1\" class=\"data row14 col1\" >5370</td>\n",
       "    </tr>\n",
       "  </tbody>\n",
       "</table>\n"
      ],
      "text/plain": [
       "<pandas.io.formats.style.Styler at 0x20aa5f17340>"
      ]
     },
     "metadata": {},
     "output_type": "display_data"
    },
    {
     "data": {
      "text/html": [],
      "text/plain": [
       "<IPython.core.display.HTML object>"
      ]
     },
     "metadata": {},
     "output_type": "display_data"
    },
    {
     "data": {
      "text/html": [
       "<style type=\"text/css\">\n",
       "</style>\n",
       "<table id=\"T_dab1d\">\n",
       "  <thead>\n",
       "    <tr>\n",
       "      <th class=\"blank level0\" >&nbsp;</th>\n",
       "      <th id=\"T_dab1d_level0_col0\" class=\"col_heading level0 col0\" >Silhouette</th>\n",
       "      <th id=\"T_dab1d_level0_col1\" class=\"col_heading level0 col1\" >Calinski-Harabasz</th>\n",
       "      <th id=\"T_dab1d_level0_col2\" class=\"col_heading level0 col2\" >Davies-Bouldin</th>\n",
       "      <th id=\"T_dab1d_level0_col3\" class=\"col_heading level0 col3\" >Homogeneity</th>\n",
       "      <th id=\"T_dab1d_level0_col4\" class=\"col_heading level0 col4\" >Rand Index</th>\n",
       "      <th id=\"T_dab1d_level0_col5\" class=\"col_heading level0 col5\" >Completeness</th>\n",
       "    </tr>\n",
       "  </thead>\n",
       "  <tbody>\n",
       "    <tr>\n",
       "      <th id=\"T_dab1d_level0_row0\" class=\"row_heading level0 row0\" >0</th>\n",
       "      <td id=\"T_dab1d_row0_col0\" class=\"data row0 col0\" >0.5802</td>\n",
       "      <td id=\"T_dab1d_row0_col1\" class=\"data row0 col1\" >248.9035</td>\n",
       "      <td id=\"T_dab1d_row0_col2\" class=\"data row0 col2\" >0.5976</td>\n",
       "      <td id=\"T_dab1d_row0_col3\" class=\"data row0 col3\" >0</td>\n",
       "      <td id=\"T_dab1d_row0_col4\" class=\"data row0 col4\" >0</td>\n",
       "      <td id=\"T_dab1d_row0_col5\" class=\"data row0 col5\" >0</td>\n",
       "    </tr>\n",
       "  </tbody>\n",
       "</table>\n"
      ],
      "text/plain": [
       "<pandas.io.formats.style.Styler at 0x20aa5f140a0>"
      ]
     },
     "metadata": {},
     "output_type": "display_data"
    },
    {
     "data": {
      "text/html": [],
      "text/plain": [
       "<IPython.core.display.HTML object>"
      ]
     },
     "metadata": {},
     "output_type": "display_data"
    },
    {
     "name": "stdout",
     "output_type": "stream",
     "text": [
      "For meanshift with 5 clusters with Normalization\n"
     ]
    },
    {
     "data": {
      "application/vnd.jupyter.widget-view+json": {
       "model_id": "57ffae8a39a748bab57e895ac4580862",
       "version_major": 2,
       "version_minor": 0
      },
      "text/plain": [
       "interactive(children=(ToggleButtons(description='Plot Type:', icons=('',), options=(('Pipeline Plot', 'pipelin…"
      ]
     },
     "metadata": {},
     "output_type": "display_data"
    }
   ],
   "source": [
    "for model in models:\n",
    "    for cluster in clusters:\n",
    "        setup1 = setup(data, normalize=True, pca=False,session_id = 2)\n",
    "        mod1  = create_model(model,num_clusters = cluster)\n",
    "        print(f\"For {model} with {cluster} clusters with Normalization\")\n",
    "        evaluate_model(mod1)"
   ]
  },
  {
   "cell_type": "markdown",
   "id": "52e263e0",
   "metadata": {},
   "source": [
    "### With Transformation"
   ]
  },
  {
   "cell_type": "code",
   "execution_count": 7,
   "id": "bf4ceb36",
   "metadata": {},
   "outputs": [
    {
     "data": {
      "text/html": [
       "<style type=\"text/css\">\n",
       "#T_c3a43_row4_col1 {\n",
       "  background-color: lightgreen;\n",
       "}\n",
       "</style>\n",
       "<table id=\"T_c3a43\">\n",
       "  <thead>\n",
       "    <tr>\n",
       "      <th class=\"blank level0\" >&nbsp;</th>\n",
       "      <th id=\"T_c3a43_level0_col0\" class=\"col_heading level0 col0\" >Description</th>\n",
       "      <th id=\"T_c3a43_level0_col1\" class=\"col_heading level0 col1\" >Value</th>\n",
       "    </tr>\n",
       "  </thead>\n",
       "  <tbody>\n",
       "    <tr>\n",
       "      <th id=\"T_c3a43_level0_row0\" class=\"row_heading level0 row0\" >0</th>\n",
       "      <td id=\"T_c3a43_row0_col0\" class=\"data row0 col0\" >Session id</td>\n",
       "      <td id=\"T_c3a43_row0_col1\" class=\"data row0 col1\" >2</td>\n",
       "    </tr>\n",
       "    <tr>\n",
       "      <th id=\"T_c3a43_level0_row1\" class=\"row_heading level0 row1\" >1</th>\n",
       "      <td id=\"T_c3a43_row1_col0\" class=\"data row1 col0\" >Original data shape</td>\n",
       "      <td id=\"T_c3a43_row1_col1\" class=\"data row1 col1\" >(150, 4)</td>\n",
       "    </tr>\n",
       "    <tr>\n",
       "      <th id=\"T_c3a43_level0_row2\" class=\"row_heading level0 row2\" >2</th>\n",
       "      <td id=\"T_c3a43_row2_col0\" class=\"data row2 col0\" >Transformed data shape</td>\n",
       "      <td id=\"T_c3a43_row2_col1\" class=\"data row2 col1\" >(150, 4)</td>\n",
       "    </tr>\n",
       "    <tr>\n",
       "      <th id=\"T_c3a43_level0_row3\" class=\"row_heading level0 row3\" >3</th>\n",
       "      <td id=\"T_c3a43_row3_col0\" class=\"data row3 col0\" >Numeric features</td>\n",
       "      <td id=\"T_c3a43_row3_col1\" class=\"data row3 col1\" >4</td>\n",
       "    </tr>\n",
       "    <tr>\n",
       "      <th id=\"T_c3a43_level0_row4\" class=\"row_heading level0 row4\" >4</th>\n",
       "      <td id=\"T_c3a43_row4_col0\" class=\"data row4 col0\" >Preprocess</td>\n",
       "      <td id=\"T_c3a43_row4_col1\" class=\"data row4 col1\" >True</td>\n",
       "    </tr>\n",
       "    <tr>\n",
       "      <th id=\"T_c3a43_level0_row5\" class=\"row_heading level0 row5\" >5</th>\n",
       "      <td id=\"T_c3a43_row5_col0\" class=\"data row5 col0\" >Imputation type</td>\n",
       "      <td id=\"T_c3a43_row5_col1\" class=\"data row5 col1\" >simple</td>\n",
       "    </tr>\n",
       "    <tr>\n",
       "      <th id=\"T_c3a43_level0_row6\" class=\"row_heading level0 row6\" >6</th>\n",
       "      <td id=\"T_c3a43_row6_col0\" class=\"data row6 col0\" >Numeric imputation</td>\n",
       "      <td id=\"T_c3a43_row6_col1\" class=\"data row6 col1\" >mean</td>\n",
       "    </tr>\n",
       "    <tr>\n",
       "      <th id=\"T_c3a43_level0_row7\" class=\"row_heading level0 row7\" >7</th>\n",
       "      <td id=\"T_c3a43_row7_col0\" class=\"data row7 col0\" >Categorical imputation</td>\n",
       "      <td id=\"T_c3a43_row7_col1\" class=\"data row7 col1\" >mode</td>\n",
       "    </tr>\n",
       "    <tr>\n",
       "      <th id=\"T_c3a43_level0_row8\" class=\"row_heading level0 row8\" >8</th>\n",
       "      <td id=\"T_c3a43_row8_col0\" class=\"data row8 col0\" >Transformation</td>\n",
       "      <td id=\"T_c3a43_row8_col1\" class=\"data row8 col1\" ><function custom_preprocess at 0x0000020AA5F8CCA0></td>\n",
       "    </tr>\n",
       "    <tr>\n",
       "      <th id=\"T_c3a43_level0_row9\" class=\"row_heading level0 row9\" >9</th>\n",
       "      <td id=\"T_c3a43_row9_col0\" class=\"data row9 col0\" >Transformation method</td>\n",
       "      <td id=\"T_c3a43_row9_col1\" class=\"data row9 col1\" >yeo-johnson</td>\n",
       "    </tr>\n",
       "    <tr>\n",
       "      <th id=\"T_c3a43_level0_row10\" class=\"row_heading level0 row10\" >10</th>\n",
       "      <td id=\"T_c3a43_row10_col0\" class=\"data row10 col0\" >CPU Jobs</td>\n",
       "      <td id=\"T_c3a43_row10_col1\" class=\"data row10 col1\" >-1</td>\n",
       "    </tr>\n",
       "    <tr>\n",
       "      <th id=\"T_c3a43_level0_row11\" class=\"row_heading level0 row11\" >11</th>\n",
       "      <td id=\"T_c3a43_row11_col0\" class=\"data row11 col0\" >Use GPU</td>\n",
       "      <td id=\"T_c3a43_row11_col1\" class=\"data row11 col1\" >False</td>\n",
       "    </tr>\n",
       "    <tr>\n",
       "      <th id=\"T_c3a43_level0_row12\" class=\"row_heading level0 row12\" >12</th>\n",
       "      <td id=\"T_c3a43_row12_col0\" class=\"data row12 col0\" >Log Experiment</td>\n",
       "      <td id=\"T_c3a43_row12_col1\" class=\"data row12 col1\" >False</td>\n",
       "    </tr>\n",
       "    <tr>\n",
       "      <th id=\"T_c3a43_level0_row13\" class=\"row_heading level0 row13\" >13</th>\n",
       "      <td id=\"T_c3a43_row13_col0\" class=\"data row13 col0\" >Experiment Name</td>\n",
       "      <td id=\"T_c3a43_row13_col1\" class=\"data row13 col1\" >cluster-default-name</td>\n",
       "    </tr>\n",
       "    <tr>\n",
       "      <th id=\"T_c3a43_level0_row14\" class=\"row_heading level0 row14\" >14</th>\n",
       "      <td id=\"T_c3a43_row14_col0\" class=\"data row14 col0\" >USI</td>\n",
       "      <td id=\"T_c3a43_row14_col1\" class=\"data row14 col1\" >ed85</td>\n",
       "    </tr>\n",
       "  </tbody>\n",
       "</table>\n"
      ],
      "text/plain": [
       "<pandas.io.formats.style.Styler at 0x20aa71ca200>"
      ]
     },
     "metadata": {},
     "output_type": "display_data"
    },
    {
     "data": {
      "text/html": [],
      "text/plain": [
       "<IPython.core.display.HTML object>"
      ]
     },
     "metadata": {},
     "output_type": "display_data"
    },
    {
     "data": {
      "text/html": [
       "<style type=\"text/css\">\n",
       "</style>\n",
       "<table id=\"T_de919\">\n",
       "  <thead>\n",
       "    <tr>\n",
       "      <th class=\"blank level0\" >&nbsp;</th>\n",
       "      <th id=\"T_de919_level0_col0\" class=\"col_heading level0 col0\" >Silhouette</th>\n",
       "      <th id=\"T_de919_level0_col1\" class=\"col_heading level0 col1\" >Calinski-Harabasz</th>\n",
       "      <th id=\"T_de919_level0_col2\" class=\"col_heading level0 col2\" >Davies-Bouldin</th>\n",
       "      <th id=\"T_de919_level0_col3\" class=\"col_heading level0 col3\" >Homogeneity</th>\n",
       "      <th id=\"T_de919_level0_col4\" class=\"col_heading level0 col4\" >Rand Index</th>\n",
       "      <th id=\"T_de919_level0_col5\" class=\"col_heading level0 col5\" >Completeness</th>\n",
       "    </tr>\n",
       "  </thead>\n",
       "  <tbody>\n",
       "    <tr>\n",
       "      <th id=\"T_de919_level0_row0\" class=\"row_heading level0 row0\" >0</th>\n",
       "      <td id=\"T_de919_row0_col0\" class=\"data row0 col0\" >0.6548</td>\n",
       "      <td id=\"T_de919_row0_col1\" class=\"data row0 col1\" >1167.4515</td>\n",
       "      <td id=\"T_de919_row0_col2\" class=\"data row0 col2\" >0.4872</td>\n",
       "      <td id=\"T_de919_row0_col3\" class=\"data row0 col3\" >0</td>\n",
       "      <td id=\"T_de919_row0_col4\" class=\"data row0 col4\" >0</td>\n",
       "      <td id=\"T_de919_row0_col5\" class=\"data row0 col5\" >0</td>\n",
       "    </tr>\n",
       "  </tbody>\n",
       "</table>\n"
      ],
      "text/plain": [
       "<pandas.io.formats.style.Styler at 0x20aa71cb9a0>"
      ]
     },
     "metadata": {},
     "output_type": "display_data"
    },
    {
     "data": {
      "text/html": [],
      "text/plain": [
       "<IPython.core.display.HTML object>"
      ]
     },
     "metadata": {},
     "output_type": "display_data"
    },
    {
     "name": "stdout",
     "output_type": "stream",
     "text": [
      "For kmeans with 3 clusters with Transformation\n"
     ]
    },
    {
     "data": {
      "application/vnd.jupyter.widget-view+json": {
       "model_id": "0145074e6e974ac5aa520800ac8c4471",
       "version_major": 2,
       "version_minor": 0
      },
      "text/plain": [
       "interactive(children=(ToggleButtons(description='Plot Type:', icons=('',), options=(('Pipeline Plot', 'pipelin…"
      ]
     },
     "metadata": {},
     "output_type": "display_data"
    },
    {
     "data": {
      "text/html": [
       "<style type=\"text/css\">\n",
       "#T_920b7_row4_col1 {\n",
       "  background-color: lightgreen;\n",
       "}\n",
       "</style>\n",
       "<table id=\"T_920b7\">\n",
       "  <thead>\n",
       "    <tr>\n",
       "      <th class=\"blank level0\" >&nbsp;</th>\n",
       "      <th id=\"T_920b7_level0_col0\" class=\"col_heading level0 col0\" >Description</th>\n",
       "      <th id=\"T_920b7_level0_col1\" class=\"col_heading level0 col1\" >Value</th>\n",
       "    </tr>\n",
       "  </thead>\n",
       "  <tbody>\n",
       "    <tr>\n",
       "      <th id=\"T_920b7_level0_row0\" class=\"row_heading level0 row0\" >0</th>\n",
       "      <td id=\"T_920b7_row0_col0\" class=\"data row0 col0\" >Session id</td>\n",
       "      <td id=\"T_920b7_row0_col1\" class=\"data row0 col1\" >2</td>\n",
       "    </tr>\n",
       "    <tr>\n",
       "      <th id=\"T_920b7_level0_row1\" class=\"row_heading level0 row1\" >1</th>\n",
       "      <td id=\"T_920b7_row1_col0\" class=\"data row1 col0\" >Original data shape</td>\n",
       "      <td id=\"T_920b7_row1_col1\" class=\"data row1 col1\" >(150, 4)</td>\n",
       "    </tr>\n",
       "    <tr>\n",
       "      <th id=\"T_920b7_level0_row2\" class=\"row_heading level0 row2\" >2</th>\n",
       "      <td id=\"T_920b7_row2_col0\" class=\"data row2 col0\" >Transformed data shape</td>\n",
       "      <td id=\"T_920b7_row2_col1\" class=\"data row2 col1\" >(150, 4)</td>\n",
       "    </tr>\n",
       "    <tr>\n",
       "      <th id=\"T_920b7_level0_row3\" class=\"row_heading level0 row3\" >3</th>\n",
       "      <td id=\"T_920b7_row3_col0\" class=\"data row3 col0\" >Numeric features</td>\n",
       "      <td id=\"T_920b7_row3_col1\" class=\"data row3 col1\" >4</td>\n",
       "    </tr>\n",
       "    <tr>\n",
       "      <th id=\"T_920b7_level0_row4\" class=\"row_heading level0 row4\" >4</th>\n",
       "      <td id=\"T_920b7_row4_col0\" class=\"data row4 col0\" >Preprocess</td>\n",
       "      <td id=\"T_920b7_row4_col1\" class=\"data row4 col1\" >True</td>\n",
       "    </tr>\n",
       "    <tr>\n",
       "      <th id=\"T_920b7_level0_row5\" class=\"row_heading level0 row5\" >5</th>\n",
       "      <td id=\"T_920b7_row5_col0\" class=\"data row5 col0\" >Imputation type</td>\n",
       "      <td id=\"T_920b7_row5_col1\" class=\"data row5 col1\" >simple</td>\n",
       "    </tr>\n",
       "    <tr>\n",
       "      <th id=\"T_920b7_level0_row6\" class=\"row_heading level0 row6\" >6</th>\n",
       "      <td id=\"T_920b7_row6_col0\" class=\"data row6 col0\" >Numeric imputation</td>\n",
       "      <td id=\"T_920b7_row6_col1\" class=\"data row6 col1\" >mean</td>\n",
       "    </tr>\n",
       "    <tr>\n",
       "      <th id=\"T_920b7_level0_row7\" class=\"row_heading level0 row7\" >7</th>\n",
       "      <td id=\"T_920b7_row7_col0\" class=\"data row7 col0\" >Categorical imputation</td>\n",
       "      <td id=\"T_920b7_row7_col1\" class=\"data row7 col1\" >mode</td>\n",
       "    </tr>\n",
       "    <tr>\n",
       "      <th id=\"T_920b7_level0_row8\" class=\"row_heading level0 row8\" >8</th>\n",
       "      <td id=\"T_920b7_row8_col0\" class=\"data row8 col0\" >Transformation</td>\n",
       "      <td id=\"T_920b7_row8_col1\" class=\"data row8 col1\" ><function custom_preprocess at 0x0000020AA5F8CCA0></td>\n",
       "    </tr>\n",
       "    <tr>\n",
       "      <th id=\"T_920b7_level0_row9\" class=\"row_heading level0 row9\" >9</th>\n",
       "      <td id=\"T_920b7_row9_col0\" class=\"data row9 col0\" >Transformation method</td>\n",
       "      <td id=\"T_920b7_row9_col1\" class=\"data row9 col1\" >yeo-johnson</td>\n",
       "    </tr>\n",
       "    <tr>\n",
       "      <th id=\"T_920b7_level0_row10\" class=\"row_heading level0 row10\" >10</th>\n",
       "      <td id=\"T_920b7_row10_col0\" class=\"data row10 col0\" >CPU Jobs</td>\n",
       "      <td id=\"T_920b7_row10_col1\" class=\"data row10 col1\" >-1</td>\n",
       "    </tr>\n",
       "    <tr>\n",
       "      <th id=\"T_920b7_level0_row11\" class=\"row_heading level0 row11\" >11</th>\n",
       "      <td id=\"T_920b7_row11_col0\" class=\"data row11 col0\" >Use GPU</td>\n",
       "      <td id=\"T_920b7_row11_col1\" class=\"data row11 col1\" >False</td>\n",
       "    </tr>\n",
       "    <tr>\n",
       "      <th id=\"T_920b7_level0_row12\" class=\"row_heading level0 row12\" >12</th>\n",
       "      <td id=\"T_920b7_row12_col0\" class=\"data row12 col0\" >Log Experiment</td>\n",
       "      <td id=\"T_920b7_row12_col1\" class=\"data row12 col1\" >False</td>\n",
       "    </tr>\n",
       "    <tr>\n",
       "      <th id=\"T_920b7_level0_row13\" class=\"row_heading level0 row13\" >13</th>\n",
       "      <td id=\"T_920b7_row13_col0\" class=\"data row13 col0\" >Experiment Name</td>\n",
       "      <td id=\"T_920b7_row13_col1\" class=\"data row13 col1\" >cluster-default-name</td>\n",
       "    </tr>\n",
       "    <tr>\n",
       "      <th id=\"T_920b7_level0_row14\" class=\"row_heading level0 row14\" >14</th>\n",
       "      <td id=\"T_920b7_row14_col0\" class=\"data row14 col0\" >USI</td>\n",
       "      <td id=\"T_920b7_row14_col1\" class=\"data row14 col1\" >7825</td>\n",
       "    </tr>\n",
       "  </tbody>\n",
       "</table>\n"
      ],
      "text/plain": [
       "<pandas.io.formats.style.Styler at 0x20aa7206d10>"
      ]
     },
     "metadata": {},
     "output_type": "display_data"
    },
    {
     "data": {
      "text/html": [],
      "text/plain": [
       "<IPython.core.display.HTML object>"
      ]
     },
     "metadata": {},
     "output_type": "display_data"
    },
    {
     "data": {
      "text/html": [
       "<style type=\"text/css\">\n",
       "</style>\n",
       "<table id=\"T_8befa\">\n",
       "  <thead>\n",
       "    <tr>\n",
       "      <th class=\"blank level0\" >&nbsp;</th>\n",
       "      <th id=\"T_8befa_level0_col0\" class=\"col_heading level0 col0\" >Silhouette</th>\n",
       "      <th id=\"T_8befa_level0_col1\" class=\"col_heading level0 col1\" >Calinski-Harabasz</th>\n",
       "      <th id=\"T_8befa_level0_col2\" class=\"col_heading level0 col2\" >Davies-Bouldin</th>\n",
       "      <th id=\"T_8befa_level0_col3\" class=\"col_heading level0 col3\" >Homogeneity</th>\n",
       "      <th id=\"T_8befa_level0_col4\" class=\"col_heading level0 col4\" >Rand Index</th>\n",
       "      <th id=\"T_8befa_level0_col5\" class=\"col_heading level0 col5\" >Completeness</th>\n",
       "    </tr>\n",
       "  </thead>\n",
       "  <tbody>\n",
       "    <tr>\n",
       "      <th id=\"T_8befa_level0_row0\" class=\"row_heading level0 row0\" >0</th>\n",
       "      <td id=\"T_8befa_row0_col0\" class=\"data row0 col0\" >0.6170</td>\n",
       "      <td id=\"T_8befa_row0_col1\" class=\"data row0 col1\" >1353.8006</td>\n",
       "      <td id=\"T_8befa_row0_col2\" class=\"data row0 col2\" >0.5312</td>\n",
       "      <td id=\"T_8befa_row0_col3\" class=\"data row0 col3\" >0</td>\n",
       "      <td id=\"T_8befa_row0_col4\" class=\"data row0 col4\" >0</td>\n",
       "      <td id=\"T_8befa_row0_col5\" class=\"data row0 col5\" >0</td>\n",
       "    </tr>\n",
       "  </tbody>\n",
       "</table>\n"
      ],
      "text/plain": [
       "<pandas.io.formats.style.Styler at 0x20aa7205cc0>"
      ]
     },
     "metadata": {},
     "output_type": "display_data"
    },
    {
     "data": {
      "text/html": [],
      "text/plain": [
       "<IPython.core.display.HTML object>"
      ]
     },
     "metadata": {},
     "output_type": "display_data"
    },
    {
     "name": "stdout",
     "output_type": "stream",
     "text": [
      "For kmeans with 4 clusters with Transformation\n"
     ]
    },
    {
     "data": {
      "application/vnd.jupyter.widget-view+json": {
       "model_id": "2ac111a6fd0a454aac61d153ef742807",
       "version_major": 2,
       "version_minor": 0
      },
      "text/plain": [
       "interactive(children=(ToggleButtons(description='Plot Type:', icons=('',), options=(('Pipeline Plot', 'pipelin…"
      ]
     },
     "metadata": {},
     "output_type": "display_data"
    },
    {
     "data": {
      "text/html": [
       "<style type=\"text/css\">\n",
       "#T_f0e02_row4_col1 {\n",
       "  background-color: lightgreen;\n",
       "}\n",
       "</style>\n",
       "<table id=\"T_f0e02\">\n",
       "  <thead>\n",
       "    <tr>\n",
       "      <th class=\"blank level0\" >&nbsp;</th>\n",
       "      <th id=\"T_f0e02_level0_col0\" class=\"col_heading level0 col0\" >Description</th>\n",
       "      <th id=\"T_f0e02_level0_col1\" class=\"col_heading level0 col1\" >Value</th>\n",
       "    </tr>\n",
       "  </thead>\n",
       "  <tbody>\n",
       "    <tr>\n",
       "      <th id=\"T_f0e02_level0_row0\" class=\"row_heading level0 row0\" >0</th>\n",
       "      <td id=\"T_f0e02_row0_col0\" class=\"data row0 col0\" >Session id</td>\n",
       "      <td id=\"T_f0e02_row0_col1\" class=\"data row0 col1\" >2</td>\n",
       "    </tr>\n",
       "    <tr>\n",
       "      <th id=\"T_f0e02_level0_row1\" class=\"row_heading level0 row1\" >1</th>\n",
       "      <td id=\"T_f0e02_row1_col0\" class=\"data row1 col0\" >Original data shape</td>\n",
       "      <td id=\"T_f0e02_row1_col1\" class=\"data row1 col1\" >(150, 4)</td>\n",
       "    </tr>\n",
       "    <tr>\n",
       "      <th id=\"T_f0e02_level0_row2\" class=\"row_heading level0 row2\" >2</th>\n",
       "      <td id=\"T_f0e02_row2_col0\" class=\"data row2 col0\" >Transformed data shape</td>\n",
       "      <td id=\"T_f0e02_row2_col1\" class=\"data row2 col1\" >(150, 4)</td>\n",
       "    </tr>\n",
       "    <tr>\n",
       "      <th id=\"T_f0e02_level0_row3\" class=\"row_heading level0 row3\" >3</th>\n",
       "      <td id=\"T_f0e02_row3_col0\" class=\"data row3 col0\" >Numeric features</td>\n",
       "      <td id=\"T_f0e02_row3_col1\" class=\"data row3 col1\" >4</td>\n",
       "    </tr>\n",
       "    <tr>\n",
       "      <th id=\"T_f0e02_level0_row4\" class=\"row_heading level0 row4\" >4</th>\n",
       "      <td id=\"T_f0e02_row4_col0\" class=\"data row4 col0\" >Preprocess</td>\n",
       "      <td id=\"T_f0e02_row4_col1\" class=\"data row4 col1\" >True</td>\n",
       "    </tr>\n",
       "    <tr>\n",
       "      <th id=\"T_f0e02_level0_row5\" class=\"row_heading level0 row5\" >5</th>\n",
       "      <td id=\"T_f0e02_row5_col0\" class=\"data row5 col0\" >Imputation type</td>\n",
       "      <td id=\"T_f0e02_row5_col1\" class=\"data row5 col1\" >simple</td>\n",
       "    </tr>\n",
       "    <tr>\n",
       "      <th id=\"T_f0e02_level0_row6\" class=\"row_heading level0 row6\" >6</th>\n",
       "      <td id=\"T_f0e02_row6_col0\" class=\"data row6 col0\" >Numeric imputation</td>\n",
       "      <td id=\"T_f0e02_row6_col1\" class=\"data row6 col1\" >mean</td>\n",
       "    </tr>\n",
       "    <tr>\n",
       "      <th id=\"T_f0e02_level0_row7\" class=\"row_heading level0 row7\" >7</th>\n",
       "      <td id=\"T_f0e02_row7_col0\" class=\"data row7 col0\" >Categorical imputation</td>\n",
       "      <td id=\"T_f0e02_row7_col1\" class=\"data row7 col1\" >mode</td>\n",
       "    </tr>\n",
       "    <tr>\n",
       "      <th id=\"T_f0e02_level0_row8\" class=\"row_heading level0 row8\" >8</th>\n",
       "      <td id=\"T_f0e02_row8_col0\" class=\"data row8 col0\" >Transformation</td>\n",
       "      <td id=\"T_f0e02_row8_col1\" class=\"data row8 col1\" ><function custom_preprocess at 0x0000020AA5F8CCA0></td>\n",
       "    </tr>\n",
       "    <tr>\n",
       "      <th id=\"T_f0e02_level0_row9\" class=\"row_heading level0 row9\" >9</th>\n",
       "      <td id=\"T_f0e02_row9_col0\" class=\"data row9 col0\" >Transformation method</td>\n",
       "      <td id=\"T_f0e02_row9_col1\" class=\"data row9 col1\" >yeo-johnson</td>\n",
       "    </tr>\n",
       "    <tr>\n",
       "      <th id=\"T_f0e02_level0_row10\" class=\"row_heading level0 row10\" >10</th>\n",
       "      <td id=\"T_f0e02_row10_col0\" class=\"data row10 col0\" >CPU Jobs</td>\n",
       "      <td id=\"T_f0e02_row10_col1\" class=\"data row10 col1\" >-1</td>\n",
       "    </tr>\n",
       "    <tr>\n",
       "      <th id=\"T_f0e02_level0_row11\" class=\"row_heading level0 row11\" >11</th>\n",
       "      <td id=\"T_f0e02_row11_col0\" class=\"data row11 col0\" >Use GPU</td>\n",
       "      <td id=\"T_f0e02_row11_col1\" class=\"data row11 col1\" >False</td>\n",
       "    </tr>\n",
       "    <tr>\n",
       "      <th id=\"T_f0e02_level0_row12\" class=\"row_heading level0 row12\" >12</th>\n",
       "      <td id=\"T_f0e02_row12_col0\" class=\"data row12 col0\" >Log Experiment</td>\n",
       "      <td id=\"T_f0e02_row12_col1\" class=\"data row12 col1\" >False</td>\n",
       "    </tr>\n",
       "    <tr>\n",
       "      <th id=\"T_f0e02_level0_row13\" class=\"row_heading level0 row13\" >13</th>\n",
       "      <td id=\"T_f0e02_row13_col0\" class=\"data row13 col0\" >Experiment Name</td>\n",
       "      <td id=\"T_f0e02_row13_col1\" class=\"data row13 col1\" >cluster-default-name</td>\n",
       "    </tr>\n",
       "    <tr>\n",
       "      <th id=\"T_f0e02_level0_row14\" class=\"row_heading level0 row14\" >14</th>\n",
       "      <td id=\"T_f0e02_row14_col0\" class=\"data row14 col0\" >USI</td>\n",
       "      <td id=\"T_f0e02_row14_col1\" class=\"data row14 col1\" >00c9</td>\n",
       "    </tr>\n",
       "  </tbody>\n",
       "</table>\n"
      ],
      "text/plain": [
       "<pandas.io.formats.style.Styler at 0x20aa7152200>"
      ]
     },
     "metadata": {},
     "output_type": "display_data"
    },
    {
     "data": {
      "text/html": [],
      "text/plain": [
       "<IPython.core.display.HTML object>"
      ]
     },
     "metadata": {},
     "output_type": "display_data"
    },
    {
     "data": {
      "text/html": [
       "<style type=\"text/css\">\n",
       "</style>\n",
       "<table id=\"T_78f33\">\n",
       "  <thead>\n",
       "    <tr>\n",
       "      <th class=\"blank level0\" >&nbsp;</th>\n",
       "      <th id=\"T_78f33_level0_col0\" class=\"col_heading level0 col0\" >Silhouette</th>\n",
       "      <th id=\"T_78f33_level0_col1\" class=\"col_heading level0 col1\" >Calinski-Harabasz</th>\n",
       "      <th id=\"T_78f33_level0_col2\" class=\"col_heading level0 col2\" >Davies-Bouldin</th>\n",
       "      <th id=\"T_78f33_level0_col3\" class=\"col_heading level0 col3\" >Homogeneity</th>\n",
       "      <th id=\"T_78f33_level0_col4\" class=\"col_heading level0 col4\" >Rand Index</th>\n",
       "      <th id=\"T_78f33_level0_col5\" class=\"col_heading level0 col5\" >Completeness</th>\n",
       "    </tr>\n",
       "  </thead>\n",
       "  <tbody>\n",
       "    <tr>\n",
       "      <th id=\"T_78f33_level0_row0\" class=\"row_heading level0 row0\" >0</th>\n",
       "      <td id=\"T_78f33_row0_col0\" class=\"data row0 col0\" >0.5950</td>\n",
       "      <td id=\"T_78f33_row0_col1\" class=\"data row0 col1\" >1410.6191</td>\n",
       "      <td id=\"T_78f33_row0_col2\" class=\"data row0 col2\" >0.5960</td>\n",
       "      <td id=\"T_78f33_row0_col3\" class=\"data row0 col3\" >0</td>\n",
       "      <td id=\"T_78f33_row0_col4\" class=\"data row0 col4\" >0</td>\n",
       "      <td id=\"T_78f33_row0_col5\" class=\"data row0 col5\" >0</td>\n",
       "    </tr>\n",
       "  </tbody>\n",
       "</table>\n"
      ],
      "text/plain": [
       "<pandas.io.formats.style.Styler at 0x20aa7152740>"
      ]
     },
     "metadata": {},
     "output_type": "display_data"
    },
    {
     "data": {
      "text/html": [],
      "text/plain": [
       "<IPython.core.display.HTML object>"
      ]
     },
     "metadata": {},
     "output_type": "display_data"
    },
    {
     "name": "stdout",
     "output_type": "stream",
     "text": [
      "For kmeans with 5 clusters with Transformation\n"
     ]
    },
    {
     "data": {
      "application/vnd.jupyter.widget-view+json": {
       "model_id": "5f72752332b847008ba579691fe4ae03",
       "version_major": 2,
       "version_minor": 0
      },
      "text/plain": [
       "interactive(children=(ToggleButtons(description='Plot Type:', icons=('',), options=(('Pipeline Plot', 'pipelin…"
      ]
     },
     "metadata": {},
     "output_type": "display_data"
    },
    {
     "data": {
      "text/html": [
       "<style type=\"text/css\">\n",
       "#T_aa30c_row4_col1 {\n",
       "  background-color: lightgreen;\n",
       "}\n",
       "</style>\n",
       "<table id=\"T_aa30c\">\n",
       "  <thead>\n",
       "    <tr>\n",
       "      <th class=\"blank level0\" >&nbsp;</th>\n",
       "      <th id=\"T_aa30c_level0_col0\" class=\"col_heading level0 col0\" >Description</th>\n",
       "      <th id=\"T_aa30c_level0_col1\" class=\"col_heading level0 col1\" >Value</th>\n",
       "    </tr>\n",
       "  </thead>\n",
       "  <tbody>\n",
       "    <tr>\n",
       "      <th id=\"T_aa30c_level0_row0\" class=\"row_heading level0 row0\" >0</th>\n",
       "      <td id=\"T_aa30c_row0_col0\" class=\"data row0 col0\" >Session id</td>\n",
       "      <td id=\"T_aa30c_row0_col1\" class=\"data row0 col1\" >2</td>\n",
       "    </tr>\n",
       "    <tr>\n",
       "      <th id=\"T_aa30c_level0_row1\" class=\"row_heading level0 row1\" >1</th>\n",
       "      <td id=\"T_aa30c_row1_col0\" class=\"data row1 col0\" >Original data shape</td>\n",
       "      <td id=\"T_aa30c_row1_col1\" class=\"data row1 col1\" >(150, 4)</td>\n",
       "    </tr>\n",
       "    <tr>\n",
       "      <th id=\"T_aa30c_level0_row2\" class=\"row_heading level0 row2\" >2</th>\n",
       "      <td id=\"T_aa30c_row2_col0\" class=\"data row2 col0\" >Transformed data shape</td>\n",
       "      <td id=\"T_aa30c_row2_col1\" class=\"data row2 col1\" >(150, 4)</td>\n",
       "    </tr>\n",
       "    <tr>\n",
       "      <th id=\"T_aa30c_level0_row3\" class=\"row_heading level0 row3\" >3</th>\n",
       "      <td id=\"T_aa30c_row3_col0\" class=\"data row3 col0\" >Numeric features</td>\n",
       "      <td id=\"T_aa30c_row3_col1\" class=\"data row3 col1\" >4</td>\n",
       "    </tr>\n",
       "    <tr>\n",
       "      <th id=\"T_aa30c_level0_row4\" class=\"row_heading level0 row4\" >4</th>\n",
       "      <td id=\"T_aa30c_row4_col0\" class=\"data row4 col0\" >Preprocess</td>\n",
       "      <td id=\"T_aa30c_row4_col1\" class=\"data row4 col1\" >True</td>\n",
       "    </tr>\n",
       "    <tr>\n",
       "      <th id=\"T_aa30c_level0_row5\" class=\"row_heading level0 row5\" >5</th>\n",
       "      <td id=\"T_aa30c_row5_col0\" class=\"data row5 col0\" >Imputation type</td>\n",
       "      <td id=\"T_aa30c_row5_col1\" class=\"data row5 col1\" >simple</td>\n",
       "    </tr>\n",
       "    <tr>\n",
       "      <th id=\"T_aa30c_level0_row6\" class=\"row_heading level0 row6\" >6</th>\n",
       "      <td id=\"T_aa30c_row6_col0\" class=\"data row6 col0\" >Numeric imputation</td>\n",
       "      <td id=\"T_aa30c_row6_col1\" class=\"data row6 col1\" >mean</td>\n",
       "    </tr>\n",
       "    <tr>\n",
       "      <th id=\"T_aa30c_level0_row7\" class=\"row_heading level0 row7\" >7</th>\n",
       "      <td id=\"T_aa30c_row7_col0\" class=\"data row7 col0\" >Categorical imputation</td>\n",
       "      <td id=\"T_aa30c_row7_col1\" class=\"data row7 col1\" >mode</td>\n",
       "    </tr>\n",
       "    <tr>\n",
       "      <th id=\"T_aa30c_level0_row8\" class=\"row_heading level0 row8\" >8</th>\n",
       "      <td id=\"T_aa30c_row8_col0\" class=\"data row8 col0\" >Transformation</td>\n",
       "      <td id=\"T_aa30c_row8_col1\" class=\"data row8 col1\" ><function custom_preprocess at 0x0000020AA5F8CCA0></td>\n",
       "    </tr>\n",
       "    <tr>\n",
       "      <th id=\"T_aa30c_level0_row9\" class=\"row_heading level0 row9\" >9</th>\n",
       "      <td id=\"T_aa30c_row9_col0\" class=\"data row9 col0\" >Transformation method</td>\n",
       "      <td id=\"T_aa30c_row9_col1\" class=\"data row9 col1\" >yeo-johnson</td>\n",
       "    </tr>\n",
       "    <tr>\n",
       "      <th id=\"T_aa30c_level0_row10\" class=\"row_heading level0 row10\" >10</th>\n",
       "      <td id=\"T_aa30c_row10_col0\" class=\"data row10 col0\" >CPU Jobs</td>\n",
       "      <td id=\"T_aa30c_row10_col1\" class=\"data row10 col1\" >-1</td>\n",
       "    </tr>\n",
       "    <tr>\n",
       "      <th id=\"T_aa30c_level0_row11\" class=\"row_heading level0 row11\" >11</th>\n",
       "      <td id=\"T_aa30c_row11_col0\" class=\"data row11 col0\" >Use GPU</td>\n",
       "      <td id=\"T_aa30c_row11_col1\" class=\"data row11 col1\" >False</td>\n",
       "    </tr>\n",
       "    <tr>\n",
       "      <th id=\"T_aa30c_level0_row12\" class=\"row_heading level0 row12\" >12</th>\n",
       "      <td id=\"T_aa30c_row12_col0\" class=\"data row12 col0\" >Log Experiment</td>\n",
       "      <td id=\"T_aa30c_row12_col1\" class=\"data row12 col1\" >False</td>\n",
       "    </tr>\n",
       "    <tr>\n",
       "      <th id=\"T_aa30c_level0_row13\" class=\"row_heading level0 row13\" >13</th>\n",
       "      <td id=\"T_aa30c_row13_col0\" class=\"data row13 col0\" >Experiment Name</td>\n",
       "      <td id=\"T_aa30c_row13_col1\" class=\"data row13 col1\" >cluster-default-name</td>\n",
       "    </tr>\n",
       "    <tr>\n",
       "      <th id=\"T_aa30c_level0_row14\" class=\"row_heading level0 row14\" >14</th>\n",
       "      <td id=\"T_aa30c_row14_col0\" class=\"data row14 col0\" >USI</td>\n",
       "      <td id=\"T_aa30c_row14_col1\" class=\"data row14 col1\" >b6e4</td>\n",
       "    </tr>\n",
       "  </tbody>\n",
       "</table>\n"
      ],
      "text/plain": [
       "<pandas.io.formats.style.Styler at 0x20aa7236b00>"
      ]
     },
     "metadata": {},
     "output_type": "display_data"
    },
    {
     "data": {
      "text/html": [],
      "text/plain": [
       "<IPython.core.display.HTML object>"
      ]
     },
     "metadata": {},
     "output_type": "display_data"
    },
    {
     "data": {
      "text/html": [
       "<style type=\"text/css\">\n",
       "</style>\n",
       "<table id=\"T_8d2a2\">\n",
       "  <thead>\n",
       "    <tr>\n",
       "      <th class=\"blank level0\" >&nbsp;</th>\n",
       "      <th id=\"T_8d2a2_level0_col0\" class=\"col_heading level0 col0\" >Silhouette</th>\n",
       "      <th id=\"T_8d2a2_level0_col1\" class=\"col_heading level0 col1\" >Calinski-Harabasz</th>\n",
       "      <th id=\"T_8d2a2_level0_col2\" class=\"col_heading level0 col2\" >Davies-Bouldin</th>\n",
       "      <th id=\"T_8d2a2_level0_col3\" class=\"col_heading level0 col3\" >Homogeneity</th>\n",
       "      <th id=\"T_8d2a2_level0_col4\" class=\"col_heading level0 col4\" >Rand Index</th>\n",
       "      <th id=\"T_8d2a2_level0_col5\" class=\"col_heading level0 col5\" >Completeness</th>\n",
       "    </tr>\n",
       "  </thead>\n",
       "  <tbody>\n",
       "    <tr>\n",
       "      <th id=\"T_8d2a2_level0_row0\" class=\"row_heading level0 row0\" >0</th>\n",
       "      <td id=\"T_8d2a2_row0_col0\" class=\"data row0 col0\" >0.6503</td>\n",
       "      <td id=\"T_8d2a2_row0_col1\" class=\"data row0 col1\" >1138.6493</td>\n",
       "      <td id=\"T_8d2a2_row0_col2\" class=\"data row0 col2\" >0.4854</td>\n",
       "      <td id=\"T_8d2a2_row0_col3\" class=\"data row0 col3\" >0</td>\n",
       "      <td id=\"T_8d2a2_row0_col4\" class=\"data row0 col4\" >0</td>\n",
       "      <td id=\"T_8d2a2_row0_col5\" class=\"data row0 col5\" >0</td>\n",
       "    </tr>\n",
       "  </tbody>\n",
       "</table>\n"
      ],
      "text/plain": [
       "<pandas.io.formats.style.Styler at 0x20aa72340a0>"
      ]
     },
     "metadata": {},
     "output_type": "display_data"
    },
    {
     "data": {
      "text/html": [],
      "text/plain": [
       "<IPython.core.display.HTML object>"
      ]
     },
     "metadata": {},
     "output_type": "display_data"
    },
    {
     "name": "stdout",
     "output_type": "stream",
     "text": [
      "For hclust with 3 clusters with Transformation\n"
     ]
    },
    {
     "data": {
      "application/vnd.jupyter.widget-view+json": {
       "model_id": "6a94f8f8726d41b58e33bd5c3d1e8214",
       "version_major": 2,
       "version_minor": 0
      },
      "text/plain": [
       "interactive(children=(ToggleButtons(description='Plot Type:', icons=('',), options=(('Pipeline Plot', 'pipelin…"
      ]
     },
     "metadata": {},
     "output_type": "display_data"
    },
    {
     "data": {
      "text/html": [
       "<style type=\"text/css\">\n",
       "#T_787b8_row4_col1 {\n",
       "  background-color: lightgreen;\n",
       "}\n",
       "</style>\n",
       "<table id=\"T_787b8\">\n",
       "  <thead>\n",
       "    <tr>\n",
       "      <th class=\"blank level0\" >&nbsp;</th>\n",
       "      <th id=\"T_787b8_level0_col0\" class=\"col_heading level0 col0\" >Description</th>\n",
       "      <th id=\"T_787b8_level0_col1\" class=\"col_heading level0 col1\" >Value</th>\n",
       "    </tr>\n",
       "  </thead>\n",
       "  <tbody>\n",
       "    <tr>\n",
       "      <th id=\"T_787b8_level0_row0\" class=\"row_heading level0 row0\" >0</th>\n",
       "      <td id=\"T_787b8_row0_col0\" class=\"data row0 col0\" >Session id</td>\n",
       "      <td id=\"T_787b8_row0_col1\" class=\"data row0 col1\" >2</td>\n",
       "    </tr>\n",
       "    <tr>\n",
       "      <th id=\"T_787b8_level0_row1\" class=\"row_heading level0 row1\" >1</th>\n",
       "      <td id=\"T_787b8_row1_col0\" class=\"data row1 col0\" >Original data shape</td>\n",
       "      <td id=\"T_787b8_row1_col1\" class=\"data row1 col1\" >(150, 4)</td>\n",
       "    </tr>\n",
       "    <tr>\n",
       "      <th id=\"T_787b8_level0_row2\" class=\"row_heading level0 row2\" >2</th>\n",
       "      <td id=\"T_787b8_row2_col0\" class=\"data row2 col0\" >Transformed data shape</td>\n",
       "      <td id=\"T_787b8_row2_col1\" class=\"data row2 col1\" >(150, 4)</td>\n",
       "    </tr>\n",
       "    <tr>\n",
       "      <th id=\"T_787b8_level0_row3\" class=\"row_heading level0 row3\" >3</th>\n",
       "      <td id=\"T_787b8_row3_col0\" class=\"data row3 col0\" >Numeric features</td>\n",
       "      <td id=\"T_787b8_row3_col1\" class=\"data row3 col1\" >4</td>\n",
       "    </tr>\n",
       "    <tr>\n",
       "      <th id=\"T_787b8_level0_row4\" class=\"row_heading level0 row4\" >4</th>\n",
       "      <td id=\"T_787b8_row4_col0\" class=\"data row4 col0\" >Preprocess</td>\n",
       "      <td id=\"T_787b8_row4_col1\" class=\"data row4 col1\" >True</td>\n",
       "    </tr>\n",
       "    <tr>\n",
       "      <th id=\"T_787b8_level0_row5\" class=\"row_heading level0 row5\" >5</th>\n",
       "      <td id=\"T_787b8_row5_col0\" class=\"data row5 col0\" >Imputation type</td>\n",
       "      <td id=\"T_787b8_row5_col1\" class=\"data row5 col1\" >simple</td>\n",
       "    </tr>\n",
       "    <tr>\n",
       "      <th id=\"T_787b8_level0_row6\" class=\"row_heading level0 row6\" >6</th>\n",
       "      <td id=\"T_787b8_row6_col0\" class=\"data row6 col0\" >Numeric imputation</td>\n",
       "      <td id=\"T_787b8_row6_col1\" class=\"data row6 col1\" >mean</td>\n",
       "    </tr>\n",
       "    <tr>\n",
       "      <th id=\"T_787b8_level0_row7\" class=\"row_heading level0 row7\" >7</th>\n",
       "      <td id=\"T_787b8_row7_col0\" class=\"data row7 col0\" >Categorical imputation</td>\n",
       "      <td id=\"T_787b8_row7_col1\" class=\"data row7 col1\" >mode</td>\n",
       "    </tr>\n",
       "    <tr>\n",
       "      <th id=\"T_787b8_level0_row8\" class=\"row_heading level0 row8\" >8</th>\n",
       "      <td id=\"T_787b8_row8_col0\" class=\"data row8 col0\" >Transformation</td>\n",
       "      <td id=\"T_787b8_row8_col1\" class=\"data row8 col1\" ><function custom_preprocess at 0x0000020AA5F8CCA0></td>\n",
       "    </tr>\n",
       "    <tr>\n",
       "      <th id=\"T_787b8_level0_row9\" class=\"row_heading level0 row9\" >9</th>\n",
       "      <td id=\"T_787b8_row9_col0\" class=\"data row9 col0\" >Transformation method</td>\n",
       "      <td id=\"T_787b8_row9_col1\" class=\"data row9 col1\" >yeo-johnson</td>\n",
       "    </tr>\n",
       "    <tr>\n",
       "      <th id=\"T_787b8_level0_row10\" class=\"row_heading level0 row10\" >10</th>\n",
       "      <td id=\"T_787b8_row10_col0\" class=\"data row10 col0\" >CPU Jobs</td>\n",
       "      <td id=\"T_787b8_row10_col1\" class=\"data row10 col1\" >-1</td>\n",
       "    </tr>\n",
       "    <tr>\n",
       "      <th id=\"T_787b8_level0_row11\" class=\"row_heading level0 row11\" >11</th>\n",
       "      <td id=\"T_787b8_row11_col0\" class=\"data row11 col0\" >Use GPU</td>\n",
       "      <td id=\"T_787b8_row11_col1\" class=\"data row11 col1\" >False</td>\n",
       "    </tr>\n",
       "    <tr>\n",
       "      <th id=\"T_787b8_level0_row12\" class=\"row_heading level0 row12\" >12</th>\n",
       "      <td id=\"T_787b8_row12_col0\" class=\"data row12 col0\" >Log Experiment</td>\n",
       "      <td id=\"T_787b8_row12_col1\" class=\"data row12 col1\" >False</td>\n",
       "    </tr>\n",
       "    <tr>\n",
       "      <th id=\"T_787b8_level0_row13\" class=\"row_heading level0 row13\" >13</th>\n",
       "      <td id=\"T_787b8_row13_col0\" class=\"data row13 col0\" >Experiment Name</td>\n",
       "      <td id=\"T_787b8_row13_col1\" class=\"data row13 col1\" >cluster-default-name</td>\n",
       "    </tr>\n",
       "    <tr>\n",
       "      <th id=\"T_787b8_level0_row14\" class=\"row_heading level0 row14\" >14</th>\n",
       "      <td id=\"T_787b8_row14_col0\" class=\"data row14 col0\" >USI</td>\n",
       "      <td id=\"T_787b8_row14_col1\" class=\"data row14 col1\" >249b</td>\n",
       "    </tr>\n",
       "  </tbody>\n",
       "</table>\n"
      ],
      "text/plain": [
       "<pandas.io.formats.style.Styler at 0x20aa7186d40>"
      ]
     },
     "metadata": {},
     "output_type": "display_data"
    },
    {
     "data": {
      "text/html": [],
      "text/plain": [
       "<IPython.core.display.HTML object>"
      ]
     },
     "metadata": {},
     "output_type": "display_data"
    },
    {
     "data": {
      "text/html": [
       "<style type=\"text/css\">\n",
       "</style>\n",
       "<table id=\"T_65668\">\n",
       "  <thead>\n",
       "    <tr>\n",
       "      <th class=\"blank level0\" >&nbsp;</th>\n",
       "      <th id=\"T_65668_level0_col0\" class=\"col_heading level0 col0\" >Silhouette</th>\n",
       "      <th id=\"T_65668_level0_col1\" class=\"col_heading level0 col1\" >Calinski-Harabasz</th>\n",
       "      <th id=\"T_65668_level0_col2\" class=\"col_heading level0 col2\" >Davies-Bouldin</th>\n",
       "      <th id=\"T_65668_level0_col3\" class=\"col_heading level0 col3\" >Homogeneity</th>\n",
       "      <th id=\"T_65668_level0_col4\" class=\"col_heading level0 col4\" >Rand Index</th>\n",
       "      <th id=\"T_65668_level0_col5\" class=\"col_heading level0 col5\" >Completeness</th>\n",
       "    </tr>\n",
       "  </thead>\n",
       "  <tbody>\n",
       "    <tr>\n",
       "      <th id=\"T_65668_level0_row0\" class=\"row_heading level0 row0\" >0</th>\n",
       "      <td id=\"T_65668_row0_col0\" class=\"data row0 col0\" >0.5885</td>\n",
       "      <td id=\"T_65668_row0_col1\" class=\"data row0 col1\" >1222.9414</td>\n",
       "      <td id=\"T_65668_row0_col2\" class=\"data row0 col2\" >0.5736</td>\n",
       "      <td id=\"T_65668_row0_col3\" class=\"data row0 col3\" >0</td>\n",
       "      <td id=\"T_65668_row0_col4\" class=\"data row0 col4\" >0</td>\n",
       "      <td id=\"T_65668_row0_col5\" class=\"data row0 col5\" >0</td>\n",
       "    </tr>\n",
       "  </tbody>\n",
       "</table>\n"
      ],
      "text/plain": [
       "<pandas.io.formats.style.Styler at 0x20aa5f14f40>"
      ]
     },
     "metadata": {},
     "output_type": "display_data"
    },
    {
     "data": {
      "text/html": [],
      "text/plain": [
       "<IPython.core.display.HTML object>"
      ]
     },
     "metadata": {},
     "output_type": "display_data"
    },
    {
     "name": "stdout",
     "output_type": "stream",
     "text": [
      "For hclust with 4 clusters with Transformation\n"
     ]
    },
    {
     "data": {
      "application/vnd.jupyter.widget-view+json": {
       "model_id": "b2a506a304d5423789e32265621f0a50",
       "version_major": 2,
       "version_minor": 0
      },
      "text/plain": [
       "interactive(children=(ToggleButtons(description='Plot Type:', icons=('',), options=(('Pipeline Plot', 'pipelin…"
      ]
     },
     "metadata": {},
     "output_type": "display_data"
    },
    {
     "data": {
      "text/html": [
       "<style type=\"text/css\">\n",
       "#T_6671b_row4_col1 {\n",
       "  background-color: lightgreen;\n",
       "}\n",
       "</style>\n",
       "<table id=\"T_6671b\">\n",
       "  <thead>\n",
       "    <tr>\n",
       "      <th class=\"blank level0\" >&nbsp;</th>\n",
       "      <th id=\"T_6671b_level0_col0\" class=\"col_heading level0 col0\" >Description</th>\n",
       "      <th id=\"T_6671b_level0_col1\" class=\"col_heading level0 col1\" >Value</th>\n",
       "    </tr>\n",
       "  </thead>\n",
       "  <tbody>\n",
       "    <tr>\n",
       "      <th id=\"T_6671b_level0_row0\" class=\"row_heading level0 row0\" >0</th>\n",
       "      <td id=\"T_6671b_row0_col0\" class=\"data row0 col0\" >Session id</td>\n",
       "      <td id=\"T_6671b_row0_col1\" class=\"data row0 col1\" >2</td>\n",
       "    </tr>\n",
       "    <tr>\n",
       "      <th id=\"T_6671b_level0_row1\" class=\"row_heading level0 row1\" >1</th>\n",
       "      <td id=\"T_6671b_row1_col0\" class=\"data row1 col0\" >Original data shape</td>\n",
       "      <td id=\"T_6671b_row1_col1\" class=\"data row1 col1\" >(150, 4)</td>\n",
       "    </tr>\n",
       "    <tr>\n",
       "      <th id=\"T_6671b_level0_row2\" class=\"row_heading level0 row2\" >2</th>\n",
       "      <td id=\"T_6671b_row2_col0\" class=\"data row2 col0\" >Transformed data shape</td>\n",
       "      <td id=\"T_6671b_row2_col1\" class=\"data row2 col1\" >(150, 4)</td>\n",
       "    </tr>\n",
       "    <tr>\n",
       "      <th id=\"T_6671b_level0_row3\" class=\"row_heading level0 row3\" >3</th>\n",
       "      <td id=\"T_6671b_row3_col0\" class=\"data row3 col0\" >Numeric features</td>\n",
       "      <td id=\"T_6671b_row3_col1\" class=\"data row3 col1\" >4</td>\n",
       "    </tr>\n",
       "    <tr>\n",
       "      <th id=\"T_6671b_level0_row4\" class=\"row_heading level0 row4\" >4</th>\n",
       "      <td id=\"T_6671b_row4_col0\" class=\"data row4 col0\" >Preprocess</td>\n",
       "      <td id=\"T_6671b_row4_col1\" class=\"data row4 col1\" >True</td>\n",
       "    </tr>\n",
       "    <tr>\n",
       "      <th id=\"T_6671b_level0_row5\" class=\"row_heading level0 row5\" >5</th>\n",
       "      <td id=\"T_6671b_row5_col0\" class=\"data row5 col0\" >Imputation type</td>\n",
       "      <td id=\"T_6671b_row5_col1\" class=\"data row5 col1\" >simple</td>\n",
       "    </tr>\n",
       "    <tr>\n",
       "      <th id=\"T_6671b_level0_row6\" class=\"row_heading level0 row6\" >6</th>\n",
       "      <td id=\"T_6671b_row6_col0\" class=\"data row6 col0\" >Numeric imputation</td>\n",
       "      <td id=\"T_6671b_row6_col1\" class=\"data row6 col1\" >mean</td>\n",
       "    </tr>\n",
       "    <tr>\n",
       "      <th id=\"T_6671b_level0_row7\" class=\"row_heading level0 row7\" >7</th>\n",
       "      <td id=\"T_6671b_row7_col0\" class=\"data row7 col0\" >Categorical imputation</td>\n",
       "      <td id=\"T_6671b_row7_col1\" class=\"data row7 col1\" >mode</td>\n",
       "    </tr>\n",
       "    <tr>\n",
       "      <th id=\"T_6671b_level0_row8\" class=\"row_heading level0 row8\" >8</th>\n",
       "      <td id=\"T_6671b_row8_col0\" class=\"data row8 col0\" >Transformation</td>\n",
       "      <td id=\"T_6671b_row8_col1\" class=\"data row8 col1\" ><function custom_preprocess at 0x0000020AA5F8CCA0></td>\n",
       "    </tr>\n",
       "    <tr>\n",
       "      <th id=\"T_6671b_level0_row9\" class=\"row_heading level0 row9\" >9</th>\n",
       "      <td id=\"T_6671b_row9_col0\" class=\"data row9 col0\" >Transformation method</td>\n",
       "      <td id=\"T_6671b_row9_col1\" class=\"data row9 col1\" >yeo-johnson</td>\n",
       "    </tr>\n",
       "    <tr>\n",
       "      <th id=\"T_6671b_level0_row10\" class=\"row_heading level0 row10\" >10</th>\n",
       "      <td id=\"T_6671b_row10_col0\" class=\"data row10 col0\" >CPU Jobs</td>\n",
       "      <td id=\"T_6671b_row10_col1\" class=\"data row10 col1\" >-1</td>\n",
       "    </tr>\n",
       "    <tr>\n",
       "      <th id=\"T_6671b_level0_row11\" class=\"row_heading level0 row11\" >11</th>\n",
       "      <td id=\"T_6671b_row11_col0\" class=\"data row11 col0\" >Use GPU</td>\n",
       "      <td id=\"T_6671b_row11_col1\" class=\"data row11 col1\" >False</td>\n",
       "    </tr>\n",
       "    <tr>\n",
       "      <th id=\"T_6671b_level0_row12\" class=\"row_heading level0 row12\" >12</th>\n",
       "      <td id=\"T_6671b_row12_col0\" class=\"data row12 col0\" >Log Experiment</td>\n",
       "      <td id=\"T_6671b_row12_col1\" class=\"data row12 col1\" >False</td>\n",
       "    </tr>\n",
       "    <tr>\n",
       "      <th id=\"T_6671b_level0_row13\" class=\"row_heading level0 row13\" >13</th>\n",
       "      <td id=\"T_6671b_row13_col0\" class=\"data row13 col0\" >Experiment Name</td>\n",
       "      <td id=\"T_6671b_row13_col1\" class=\"data row13 col1\" >cluster-default-name</td>\n",
       "    </tr>\n",
       "    <tr>\n",
       "      <th id=\"T_6671b_level0_row14\" class=\"row_heading level0 row14\" >14</th>\n",
       "      <td id=\"T_6671b_row14_col0\" class=\"data row14 col0\" >USI</td>\n",
       "      <td id=\"T_6671b_row14_col1\" class=\"data row14 col1\" >49de</td>\n",
       "    </tr>\n",
       "  </tbody>\n",
       "</table>\n"
      ],
      "text/plain": [
       "<pandas.io.formats.style.Styler at 0x20aa727f0d0>"
      ]
     },
     "metadata": {},
     "output_type": "display_data"
    },
    {
     "data": {
      "text/html": [],
      "text/plain": [
       "<IPython.core.display.HTML object>"
      ]
     },
     "metadata": {},
     "output_type": "display_data"
    },
    {
     "data": {
      "text/html": [
       "<style type=\"text/css\">\n",
       "</style>\n",
       "<table id=\"T_bb8d4\">\n",
       "  <thead>\n",
       "    <tr>\n",
       "      <th class=\"blank level0\" >&nbsp;</th>\n",
       "      <th id=\"T_bb8d4_level0_col0\" class=\"col_heading level0 col0\" >Silhouette</th>\n",
       "      <th id=\"T_bb8d4_level0_col1\" class=\"col_heading level0 col1\" >Calinski-Harabasz</th>\n",
       "      <th id=\"T_bb8d4_level0_col2\" class=\"col_heading level0 col2\" >Davies-Bouldin</th>\n",
       "      <th id=\"T_bb8d4_level0_col3\" class=\"col_heading level0 col3\" >Homogeneity</th>\n",
       "      <th id=\"T_bb8d4_level0_col4\" class=\"col_heading level0 col4\" >Rand Index</th>\n",
       "      <th id=\"T_bb8d4_level0_col5\" class=\"col_heading level0 col5\" >Completeness</th>\n",
       "    </tr>\n",
       "  </thead>\n",
       "  <tbody>\n",
       "    <tr>\n",
       "      <th id=\"T_bb8d4_level0_row0\" class=\"row_heading level0 row0\" >0</th>\n",
       "      <td id=\"T_bb8d4_row0_col0\" class=\"data row0 col0\" >0.5807</td>\n",
       "      <td id=\"T_bb8d4_row0_col1\" class=\"data row0 col1\" >1353.3470</td>\n",
       "      <td id=\"T_bb8d4_row0_col2\" class=\"data row0 col2\" >0.5969</td>\n",
       "      <td id=\"T_bb8d4_row0_col3\" class=\"data row0 col3\" >0</td>\n",
       "      <td id=\"T_bb8d4_row0_col4\" class=\"data row0 col4\" >0</td>\n",
       "      <td id=\"T_bb8d4_row0_col5\" class=\"data row0 col5\" >0</td>\n",
       "    </tr>\n",
       "  </tbody>\n",
       "</table>\n"
      ],
      "text/plain": [
       "<pandas.io.formats.style.Styler at 0x20aa5f94ee0>"
      ]
     },
     "metadata": {},
     "output_type": "display_data"
    },
    {
     "data": {
      "text/html": [],
      "text/plain": [
       "<IPython.core.display.HTML object>"
      ]
     },
     "metadata": {},
     "output_type": "display_data"
    },
    {
     "name": "stdout",
     "output_type": "stream",
     "text": [
      "For hclust with 5 clusters with Transformation\n"
     ]
    },
    {
     "data": {
      "application/vnd.jupyter.widget-view+json": {
       "model_id": "06128e68262e426fb4eef5dd38d492b5",
       "version_major": 2,
       "version_minor": 0
      },
      "text/plain": [
       "interactive(children=(ToggleButtons(description='Plot Type:', icons=('',), options=(('Pipeline Plot', 'pipelin…"
      ]
     },
     "metadata": {},
     "output_type": "display_data"
    },
    {
     "data": {
      "text/html": [
       "<style type=\"text/css\">\n",
       "#T_72926_row4_col1 {\n",
       "  background-color: lightgreen;\n",
       "}\n",
       "</style>\n",
       "<table id=\"T_72926\">\n",
       "  <thead>\n",
       "    <tr>\n",
       "      <th class=\"blank level0\" >&nbsp;</th>\n",
       "      <th id=\"T_72926_level0_col0\" class=\"col_heading level0 col0\" >Description</th>\n",
       "      <th id=\"T_72926_level0_col1\" class=\"col_heading level0 col1\" >Value</th>\n",
       "    </tr>\n",
       "  </thead>\n",
       "  <tbody>\n",
       "    <tr>\n",
       "      <th id=\"T_72926_level0_row0\" class=\"row_heading level0 row0\" >0</th>\n",
       "      <td id=\"T_72926_row0_col0\" class=\"data row0 col0\" >Session id</td>\n",
       "      <td id=\"T_72926_row0_col1\" class=\"data row0 col1\" >2</td>\n",
       "    </tr>\n",
       "    <tr>\n",
       "      <th id=\"T_72926_level0_row1\" class=\"row_heading level0 row1\" >1</th>\n",
       "      <td id=\"T_72926_row1_col0\" class=\"data row1 col0\" >Original data shape</td>\n",
       "      <td id=\"T_72926_row1_col1\" class=\"data row1 col1\" >(150, 4)</td>\n",
       "    </tr>\n",
       "    <tr>\n",
       "      <th id=\"T_72926_level0_row2\" class=\"row_heading level0 row2\" >2</th>\n",
       "      <td id=\"T_72926_row2_col0\" class=\"data row2 col0\" >Transformed data shape</td>\n",
       "      <td id=\"T_72926_row2_col1\" class=\"data row2 col1\" >(150, 4)</td>\n",
       "    </tr>\n",
       "    <tr>\n",
       "      <th id=\"T_72926_level0_row3\" class=\"row_heading level0 row3\" >3</th>\n",
       "      <td id=\"T_72926_row3_col0\" class=\"data row3 col0\" >Numeric features</td>\n",
       "      <td id=\"T_72926_row3_col1\" class=\"data row3 col1\" >4</td>\n",
       "    </tr>\n",
       "    <tr>\n",
       "      <th id=\"T_72926_level0_row4\" class=\"row_heading level0 row4\" >4</th>\n",
       "      <td id=\"T_72926_row4_col0\" class=\"data row4 col0\" >Preprocess</td>\n",
       "      <td id=\"T_72926_row4_col1\" class=\"data row4 col1\" >True</td>\n",
       "    </tr>\n",
       "    <tr>\n",
       "      <th id=\"T_72926_level0_row5\" class=\"row_heading level0 row5\" >5</th>\n",
       "      <td id=\"T_72926_row5_col0\" class=\"data row5 col0\" >Imputation type</td>\n",
       "      <td id=\"T_72926_row5_col1\" class=\"data row5 col1\" >simple</td>\n",
       "    </tr>\n",
       "    <tr>\n",
       "      <th id=\"T_72926_level0_row6\" class=\"row_heading level0 row6\" >6</th>\n",
       "      <td id=\"T_72926_row6_col0\" class=\"data row6 col0\" >Numeric imputation</td>\n",
       "      <td id=\"T_72926_row6_col1\" class=\"data row6 col1\" >mean</td>\n",
       "    </tr>\n",
       "    <tr>\n",
       "      <th id=\"T_72926_level0_row7\" class=\"row_heading level0 row7\" >7</th>\n",
       "      <td id=\"T_72926_row7_col0\" class=\"data row7 col0\" >Categorical imputation</td>\n",
       "      <td id=\"T_72926_row7_col1\" class=\"data row7 col1\" >mode</td>\n",
       "    </tr>\n",
       "    <tr>\n",
       "      <th id=\"T_72926_level0_row8\" class=\"row_heading level0 row8\" >8</th>\n",
       "      <td id=\"T_72926_row8_col0\" class=\"data row8 col0\" >Transformation</td>\n",
       "      <td id=\"T_72926_row8_col1\" class=\"data row8 col1\" ><function custom_preprocess at 0x0000020AA5F8CCA0></td>\n",
       "    </tr>\n",
       "    <tr>\n",
       "      <th id=\"T_72926_level0_row9\" class=\"row_heading level0 row9\" >9</th>\n",
       "      <td id=\"T_72926_row9_col0\" class=\"data row9 col0\" >Transformation method</td>\n",
       "      <td id=\"T_72926_row9_col1\" class=\"data row9 col1\" >yeo-johnson</td>\n",
       "    </tr>\n",
       "    <tr>\n",
       "      <th id=\"T_72926_level0_row10\" class=\"row_heading level0 row10\" >10</th>\n",
       "      <td id=\"T_72926_row10_col0\" class=\"data row10 col0\" >CPU Jobs</td>\n",
       "      <td id=\"T_72926_row10_col1\" class=\"data row10 col1\" >-1</td>\n",
       "    </tr>\n",
       "    <tr>\n",
       "      <th id=\"T_72926_level0_row11\" class=\"row_heading level0 row11\" >11</th>\n",
       "      <td id=\"T_72926_row11_col0\" class=\"data row11 col0\" >Use GPU</td>\n",
       "      <td id=\"T_72926_row11_col1\" class=\"data row11 col1\" >False</td>\n",
       "    </tr>\n",
       "    <tr>\n",
       "      <th id=\"T_72926_level0_row12\" class=\"row_heading level0 row12\" >12</th>\n",
       "      <td id=\"T_72926_row12_col0\" class=\"data row12 col0\" >Log Experiment</td>\n",
       "      <td id=\"T_72926_row12_col1\" class=\"data row12 col1\" >False</td>\n",
       "    </tr>\n",
       "    <tr>\n",
       "      <th id=\"T_72926_level0_row13\" class=\"row_heading level0 row13\" >13</th>\n",
       "      <td id=\"T_72926_row13_col0\" class=\"data row13 col0\" >Experiment Name</td>\n",
       "      <td id=\"T_72926_row13_col1\" class=\"data row13 col1\" >cluster-default-name</td>\n",
       "    </tr>\n",
       "    <tr>\n",
       "      <th id=\"T_72926_level0_row14\" class=\"row_heading level0 row14\" >14</th>\n",
       "      <td id=\"T_72926_row14_col0\" class=\"data row14 col0\" >USI</td>\n",
       "      <td id=\"T_72926_row14_col1\" class=\"data row14 col1\" >3355</td>\n",
       "    </tr>\n",
       "  </tbody>\n",
       "</table>\n"
      ],
      "text/plain": [
       "<pandas.io.formats.style.Styler at 0x20aa7235b70>"
      ]
     },
     "metadata": {},
     "output_type": "display_data"
    },
    {
     "data": {
      "text/html": [],
      "text/plain": [
       "<IPython.core.display.HTML object>"
      ]
     },
     "metadata": {},
     "output_type": "display_data"
    },
    {
     "data": {
      "text/html": [
       "<style type=\"text/css\">\n",
       "</style>\n",
       "<table id=\"T_0cb53\">\n",
       "  <thead>\n",
       "    <tr>\n",
       "      <th class=\"blank level0\" >&nbsp;</th>\n",
       "      <th id=\"T_0cb53_level0_col0\" class=\"col_heading level0 col0\" >Silhouette</th>\n",
       "      <th id=\"T_0cb53_level0_col1\" class=\"col_heading level0 col1\" >Calinski-Harabasz</th>\n",
       "      <th id=\"T_0cb53_level0_col2\" class=\"col_heading level0 col2\" >Davies-Bouldin</th>\n",
       "      <th id=\"T_0cb53_level0_col3\" class=\"col_heading level0 col3\" >Homogeneity</th>\n",
       "      <th id=\"T_0cb53_level0_col4\" class=\"col_heading level0 col4\" >Rand Index</th>\n",
       "      <th id=\"T_0cb53_level0_col5\" class=\"col_heading level0 col5\" >Completeness</th>\n",
       "    </tr>\n",
       "  </thead>\n",
       "  <tbody>\n",
       "    <tr>\n",
       "      <th id=\"T_0cb53_level0_row0\" class=\"row_heading level0 row0\" >0</th>\n",
       "      <td id=\"T_0cb53_row0_col0\" class=\"data row0 col0\" >0.7633</td>\n",
       "      <td id=\"T_0cb53_row0_col1\" class=\"data row0 col1\" >762.9648</td>\n",
       "      <td id=\"T_0cb53_row0_col2\" class=\"data row0 col2\" >0.2606</td>\n",
       "      <td id=\"T_0cb53_row0_col3\" class=\"data row0 col3\" >0</td>\n",
       "      <td id=\"T_0cb53_row0_col4\" class=\"data row0 col4\" >0</td>\n",
       "      <td id=\"T_0cb53_row0_col5\" class=\"data row0 col5\" >0</td>\n",
       "    </tr>\n",
       "  </tbody>\n",
       "</table>\n"
      ],
      "text/plain": [
       "<pandas.io.formats.style.Styler at 0x20aa7206ce0>"
      ]
     },
     "metadata": {},
     "output_type": "display_data"
    },
    {
     "data": {
      "text/html": [],
      "text/plain": [
       "<IPython.core.display.HTML object>"
      ]
     },
     "metadata": {},
     "output_type": "display_data"
    },
    {
     "name": "stdout",
     "output_type": "stream",
     "text": [
      "For meanshift with 3 clusters with Transformation\n"
     ]
    },
    {
     "data": {
      "application/vnd.jupyter.widget-view+json": {
       "model_id": "0381cb0bd01d426cbdc823b6965c9094",
       "version_major": 2,
       "version_minor": 0
      },
      "text/plain": [
       "interactive(children=(ToggleButtons(description='Plot Type:', icons=('',), options=(('Pipeline Plot', 'pipelin…"
      ]
     },
     "metadata": {},
     "output_type": "display_data"
    },
    {
     "data": {
      "text/html": [
       "<style type=\"text/css\">\n",
       "#T_730ab_row4_col1 {\n",
       "  background-color: lightgreen;\n",
       "}\n",
       "</style>\n",
       "<table id=\"T_730ab\">\n",
       "  <thead>\n",
       "    <tr>\n",
       "      <th class=\"blank level0\" >&nbsp;</th>\n",
       "      <th id=\"T_730ab_level0_col0\" class=\"col_heading level0 col0\" >Description</th>\n",
       "      <th id=\"T_730ab_level0_col1\" class=\"col_heading level0 col1\" >Value</th>\n",
       "    </tr>\n",
       "  </thead>\n",
       "  <tbody>\n",
       "    <tr>\n",
       "      <th id=\"T_730ab_level0_row0\" class=\"row_heading level0 row0\" >0</th>\n",
       "      <td id=\"T_730ab_row0_col0\" class=\"data row0 col0\" >Session id</td>\n",
       "      <td id=\"T_730ab_row0_col1\" class=\"data row0 col1\" >2</td>\n",
       "    </tr>\n",
       "    <tr>\n",
       "      <th id=\"T_730ab_level0_row1\" class=\"row_heading level0 row1\" >1</th>\n",
       "      <td id=\"T_730ab_row1_col0\" class=\"data row1 col0\" >Original data shape</td>\n",
       "      <td id=\"T_730ab_row1_col1\" class=\"data row1 col1\" >(150, 4)</td>\n",
       "    </tr>\n",
       "    <tr>\n",
       "      <th id=\"T_730ab_level0_row2\" class=\"row_heading level0 row2\" >2</th>\n",
       "      <td id=\"T_730ab_row2_col0\" class=\"data row2 col0\" >Transformed data shape</td>\n",
       "      <td id=\"T_730ab_row2_col1\" class=\"data row2 col1\" >(150, 4)</td>\n",
       "    </tr>\n",
       "    <tr>\n",
       "      <th id=\"T_730ab_level0_row3\" class=\"row_heading level0 row3\" >3</th>\n",
       "      <td id=\"T_730ab_row3_col0\" class=\"data row3 col0\" >Numeric features</td>\n",
       "      <td id=\"T_730ab_row3_col1\" class=\"data row3 col1\" >4</td>\n",
       "    </tr>\n",
       "    <tr>\n",
       "      <th id=\"T_730ab_level0_row4\" class=\"row_heading level0 row4\" >4</th>\n",
       "      <td id=\"T_730ab_row4_col0\" class=\"data row4 col0\" >Preprocess</td>\n",
       "      <td id=\"T_730ab_row4_col1\" class=\"data row4 col1\" >True</td>\n",
       "    </tr>\n",
       "    <tr>\n",
       "      <th id=\"T_730ab_level0_row5\" class=\"row_heading level0 row5\" >5</th>\n",
       "      <td id=\"T_730ab_row5_col0\" class=\"data row5 col0\" >Imputation type</td>\n",
       "      <td id=\"T_730ab_row5_col1\" class=\"data row5 col1\" >simple</td>\n",
       "    </tr>\n",
       "    <tr>\n",
       "      <th id=\"T_730ab_level0_row6\" class=\"row_heading level0 row6\" >6</th>\n",
       "      <td id=\"T_730ab_row6_col0\" class=\"data row6 col0\" >Numeric imputation</td>\n",
       "      <td id=\"T_730ab_row6_col1\" class=\"data row6 col1\" >mean</td>\n",
       "    </tr>\n",
       "    <tr>\n",
       "      <th id=\"T_730ab_level0_row7\" class=\"row_heading level0 row7\" >7</th>\n",
       "      <td id=\"T_730ab_row7_col0\" class=\"data row7 col0\" >Categorical imputation</td>\n",
       "      <td id=\"T_730ab_row7_col1\" class=\"data row7 col1\" >mode</td>\n",
       "    </tr>\n",
       "    <tr>\n",
       "      <th id=\"T_730ab_level0_row8\" class=\"row_heading level0 row8\" >8</th>\n",
       "      <td id=\"T_730ab_row8_col0\" class=\"data row8 col0\" >Transformation</td>\n",
       "      <td id=\"T_730ab_row8_col1\" class=\"data row8 col1\" ><function custom_preprocess at 0x0000020AA5F8CCA0></td>\n",
       "    </tr>\n",
       "    <tr>\n",
       "      <th id=\"T_730ab_level0_row9\" class=\"row_heading level0 row9\" >9</th>\n",
       "      <td id=\"T_730ab_row9_col0\" class=\"data row9 col0\" >Transformation method</td>\n",
       "      <td id=\"T_730ab_row9_col1\" class=\"data row9 col1\" >yeo-johnson</td>\n",
       "    </tr>\n",
       "    <tr>\n",
       "      <th id=\"T_730ab_level0_row10\" class=\"row_heading level0 row10\" >10</th>\n",
       "      <td id=\"T_730ab_row10_col0\" class=\"data row10 col0\" >CPU Jobs</td>\n",
       "      <td id=\"T_730ab_row10_col1\" class=\"data row10 col1\" >-1</td>\n",
       "    </tr>\n",
       "    <tr>\n",
       "      <th id=\"T_730ab_level0_row11\" class=\"row_heading level0 row11\" >11</th>\n",
       "      <td id=\"T_730ab_row11_col0\" class=\"data row11 col0\" >Use GPU</td>\n",
       "      <td id=\"T_730ab_row11_col1\" class=\"data row11 col1\" >False</td>\n",
       "    </tr>\n",
       "    <tr>\n",
       "      <th id=\"T_730ab_level0_row12\" class=\"row_heading level0 row12\" >12</th>\n",
       "      <td id=\"T_730ab_row12_col0\" class=\"data row12 col0\" >Log Experiment</td>\n",
       "      <td id=\"T_730ab_row12_col1\" class=\"data row12 col1\" >False</td>\n",
       "    </tr>\n",
       "    <tr>\n",
       "      <th id=\"T_730ab_level0_row13\" class=\"row_heading level0 row13\" >13</th>\n",
       "      <td id=\"T_730ab_row13_col0\" class=\"data row13 col0\" >Experiment Name</td>\n",
       "      <td id=\"T_730ab_row13_col1\" class=\"data row13 col1\" >cluster-default-name</td>\n",
       "    </tr>\n",
       "    <tr>\n",
       "      <th id=\"T_730ab_level0_row14\" class=\"row_heading level0 row14\" >14</th>\n",
       "      <td id=\"T_730ab_row14_col0\" class=\"data row14 col0\" >USI</td>\n",
       "      <td id=\"T_730ab_row14_col1\" class=\"data row14 col1\" >52f5</td>\n",
       "    </tr>\n",
       "  </tbody>\n",
       "</table>\n"
      ],
      "text/plain": [
       "<pandas.io.formats.style.Styler at 0x20aa72a7ee0>"
      ]
     },
     "metadata": {},
     "output_type": "display_data"
    },
    {
     "data": {
      "text/html": [],
      "text/plain": [
       "<IPython.core.display.HTML object>"
      ]
     },
     "metadata": {},
     "output_type": "display_data"
    },
    {
     "data": {
      "text/html": [
       "<style type=\"text/css\">\n",
       "</style>\n",
       "<table id=\"T_f61cf\">\n",
       "  <thead>\n",
       "    <tr>\n",
       "      <th class=\"blank level0\" >&nbsp;</th>\n",
       "      <th id=\"T_f61cf_level0_col0\" class=\"col_heading level0 col0\" >Silhouette</th>\n",
       "      <th id=\"T_f61cf_level0_col1\" class=\"col_heading level0 col1\" >Calinski-Harabasz</th>\n",
       "      <th id=\"T_f61cf_level0_col2\" class=\"col_heading level0 col2\" >Davies-Bouldin</th>\n",
       "      <th id=\"T_f61cf_level0_col3\" class=\"col_heading level0 col3\" >Homogeneity</th>\n",
       "      <th id=\"T_f61cf_level0_col4\" class=\"col_heading level0 col4\" >Rand Index</th>\n",
       "      <th id=\"T_f61cf_level0_col5\" class=\"col_heading level0 col5\" >Completeness</th>\n",
       "    </tr>\n",
       "  </thead>\n",
       "  <tbody>\n",
       "    <tr>\n",
       "      <th id=\"T_f61cf_level0_row0\" class=\"row_heading level0 row0\" >0</th>\n",
       "      <td id=\"T_f61cf_row0_col0\" class=\"data row0 col0\" >0.7633</td>\n",
       "      <td id=\"T_f61cf_row0_col1\" class=\"data row0 col1\" >762.9648</td>\n",
       "      <td id=\"T_f61cf_row0_col2\" class=\"data row0 col2\" >0.2606</td>\n",
       "      <td id=\"T_f61cf_row0_col3\" class=\"data row0 col3\" >0</td>\n",
       "      <td id=\"T_f61cf_row0_col4\" class=\"data row0 col4\" >0</td>\n",
       "      <td id=\"T_f61cf_row0_col5\" class=\"data row0 col5\" >0</td>\n",
       "    </tr>\n",
       "  </tbody>\n",
       "</table>\n"
      ],
      "text/plain": [
       "<pandas.io.formats.style.Styler at 0x20aa7186800>"
      ]
     },
     "metadata": {},
     "output_type": "display_data"
    },
    {
     "data": {
      "text/html": [],
      "text/plain": [
       "<IPython.core.display.HTML object>"
      ]
     },
     "metadata": {},
     "output_type": "display_data"
    },
    {
     "name": "stdout",
     "output_type": "stream",
     "text": [
      "For meanshift with 4 clusters with Transformation\n"
     ]
    },
    {
     "data": {
      "application/vnd.jupyter.widget-view+json": {
       "model_id": "ac53f4abd02b4f96b53a0137b40c0359",
       "version_major": 2,
       "version_minor": 0
      },
      "text/plain": [
       "interactive(children=(ToggleButtons(description='Plot Type:', icons=('',), options=(('Pipeline Plot', 'pipelin…"
      ]
     },
     "metadata": {},
     "output_type": "display_data"
    },
    {
     "data": {
      "text/html": [
       "<style type=\"text/css\">\n",
       "#T_1386f_row4_col1 {\n",
       "  background-color: lightgreen;\n",
       "}\n",
       "</style>\n",
       "<table id=\"T_1386f\">\n",
       "  <thead>\n",
       "    <tr>\n",
       "      <th class=\"blank level0\" >&nbsp;</th>\n",
       "      <th id=\"T_1386f_level0_col0\" class=\"col_heading level0 col0\" >Description</th>\n",
       "      <th id=\"T_1386f_level0_col1\" class=\"col_heading level0 col1\" >Value</th>\n",
       "    </tr>\n",
       "  </thead>\n",
       "  <tbody>\n",
       "    <tr>\n",
       "      <th id=\"T_1386f_level0_row0\" class=\"row_heading level0 row0\" >0</th>\n",
       "      <td id=\"T_1386f_row0_col0\" class=\"data row0 col0\" >Session id</td>\n",
       "      <td id=\"T_1386f_row0_col1\" class=\"data row0 col1\" >2</td>\n",
       "    </tr>\n",
       "    <tr>\n",
       "      <th id=\"T_1386f_level0_row1\" class=\"row_heading level0 row1\" >1</th>\n",
       "      <td id=\"T_1386f_row1_col0\" class=\"data row1 col0\" >Original data shape</td>\n",
       "      <td id=\"T_1386f_row1_col1\" class=\"data row1 col1\" >(150, 4)</td>\n",
       "    </tr>\n",
       "    <tr>\n",
       "      <th id=\"T_1386f_level0_row2\" class=\"row_heading level0 row2\" >2</th>\n",
       "      <td id=\"T_1386f_row2_col0\" class=\"data row2 col0\" >Transformed data shape</td>\n",
       "      <td id=\"T_1386f_row2_col1\" class=\"data row2 col1\" >(150, 4)</td>\n",
       "    </tr>\n",
       "    <tr>\n",
       "      <th id=\"T_1386f_level0_row3\" class=\"row_heading level0 row3\" >3</th>\n",
       "      <td id=\"T_1386f_row3_col0\" class=\"data row3 col0\" >Numeric features</td>\n",
       "      <td id=\"T_1386f_row3_col1\" class=\"data row3 col1\" >4</td>\n",
       "    </tr>\n",
       "    <tr>\n",
       "      <th id=\"T_1386f_level0_row4\" class=\"row_heading level0 row4\" >4</th>\n",
       "      <td id=\"T_1386f_row4_col0\" class=\"data row4 col0\" >Preprocess</td>\n",
       "      <td id=\"T_1386f_row4_col1\" class=\"data row4 col1\" >True</td>\n",
       "    </tr>\n",
       "    <tr>\n",
       "      <th id=\"T_1386f_level0_row5\" class=\"row_heading level0 row5\" >5</th>\n",
       "      <td id=\"T_1386f_row5_col0\" class=\"data row5 col0\" >Imputation type</td>\n",
       "      <td id=\"T_1386f_row5_col1\" class=\"data row5 col1\" >simple</td>\n",
       "    </tr>\n",
       "    <tr>\n",
       "      <th id=\"T_1386f_level0_row6\" class=\"row_heading level0 row6\" >6</th>\n",
       "      <td id=\"T_1386f_row6_col0\" class=\"data row6 col0\" >Numeric imputation</td>\n",
       "      <td id=\"T_1386f_row6_col1\" class=\"data row6 col1\" >mean</td>\n",
       "    </tr>\n",
       "    <tr>\n",
       "      <th id=\"T_1386f_level0_row7\" class=\"row_heading level0 row7\" >7</th>\n",
       "      <td id=\"T_1386f_row7_col0\" class=\"data row7 col0\" >Categorical imputation</td>\n",
       "      <td id=\"T_1386f_row7_col1\" class=\"data row7 col1\" >mode</td>\n",
       "    </tr>\n",
       "    <tr>\n",
       "      <th id=\"T_1386f_level0_row8\" class=\"row_heading level0 row8\" >8</th>\n",
       "      <td id=\"T_1386f_row8_col0\" class=\"data row8 col0\" >Transformation</td>\n",
       "      <td id=\"T_1386f_row8_col1\" class=\"data row8 col1\" ><function custom_preprocess at 0x0000020AA5F8CCA0></td>\n",
       "    </tr>\n",
       "    <tr>\n",
       "      <th id=\"T_1386f_level0_row9\" class=\"row_heading level0 row9\" >9</th>\n",
       "      <td id=\"T_1386f_row9_col0\" class=\"data row9 col0\" >Transformation method</td>\n",
       "      <td id=\"T_1386f_row9_col1\" class=\"data row9 col1\" >yeo-johnson</td>\n",
       "    </tr>\n",
       "    <tr>\n",
       "      <th id=\"T_1386f_level0_row10\" class=\"row_heading level0 row10\" >10</th>\n",
       "      <td id=\"T_1386f_row10_col0\" class=\"data row10 col0\" >CPU Jobs</td>\n",
       "      <td id=\"T_1386f_row10_col1\" class=\"data row10 col1\" >-1</td>\n",
       "    </tr>\n",
       "    <tr>\n",
       "      <th id=\"T_1386f_level0_row11\" class=\"row_heading level0 row11\" >11</th>\n",
       "      <td id=\"T_1386f_row11_col0\" class=\"data row11 col0\" >Use GPU</td>\n",
       "      <td id=\"T_1386f_row11_col1\" class=\"data row11 col1\" >False</td>\n",
       "    </tr>\n",
       "    <tr>\n",
       "      <th id=\"T_1386f_level0_row12\" class=\"row_heading level0 row12\" >12</th>\n",
       "      <td id=\"T_1386f_row12_col0\" class=\"data row12 col0\" >Log Experiment</td>\n",
       "      <td id=\"T_1386f_row12_col1\" class=\"data row12 col1\" >False</td>\n",
       "    </tr>\n",
       "    <tr>\n",
       "      <th id=\"T_1386f_level0_row13\" class=\"row_heading level0 row13\" >13</th>\n",
       "      <td id=\"T_1386f_row13_col0\" class=\"data row13 col0\" >Experiment Name</td>\n",
       "      <td id=\"T_1386f_row13_col1\" class=\"data row13 col1\" >cluster-default-name</td>\n",
       "    </tr>\n",
       "    <tr>\n",
       "      <th id=\"T_1386f_level0_row14\" class=\"row_heading level0 row14\" >14</th>\n",
       "      <td id=\"T_1386f_row14_col0\" class=\"data row14 col0\" >USI</td>\n",
       "      <td id=\"T_1386f_row14_col1\" class=\"data row14 col1\" >9c1d</td>\n",
       "    </tr>\n",
       "  </tbody>\n",
       "</table>\n"
      ],
      "text/plain": [
       "<pandas.io.formats.style.Styler at 0x20aa7235c90>"
      ]
     },
     "metadata": {},
     "output_type": "display_data"
    },
    {
     "data": {
      "text/html": [],
      "text/plain": [
       "<IPython.core.display.HTML object>"
      ]
     },
     "metadata": {},
     "output_type": "display_data"
    },
    {
     "data": {
      "text/html": [
       "<style type=\"text/css\">\n",
       "</style>\n",
       "<table id=\"T_a47ab\">\n",
       "  <thead>\n",
       "    <tr>\n",
       "      <th class=\"blank level0\" >&nbsp;</th>\n",
       "      <th id=\"T_a47ab_level0_col0\" class=\"col_heading level0 col0\" >Silhouette</th>\n",
       "      <th id=\"T_a47ab_level0_col1\" class=\"col_heading level0 col1\" >Calinski-Harabasz</th>\n",
       "      <th id=\"T_a47ab_level0_col2\" class=\"col_heading level0 col2\" >Davies-Bouldin</th>\n",
       "      <th id=\"T_a47ab_level0_col3\" class=\"col_heading level0 col3\" >Homogeneity</th>\n",
       "      <th id=\"T_a47ab_level0_col4\" class=\"col_heading level0 col4\" >Rand Index</th>\n",
       "      <th id=\"T_a47ab_level0_col5\" class=\"col_heading level0 col5\" >Completeness</th>\n",
       "    </tr>\n",
       "  </thead>\n",
       "  <tbody>\n",
       "    <tr>\n",
       "      <th id=\"T_a47ab_level0_row0\" class=\"row_heading level0 row0\" >0</th>\n",
       "      <td id=\"T_a47ab_row0_col0\" class=\"data row0 col0\" >0.7633</td>\n",
       "      <td id=\"T_a47ab_row0_col1\" class=\"data row0 col1\" >762.9648</td>\n",
       "      <td id=\"T_a47ab_row0_col2\" class=\"data row0 col2\" >0.2606</td>\n",
       "      <td id=\"T_a47ab_row0_col3\" class=\"data row0 col3\" >0</td>\n",
       "      <td id=\"T_a47ab_row0_col4\" class=\"data row0 col4\" >0</td>\n",
       "      <td id=\"T_a47ab_row0_col5\" class=\"data row0 col5\" >0</td>\n",
       "    </tr>\n",
       "  </tbody>\n",
       "</table>\n"
      ],
      "text/plain": [
       "<pandas.io.formats.style.Styler at 0x20aa71caad0>"
      ]
     },
     "metadata": {},
     "output_type": "display_data"
    },
    {
     "data": {
      "text/html": [],
      "text/plain": [
       "<IPython.core.display.HTML object>"
      ]
     },
     "metadata": {},
     "output_type": "display_data"
    },
    {
     "name": "stdout",
     "output_type": "stream",
     "text": [
      "For meanshift with 5 clusters with Transformation\n"
     ]
    },
    {
     "data": {
      "application/vnd.jupyter.widget-view+json": {
       "model_id": "8eab1f49df074c9c8056d49b1c969861",
       "version_major": 2,
       "version_minor": 0
      },
      "text/plain": [
       "interactive(children=(ToggleButtons(description='Plot Type:', icons=('',), options=(('Pipeline Plot', 'pipelin…"
      ]
     },
     "metadata": {},
     "output_type": "display_data"
    }
   ],
   "source": [
    "from sklearn.preprocessing import StandardScaler\n",
    "\n",
    "def custom_preprocess(data):\n",
    "    scaler = StandardScaler()\n",
    "    data = scaler.fit_transform(data)\n",
    "    return data\n",
    "for model in models:\n",
    "    for cluster in clusters:\n",
    "        setup1 = setup(data, normalize=False, pca=False,session_id = 2,transformation=custom_preprocess)\n",
    "        mod1  = create_model(model,num_clusters = cluster)\n",
    "        print(f\"For {model} with {cluster} clusters with Transformation\")\n",
    "        evaluate_model(mod1)\n"
   ]
  },
  {
   "cell_type": "markdown",
   "id": "c5eb2884",
   "metadata": {},
   "source": [
    "### Using PCA"
   ]
  },
  {
   "cell_type": "code",
   "execution_count": 8,
   "id": "c84e76df",
   "metadata": {},
   "outputs": [
    {
     "data": {
      "text/html": [
       "<style type=\"text/css\">\n",
       "#T_06f9f_row4_col1, #T_06f9f_row8_col1 {\n",
       "  background-color: lightgreen;\n",
       "}\n",
       "</style>\n",
       "<table id=\"T_06f9f\">\n",
       "  <thead>\n",
       "    <tr>\n",
       "      <th class=\"blank level0\" >&nbsp;</th>\n",
       "      <th id=\"T_06f9f_level0_col0\" class=\"col_heading level0 col0\" >Description</th>\n",
       "      <th id=\"T_06f9f_level0_col1\" class=\"col_heading level0 col1\" >Value</th>\n",
       "    </tr>\n",
       "  </thead>\n",
       "  <tbody>\n",
       "    <tr>\n",
       "      <th id=\"T_06f9f_level0_row0\" class=\"row_heading level0 row0\" >0</th>\n",
       "      <td id=\"T_06f9f_row0_col0\" class=\"data row0 col0\" >Session id</td>\n",
       "      <td id=\"T_06f9f_row0_col1\" class=\"data row0 col1\" >2</td>\n",
       "    </tr>\n",
       "    <tr>\n",
       "      <th id=\"T_06f9f_level0_row1\" class=\"row_heading level0 row1\" >1</th>\n",
       "      <td id=\"T_06f9f_row1_col0\" class=\"data row1 col0\" >Original data shape</td>\n",
       "      <td id=\"T_06f9f_row1_col1\" class=\"data row1 col1\" >(150, 4)</td>\n",
       "    </tr>\n",
       "    <tr>\n",
       "      <th id=\"T_06f9f_level0_row2\" class=\"row_heading level0 row2\" >2</th>\n",
       "      <td id=\"T_06f9f_row2_col0\" class=\"data row2 col0\" >Transformed data shape</td>\n",
       "      <td id=\"T_06f9f_row2_col1\" class=\"data row2 col1\" >(150, 4)</td>\n",
       "    </tr>\n",
       "    <tr>\n",
       "      <th id=\"T_06f9f_level0_row3\" class=\"row_heading level0 row3\" >3</th>\n",
       "      <td id=\"T_06f9f_row3_col0\" class=\"data row3 col0\" >Numeric features</td>\n",
       "      <td id=\"T_06f9f_row3_col1\" class=\"data row3 col1\" >4</td>\n",
       "    </tr>\n",
       "    <tr>\n",
       "      <th id=\"T_06f9f_level0_row4\" class=\"row_heading level0 row4\" >4</th>\n",
       "      <td id=\"T_06f9f_row4_col0\" class=\"data row4 col0\" >Preprocess</td>\n",
       "      <td id=\"T_06f9f_row4_col1\" class=\"data row4 col1\" >True</td>\n",
       "    </tr>\n",
       "    <tr>\n",
       "      <th id=\"T_06f9f_level0_row5\" class=\"row_heading level0 row5\" >5</th>\n",
       "      <td id=\"T_06f9f_row5_col0\" class=\"data row5 col0\" >Imputation type</td>\n",
       "      <td id=\"T_06f9f_row5_col1\" class=\"data row5 col1\" >simple</td>\n",
       "    </tr>\n",
       "    <tr>\n",
       "      <th id=\"T_06f9f_level0_row6\" class=\"row_heading level0 row6\" >6</th>\n",
       "      <td id=\"T_06f9f_row6_col0\" class=\"data row6 col0\" >Numeric imputation</td>\n",
       "      <td id=\"T_06f9f_row6_col1\" class=\"data row6 col1\" >mean</td>\n",
       "    </tr>\n",
       "    <tr>\n",
       "      <th id=\"T_06f9f_level0_row7\" class=\"row_heading level0 row7\" >7</th>\n",
       "      <td id=\"T_06f9f_row7_col0\" class=\"data row7 col0\" >Categorical imputation</td>\n",
       "      <td id=\"T_06f9f_row7_col1\" class=\"data row7 col1\" >mode</td>\n",
       "    </tr>\n",
       "    <tr>\n",
       "      <th id=\"T_06f9f_level0_row8\" class=\"row_heading level0 row8\" >8</th>\n",
       "      <td id=\"T_06f9f_row8_col0\" class=\"data row8 col0\" >PCA</td>\n",
       "      <td id=\"T_06f9f_row8_col1\" class=\"data row8 col1\" >True</td>\n",
       "    </tr>\n",
       "    <tr>\n",
       "      <th id=\"T_06f9f_level0_row9\" class=\"row_heading level0 row9\" >9</th>\n",
       "      <td id=\"T_06f9f_row9_col0\" class=\"data row9 col0\" >PCA method</td>\n",
       "      <td id=\"T_06f9f_row9_col1\" class=\"data row9 col1\" >linear</td>\n",
       "    </tr>\n",
       "    <tr>\n",
       "      <th id=\"T_06f9f_level0_row10\" class=\"row_heading level0 row10\" >10</th>\n",
       "      <td id=\"T_06f9f_row10_col0\" class=\"data row10 col0\" >PCA components</td>\n",
       "      <td id=\"T_06f9f_row10_col1\" class=\"data row10 col1\" >None</td>\n",
       "    </tr>\n",
       "    <tr>\n",
       "      <th id=\"T_06f9f_level0_row11\" class=\"row_heading level0 row11\" >11</th>\n",
       "      <td id=\"T_06f9f_row11_col0\" class=\"data row11 col0\" >CPU Jobs</td>\n",
       "      <td id=\"T_06f9f_row11_col1\" class=\"data row11 col1\" >-1</td>\n",
       "    </tr>\n",
       "    <tr>\n",
       "      <th id=\"T_06f9f_level0_row12\" class=\"row_heading level0 row12\" >12</th>\n",
       "      <td id=\"T_06f9f_row12_col0\" class=\"data row12 col0\" >Use GPU</td>\n",
       "      <td id=\"T_06f9f_row12_col1\" class=\"data row12 col1\" >False</td>\n",
       "    </tr>\n",
       "    <tr>\n",
       "      <th id=\"T_06f9f_level0_row13\" class=\"row_heading level0 row13\" >13</th>\n",
       "      <td id=\"T_06f9f_row13_col0\" class=\"data row13 col0\" >Log Experiment</td>\n",
       "      <td id=\"T_06f9f_row13_col1\" class=\"data row13 col1\" >False</td>\n",
       "    </tr>\n",
       "    <tr>\n",
       "      <th id=\"T_06f9f_level0_row14\" class=\"row_heading level0 row14\" >14</th>\n",
       "      <td id=\"T_06f9f_row14_col0\" class=\"data row14 col0\" >Experiment Name</td>\n",
       "      <td id=\"T_06f9f_row14_col1\" class=\"data row14 col1\" >cluster-default-name</td>\n",
       "    </tr>\n",
       "    <tr>\n",
       "      <th id=\"T_06f9f_level0_row15\" class=\"row_heading level0 row15\" >15</th>\n",
       "      <td id=\"T_06f9f_row15_col0\" class=\"data row15 col0\" >USI</td>\n",
       "      <td id=\"T_06f9f_row15_col1\" class=\"data row15 col1\" >6d59</td>\n",
       "    </tr>\n",
       "  </tbody>\n",
       "</table>\n"
      ],
      "text/plain": [
       "<pandas.io.formats.style.Styler at 0x20aa72a6530>"
      ]
     },
     "metadata": {},
     "output_type": "display_data"
    },
    {
     "data": {
      "text/html": [],
      "text/plain": [
       "<IPython.core.display.HTML object>"
      ]
     },
     "metadata": {},
     "output_type": "display_data"
    },
    {
     "data": {
      "text/html": [
       "<style type=\"text/css\">\n",
       "</style>\n",
       "<table id=\"T_e5299\">\n",
       "  <thead>\n",
       "    <tr>\n",
       "      <th class=\"blank level0\" >&nbsp;</th>\n",
       "      <th id=\"T_e5299_level0_col0\" class=\"col_heading level0 col0\" >Silhouette</th>\n",
       "      <th id=\"T_e5299_level0_col1\" class=\"col_heading level0 col1\" >Calinski-Harabasz</th>\n",
       "      <th id=\"T_e5299_level0_col2\" class=\"col_heading level0 col2\" >Davies-Bouldin</th>\n",
       "      <th id=\"T_e5299_level0_col3\" class=\"col_heading level0 col3\" >Homogeneity</th>\n",
       "      <th id=\"T_e5299_level0_col4\" class=\"col_heading level0 col4\" >Rand Index</th>\n",
       "      <th id=\"T_e5299_level0_col5\" class=\"col_heading level0 col5\" >Completeness</th>\n",
       "    </tr>\n",
       "  </thead>\n",
       "  <tbody>\n",
       "    <tr>\n",
       "      <th id=\"T_e5299_level0_row0\" class=\"row_heading level0 row0\" >0</th>\n",
       "      <td id=\"T_e5299_row0_col0\" class=\"data row0 col0\" >0.5526</td>\n",
       "      <td id=\"T_e5299_row0_col1\" class=\"data row0 col1\" >560.4000</td>\n",
       "      <td id=\"T_e5299_row0_col2\" class=\"data row0 col2\" >0.6623</td>\n",
       "      <td id=\"T_e5299_row0_col3\" class=\"data row0 col3\" >0</td>\n",
       "      <td id=\"T_e5299_row0_col4\" class=\"data row0 col4\" >0</td>\n",
       "      <td id=\"T_e5299_row0_col5\" class=\"data row0 col5\" >0</td>\n",
       "    </tr>\n",
       "  </tbody>\n",
       "</table>\n"
      ],
      "text/plain": [
       "<pandas.io.formats.style.Styler at 0x20aa7236e30>"
      ]
     },
     "metadata": {},
     "output_type": "display_data"
    },
    {
     "data": {
      "text/html": [],
      "text/plain": [
       "<IPython.core.display.HTML object>"
      ]
     },
     "metadata": {},
     "output_type": "display_data"
    },
    {
     "name": "stdout",
     "output_type": "stream",
     "text": [
      "For kmeans with 3 clusters with PCA\n"
     ]
    },
    {
     "data": {
      "application/vnd.jupyter.widget-view+json": {
       "model_id": "6e4ddb0f3f7e40799fc4504645bb4cef",
       "version_major": 2,
       "version_minor": 0
      },
      "text/plain": [
       "interactive(children=(ToggleButtons(description='Plot Type:', icons=('',), options=(('Pipeline Plot', 'pipelin…"
      ]
     },
     "metadata": {},
     "output_type": "display_data"
    },
    {
     "data": {
      "text/html": [
       "<style type=\"text/css\">\n",
       "#T_bf273_row4_col1, #T_bf273_row8_col1 {\n",
       "  background-color: lightgreen;\n",
       "}\n",
       "</style>\n",
       "<table id=\"T_bf273\">\n",
       "  <thead>\n",
       "    <tr>\n",
       "      <th class=\"blank level0\" >&nbsp;</th>\n",
       "      <th id=\"T_bf273_level0_col0\" class=\"col_heading level0 col0\" >Description</th>\n",
       "      <th id=\"T_bf273_level0_col1\" class=\"col_heading level0 col1\" >Value</th>\n",
       "    </tr>\n",
       "  </thead>\n",
       "  <tbody>\n",
       "    <tr>\n",
       "      <th id=\"T_bf273_level0_row0\" class=\"row_heading level0 row0\" >0</th>\n",
       "      <td id=\"T_bf273_row0_col0\" class=\"data row0 col0\" >Session id</td>\n",
       "      <td id=\"T_bf273_row0_col1\" class=\"data row0 col1\" >2</td>\n",
       "    </tr>\n",
       "    <tr>\n",
       "      <th id=\"T_bf273_level0_row1\" class=\"row_heading level0 row1\" >1</th>\n",
       "      <td id=\"T_bf273_row1_col0\" class=\"data row1 col0\" >Original data shape</td>\n",
       "      <td id=\"T_bf273_row1_col1\" class=\"data row1 col1\" >(150, 4)</td>\n",
       "    </tr>\n",
       "    <tr>\n",
       "      <th id=\"T_bf273_level0_row2\" class=\"row_heading level0 row2\" >2</th>\n",
       "      <td id=\"T_bf273_row2_col0\" class=\"data row2 col0\" >Transformed data shape</td>\n",
       "      <td id=\"T_bf273_row2_col1\" class=\"data row2 col1\" >(150, 4)</td>\n",
       "    </tr>\n",
       "    <tr>\n",
       "      <th id=\"T_bf273_level0_row3\" class=\"row_heading level0 row3\" >3</th>\n",
       "      <td id=\"T_bf273_row3_col0\" class=\"data row3 col0\" >Numeric features</td>\n",
       "      <td id=\"T_bf273_row3_col1\" class=\"data row3 col1\" >4</td>\n",
       "    </tr>\n",
       "    <tr>\n",
       "      <th id=\"T_bf273_level0_row4\" class=\"row_heading level0 row4\" >4</th>\n",
       "      <td id=\"T_bf273_row4_col0\" class=\"data row4 col0\" >Preprocess</td>\n",
       "      <td id=\"T_bf273_row4_col1\" class=\"data row4 col1\" >True</td>\n",
       "    </tr>\n",
       "    <tr>\n",
       "      <th id=\"T_bf273_level0_row5\" class=\"row_heading level0 row5\" >5</th>\n",
       "      <td id=\"T_bf273_row5_col0\" class=\"data row5 col0\" >Imputation type</td>\n",
       "      <td id=\"T_bf273_row5_col1\" class=\"data row5 col1\" >simple</td>\n",
       "    </tr>\n",
       "    <tr>\n",
       "      <th id=\"T_bf273_level0_row6\" class=\"row_heading level0 row6\" >6</th>\n",
       "      <td id=\"T_bf273_row6_col0\" class=\"data row6 col0\" >Numeric imputation</td>\n",
       "      <td id=\"T_bf273_row6_col1\" class=\"data row6 col1\" >mean</td>\n",
       "    </tr>\n",
       "    <tr>\n",
       "      <th id=\"T_bf273_level0_row7\" class=\"row_heading level0 row7\" >7</th>\n",
       "      <td id=\"T_bf273_row7_col0\" class=\"data row7 col0\" >Categorical imputation</td>\n",
       "      <td id=\"T_bf273_row7_col1\" class=\"data row7 col1\" >mode</td>\n",
       "    </tr>\n",
       "    <tr>\n",
       "      <th id=\"T_bf273_level0_row8\" class=\"row_heading level0 row8\" >8</th>\n",
       "      <td id=\"T_bf273_row8_col0\" class=\"data row8 col0\" >PCA</td>\n",
       "      <td id=\"T_bf273_row8_col1\" class=\"data row8 col1\" >True</td>\n",
       "    </tr>\n",
       "    <tr>\n",
       "      <th id=\"T_bf273_level0_row9\" class=\"row_heading level0 row9\" >9</th>\n",
       "      <td id=\"T_bf273_row9_col0\" class=\"data row9 col0\" >PCA method</td>\n",
       "      <td id=\"T_bf273_row9_col1\" class=\"data row9 col1\" >linear</td>\n",
       "    </tr>\n",
       "    <tr>\n",
       "      <th id=\"T_bf273_level0_row10\" class=\"row_heading level0 row10\" >10</th>\n",
       "      <td id=\"T_bf273_row10_col0\" class=\"data row10 col0\" >PCA components</td>\n",
       "      <td id=\"T_bf273_row10_col1\" class=\"data row10 col1\" >None</td>\n",
       "    </tr>\n",
       "    <tr>\n",
       "      <th id=\"T_bf273_level0_row11\" class=\"row_heading level0 row11\" >11</th>\n",
       "      <td id=\"T_bf273_row11_col0\" class=\"data row11 col0\" >CPU Jobs</td>\n",
       "      <td id=\"T_bf273_row11_col1\" class=\"data row11 col1\" >-1</td>\n",
       "    </tr>\n",
       "    <tr>\n",
       "      <th id=\"T_bf273_level0_row12\" class=\"row_heading level0 row12\" >12</th>\n",
       "      <td id=\"T_bf273_row12_col0\" class=\"data row12 col0\" >Use GPU</td>\n",
       "      <td id=\"T_bf273_row12_col1\" class=\"data row12 col1\" >False</td>\n",
       "    </tr>\n",
       "    <tr>\n",
       "      <th id=\"T_bf273_level0_row13\" class=\"row_heading level0 row13\" >13</th>\n",
       "      <td id=\"T_bf273_row13_col0\" class=\"data row13 col0\" >Log Experiment</td>\n",
       "      <td id=\"T_bf273_row13_col1\" class=\"data row13 col1\" >False</td>\n",
       "    </tr>\n",
       "    <tr>\n",
       "      <th id=\"T_bf273_level0_row14\" class=\"row_heading level0 row14\" >14</th>\n",
       "      <td id=\"T_bf273_row14_col0\" class=\"data row14 col0\" >Experiment Name</td>\n",
       "      <td id=\"T_bf273_row14_col1\" class=\"data row14 col1\" >cluster-default-name</td>\n",
       "    </tr>\n",
       "    <tr>\n",
       "      <th id=\"T_bf273_level0_row15\" class=\"row_heading level0 row15\" >15</th>\n",
       "      <td id=\"T_bf273_row15_col0\" class=\"data row15 col0\" >USI</td>\n",
       "      <td id=\"T_bf273_row15_col1\" class=\"data row15 col1\" >e7fd</td>\n",
       "    </tr>\n",
       "  </tbody>\n",
       "</table>\n"
      ],
      "text/plain": [
       "<pandas.io.formats.style.Styler at 0x20aa731eb90>"
      ]
     },
     "metadata": {},
     "output_type": "display_data"
    },
    {
     "data": {
      "text/html": [],
      "text/plain": [
       "<IPython.core.display.HTML object>"
      ]
     },
     "metadata": {},
     "output_type": "display_data"
    },
    {
     "data": {
      "text/html": [
       "<style type=\"text/css\">\n",
       "</style>\n",
       "<table id=\"T_30ee8\">\n",
       "  <thead>\n",
       "    <tr>\n",
       "      <th class=\"blank level0\" >&nbsp;</th>\n",
       "      <th id=\"T_30ee8_level0_col0\" class=\"col_heading level0 col0\" >Silhouette</th>\n",
       "      <th id=\"T_30ee8_level0_col1\" class=\"col_heading level0 col1\" >Calinski-Harabasz</th>\n",
       "      <th id=\"T_30ee8_level0_col2\" class=\"col_heading level0 col2\" >Davies-Bouldin</th>\n",
       "      <th id=\"T_30ee8_level0_col3\" class=\"col_heading level0 col3\" >Homogeneity</th>\n",
       "      <th id=\"T_30ee8_level0_col4\" class=\"col_heading level0 col4\" >Rand Index</th>\n",
       "      <th id=\"T_30ee8_level0_col5\" class=\"col_heading level0 col5\" >Completeness</th>\n",
       "    </tr>\n",
       "  </thead>\n",
       "  <tbody>\n",
       "    <tr>\n",
       "      <th id=\"T_30ee8_level0_row0\" class=\"row_heading level0 row0\" >0</th>\n",
       "      <td id=\"T_30ee8_row0_col0\" class=\"data row0 col0\" >0.4972</td>\n",
       "      <td id=\"T_30ee8_row0_col1\" class=\"data row0 col1\" >529.1208</td>\n",
       "      <td id=\"T_30ee8_row0_col2\" class=\"data row0 col2\" >0.7760</td>\n",
       "      <td id=\"T_30ee8_row0_col3\" class=\"data row0 col3\" >0</td>\n",
       "      <td id=\"T_30ee8_row0_col4\" class=\"data row0 col4\" >0</td>\n",
       "      <td id=\"T_30ee8_row0_col5\" class=\"data row0 col5\" >0</td>\n",
       "    </tr>\n",
       "  </tbody>\n",
       "</table>\n"
      ],
      "text/plain": [
       "<pandas.io.formats.style.Styler at 0x20aa731fac0>"
      ]
     },
     "metadata": {},
     "output_type": "display_data"
    },
    {
     "data": {
      "text/html": [],
      "text/plain": [
       "<IPython.core.display.HTML object>"
      ]
     },
     "metadata": {},
     "output_type": "display_data"
    },
    {
     "name": "stdout",
     "output_type": "stream",
     "text": [
      "For kmeans with 4 clusters with PCA\n"
     ]
    },
    {
     "data": {
      "application/vnd.jupyter.widget-view+json": {
       "model_id": "65b45aa3ff04439fb2cb891cf05bf426",
       "version_major": 2,
       "version_minor": 0
      },
      "text/plain": [
       "interactive(children=(ToggleButtons(description='Plot Type:', icons=('',), options=(('Pipeline Plot', 'pipelin…"
      ]
     },
     "metadata": {},
     "output_type": "display_data"
    },
    {
     "data": {
      "text/html": [
       "<style type=\"text/css\">\n",
       "#T_726e5_row4_col1, #T_726e5_row8_col1 {\n",
       "  background-color: lightgreen;\n",
       "}\n",
       "</style>\n",
       "<table id=\"T_726e5\">\n",
       "  <thead>\n",
       "    <tr>\n",
       "      <th class=\"blank level0\" >&nbsp;</th>\n",
       "      <th id=\"T_726e5_level0_col0\" class=\"col_heading level0 col0\" >Description</th>\n",
       "      <th id=\"T_726e5_level0_col1\" class=\"col_heading level0 col1\" >Value</th>\n",
       "    </tr>\n",
       "  </thead>\n",
       "  <tbody>\n",
       "    <tr>\n",
       "      <th id=\"T_726e5_level0_row0\" class=\"row_heading level0 row0\" >0</th>\n",
       "      <td id=\"T_726e5_row0_col0\" class=\"data row0 col0\" >Session id</td>\n",
       "      <td id=\"T_726e5_row0_col1\" class=\"data row0 col1\" >2</td>\n",
       "    </tr>\n",
       "    <tr>\n",
       "      <th id=\"T_726e5_level0_row1\" class=\"row_heading level0 row1\" >1</th>\n",
       "      <td id=\"T_726e5_row1_col0\" class=\"data row1 col0\" >Original data shape</td>\n",
       "      <td id=\"T_726e5_row1_col1\" class=\"data row1 col1\" >(150, 4)</td>\n",
       "    </tr>\n",
       "    <tr>\n",
       "      <th id=\"T_726e5_level0_row2\" class=\"row_heading level0 row2\" >2</th>\n",
       "      <td id=\"T_726e5_row2_col0\" class=\"data row2 col0\" >Transformed data shape</td>\n",
       "      <td id=\"T_726e5_row2_col1\" class=\"data row2 col1\" >(150, 4)</td>\n",
       "    </tr>\n",
       "    <tr>\n",
       "      <th id=\"T_726e5_level0_row3\" class=\"row_heading level0 row3\" >3</th>\n",
       "      <td id=\"T_726e5_row3_col0\" class=\"data row3 col0\" >Numeric features</td>\n",
       "      <td id=\"T_726e5_row3_col1\" class=\"data row3 col1\" >4</td>\n",
       "    </tr>\n",
       "    <tr>\n",
       "      <th id=\"T_726e5_level0_row4\" class=\"row_heading level0 row4\" >4</th>\n",
       "      <td id=\"T_726e5_row4_col0\" class=\"data row4 col0\" >Preprocess</td>\n",
       "      <td id=\"T_726e5_row4_col1\" class=\"data row4 col1\" >True</td>\n",
       "    </tr>\n",
       "    <tr>\n",
       "      <th id=\"T_726e5_level0_row5\" class=\"row_heading level0 row5\" >5</th>\n",
       "      <td id=\"T_726e5_row5_col0\" class=\"data row5 col0\" >Imputation type</td>\n",
       "      <td id=\"T_726e5_row5_col1\" class=\"data row5 col1\" >simple</td>\n",
       "    </tr>\n",
       "    <tr>\n",
       "      <th id=\"T_726e5_level0_row6\" class=\"row_heading level0 row6\" >6</th>\n",
       "      <td id=\"T_726e5_row6_col0\" class=\"data row6 col0\" >Numeric imputation</td>\n",
       "      <td id=\"T_726e5_row6_col1\" class=\"data row6 col1\" >mean</td>\n",
       "    </tr>\n",
       "    <tr>\n",
       "      <th id=\"T_726e5_level0_row7\" class=\"row_heading level0 row7\" >7</th>\n",
       "      <td id=\"T_726e5_row7_col0\" class=\"data row7 col0\" >Categorical imputation</td>\n",
       "      <td id=\"T_726e5_row7_col1\" class=\"data row7 col1\" >mode</td>\n",
       "    </tr>\n",
       "    <tr>\n",
       "      <th id=\"T_726e5_level0_row8\" class=\"row_heading level0 row8\" >8</th>\n",
       "      <td id=\"T_726e5_row8_col0\" class=\"data row8 col0\" >PCA</td>\n",
       "      <td id=\"T_726e5_row8_col1\" class=\"data row8 col1\" >True</td>\n",
       "    </tr>\n",
       "    <tr>\n",
       "      <th id=\"T_726e5_level0_row9\" class=\"row_heading level0 row9\" >9</th>\n",
       "      <td id=\"T_726e5_row9_col0\" class=\"data row9 col0\" >PCA method</td>\n",
       "      <td id=\"T_726e5_row9_col1\" class=\"data row9 col1\" >linear</td>\n",
       "    </tr>\n",
       "    <tr>\n",
       "      <th id=\"T_726e5_level0_row10\" class=\"row_heading level0 row10\" >10</th>\n",
       "      <td id=\"T_726e5_row10_col0\" class=\"data row10 col0\" >PCA components</td>\n",
       "      <td id=\"T_726e5_row10_col1\" class=\"data row10 col1\" >None</td>\n",
       "    </tr>\n",
       "    <tr>\n",
       "      <th id=\"T_726e5_level0_row11\" class=\"row_heading level0 row11\" >11</th>\n",
       "      <td id=\"T_726e5_row11_col0\" class=\"data row11 col0\" >CPU Jobs</td>\n",
       "      <td id=\"T_726e5_row11_col1\" class=\"data row11 col1\" >-1</td>\n",
       "    </tr>\n",
       "    <tr>\n",
       "      <th id=\"T_726e5_level0_row12\" class=\"row_heading level0 row12\" >12</th>\n",
       "      <td id=\"T_726e5_row12_col0\" class=\"data row12 col0\" >Use GPU</td>\n",
       "      <td id=\"T_726e5_row12_col1\" class=\"data row12 col1\" >False</td>\n",
       "    </tr>\n",
       "    <tr>\n",
       "      <th id=\"T_726e5_level0_row13\" class=\"row_heading level0 row13\" >13</th>\n",
       "      <td id=\"T_726e5_row13_col0\" class=\"data row13 col0\" >Log Experiment</td>\n",
       "      <td id=\"T_726e5_row13_col1\" class=\"data row13 col1\" >False</td>\n",
       "    </tr>\n",
       "    <tr>\n",
       "      <th id=\"T_726e5_level0_row14\" class=\"row_heading level0 row14\" >14</th>\n",
       "      <td id=\"T_726e5_row14_col0\" class=\"data row14 col0\" >Experiment Name</td>\n",
       "      <td id=\"T_726e5_row14_col1\" class=\"data row14 col1\" >cluster-default-name</td>\n",
       "    </tr>\n",
       "    <tr>\n",
       "      <th id=\"T_726e5_level0_row15\" class=\"row_heading level0 row15\" >15</th>\n",
       "      <td id=\"T_726e5_row15_col0\" class=\"data row15 col0\" >USI</td>\n",
       "      <td id=\"T_726e5_row15_col1\" class=\"data row15 col1\" >722d</td>\n",
       "    </tr>\n",
       "  </tbody>\n",
       "</table>\n"
      ],
      "text/plain": [
       "<pandas.io.formats.style.Styler at 0x20aa72e7df0>"
      ]
     },
     "metadata": {},
     "output_type": "display_data"
    },
    {
     "data": {
      "text/html": [],
      "text/plain": [
       "<IPython.core.display.HTML object>"
      ]
     },
     "metadata": {},
     "output_type": "display_data"
    },
    {
     "data": {
      "text/html": [
       "<style type=\"text/css\">\n",
       "</style>\n",
       "<table id=\"T_2533f\">\n",
       "  <thead>\n",
       "    <tr>\n",
       "      <th class=\"blank level0\" >&nbsp;</th>\n",
       "      <th id=\"T_2533f_level0_col0\" class=\"col_heading level0 col0\" >Silhouette</th>\n",
       "      <th id=\"T_2533f_level0_col1\" class=\"col_heading level0 col1\" >Calinski-Harabasz</th>\n",
       "      <th id=\"T_2533f_level0_col2\" class=\"col_heading level0 col2\" >Davies-Bouldin</th>\n",
       "      <th id=\"T_2533f_level0_col3\" class=\"col_heading level0 col3\" >Homogeneity</th>\n",
       "      <th id=\"T_2533f_level0_col4\" class=\"col_heading level0 col4\" >Rand Index</th>\n",
       "      <th id=\"T_2533f_level0_col5\" class=\"col_heading level0 col5\" >Completeness</th>\n",
       "    </tr>\n",
       "  </thead>\n",
       "  <tbody>\n",
       "    <tr>\n",
       "      <th id=\"T_2533f_level0_row0\" class=\"row_heading level0 row0\" >0</th>\n",
       "      <td id=\"T_2533f_row0_col0\" class=\"data row0 col0\" >0.4885</td>\n",
       "      <td id=\"T_2533f_row0_col1\" class=\"data row0 col1\" >494.0945</td>\n",
       "      <td id=\"T_2533f_row0_col2\" class=\"data row0 col2\" >0.8062</td>\n",
       "      <td id=\"T_2533f_row0_col3\" class=\"data row0 col3\" >0</td>\n",
       "      <td id=\"T_2533f_row0_col4\" class=\"data row0 col4\" >0</td>\n",
       "      <td id=\"T_2533f_row0_col5\" class=\"data row0 col5\" >0</td>\n",
       "    </tr>\n",
       "  </tbody>\n",
       "</table>\n"
      ],
      "text/plain": [
       "<pandas.io.formats.style.Styler at 0x20aa71c9090>"
      ]
     },
     "metadata": {},
     "output_type": "display_data"
    },
    {
     "data": {
      "text/html": [],
      "text/plain": [
       "<IPython.core.display.HTML object>"
      ]
     },
     "metadata": {},
     "output_type": "display_data"
    },
    {
     "name": "stdout",
     "output_type": "stream",
     "text": [
      "For kmeans with 5 clusters with PCA\n"
     ]
    },
    {
     "data": {
      "application/vnd.jupyter.widget-view+json": {
       "model_id": "08027005295e4ac89e53e607ea403f85",
       "version_major": 2,
       "version_minor": 0
      },
      "text/plain": [
       "interactive(children=(ToggleButtons(description='Plot Type:', icons=('',), options=(('Pipeline Plot', 'pipelin…"
      ]
     },
     "metadata": {},
     "output_type": "display_data"
    },
    {
     "data": {
      "text/html": [
       "<style type=\"text/css\">\n",
       "#T_a4fe2_row4_col1, #T_a4fe2_row8_col1 {\n",
       "  background-color: lightgreen;\n",
       "}\n",
       "</style>\n",
       "<table id=\"T_a4fe2\">\n",
       "  <thead>\n",
       "    <tr>\n",
       "      <th class=\"blank level0\" >&nbsp;</th>\n",
       "      <th id=\"T_a4fe2_level0_col0\" class=\"col_heading level0 col0\" >Description</th>\n",
       "      <th id=\"T_a4fe2_level0_col1\" class=\"col_heading level0 col1\" >Value</th>\n",
       "    </tr>\n",
       "  </thead>\n",
       "  <tbody>\n",
       "    <tr>\n",
       "      <th id=\"T_a4fe2_level0_row0\" class=\"row_heading level0 row0\" >0</th>\n",
       "      <td id=\"T_a4fe2_row0_col0\" class=\"data row0 col0\" >Session id</td>\n",
       "      <td id=\"T_a4fe2_row0_col1\" class=\"data row0 col1\" >2</td>\n",
       "    </tr>\n",
       "    <tr>\n",
       "      <th id=\"T_a4fe2_level0_row1\" class=\"row_heading level0 row1\" >1</th>\n",
       "      <td id=\"T_a4fe2_row1_col0\" class=\"data row1 col0\" >Original data shape</td>\n",
       "      <td id=\"T_a4fe2_row1_col1\" class=\"data row1 col1\" >(150, 4)</td>\n",
       "    </tr>\n",
       "    <tr>\n",
       "      <th id=\"T_a4fe2_level0_row2\" class=\"row_heading level0 row2\" >2</th>\n",
       "      <td id=\"T_a4fe2_row2_col0\" class=\"data row2 col0\" >Transformed data shape</td>\n",
       "      <td id=\"T_a4fe2_row2_col1\" class=\"data row2 col1\" >(150, 4)</td>\n",
       "    </tr>\n",
       "    <tr>\n",
       "      <th id=\"T_a4fe2_level0_row3\" class=\"row_heading level0 row3\" >3</th>\n",
       "      <td id=\"T_a4fe2_row3_col0\" class=\"data row3 col0\" >Numeric features</td>\n",
       "      <td id=\"T_a4fe2_row3_col1\" class=\"data row3 col1\" >4</td>\n",
       "    </tr>\n",
       "    <tr>\n",
       "      <th id=\"T_a4fe2_level0_row4\" class=\"row_heading level0 row4\" >4</th>\n",
       "      <td id=\"T_a4fe2_row4_col0\" class=\"data row4 col0\" >Preprocess</td>\n",
       "      <td id=\"T_a4fe2_row4_col1\" class=\"data row4 col1\" >True</td>\n",
       "    </tr>\n",
       "    <tr>\n",
       "      <th id=\"T_a4fe2_level0_row5\" class=\"row_heading level0 row5\" >5</th>\n",
       "      <td id=\"T_a4fe2_row5_col0\" class=\"data row5 col0\" >Imputation type</td>\n",
       "      <td id=\"T_a4fe2_row5_col1\" class=\"data row5 col1\" >simple</td>\n",
       "    </tr>\n",
       "    <tr>\n",
       "      <th id=\"T_a4fe2_level0_row6\" class=\"row_heading level0 row6\" >6</th>\n",
       "      <td id=\"T_a4fe2_row6_col0\" class=\"data row6 col0\" >Numeric imputation</td>\n",
       "      <td id=\"T_a4fe2_row6_col1\" class=\"data row6 col1\" >mean</td>\n",
       "    </tr>\n",
       "    <tr>\n",
       "      <th id=\"T_a4fe2_level0_row7\" class=\"row_heading level0 row7\" >7</th>\n",
       "      <td id=\"T_a4fe2_row7_col0\" class=\"data row7 col0\" >Categorical imputation</td>\n",
       "      <td id=\"T_a4fe2_row7_col1\" class=\"data row7 col1\" >mode</td>\n",
       "    </tr>\n",
       "    <tr>\n",
       "      <th id=\"T_a4fe2_level0_row8\" class=\"row_heading level0 row8\" >8</th>\n",
       "      <td id=\"T_a4fe2_row8_col0\" class=\"data row8 col0\" >PCA</td>\n",
       "      <td id=\"T_a4fe2_row8_col1\" class=\"data row8 col1\" >True</td>\n",
       "    </tr>\n",
       "    <tr>\n",
       "      <th id=\"T_a4fe2_level0_row9\" class=\"row_heading level0 row9\" >9</th>\n",
       "      <td id=\"T_a4fe2_row9_col0\" class=\"data row9 col0\" >PCA method</td>\n",
       "      <td id=\"T_a4fe2_row9_col1\" class=\"data row9 col1\" >linear</td>\n",
       "    </tr>\n",
       "    <tr>\n",
       "      <th id=\"T_a4fe2_level0_row10\" class=\"row_heading level0 row10\" >10</th>\n",
       "      <td id=\"T_a4fe2_row10_col0\" class=\"data row10 col0\" >PCA components</td>\n",
       "      <td id=\"T_a4fe2_row10_col1\" class=\"data row10 col1\" >None</td>\n",
       "    </tr>\n",
       "    <tr>\n",
       "      <th id=\"T_a4fe2_level0_row11\" class=\"row_heading level0 row11\" >11</th>\n",
       "      <td id=\"T_a4fe2_row11_col0\" class=\"data row11 col0\" >CPU Jobs</td>\n",
       "      <td id=\"T_a4fe2_row11_col1\" class=\"data row11 col1\" >-1</td>\n",
       "    </tr>\n",
       "    <tr>\n",
       "      <th id=\"T_a4fe2_level0_row12\" class=\"row_heading level0 row12\" >12</th>\n",
       "      <td id=\"T_a4fe2_row12_col0\" class=\"data row12 col0\" >Use GPU</td>\n",
       "      <td id=\"T_a4fe2_row12_col1\" class=\"data row12 col1\" >False</td>\n",
       "    </tr>\n",
       "    <tr>\n",
       "      <th id=\"T_a4fe2_level0_row13\" class=\"row_heading level0 row13\" >13</th>\n",
       "      <td id=\"T_a4fe2_row13_col0\" class=\"data row13 col0\" >Log Experiment</td>\n",
       "      <td id=\"T_a4fe2_row13_col1\" class=\"data row13 col1\" >False</td>\n",
       "    </tr>\n",
       "    <tr>\n",
       "      <th id=\"T_a4fe2_level0_row14\" class=\"row_heading level0 row14\" >14</th>\n",
       "      <td id=\"T_a4fe2_row14_col0\" class=\"data row14 col0\" >Experiment Name</td>\n",
       "      <td id=\"T_a4fe2_row14_col1\" class=\"data row14 col1\" >cluster-default-name</td>\n",
       "    </tr>\n",
       "    <tr>\n",
       "      <th id=\"T_a4fe2_level0_row15\" class=\"row_heading level0 row15\" >15</th>\n",
       "      <td id=\"T_a4fe2_row15_col0\" class=\"data row15 col0\" >USI</td>\n",
       "      <td id=\"T_a4fe2_row15_col1\" class=\"data row15 col1\" >d5cb</td>\n",
       "    </tr>\n",
       "  </tbody>\n",
       "</table>\n"
      ],
      "text/plain": [
       "<pandas.io.formats.style.Styler at 0x20aa7359e70>"
      ]
     },
     "metadata": {},
     "output_type": "display_data"
    },
    {
     "data": {
      "text/html": [],
      "text/plain": [
       "<IPython.core.display.HTML object>"
      ]
     },
     "metadata": {},
     "output_type": "display_data"
    },
    {
     "data": {
      "text/html": [
       "<style type=\"text/css\">\n",
       "</style>\n",
       "<table id=\"T_5a1f8\">\n",
       "  <thead>\n",
       "    <tr>\n",
       "      <th class=\"blank level0\" >&nbsp;</th>\n",
       "      <th id=\"T_5a1f8_level0_col0\" class=\"col_heading level0 col0\" >Silhouette</th>\n",
       "      <th id=\"T_5a1f8_level0_col1\" class=\"col_heading level0 col1\" >Calinski-Harabasz</th>\n",
       "      <th id=\"T_5a1f8_level0_col2\" class=\"col_heading level0 col2\" >Davies-Bouldin</th>\n",
       "      <th id=\"T_5a1f8_level0_col3\" class=\"col_heading level0 col3\" >Homogeneity</th>\n",
       "      <th id=\"T_5a1f8_level0_col4\" class=\"col_heading level0 col4\" >Rand Index</th>\n",
       "      <th id=\"T_5a1f8_level0_col5\" class=\"col_heading level0 col5\" >Completeness</th>\n",
       "    </tr>\n",
       "  </thead>\n",
       "  <tbody>\n",
       "    <tr>\n",
       "      <th id=\"T_5a1f8_level0_row0\" class=\"row_heading level0 row0\" >0</th>\n",
       "      <td id=\"T_5a1f8_row0_col0\" class=\"data row0 col0\" >0.5541</td>\n",
       "      <td id=\"T_5a1f8_row0_col1\" class=\"data row0 col1\" >556.8412</td>\n",
       "      <td id=\"T_5a1f8_row0_col2\" class=\"data row0 col2\" >0.6566</td>\n",
       "      <td id=\"T_5a1f8_row0_col3\" class=\"data row0 col3\" >0</td>\n",
       "      <td id=\"T_5a1f8_row0_col4\" class=\"data row0 col4\" >0</td>\n",
       "      <td id=\"T_5a1f8_row0_col5\" class=\"data row0 col5\" >0</td>\n",
       "    </tr>\n",
       "  </tbody>\n",
       "</table>\n"
      ],
      "text/plain": [
       "<pandas.io.formats.style.Styler at 0x20aa735bdf0>"
      ]
     },
     "metadata": {},
     "output_type": "display_data"
    },
    {
     "data": {
      "text/html": [],
      "text/plain": [
       "<IPython.core.display.HTML object>"
      ]
     },
     "metadata": {},
     "output_type": "display_data"
    },
    {
     "name": "stdout",
     "output_type": "stream",
     "text": [
      "For hclust with 3 clusters with PCA\n"
     ]
    },
    {
     "data": {
      "application/vnd.jupyter.widget-view+json": {
       "model_id": "f4e16ef7278b4e31adb075c1025c0e1b",
       "version_major": 2,
       "version_minor": 0
      },
      "text/plain": [
       "interactive(children=(ToggleButtons(description='Plot Type:', icons=('',), options=(('Pipeline Plot', 'pipelin…"
      ]
     },
     "metadata": {},
     "output_type": "display_data"
    },
    {
     "data": {
      "text/html": [
       "<style type=\"text/css\">\n",
       "#T_af4ee_row4_col1, #T_af4ee_row8_col1 {\n",
       "  background-color: lightgreen;\n",
       "}\n",
       "</style>\n",
       "<table id=\"T_af4ee\">\n",
       "  <thead>\n",
       "    <tr>\n",
       "      <th class=\"blank level0\" >&nbsp;</th>\n",
       "      <th id=\"T_af4ee_level0_col0\" class=\"col_heading level0 col0\" >Description</th>\n",
       "      <th id=\"T_af4ee_level0_col1\" class=\"col_heading level0 col1\" >Value</th>\n",
       "    </tr>\n",
       "  </thead>\n",
       "  <tbody>\n",
       "    <tr>\n",
       "      <th id=\"T_af4ee_level0_row0\" class=\"row_heading level0 row0\" >0</th>\n",
       "      <td id=\"T_af4ee_row0_col0\" class=\"data row0 col0\" >Session id</td>\n",
       "      <td id=\"T_af4ee_row0_col1\" class=\"data row0 col1\" >2</td>\n",
       "    </tr>\n",
       "    <tr>\n",
       "      <th id=\"T_af4ee_level0_row1\" class=\"row_heading level0 row1\" >1</th>\n",
       "      <td id=\"T_af4ee_row1_col0\" class=\"data row1 col0\" >Original data shape</td>\n",
       "      <td id=\"T_af4ee_row1_col1\" class=\"data row1 col1\" >(150, 4)</td>\n",
       "    </tr>\n",
       "    <tr>\n",
       "      <th id=\"T_af4ee_level0_row2\" class=\"row_heading level0 row2\" >2</th>\n",
       "      <td id=\"T_af4ee_row2_col0\" class=\"data row2 col0\" >Transformed data shape</td>\n",
       "      <td id=\"T_af4ee_row2_col1\" class=\"data row2 col1\" >(150, 4)</td>\n",
       "    </tr>\n",
       "    <tr>\n",
       "      <th id=\"T_af4ee_level0_row3\" class=\"row_heading level0 row3\" >3</th>\n",
       "      <td id=\"T_af4ee_row3_col0\" class=\"data row3 col0\" >Numeric features</td>\n",
       "      <td id=\"T_af4ee_row3_col1\" class=\"data row3 col1\" >4</td>\n",
       "    </tr>\n",
       "    <tr>\n",
       "      <th id=\"T_af4ee_level0_row4\" class=\"row_heading level0 row4\" >4</th>\n",
       "      <td id=\"T_af4ee_row4_col0\" class=\"data row4 col0\" >Preprocess</td>\n",
       "      <td id=\"T_af4ee_row4_col1\" class=\"data row4 col1\" >True</td>\n",
       "    </tr>\n",
       "    <tr>\n",
       "      <th id=\"T_af4ee_level0_row5\" class=\"row_heading level0 row5\" >5</th>\n",
       "      <td id=\"T_af4ee_row5_col0\" class=\"data row5 col0\" >Imputation type</td>\n",
       "      <td id=\"T_af4ee_row5_col1\" class=\"data row5 col1\" >simple</td>\n",
       "    </tr>\n",
       "    <tr>\n",
       "      <th id=\"T_af4ee_level0_row6\" class=\"row_heading level0 row6\" >6</th>\n",
       "      <td id=\"T_af4ee_row6_col0\" class=\"data row6 col0\" >Numeric imputation</td>\n",
       "      <td id=\"T_af4ee_row6_col1\" class=\"data row6 col1\" >mean</td>\n",
       "    </tr>\n",
       "    <tr>\n",
       "      <th id=\"T_af4ee_level0_row7\" class=\"row_heading level0 row7\" >7</th>\n",
       "      <td id=\"T_af4ee_row7_col0\" class=\"data row7 col0\" >Categorical imputation</td>\n",
       "      <td id=\"T_af4ee_row7_col1\" class=\"data row7 col1\" >mode</td>\n",
       "    </tr>\n",
       "    <tr>\n",
       "      <th id=\"T_af4ee_level0_row8\" class=\"row_heading level0 row8\" >8</th>\n",
       "      <td id=\"T_af4ee_row8_col0\" class=\"data row8 col0\" >PCA</td>\n",
       "      <td id=\"T_af4ee_row8_col1\" class=\"data row8 col1\" >True</td>\n",
       "    </tr>\n",
       "    <tr>\n",
       "      <th id=\"T_af4ee_level0_row9\" class=\"row_heading level0 row9\" >9</th>\n",
       "      <td id=\"T_af4ee_row9_col0\" class=\"data row9 col0\" >PCA method</td>\n",
       "      <td id=\"T_af4ee_row9_col1\" class=\"data row9 col1\" >linear</td>\n",
       "    </tr>\n",
       "    <tr>\n",
       "      <th id=\"T_af4ee_level0_row10\" class=\"row_heading level0 row10\" >10</th>\n",
       "      <td id=\"T_af4ee_row10_col0\" class=\"data row10 col0\" >PCA components</td>\n",
       "      <td id=\"T_af4ee_row10_col1\" class=\"data row10 col1\" >None</td>\n",
       "    </tr>\n",
       "    <tr>\n",
       "      <th id=\"T_af4ee_level0_row11\" class=\"row_heading level0 row11\" >11</th>\n",
       "      <td id=\"T_af4ee_row11_col0\" class=\"data row11 col0\" >CPU Jobs</td>\n",
       "      <td id=\"T_af4ee_row11_col1\" class=\"data row11 col1\" >-1</td>\n",
       "    </tr>\n",
       "    <tr>\n",
       "      <th id=\"T_af4ee_level0_row12\" class=\"row_heading level0 row12\" >12</th>\n",
       "      <td id=\"T_af4ee_row12_col0\" class=\"data row12 col0\" >Use GPU</td>\n",
       "      <td id=\"T_af4ee_row12_col1\" class=\"data row12 col1\" >False</td>\n",
       "    </tr>\n",
       "    <tr>\n",
       "      <th id=\"T_af4ee_level0_row13\" class=\"row_heading level0 row13\" >13</th>\n",
       "      <td id=\"T_af4ee_row13_col0\" class=\"data row13 col0\" >Log Experiment</td>\n",
       "      <td id=\"T_af4ee_row13_col1\" class=\"data row13 col1\" >False</td>\n",
       "    </tr>\n",
       "    <tr>\n",
       "      <th id=\"T_af4ee_level0_row14\" class=\"row_heading level0 row14\" >14</th>\n",
       "      <td id=\"T_af4ee_row14_col0\" class=\"data row14 col0\" >Experiment Name</td>\n",
       "      <td id=\"T_af4ee_row14_col1\" class=\"data row14 col1\" >cluster-default-name</td>\n",
       "    </tr>\n",
       "    <tr>\n",
       "      <th id=\"T_af4ee_level0_row15\" class=\"row_heading level0 row15\" >15</th>\n",
       "      <td id=\"T_af4ee_row15_col0\" class=\"data row15 col0\" >USI</td>\n",
       "      <td id=\"T_af4ee_row15_col1\" class=\"data row15 col1\" >c46e</td>\n",
       "    </tr>\n",
       "  </tbody>\n",
       "</table>\n"
      ],
      "text/plain": [
       "<pandas.io.formats.style.Styler at 0x20aa727cdf0>"
      ]
     },
     "metadata": {},
     "output_type": "display_data"
    },
    {
     "data": {
      "text/html": [],
      "text/plain": [
       "<IPython.core.display.HTML object>"
      ]
     },
     "metadata": {},
     "output_type": "display_data"
    },
    {
     "data": {
      "text/html": [
       "<style type=\"text/css\">\n",
       "</style>\n",
       "<table id=\"T_b9276\">\n",
       "  <thead>\n",
       "    <tr>\n",
       "      <th class=\"blank level0\" >&nbsp;</th>\n",
       "      <th id=\"T_b9276_level0_col0\" class=\"col_heading level0 col0\" >Silhouette</th>\n",
       "      <th id=\"T_b9276_level0_col1\" class=\"col_heading level0 col1\" >Calinski-Harabasz</th>\n",
       "      <th id=\"T_b9276_level0_col2\" class=\"col_heading level0 col2\" >Davies-Bouldin</th>\n",
       "      <th id=\"T_b9276_level0_col3\" class=\"col_heading level0 col3\" >Homogeneity</th>\n",
       "      <th id=\"T_b9276_level0_col4\" class=\"col_heading level0 col4\" >Rand Index</th>\n",
       "      <th id=\"T_b9276_level0_col5\" class=\"col_heading level0 col5\" >Completeness</th>\n",
       "    </tr>\n",
       "  </thead>\n",
       "  <tbody>\n",
       "    <tr>\n",
       "      <th id=\"T_b9276_level0_row0\" class=\"row_heading level0 row0\" >0</th>\n",
       "      <td id=\"T_b9276_row0_col0\" class=\"data row0 col0\" >0.4887</td>\n",
       "      <td id=\"T_b9276_row0_col1\" class=\"data row0 col1\" >513.7722</td>\n",
       "      <td id=\"T_b9276_row0_col2\" class=\"data row0 col2\" >0.7956</td>\n",
       "      <td id=\"T_b9276_row0_col3\" class=\"data row0 col3\" >0</td>\n",
       "      <td id=\"T_b9276_row0_col4\" class=\"data row0 col4\" >0</td>\n",
       "      <td id=\"T_b9276_row0_col5\" class=\"data row0 col5\" >0</td>\n",
       "    </tr>\n",
       "  </tbody>\n",
       "</table>\n"
      ],
      "text/plain": [
       "<pandas.io.formats.style.Styler at 0x20aa731d1e0>"
      ]
     },
     "metadata": {},
     "output_type": "display_data"
    },
    {
     "data": {
      "text/html": [],
      "text/plain": [
       "<IPython.core.display.HTML object>"
      ]
     },
     "metadata": {},
     "output_type": "display_data"
    },
    {
     "name": "stdout",
     "output_type": "stream",
     "text": [
      "For hclust with 4 clusters with PCA\n"
     ]
    },
    {
     "data": {
      "application/vnd.jupyter.widget-view+json": {
       "model_id": "db3a4ebfb00543739118e08fe155c4c4",
       "version_major": 2,
       "version_minor": 0
      },
      "text/plain": [
       "interactive(children=(ToggleButtons(description='Plot Type:', icons=('',), options=(('Pipeline Plot', 'pipelin…"
      ]
     },
     "metadata": {},
     "output_type": "display_data"
    },
    {
     "data": {
      "text/html": [
       "<style type=\"text/css\">\n",
       "#T_19217_row4_col1, #T_19217_row8_col1 {\n",
       "  background-color: lightgreen;\n",
       "}\n",
       "</style>\n",
       "<table id=\"T_19217\">\n",
       "  <thead>\n",
       "    <tr>\n",
       "      <th class=\"blank level0\" >&nbsp;</th>\n",
       "      <th id=\"T_19217_level0_col0\" class=\"col_heading level0 col0\" >Description</th>\n",
       "      <th id=\"T_19217_level0_col1\" class=\"col_heading level0 col1\" >Value</th>\n",
       "    </tr>\n",
       "  </thead>\n",
       "  <tbody>\n",
       "    <tr>\n",
       "      <th id=\"T_19217_level0_row0\" class=\"row_heading level0 row0\" >0</th>\n",
       "      <td id=\"T_19217_row0_col0\" class=\"data row0 col0\" >Session id</td>\n",
       "      <td id=\"T_19217_row0_col1\" class=\"data row0 col1\" >2</td>\n",
       "    </tr>\n",
       "    <tr>\n",
       "      <th id=\"T_19217_level0_row1\" class=\"row_heading level0 row1\" >1</th>\n",
       "      <td id=\"T_19217_row1_col0\" class=\"data row1 col0\" >Original data shape</td>\n",
       "      <td id=\"T_19217_row1_col1\" class=\"data row1 col1\" >(150, 4)</td>\n",
       "    </tr>\n",
       "    <tr>\n",
       "      <th id=\"T_19217_level0_row2\" class=\"row_heading level0 row2\" >2</th>\n",
       "      <td id=\"T_19217_row2_col0\" class=\"data row2 col0\" >Transformed data shape</td>\n",
       "      <td id=\"T_19217_row2_col1\" class=\"data row2 col1\" >(150, 4)</td>\n",
       "    </tr>\n",
       "    <tr>\n",
       "      <th id=\"T_19217_level0_row3\" class=\"row_heading level0 row3\" >3</th>\n",
       "      <td id=\"T_19217_row3_col0\" class=\"data row3 col0\" >Numeric features</td>\n",
       "      <td id=\"T_19217_row3_col1\" class=\"data row3 col1\" >4</td>\n",
       "    </tr>\n",
       "    <tr>\n",
       "      <th id=\"T_19217_level0_row4\" class=\"row_heading level0 row4\" >4</th>\n",
       "      <td id=\"T_19217_row4_col0\" class=\"data row4 col0\" >Preprocess</td>\n",
       "      <td id=\"T_19217_row4_col1\" class=\"data row4 col1\" >True</td>\n",
       "    </tr>\n",
       "    <tr>\n",
       "      <th id=\"T_19217_level0_row5\" class=\"row_heading level0 row5\" >5</th>\n",
       "      <td id=\"T_19217_row5_col0\" class=\"data row5 col0\" >Imputation type</td>\n",
       "      <td id=\"T_19217_row5_col1\" class=\"data row5 col1\" >simple</td>\n",
       "    </tr>\n",
       "    <tr>\n",
       "      <th id=\"T_19217_level0_row6\" class=\"row_heading level0 row6\" >6</th>\n",
       "      <td id=\"T_19217_row6_col0\" class=\"data row6 col0\" >Numeric imputation</td>\n",
       "      <td id=\"T_19217_row6_col1\" class=\"data row6 col1\" >mean</td>\n",
       "    </tr>\n",
       "    <tr>\n",
       "      <th id=\"T_19217_level0_row7\" class=\"row_heading level0 row7\" >7</th>\n",
       "      <td id=\"T_19217_row7_col0\" class=\"data row7 col0\" >Categorical imputation</td>\n",
       "      <td id=\"T_19217_row7_col1\" class=\"data row7 col1\" >mode</td>\n",
       "    </tr>\n",
       "    <tr>\n",
       "      <th id=\"T_19217_level0_row8\" class=\"row_heading level0 row8\" >8</th>\n",
       "      <td id=\"T_19217_row8_col0\" class=\"data row8 col0\" >PCA</td>\n",
       "      <td id=\"T_19217_row8_col1\" class=\"data row8 col1\" >True</td>\n",
       "    </tr>\n",
       "    <tr>\n",
       "      <th id=\"T_19217_level0_row9\" class=\"row_heading level0 row9\" >9</th>\n",
       "      <td id=\"T_19217_row9_col0\" class=\"data row9 col0\" >PCA method</td>\n",
       "      <td id=\"T_19217_row9_col1\" class=\"data row9 col1\" >linear</td>\n",
       "    </tr>\n",
       "    <tr>\n",
       "      <th id=\"T_19217_level0_row10\" class=\"row_heading level0 row10\" >10</th>\n",
       "      <td id=\"T_19217_row10_col0\" class=\"data row10 col0\" >PCA components</td>\n",
       "      <td id=\"T_19217_row10_col1\" class=\"data row10 col1\" >None</td>\n",
       "    </tr>\n",
       "    <tr>\n",
       "      <th id=\"T_19217_level0_row11\" class=\"row_heading level0 row11\" >11</th>\n",
       "      <td id=\"T_19217_row11_col0\" class=\"data row11 col0\" >CPU Jobs</td>\n",
       "      <td id=\"T_19217_row11_col1\" class=\"data row11 col1\" >-1</td>\n",
       "    </tr>\n",
       "    <tr>\n",
       "      <th id=\"T_19217_level0_row12\" class=\"row_heading level0 row12\" >12</th>\n",
       "      <td id=\"T_19217_row12_col0\" class=\"data row12 col0\" >Use GPU</td>\n",
       "      <td id=\"T_19217_row12_col1\" class=\"data row12 col1\" >False</td>\n",
       "    </tr>\n",
       "    <tr>\n",
       "      <th id=\"T_19217_level0_row13\" class=\"row_heading level0 row13\" >13</th>\n",
       "      <td id=\"T_19217_row13_col0\" class=\"data row13 col0\" >Log Experiment</td>\n",
       "      <td id=\"T_19217_row13_col1\" class=\"data row13 col1\" >False</td>\n",
       "    </tr>\n",
       "    <tr>\n",
       "      <th id=\"T_19217_level0_row14\" class=\"row_heading level0 row14\" >14</th>\n",
       "      <td id=\"T_19217_row14_col0\" class=\"data row14 col0\" >Experiment Name</td>\n",
       "      <td id=\"T_19217_row14_col1\" class=\"data row14 col1\" >cluster-default-name</td>\n",
       "    </tr>\n",
       "    <tr>\n",
       "      <th id=\"T_19217_level0_row15\" class=\"row_heading level0 row15\" >15</th>\n",
       "      <td id=\"T_19217_row15_col0\" class=\"data row15 col0\" >USI</td>\n",
       "      <td id=\"T_19217_row15_col1\" class=\"data row15 col1\" >cf2b</td>\n",
       "    </tr>\n",
       "  </tbody>\n",
       "</table>\n"
      ],
      "text/plain": [
       "<pandas.io.formats.style.Styler at 0x20aa7204850>"
      ]
     },
     "metadata": {},
     "output_type": "display_data"
    },
    {
     "data": {
      "text/html": [],
      "text/plain": [
       "<IPython.core.display.HTML object>"
      ]
     },
     "metadata": {},
     "output_type": "display_data"
    },
    {
     "data": {
      "text/html": [
       "<style type=\"text/css\">\n",
       "</style>\n",
       "<table id=\"T_fa4d3\">\n",
       "  <thead>\n",
       "    <tr>\n",
       "      <th class=\"blank level0\" >&nbsp;</th>\n",
       "      <th id=\"T_fa4d3_level0_col0\" class=\"col_heading level0 col0\" >Silhouette</th>\n",
       "      <th id=\"T_fa4d3_level0_col1\" class=\"col_heading level0 col1\" >Calinski-Harabasz</th>\n",
       "      <th id=\"T_fa4d3_level0_col2\" class=\"col_heading level0 col2\" >Davies-Bouldin</th>\n",
       "      <th id=\"T_fa4d3_level0_col3\" class=\"col_heading level0 col3\" >Homogeneity</th>\n",
       "      <th id=\"T_fa4d3_level0_col4\" class=\"col_heading level0 col4\" >Rand Index</th>\n",
       "      <th id=\"T_fa4d3_level0_col5\" class=\"col_heading level0 col5\" >Completeness</th>\n",
       "    </tr>\n",
       "  </thead>\n",
       "  <tbody>\n",
       "    <tr>\n",
       "      <th id=\"T_fa4d3_level0_row0\" class=\"row_heading level0 row0\" >0</th>\n",
       "      <td id=\"T_fa4d3_row0_col0\" class=\"data row0 col0\" >0.4842</td>\n",
       "      <td id=\"T_fa4d3_row0_col1\" class=\"data row0 col1\" >487.0705</td>\n",
       "      <td id=\"T_fa4d3_row0_col2\" class=\"data row0 col2\" >0.8207</td>\n",
       "      <td id=\"T_fa4d3_row0_col3\" class=\"data row0 col3\" >0</td>\n",
       "      <td id=\"T_fa4d3_row0_col4\" class=\"data row0 col4\" >0</td>\n",
       "      <td id=\"T_fa4d3_row0_col5\" class=\"data row0 col5\" >0</td>\n",
       "    </tr>\n",
       "  </tbody>\n",
       "</table>\n"
      ],
      "text/plain": [
       "<pandas.io.formats.style.Styler at 0x20aa7205420>"
      ]
     },
     "metadata": {},
     "output_type": "display_data"
    },
    {
     "data": {
      "text/html": [],
      "text/plain": [
       "<IPython.core.display.HTML object>"
      ]
     },
     "metadata": {},
     "output_type": "display_data"
    },
    {
     "name": "stdout",
     "output_type": "stream",
     "text": [
      "For hclust with 5 clusters with PCA\n"
     ]
    },
    {
     "data": {
      "application/vnd.jupyter.widget-view+json": {
       "model_id": "2e6b07dc90cc4580b8c27928ce7f4829",
       "version_major": 2,
       "version_minor": 0
      },
      "text/plain": [
       "interactive(children=(ToggleButtons(description='Plot Type:', icons=('',), options=(('Pipeline Plot', 'pipelin…"
      ]
     },
     "metadata": {},
     "output_type": "display_data"
    },
    {
     "data": {
      "text/html": [
       "<style type=\"text/css\">\n",
       "#T_c0cfd_row4_col1, #T_c0cfd_row8_col1 {\n",
       "  background-color: lightgreen;\n",
       "}\n",
       "</style>\n",
       "<table id=\"T_c0cfd\">\n",
       "  <thead>\n",
       "    <tr>\n",
       "      <th class=\"blank level0\" >&nbsp;</th>\n",
       "      <th id=\"T_c0cfd_level0_col0\" class=\"col_heading level0 col0\" >Description</th>\n",
       "      <th id=\"T_c0cfd_level0_col1\" class=\"col_heading level0 col1\" >Value</th>\n",
       "    </tr>\n",
       "  </thead>\n",
       "  <tbody>\n",
       "    <tr>\n",
       "      <th id=\"T_c0cfd_level0_row0\" class=\"row_heading level0 row0\" >0</th>\n",
       "      <td id=\"T_c0cfd_row0_col0\" class=\"data row0 col0\" >Session id</td>\n",
       "      <td id=\"T_c0cfd_row0_col1\" class=\"data row0 col1\" >2</td>\n",
       "    </tr>\n",
       "    <tr>\n",
       "      <th id=\"T_c0cfd_level0_row1\" class=\"row_heading level0 row1\" >1</th>\n",
       "      <td id=\"T_c0cfd_row1_col0\" class=\"data row1 col0\" >Original data shape</td>\n",
       "      <td id=\"T_c0cfd_row1_col1\" class=\"data row1 col1\" >(150, 4)</td>\n",
       "    </tr>\n",
       "    <tr>\n",
       "      <th id=\"T_c0cfd_level0_row2\" class=\"row_heading level0 row2\" >2</th>\n",
       "      <td id=\"T_c0cfd_row2_col0\" class=\"data row2 col0\" >Transformed data shape</td>\n",
       "      <td id=\"T_c0cfd_row2_col1\" class=\"data row2 col1\" >(150, 4)</td>\n",
       "    </tr>\n",
       "    <tr>\n",
       "      <th id=\"T_c0cfd_level0_row3\" class=\"row_heading level0 row3\" >3</th>\n",
       "      <td id=\"T_c0cfd_row3_col0\" class=\"data row3 col0\" >Numeric features</td>\n",
       "      <td id=\"T_c0cfd_row3_col1\" class=\"data row3 col1\" >4</td>\n",
       "    </tr>\n",
       "    <tr>\n",
       "      <th id=\"T_c0cfd_level0_row4\" class=\"row_heading level0 row4\" >4</th>\n",
       "      <td id=\"T_c0cfd_row4_col0\" class=\"data row4 col0\" >Preprocess</td>\n",
       "      <td id=\"T_c0cfd_row4_col1\" class=\"data row4 col1\" >True</td>\n",
       "    </tr>\n",
       "    <tr>\n",
       "      <th id=\"T_c0cfd_level0_row5\" class=\"row_heading level0 row5\" >5</th>\n",
       "      <td id=\"T_c0cfd_row5_col0\" class=\"data row5 col0\" >Imputation type</td>\n",
       "      <td id=\"T_c0cfd_row5_col1\" class=\"data row5 col1\" >simple</td>\n",
       "    </tr>\n",
       "    <tr>\n",
       "      <th id=\"T_c0cfd_level0_row6\" class=\"row_heading level0 row6\" >6</th>\n",
       "      <td id=\"T_c0cfd_row6_col0\" class=\"data row6 col0\" >Numeric imputation</td>\n",
       "      <td id=\"T_c0cfd_row6_col1\" class=\"data row6 col1\" >mean</td>\n",
       "    </tr>\n",
       "    <tr>\n",
       "      <th id=\"T_c0cfd_level0_row7\" class=\"row_heading level0 row7\" >7</th>\n",
       "      <td id=\"T_c0cfd_row7_col0\" class=\"data row7 col0\" >Categorical imputation</td>\n",
       "      <td id=\"T_c0cfd_row7_col1\" class=\"data row7 col1\" >mode</td>\n",
       "    </tr>\n",
       "    <tr>\n",
       "      <th id=\"T_c0cfd_level0_row8\" class=\"row_heading level0 row8\" >8</th>\n",
       "      <td id=\"T_c0cfd_row8_col0\" class=\"data row8 col0\" >PCA</td>\n",
       "      <td id=\"T_c0cfd_row8_col1\" class=\"data row8 col1\" >True</td>\n",
       "    </tr>\n",
       "    <tr>\n",
       "      <th id=\"T_c0cfd_level0_row9\" class=\"row_heading level0 row9\" >9</th>\n",
       "      <td id=\"T_c0cfd_row9_col0\" class=\"data row9 col0\" >PCA method</td>\n",
       "      <td id=\"T_c0cfd_row9_col1\" class=\"data row9 col1\" >linear</td>\n",
       "    </tr>\n",
       "    <tr>\n",
       "      <th id=\"T_c0cfd_level0_row10\" class=\"row_heading level0 row10\" >10</th>\n",
       "      <td id=\"T_c0cfd_row10_col0\" class=\"data row10 col0\" >PCA components</td>\n",
       "      <td id=\"T_c0cfd_row10_col1\" class=\"data row10 col1\" >None</td>\n",
       "    </tr>\n",
       "    <tr>\n",
       "      <th id=\"T_c0cfd_level0_row11\" class=\"row_heading level0 row11\" >11</th>\n",
       "      <td id=\"T_c0cfd_row11_col0\" class=\"data row11 col0\" >CPU Jobs</td>\n",
       "      <td id=\"T_c0cfd_row11_col1\" class=\"data row11 col1\" >-1</td>\n",
       "    </tr>\n",
       "    <tr>\n",
       "      <th id=\"T_c0cfd_level0_row12\" class=\"row_heading level0 row12\" >12</th>\n",
       "      <td id=\"T_c0cfd_row12_col0\" class=\"data row12 col0\" >Use GPU</td>\n",
       "      <td id=\"T_c0cfd_row12_col1\" class=\"data row12 col1\" >False</td>\n",
       "    </tr>\n",
       "    <tr>\n",
       "      <th id=\"T_c0cfd_level0_row13\" class=\"row_heading level0 row13\" >13</th>\n",
       "      <td id=\"T_c0cfd_row13_col0\" class=\"data row13 col0\" >Log Experiment</td>\n",
       "      <td id=\"T_c0cfd_row13_col1\" class=\"data row13 col1\" >False</td>\n",
       "    </tr>\n",
       "    <tr>\n",
       "      <th id=\"T_c0cfd_level0_row14\" class=\"row_heading level0 row14\" >14</th>\n",
       "      <td id=\"T_c0cfd_row14_col0\" class=\"data row14 col0\" >Experiment Name</td>\n",
       "      <td id=\"T_c0cfd_row14_col1\" class=\"data row14 col1\" >cluster-default-name</td>\n",
       "    </tr>\n",
       "    <tr>\n",
       "      <th id=\"T_c0cfd_level0_row15\" class=\"row_heading level0 row15\" >15</th>\n",
       "      <td id=\"T_c0cfd_row15_col0\" class=\"data row15 col0\" >USI</td>\n",
       "      <td id=\"T_c0cfd_row15_col1\" class=\"data row15 col1\" >8b18</td>\n",
       "    </tr>\n",
       "  </tbody>\n",
       "</table>\n"
      ],
      "text/plain": [
       "<pandas.io.formats.style.Styler at 0x20aa735ae00>"
      ]
     },
     "metadata": {},
     "output_type": "display_data"
    },
    {
     "data": {
      "text/html": [],
      "text/plain": [
       "<IPython.core.display.HTML object>"
      ]
     },
     "metadata": {},
     "output_type": "display_data"
    },
    {
     "data": {
      "text/html": [
       "<style type=\"text/css\">\n",
       "</style>\n",
       "<table id=\"T_9ba36\">\n",
       "  <thead>\n",
       "    <tr>\n",
       "      <th class=\"blank level0\" >&nbsp;</th>\n",
       "      <th id=\"T_9ba36_level0_col0\" class=\"col_heading level0 col0\" >Silhouette</th>\n",
       "      <th id=\"T_9ba36_level0_col1\" class=\"col_heading level0 col1\" >Calinski-Harabasz</th>\n",
       "      <th id=\"T_9ba36_level0_col2\" class=\"col_heading level0 col2\" >Davies-Bouldin</th>\n",
       "      <th id=\"T_9ba36_level0_col3\" class=\"col_heading level0 col3\" >Homogeneity</th>\n",
       "      <th id=\"T_9ba36_level0_col4\" class=\"col_heading level0 col4\" >Rand Index</th>\n",
       "      <th id=\"T_9ba36_level0_col5\" class=\"col_heading level0 col5\" >Completeness</th>\n",
       "    </tr>\n",
       "  </thead>\n",
       "  <tbody>\n",
       "    <tr>\n",
       "      <th id=\"T_9ba36_level0_row0\" class=\"row_heading level0 row0\" >0</th>\n",
       "      <td id=\"T_9ba36_row0_col0\" class=\"data row0 col0\" >0.6855</td>\n",
       "      <td id=\"T_9ba36_row0_col1\" class=\"data row0 col1\" >508.8823</td>\n",
       "      <td id=\"T_9ba36_row0_col2\" class=\"data row0 col2\" >0.3893</td>\n",
       "      <td id=\"T_9ba36_row0_col3\" class=\"data row0 col3\" >0</td>\n",
       "      <td id=\"T_9ba36_row0_col4\" class=\"data row0 col4\" >0</td>\n",
       "      <td id=\"T_9ba36_row0_col5\" class=\"data row0 col5\" >0</td>\n",
       "    </tr>\n",
       "  </tbody>\n",
       "</table>\n"
      ],
      "text/plain": [
       "<pandas.io.formats.style.Styler at 0x20aa7359bd0>"
      ]
     },
     "metadata": {},
     "output_type": "display_data"
    },
    {
     "data": {
      "text/html": [],
      "text/plain": [
       "<IPython.core.display.HTML object>"
      ]
     },
     "metadata": {},
     "output_type": "display_data"
    },
    {
     "name": "stdout",
     "output_type": "stream",
     "text": [
      "For meanshift with 3 clusters with PCA\n"
     ]
    },
    {
     "data": {
      "application/vnd.jupyter.widget-view+json": {
       "model_id": "46f6ede06c8d41a6a6ff926bda599d87",
       "version_major": 2,
       "version_minor": 0
      },
      "text/plain": [
       "interactive(children=(ToggleButtons(description='Plot Type:', icons=('',), options=(('Pipeline Plot', 'pipelin…"
      ]
     },
     "metadata": {},
     "output_type": "display_data"
    },
    {
     "data": {
      "text/html": [
       "<style type=\"text/css\">\n",
       "#T_53495_row4_col1, #T_53495_row8_col1 {\n",
       "  background-color: lightgreen;\n",
       "}\n",
       "</style>\n",
       "<table id=\"T_53495\">\n",
       "  <thead>\n",
       "    <tr>\n",
       "      <th class=\"blank level0\" >&nbsp;</th>\n",
       "      <th id=\"T_53495_level0_col0\" class=\"col_heading level0 col0\" >Description</th>\n",
       "      <th id=\"T_53495_level0_col1\" class=\"col_heading level0 col1\" >Value</th>\n",
       "    </tr>\n",
       "  </thead>\n",
       "  <tbody>\n",
       "    <tr>\n",
       "      <th id=\"T_53495_level0_row0\" class=\"row_heading level0 row0\" >0</th>\n",
       "      <td id=\"T_53495_row0_col0\" class=\"data row0 col0\" >Session id</td>\n",
       "      <td id=\"T_53495_row0_col1\" class=\"data row0 col1\" >2</td>\n",
       "    </tr>\n",
       "    <tr>\n",
       "      <th id=\"T_53495_level0_row1\" class=\"row_heading level0 row1\" >1</th>\n",
       "      <td id=\"T_53495_row1_col0\" class=\"data row1 col0\" >Original data shape</td>\n",
       "      <td id=\"T_53495_row1_col1\" class=\"data row1 col1\" >(150, 4)</td>\n",
       "    </tr>\n",
       "    <tr>\n",
       "      <th id=\"T_53495_level0_row2\" class=\"row_heading level0 row2\" >2</th>\n",
       "      <td id=\"T_53495_row2_col0\" class=\"data row2 col0\" >Transformed data shape</td>\n",
       "      <td id=\"T_53495_row2_col1\" class=\"data row2 col1\" >(150, 4)</td>\n",
       "    </tr>\n",
       "    <tr>\n",
       "      <th id=\"T_53495_level0_row3\" class=\"row_heading level0 row3\" >3</th>\n",
       "      <td id=\"T_53495_row3_col0\" class=\"data row3 col0\" >Numeric features</td>\n",
       "      <td id=\"T_53495_row3_col1\" class=\"data row3 col1\" >4</td>\n",
       "    </tr>\n",
       "    <tr>\n",
       "      <th id=\"T_53495_level0_row4\" class=\"row_heading level0 row4\" >4</th>\n",
       "      <td id=\"T_53495_row4_col0\" class=\"data row4 col0\" >Preprocess</td>\n",
       "      <td id=\"T_53495_row4_col1\" class=\"data row4 col1\" >True</td>\n",
       "    </tr>\n",
       "    <tr>\n",
       "      <th id=\"T_53495_level0_row5\" class=\"row_heading level0 row5\" >5</th>\n",
       "      <td id=\"T_53495_row5_col0\" class=\"data row5 col0\" >Imputation type</td>\n",
       "      <td id=\"T_53495_row5_col1\" class=\"data row5 col1\" >simple</td>\n",
       "    </tr>\n",
       "    <tr>\n",
       "      <th id=\"T_53495_level0_row6\" class=\"row_heading level0 row6\" >6</th>\n",
       "      <td id=\"T_53495_row6_col0\" class=\"data row6 col0\" >Numeric imputation</td>\n",
       "      <td id=\"T_53495_row6_col1\" class=\"data row6 col1\" >mean</td>\n",
       "    </tr>\n",
       "    <tr>\n",
       "      <th id=\"T_53495_level0_row7\" class=\"row_heading level0 row7\" >7</th>\n",
       "      <td id=\"T_53495_row7_col0\" class=\"data row7 col0\" >Categorical imputation</td>\n",
       "      <td id=\"T_53495_row7_col1\" class=\"data row7 col1\" >mode</td>\n",
       "    </tr>\n",
       "    <tr>\n",
       "      <th id=\"T_53495_level0_row8\" class=\"row_heading level0 row8\" >8</th>\n",
       "      <td id=\"T_53495_row8_col0\" class=\"data row8 col0\" >PCA</td>\n",
       "      <td id=\"T_53495_row8_col1\" class=\"data row8 col1\" >True</td>\n",
       "    </tr>\n",
       "    <tr>\n",
       "      <th id=\"T_53495_level0_row9\" class=\"row_heading level0 row9\" >9</th>\n",
       "      <td id=\"T_53495_row9_col0\" class=\"data row9 col0\" >PCA method</td>\n",
       "      <td id=\"T_53495_row9_col1\" class=\"data row9 col1\" >linear</td>\n",
       "    </tr>\n",
       "    <tr>\n",
       "      <th id=\"T_53495_level0_row10\" class=\"row_heading level0 row10\" >10</th>\n",
       "      <td id=\"T_53495_row10_col0\" class=\"data row10 col0\" >PCA components</td>\n",
       "      <td id=\"T_53495_row10_col1\" class=\"data row10 col1\" >None</td>\n",
       "    </tr>\n",
       "    <tr>\n",
       "      <th id=\"T_53495_level0_row11\" class=\"row_heading level0 row11\" >11</th>\n",
       "      <td id=\"T_53495_row11_col0\" class=\"data row11 col0\" >CPU Jobs</td>\n",
       "      <td id=\"T_53495_row11_col1\" class=\"data row11 col1\" >-1</td>\n",
       "    </tr>\n",
       "    <tr>\n",
       "      <th id=\"T_53495_level0_row12\" class=\"row_heading level0 row12\" >12</th>\n",
       "      <td id=\"T_53495_row12_col0\" class=\"data row12 col0\" >Use GPU</td>\n",
       "      <td id=\"T_53495_row12_col1\" class=\"data row12 col1\" >False</td>\n",
       "    </tr>\n",
       "    <tr>\n",
       "      <th id=\"T_53495_level0_row13\" class=\"row_heading level0 row13\" >13</th>\n",
       "      <td id=\"T_53495_row13_col0\" class=\"data row13 col0\" >Log Experiment</td>\n",
       "      <td id=\"T_53495_row13_col1\" class=\"data row13 col1\" >False</td>\n",
       "    </tr>\n",
       "    <tr>\n",
       "      <th id=\"T_53495_level0_row14\" class=\"row_heading level0 row14\" >14</th>\n",
       "      <td id=\"T_53495_row14_col0\" class=\"data row14 col0\" >Experiment Name</td>\n",
       "      <td id=\"T_53495_row14_col1\" class=\"data row14 col1\" >cluster-default-name</td>\n",
       "    </tr>\n",
       "    <tr>\n",
       "      <th id=\"T_53495_level0_row15\" class=\"row_heading level0 row15\" >15</th>\n",
       "      <td id=\"T_53495_row15_col0\" class=\"data row15 col0\" >USI</td>\n",
       "      <td id=\"T_53495_row15_col1\" class=\"data row15 col1\" >6f92</td>\n",
       "    </tr>\n",
       "  </tbody>\n",
       "</table>\n"
      ],
      "text/plain": [
       "<pandas.io.formats.style.Styler at 0x20aa73de710>"
      ]
     },
     "metadata": {},
     "output_type": "display_data"
    },
    {
     "data": {
      "text/html": [],
      "text/plain": [
       "<IPython.core.display.HTML object>"
      ]
     },
     "metadata": {},
     "output_type": "display_data"
    },
    {
     "data": {
      "text/html": [
       "<style type=\"text/css\">\n",
       "</style>\n",
       "<table id=\"T_d3432\">\n",
       "  <thead>\n",
       "    <tr>\n",
       "      <th class=\"blank level0\" >&nbsp;</th>\n",
       "      <th id=\"T_d3432_level0_col0\" class=\"col_heading level0 col0\" >Silhouette</th>\n",
       "      <th id=\"T_d3432_level0_col1\" class=\"col_heading level0 col1\" >Calinski-Harabasz</th>\n",
       "      <th id=\"T_d3432_level0_col2\" class=\"col_heading level0 col2\" >Davies-Bouldin</th>\n",
       "      <th id=\"T_d3432_level0_col3\" class=\"col_heading level0 col3\" >Homogeneity</th>\n",
       "      <th id=\"T_d3432_level0_col4\" class=\"col_heading level0 col4\" >Rand Index</th>\n",
       "      <th id=\"T_d3432_level0_col5\" class=\"col_heading level0 col5\" >Completeness</th>\n",
       "    </tr>\n",
       "  </thead>\n",
       "  <tbody>\n",
       "    <tr>\n",
       "      <th id=\"T_d3432_level0_row0\" class=\"row_heading level0 row0\" >0</th>\n",
       "      <td id=\"T_d3432_row0_col0\" class=\"data row0 col0\" >0.6855</td>\n",
       "      <td id=\"T_d3432_row0_col1\" class=\"data row0 col1\" >508.8823</td>\n",
       "      <td id=\"T_d3432_row0_col2\" class=\"data row0 col2\" >0.3893</td>\n",
       "      <td id=\"T_d3432_row0_col3\" class=\"data row0 col3\" >0</td>\n",
       "      <td id=\"T_d3432_row0_col4\" class=\"data row0 col4\" >0</td>\n",
       "      <td id=\"T_d3432_row0_col5\" class=\"data row0 col5\" >0</td>\n",
       "    </tr>\n",
       "  </tbody>\n",
       "</table>\n"
      ],
      "text/plain": [
       "<pandas.io.formats.style.Styler at 0x20aa731e8c0>"
      ]
     },
     "metadata": {},
     "output_type": "display_data"
    },
    {
     "data": {
      "text/html": [],
      "text/plain": [
       "<IPython.core.display.HTML object>"
      ]
     },
     "metadata": {},
     "output_type": "display_data"
    },
    {
     "name": "stdout",
     "output_type": "stream",
     "text": [
      "For meanshift with 4 clusters with PCA\n"
     ]
    },
    {
     "data": {
      "application/vnd.jupyter.widget-view+json": {
       "model_id": "a4247db28a344d06bffbbd280a05f64d",
       "version_major": 2,
       "version_minor": 0
      },
      "text/plain": [
       "interactive(children=(ToggleButtons(description='Plot Type:', icons=('',), options=(('Pipeline Plot', 'pipelin…"
      ]
     },
     "metadata": {},
     "output_type": "display_data"
    },
    {
     "data": {
      "text/html": [
       "<style type=\"text/css\">\n",
       "#T_c7bdd_row4_col1, #T_c7bdd_row8_col1 {\n",
       "  background-color: lightgreen;\n",
       "}\n",
       "</style>\n",
       "<table id=\"T_c7bdd\">\n",
       "  <thead>\n",
       "    <tr>\n",
       "      <th class=\"blank level0\" >&nbsp;</th>\n",
       "      <th id=\"T_c7bdd_level0_col0\" class=\"col_heading level0 col0\" >Description</th>\n",
       "      <th id=\"T_c7bdd_level0_col1\" class=\"col_heading level0 col1\" >Value</th>\n",
       "    </tr>\n",
       "  </thead>\n",
       "  <tbody>\n",
       "    <tr>\n",
       "      <th id=\"T_c7bdd_level0_row0\" class=\"row_heading level0 row0\" >0</th>\n",
       "      <td id=\"T_c7bdd_row0_col0\" class=\"data row0 col0\" >Session id</td>\n",
       "      <td id=\"T_c7bdd_row0_col1\" class=\"data row0 col1\" >2</td>\n",
       "    </tr>\n",
       "    <tr>\n",
       "      <th id=\"T_c7bdd_level0_row1\" class=\"row_heading level0 row1\" >1</th>\n",
       "      <td id=\"T_c7bdd_row1_col0\" class=\"data row1 col0\" >Original data shape</td>\n",
       "      <td id=\"T_c7bdd_row1_col1\" class=\"data row1 col1\" >(150, 4)</td>\n",
       "    </tr>\n",
       "    <tr>\n",
       "      <th id=\"T_c7bdd_level0_row2\" class=\"row_heading level0 row2\" >2</th>\n",
       "      <td id=\"T_c7bdd_row2_col0\" class=\"data row2 col0\" >Transformed data shape</td>\n",
       "      <td id=\"T_c7bdd_row2_col1\" class=\"data row2 col1\" >(150, 4)</td>\n",
       "    </tr>\n",
       "    <tr>\n",
       "      <th id=\"T_c7bdd_level0_row3\" class=\"row_heading level0 row3\" >3</th>\n",
       "      <td id=\"T_c7bdd_row3_col0\" class=\"data row3 col0\" >Numeric features</td>\n",
       "      <td id=\"T_c7bdd_row3_col1\" class=\"data row3 col1\" >4</td>\n",
       "    </tr>\n",
       "    <tr>\n",
       "      <th id=\"T_c7bdd_level0_row4\" class=\"row_heading level0 row4\" >4</th>\n",
       "      <td id=\"T_c7bdd_row4_col0\" class=\"data row4 col0\" >Preprocess</td>\n",
       "      <td id=\"T_c7bdd_row4_col1\" class=\"data row4 col1\" >True</td>\n",
       "    </tr>\n",
       "    <tr>\n",
       "      <th id=\"T_c7bdd_level0_row5\" class=\"row_heading level0 row5\" >5</th>\n",
       "      <td id=\"T_c7bdd_row5_col0\" class=\"data row5 col0\" >Imputation type</td>\n",
       "      <td id=\"T_c7bdd_row5_col1\" class=\"data row5 col1\" >simple</td>\n",
       "    </tr>\n",
       "    <tr>\n",
       "      <th id=\"T_c7bdd_level0_row6\" class=\"row_heading level0 row6\" >6</th>\n",
       "      <td id=\"T_c7bdd_row6_col0\" class=\"data row6 col0\" >Numeric imputation</td>\n",
       "      <td id=\"T_c7bdd_row6_col1\" class=\"data row6 col1\" >mean</td>\n",
       "    </tr>\n",
       "    <tr>\n",
       "      <th id=\"T_c7bdd_level0_row7\" class=\"row_heading level0 row7\" >7</th>\n",
       "      <td id=\"T_c7bdd_row7_col0\" class=\"data row7 col0\" >Categorical imputation</td>\n",
       "      <td id=\"T_c7bdd_row7_col1\" class=\"data row7 col1\" >mode</td>\n",
       "    </tr>\n",
       "    <tr>\n",
       "      <th id=\"T_c7bdd_level0_row8\" class=\"row_heading level0 row8\" >8</th>\n",
       "      <td id=\"T_c7bdd_row8_col0\" class=\"data row8 col0\" >PCA</td>\n",
       "      <td id=\"T_c7bdd_row8_col1\" class=\"data row8 col1\" >True</td>\n",
       "    </tr>\n",
       "    <tr>\n",
       "      <th id=\"T_c7bdd_level0_row9\" class=\"row_heading level0 row9\" >9</th>\n",
       "      <td id=\"T_c7bdd_row9_col0\" class=\"data row9 col0\" >PCA method</td>\n",
       "      <td id=\"T_c7bdd_row9_col1\" class=\"data row9 col1\" >linear</td>\n",
       "    </tr>\n",
       "    <tr>\n",
       "      <th id=\"T_c7bdd_level0_row10\" class=\"row_heading level0 row10\" >10</th>\n",
       "      <td id=\"T_c7bdd_row10_col0\" class=\"data row10 col0\" >PCA components</td>\n",
       "      <td id=\"T_c7bdd_row10_col1\" class=\"data row10 col1\" >None</td>\n",
       "    </tr>\n",
       "    <tr>\n",
       "      <th id=\"T_c7bdd_level0_row11\" class=\"row_heading level0 row11\" >11</th>\n",
       "      <td id=\"T_c7bdd_row11_col0\" class=\"data row11 col0\" >CPU Jobs</td>\n",
       "      <td id=\"T_c7bdd_row11_col1\" class=\"data row11 col1\" >-1</td>\n",
       "    </tr>\n",
       "    <tr>\n",
       "      <th id=\"T_c7bdd_level0_row12\" class=\"row_heading level0 row12\" >12</th>\n",
       "      <td id=\"T_c7bdd_row12_col0\" class=\"data row12 col0\" >Use GPU</td>\n",
       "      <td id=\"T_c7bdd_row12_col1\" class=\"data row12 col1\" >False</td>\n",
       "    </tr>\n",
       "    <tr>\n",
       "      <th id=\"T_c7bdd_level0_row13\" class=\"row_heading level0 row13\" >13</th>\n",
       "      <td id=\"T_c7bdd_row13_col0\" class=\"data row13 col0\" >Log Experiment</td>\n",
       "      <td id=\"T_c7bdd_row13_col1\" class=\"data row13 col1\" >False</td>\n",
       "    </tr>\n",
       "    <tr>\n",
       "      <th id=\"T_c7bdd_level0_row14\" class=\"row_heading level0 row14\" >14</th>\n",
       "      <td id=\"T_c7bdd_row14_col0\" class=\"data row14 col0\" >Experiment Name</td>\n",
       "      <td id=\"T_c7bdd_row14_col1\" class=\"data row14 col1\" >cluster-default-name</td>\n",
       "    </tr>\n",
       "    <tr>\n",
       "      <th id=\"T_c7bdd_level0_row15\" class=\"row_heading level0 row15\" >15</th>\n",
       "      <td id=\"T_c7bdd_row15_col0\" class=\"data row15 col0\" >USI</td>\n",
       "      <td id=\"T_c7bdd_row15_col1\" class=\"data row15 col1\" >1f16</td>\n",
       "    </tr>\n",
       "  </tbody>\n",
       "</table>\n"
      ],
      "text/plain": [
       "<pandas.io.formats.style.Styler at 0x20aa74117e0>"
      ]
     },
     "metadata": {},
     "output_type": "display_data"
    },
    {
     "data": {
      "text/html": [],
      "text/plain": [
       "<IPython.core.display.HTML object>"
      ]
     },
     "metadata": {},
     "output_type": "display_data"
    },
    {
     "data": {
      "text/html": [
       "<style type=\"text/css\">\n",
       "</style>\n",
       "<table id=\"T_9991f\">\n",
       "  <thead>\n",
       "    <tr>\n",
       "      <th class=\"blank level0\" >&nbsp;</th>\n",
       "      <th id=\"T_9991f_level0_col0\" class=\"col_heading level0 col0\" >Silhouette</th>\n",
       "      <th id=\"T_9991f_level0_col1\" class=\"col_heading level0 col1\" >Calinski-Harabasz</th>\n",
       "      <th id=\"T_9991f_level0_col2\" class=\"col_heading level0 col2\" >Davies-Bouldin</th>\n",
       "      <th id=\"T_9991f_level0_col3\" class=\"col_heading level0 col3\" >Homogeneity</th>\n",
       "      <th id=\"T_9991f_level0_col4\" class=\"col_heading level0 col4\" >Rand Index</th>\n",
       "      <th id=\"T_9991f_level0_col5\" class=\"col_heading level0 col5\" >Completeness</th>\n",
       "    </tr>\n",
       "  </thead>\n",
       "  <tbody>\n",
       "    <tr>\n",
       "      <th id=\"T_9991f_level0_row0\" class=\"row_heading level0 row0\" >0</th>\n",
       "      <td id=\"T_9991f_row0_col0\" class=\"data row0 col0\" >0.6855</td>\n",
       "      <td id=\"T_9991f_row0_col1\" class=\"data row0 col1\" >508.8823</td>\n",
       "      <td id=\"T_9991f_row0_col2\" class=\"data row0 col2\" >0.3893</td>\n",
       "      <td id=\"T_9991f_row0_col3\" class=\"data row0 col3\" >0</td>\n",
       "      <td id=\"T_9991f_row0_col4\" class=\"data row0 col4\" >0</td>\n",
       "      <td id=\"T_9991f_row0_col5\" class=\"data row0 col5\" >0</td>\n",
       "    </tr>\n",
       "  </tbody>\n",
       "</table>\n"
      ],
      "text/plain": [
       "<pandas.io.formats.style.Styler at 0x20aa735a530>"
      ]
     },
     "metadata": {},
     "output_type": "display_data"
    },
    {
     "data": {
      "text/html": [],
      "text/plain": [
       "<IPython.core.display.HTML object>"
      ]
     },
     "metadata": {},
     "output_type": "display_data"
    },
    {
     "name": "stdout",
     "output_type": "stream",
     "text": [
      "For meanshift with 5 clusters with PCA\n"
     ]
    },
    {
     "data": {
      "application/vnd.jupyter.widget-view+json": {
       "model_id": "e846b76e60424864b1e85ae43057772e",
       "version_major": 2,
       "version_minor": 0
      },
      "text/plain": [
       "interactive(children=(ToggleButtons(description='Plot Type:', icons=('',), options=(('Pipeline Plot', 'pipelin…"
      ]
     },
     "metadata": {},
     "output_type": "display_data"
    }
   ],
   "source": [
    "for model in models:\n",
    "    for cluster in clusters:\n",
    "        setup1 = setup(data, normalize=False, pca=True,session_id = 2)\n",
    "        mod1  = create_model(model,num_clusters = cluster)\n",
    "        print(f\"For {model} with {cluster} clusters with PCA\")\n",
    "        evaluate_model(mod1)"
   ]
  },
  {
   "cell_type": "markdown",
   "id": "d1ecba8a",
   "metadata": {},
   "source": [
    "### Using Transformation and Normalization"
   ]
  },
  {
   "cell_type": "code",
   "execution_count": 9,
   "id": "d2e9f64f",
   "metadata": {},
   "outputs": [
    {
     "data": {
      "text/html": [
       "<style type=\"text/css\">\n",
       "#T_8bee7_row4_col1, #T_8bee7_row10_col1 {\n",
       "  background-color: lightgreen;\n",
       "}\n",
       "</style>\n",
       "<table id=\"T_8bee7\">\n",
       "  <thead>\n",
       "    <tr>\n",
       "      <th class=\"blank level0\" >&nbsp;</th>\n",
       "      <th id=\"T_8bee7_level0_col0\" class=\"col_heading level0 col0\" >Description</th>\n",
       "      <th id=\"T_8bee7_level0_col1\" class=\"col_heading level0 col1\" >Value</th>\n",
       "    </tr>\n",
       "  </thead>\n",
       "  <tbody>\n",
       "    <tr>\n",
       "      <th id=\"T_8bee7_level0_row0\" class=\"row_heading level0 row0\" >0</th>\n",
       "      <td id=\"T_8bee7_row0_col0\" class=\"data row0 col0\" >Session id</td>\n",
       "      <td id=\"T_8bee7_row0_col1\" class=\"data row0 col1\" >2</td>\n",
       "    </tr>\n",
       "    <tr>\n",
       "      <th id=\"T_8bee7_level0_row1\" class=\"row_heading level0 row1\" >1</th>\n",
       "      <td id=\"T_8bee7_row1_col0\" class=\"data row1 col0\" >Original data shape</td>\n",
       "      <td id=\"T_8bee7_row1_col1\" class=\"data row1 col1\" >(150, 4)</td>\n",
       "    </tr>\n",
       "    <tr>\n",
       "      <th id=\"T_8bee7_level0_row2\" class=\"row_heading level0 row2\" >2</th>\n",
       "      <td id=\"T_8bee7_row2_col0\" class=\"data row2 col0\" >Transformed data shape</td>\n",
       "      <td id=\"T_8bee7_row2_col1\" class=\"data row2 col1\" >(150, 4)</td>\n",
       "    </tr>\n",
       "    <tr>\n",
       "      <th id=\"T_8bee7_level0_row3\" class=\"row_heading level0 row3\" >3</th>\n",
       "      <td id=\"T_8bee7_row3_col0\" class=\"data row3 col0\" >Numeric features</td>\n",
       "      <td id=\"T_8bee7_row3_col1\" class=\"data row3 col1\" >4</td>\n",
       "    </tr>\n",
       "    <tr>\n",
       "      <th id=\"T_8bee7_level0_row4\" class=\"row_heading level0 row4\" >4</th>\n",
       "      <td id=\"T_8bee7_row4_col0\" class=\"data row4 col0\" >Preprocess</td>\n",
       "      <td id=\"T_8bee7_row4_col1\" class=\"data row4 col1\" >True</td>\n",
       "    </tr>\n",
       "    <tr>\n",
       "      <th id=\"T_8bee7_level0_row5\" class=\"row_heading level0 row5\" >5</th>\n",
       "      <td id=\"T_8bee7_row5_col0\" class=\"data row5 col0\" >Imputation type</td>\n",
       "      <td id=\"T_8bee7_row5_col1\" class=\"data row5 col1\" >simple</td>\n",
       "    </tr>\n",
       "    <tr>\n",
       "      <th id=\"T_8bee7_level0_row6\" class=\"row_heading level0 row6\" >6</th>\n",
       "      <td id=\"T_8bee7_row6_col0\" class=\"data row6 col0\" >Numeric imputation</td>\n",
       "      <td id=\"T_8bee7_row6_col1\" class=\"data row6 col1\" >mean</td>\n",
       "    </tr>\n",
       "    <tr>\n",
       "      <th id=\"T_8bee7_level0_row7\" class=\"row_heading level0 row7\" >7</th>\n",
       "      <td id=\"T_8bee7_row7_col0\" class=\"data row7 col0\" >Categorical imputation</td>\n",
       "      <td id=\"T_8bee7_row7_col1\" class=\"data row7 col1\" >mode</td>\n",
       "    </tr>\n",
       "    <tr>\n",
       "      <th id=\"T_8bee7_level0_row8\" class=\"row_heading level0 row8\" >8</th>\n",
       "      <td id=\"T_8bee7_row8_col0\" class=\"data row8 col0\" >Transformation</td>\n",
       "      <td id=\"T_8bee7_row8_col1\" class=\"data row8 col1\" ><function custom_preprocess at 0x0000020AA5F8CCA0></td>\n",
       "    </tr>\n",
       "    <tr>\n",
       "      <th id=\"T_8bee7_level0_row9\" class=\"row_heading level0 row9\" >9</th>\n",
       "      <td id=\"T_8bee7_row9_col0\" class=\"data row9 col0\" >Transformation method</td>\n",
       "      <td id=\"T_8bee7_row9_col1\" class=\"data row9 col1\" >yeo-johnson</td>\n",
       "    </tr>\n",
       "    <tr>\n",
       "      <th id=\"T_8bee7_level0_row10\" class=\"row_heading level0 row10\" >10</th>\n",
       "      <td id=\"T_8bee7_row10_col0\" class=\"data row10 col0\" >Normalize</td>\n",
       "      <td id=\"T_8bee7_row10_col1\" class=\"data row10 col1\" >True</td>\n",
       "    </tr>\n",
       "    <tr>\n",
       "      <th id=\"T_8bee7_level0_row11\" class=\"row_heading level0 row11\" >11</th>\n",
       "      <td id=\"T_8bee7_row11_col0\" class=\"data row11 col0\" >Normalize method</td>\n",
       "      <td id=\"T_8bee7_row11_col1\" class=\"data row11 col1\" >zscore</td>\n",
       "    </tr>\n",
       "    <tr>\n",
       "      <th id=\"T_8bee7_level0_row12\" class=\"row_heading level0 row12\" >12</th>\n",
       "      <td id=\"T_8bee7_row12_col0\" class=\"data row12 col0\" >CPU Jobs</td>\n",
       "      <td id=\"T_8bee7_row12_col1\" class=\"data row12 col1\" >-1</td>\n",
       "    </tr>\n",
       "    <tr>\n",
       "      <th id=\"T_8bee7_level0_row13\" class=\"row_heading level0 row13\" >13</th>\n",
       "      <td id=\"T_8bee7_row13_col0\" class=\"data row13 col0\" >Use GPU</td>\n",
       "      <td id=\"T_8bee7_row13_col1\" class=\"data row13 col1\" >False</td>\n",
       "    </tr>\n",
       "    <tr>\n",
       "      <th id=\"T_8bee7_level0_row14\" class=\"row_heading level0 row14\" >14</th>\n",
       "      <td id=\"T_8bee7_row14_col0\" class=\"data row14 col0\" >Log Experiment</td>\n",
       "      <td id=\"T_8bee7_row14_col1\" class=\"data row14 col1\" >False</td>\n",
       "    </tr>\n",
       "    <tr>\n",
       "      <th id=\"T_8bee7_level0_row15\" class=\"row_heading level0 row15\" >15</th>\n",
       "      <td id=\"T_8bee7_row15_col0\" class=\"data row15 col0\" >Experiment Name</td>\n",
       "      <td id=\"T_8bee7_row15_col1\" class=\"data row15 col1\" >cluster-default-name</td>\n",
       "    </tr>\n",
       "    <tr>\n",
       "      <th id=\"T_8bee7_level0_row16\" class=\"row_heading level0 row16\" >16</th>\n",
       "      <td id=\"T_8bee7_row16_col0\" class=\"data row16 col0\" >USI</td>\n",
       "      <td id=\"T_8bee7_row16_col1\" class=\"data row16 col1\" >cbe1</td>\n",
       "    </tr>\n",
       "  </tbody>\n",
       "</table>\n"
      ],
      "text/plain": [
       "<pandas.io.formats.style.Styler at 0x20aa73a3cd0>"
      ]
     },
     "metadata": {},
     "output_type": "display_data"
    },
    {
     "data": {
      "text/html": [],
      "text/plain": [
       "<IPython.core.display.HTML object>"
      ]
     },
     "metadata": {},
     "output_type": "display_data"
    },
    {
     "data": {
      "text/html": [
       "<style type=\"text/css\">\n",
       "</style>\n",
       "<table id=\"T_79123\">\n",
       "  <thead>\n",
       "    <tr>\n",
       "      <th class=\"blank level0\" >&nbsp;</th>\n",
       "      <th id=\"T_79123_level0_col0\" class=\"col_heading level0 col0\" >Silhouette</th>\n",
       "      <th id=\"T_79123_level0_col1\" class=\"col_heading level0 col1\" >Calinski-Harabasz</th>\n",
       "      <th id=\"T_79123_level0_col2\" class=\"col_heading level0 col2\" >Davies-Bouldin</th>\n",
       "      <th id=\"T_79123_level0_col3\" class=\"col_heading level0 col3\" >Homogeneity</th>\n",
       "      <th id=\"T_79123_level0_col4\" class=\"col_heading level0 col4\" >Rand Index</th>\n",
       "      <th id=\"T_79123_level0_col5\" class=\"col_heading level0 col5\" >Completeness</th>\n",
       "    </tr>\n",
       "  </thead>\n",
       "  <tbody>\n",
       "    <tr>\n",
       "      <th id=\"T_79123_level0_row0\" class=\"row_heading level0 row0\" >0</th>\n",
       "      <td id=\"T_79123_row0_col0\" class=\"data row0 col0\" >0.4575</td>\n",
       "      <td id=\"T_79123_row0_col1\" class=\"data row0 col1\" >242.9960</td>\n",
       "      <td id=\"T_79123_row0_col2\" class=\"data row0 col2\" >0.8385</td>\n",
       "      <td id=\"T_79123_row0_col3\" class=\"data row0 col3\" >0</td>\n",
       "      <td id=\"T_79123_row0_col4\" class=\"data row0 col4\" >0</td>\n",
       "      <td id=\"T_79123_row0_col5\" class=\"data row0 col5\" >0</td>\n",
       "    </tr>\n",
       "  </tbody>\n",
       "</table>\n"
      ],
      "text/plain": [
       "<pandas.io.formats.style.Styler at 0x20aa73a17b0>"
      ]
     },
     "metadata": {},
     "output_type": "display_data"
    },
    {
     "data": {
      "text/html": [],
      "text/plain": [
       "<IPython.core.display.HTML object>"
      ]
     },
     "metadata": {},
     "output_type": "display_data"
    },
    {
     "name": "stdout",
     "output_type": "stream",
     "text": [
      "For kmeans with 3 clusters with Transformation and Normalization\n"
     ]
    },
    {
     "data": {
      "application/vnd.jupyter.widget-view+json": {
       "model_id": "a8e33fd3bfa74b6e95260a0e4b74d986",
       "version_major": 2,
       "version_minor": 0
      },
      "text/plain": [
       "interactive(children=(ToggleButtons(description='Plot Type:', icons=('',), options=(('Pipeline Plot', 'pipelin…"
      ]
     },
     "metadata": {},
     "output_type": "display_data"
    },
    {
     "data": {
      "text/html": [
       "<style type=\"text/css\">\n",
       "#T_bfa47_row4_col1, #T_bfa47_row10_col1 {\n",
       "  background-color: lightgreen;\n",
       "}\n",
       "</style>\n",
       "<table id=\"T_bfa47\">\n",
       "  <thead>\n",
       "    <tr>\n",
       "      <th class=\"blank level0\" >&nbsp;</th>\n",
       "      <th id=\"T_bfa47_level0_col0\" class=\"col_heading level0 col0\" >Description</th>\n",
       "      <th id=\"T_bfa47_level0_col1\" class=\"col_heading level0 col1\" >Value</th>\n",
       "    </tr>\n",
       "  </thead>\n",
       "  <tbody>\n",
       "    <tr>\n",
       "      <th id=\"T_bfa47_level0_row0\" class=\"row_heading level0 row0\" >0</th>\n",
       "      <td id=\"T_bfa47_row0_col0\" class=\"data row0 col0\" >Session id</td>\n",
       "      <td id=\"T_bfa47_row0_col1\" class=\"data row0 col1\" >2</td>\n",
       "    </tr>\n",
       "    <tr>\n",
       "      <th id=\"T_bfa47_level0_row1\" class=\"row_heading level0 row1\" >1</th>\n",
       "      <td id=\"T_bfa47_row1_col0\" class=\"data row1 col0\" >Original data shape</td>\n",
       "      <td id=\"T_bfa47_row1_col1\" class=\"data row1 col1\" >(150, 4)</td>\n",
       "    </tr>\n",
       "    <tr>\n",
       "      <th id=\"T_bfa47_level0_row2\" class=\"row_heading level0 row2\" >2</th>\n",
       "      <td id=\"T_bfa47_row2_col0\" class=\"data row2 col0\" >Transformed data shape</td>\n",
       "      <td id=\"T_bfa47_row2_col1\" class=\"data row2 col1\" >(150, 4)</td>\n",
       "    </tr>\n",
       "    <tr>\n",
       "      <th id=\"T_bfa47_level0_row3\" class=\"row_heading level0 row3\" >3</th>\n",
       "      <td id=\"T_bfa47_row3_col0\" class=\"data row3 col0\" >Numeric features</td>\n",
       "      <td id=\"T_bfa47_row3_col1\" class=\"data row3 col1\" >4</td>\n",
       "    </tr>\n",
       "    <tr>\n",
       "      <th id=\"T_bfa47_level0_row4\" class=\"row_heading level0 row4\" >4</th>\n",
       "      <td id=\"T_bfa47_row4_col0\" class=\"data row4 col0\" >Preprocess</td>\n",
       "      <td id=\"T_bfa47_row4_col1\" class=\"data row4 col1\" >True</td>\n",
       "    </tr>\n",
       "    <tr>\n",
       "      <th id=\"T_bfa47_level0_row5\" class=\"row_heading level0 row5\" >5</th>\n",
       "      <td id=\"T_bfa47_row5_col0\" class=\"data row5 col0\" >Imputation type</td>\n",
       "      <td id=\"T_bfa47_row5_col1\" class=\"data row5 col1\" >simple</td>\n",
       "    </tr>\n",
       "    <tr>\n",
       "      <th id=\"T_bfa47_level0_row6\" class=\"row_heading level0 row6\" >6</th>\n",
       "      <td id=\"T_bfa47_row6_col0\" class=\"data row6 col0\" >Numeric imputation</td>\n",
       "      <td id=\"T_bfa47_row6_col1\" class=\"data row6 col1\" >mean</td>\n",
       "    </tr>\n",
       "    <tr>\n",
       "      <th id=\"T_bfa47_level0_row7\" class=\"row_heading level0 row7\" >7</th>\n",
       "      <td id=\"T_bfa47_row7_col0\" class=\"data row7 col0\" >Categorical imputation</td>\n",
       "      <td id=\"T_bfa47_row7_col1\" class=\"data row7 col1\" >mode</td>\n",
       "    </tr>\n",
       "    <tr>\n",
       "      <th id=\"T_bfa47_level0_row8\" class=\"row_heading level0 row8\" >8</th>\n",
       "      <td id=\"T_bfa47_row8_col0\" class=\"data row8 col0\" >Transformation</td>\n",
       "      <td id=\"T_bfa47_row8_col1\" class=\"data row8 col1\" ><function custom_preprocess at 0x0000020AA5F8CCA0></td>\n",
       "    </tr>\n",
       "    <tr>\n",
       "      <th id=\"T_bfa47_level0_row9\" class=\"row_heading level0 row9\" >9</th>\n",
       "      <td id=\"T_bfa47_row9_col0\" class=\"data row9 col0\" >Transformation method</td>\n",
       "      <td id=\"T_bfa47_row9_col1\" class=\"data row9 col1\" >yeo-johnson</td>\n",
       "    </tr>\n",
       "    <tr>\n",
       "      <th id=\"T_bfa47_level0_row10\" class=\"row_heading level0 row10\" >10</th>\n",
       "      <td id=\"T_bfa47_row10_col0\" class=\"data row10 col0\" >Normalize</td>\n",
       "      <td id=\"T_bfa47_row10_col1\" class=\"data row10 col1\" >True</td>\n",
       "    </tr>\n",
       "    <tr>\n",
       "      <th id=\"T_bfa47_level0_row11\" class=\"row_heading level0 row11\" >11</th>\n",
       "      <td id=\"T_bfa47_row11_col0\" class=\"data row11 col0\" >Normalize method</td>\n",
       "      <td id=\"T_bfa47_row11_col1\" class=\"data row11 col1\" >zscore</td>\n",
       "    </tr>\n",
       "    <tr>\n",
       "      <th id=\"T_bfa47_level0_row12\" class=\"row_heading level0 row12\" >12</th>\n",
       "      <td id=\"T_bfa47_row12_col0\" class=\"data row12 col0\" >CPU Jobs</td>\n",
       "      <td id=\"T_bfa47_row12_col1\" class=\"data row12 col1\" >-1</td>\n",
       "    </tr>\n",
       "    <tr>\n",
       "      <th id=\"T_bfa47_level0_row13\" class=\"row_heading level0 row13\" >13</th>\n",
       "      <td id=\"T_bfa47_row13_col0\" class=\"data row13 col0\" >Use GPU</td>\n",
       "      <td id=\"T_bfa47_row13_col1\" class=\"data row13 col1\" >False</td>\n",
       "    </tr>\n",
       "    <tr>\n",
       "      <th id=\"T_bfa47_level0_row14\" class=\"row_heading level0 row14\" >14</th>\n",
       "      <td id=\"T_bfa47_row14_col0\" class=\"data row14 col0\" >Log Experiment</td>\n",
       "      <td id=\"T_bfa47_row14_col1\" class=\"data row14 col1\" >False</td>\n",
       "    </tr>\n",
       "    <tr>\n",
       "      <th id=\"T_bfa47_level0_row15\" class=\"row_heading level0 row15\" >15</th>\n",
       "      <td id=\"T_bfa47_row15_col0\" class=\"data row15 col0\" >Experiment Name</td>\n",
       "      <td id=\"T_bfa47_row15_col1\" class=\"data row15 col1\" >cluster-default-name</td>\n",
       "    </tr>\n",
       "    <tr>\n",
       "      <th id=\"T_bfa47_level0_row16\" class=\"row_heading level0 row16\" >16</th>\n",
       "      <td id=\"T_bfa47_row16_col0\" class=\"data row16 col0\" >USI</td>\n",
       "      <td id=\"T_bfa47_row16_col1\" class=\"data row16 col1\" >c59c</td>\n",
       "    </tr>\n",
       "  </tbody>\n",
       "</table>\n"
      ],
      "text/plain": [
       "<pandas.io.formats.style.Styler at 0x20aa744fdc0>"
      ]
     },
     "metadata": {},
     "output_type": "display_data"
    },
    {
     "data": {
      "text/html": [],
      "text/plain": [
       "<IPython.core.display.HTML object>"
      ]
     },
     "metadata": {},
     "output_type": "display_data"
    },
    {
     "data": {
      "text/html": [
       "<style type=\"text/css\">\n",
       "</style>\n",
       "<table id=\"T_80100\">\n",
       "  <thead>\n",
       "    <tr>\n",
       "      <th class=\"blank level0\" >&nbsp;</th>\n",
       "      <th id=\"T_80100_level0_col0\" class=\"col_heading level0 col0\" >Silhouette</th>\n",
       "      <th id=\"T_80100_level0_col1\" class=\"col_heading level0 col1\" >Calinski-Harabasz</th>\n",
       "      <th id=\"T_80100_level0_col2\" class=\"col_heading level0 col2\" >Davies-Bouldin</th>\n",
       "      <th id=\"T_80100_level0_col3\" class=\"col_heading level0 col3\" >Homogeneity</th>\n",
       "      <th id=\"T_80100_level0_col4\" class=\"col_heading level0 col4\" >Rand Index</th>\n",
       "      <th id=\"T_80100_level0_col5\" class=\"col_heading level0 col5\" >Completeness</th>\n",
       "    </tr>\n",
       "  </thead>\n",
       "  <tbody>\n",
       "    <tr>\n",
       "      <th id=\"T_80100_level0_row0\" class=\"row_heading level0 row0\" >0</th>\n",
       "      <td id=\"T_80100_row0_col0\" class=\"data row0 col0\" >0.4185</td>\n",
       "      <td id=\"T_80100_row0_col1\" class=\"data row0 col1\" >210.2697</td>\n",
       "      <td id=\"T_80100_row0_col2\" class=\"data row0 col2\" >0.9307</td>\n",
       "      <td id=\"T_80100_row0_col3\" class=\"data row0 col3\" >0</td>\n",
       "      <td id=\"T_80100_row0_col4\" class=\"data row0 col4\" >0</td>\n",
       "      <td id=\"T_80100_row0_col5\" class=\"data row0 col5\" >0</td>\n",
       "    </tr>\n",
       "  </tbody>\n",
       "</table>\n"
      ],
      "text/plain": [
       "<pandas.io.formats.style.Styler at 0x20aa744dd50>"
      ]
     },
     "metadata": {},
     "output_type": "display_data"
    },
    {
     "data": {
      "text/html": [],
      "text/plain": [
       "<IPython.core.display.HTML object>"
      ]
     },
     "metadata": {},
     "output_type": "display_data"
    },
    {
     "name": "stdout",
     "output_type": "stream",
     "text": [
      "For kmeans with 4 clusters with Transformation and Normalization\n"
     ]
    },
    {
     "data": {
      "application/vnd.jupyter.widget-view+json": {
       "model_id": "9257052e04ed4664a08cfaee58f3e0a0",
       "version_major": 2,
       "version_minor": 0
      },
      "text/plain": [
       "interactive(children=(ToggleButtons(description='Plot Type:', icons=('',), options=(('Pipeline Plot', 'pipelin…"
      ]
     },
     "metadata": {},
     "output_type": "display_data"
    },
    {
     "data": {
      "text/html": [
       "<style type=\"text/css\">\n",
       "#T_ee656_row4_col1, #T_ee656_row10_col1 {\n",
       "  background-color: lightgreen;\n",
       "}\n",
       "</style>\n",
       "<table id=\"T_ee656\">\n",
       "  <thead>\n",
       "    <tr>\n",
       "      <th class=\"blank level0\" >&nbsp;</th>\n",
       "      <th id=\"T_ee656_level0_col0\" class=\"col_heading level0 col0\" >Description</th>\n",
       "      <th id=\"T_ee656_level0_col1\" class=\"col_heading level0 col1\" >Value</th>\n",
       "    </tr>\n",
       "  </thead>\n",
       "  <tbody>\n",
       "    <tr>\n",
       "      <th id=\"T_ee656_level0_row0\" class=\"row_heading level0 row0\" >0</th>\n",
       "      <td id=\"T_ee656_row0_col0\" class=\"data row0 col0\" >Session id</td>\n",
       "      <td id=\"T_ee656_row0_col1\" class=\"data row0 col1\" >2</td>\n",
       "    </tr>\n",
       "    <tr>\n",
       "      <th id=\"T_ee656_level0_row1\" class=\"row_heading level0 row1\" >1</th>\n",
       "      <td id=\"T_ee656_row1_col0\" class=\"data row1 col0\" >Original data shape</td>\n",
       "      <td id=\"T_ee656_row1_col1\" class=\"data row1 col1\" >(150, 4)</td>\n",
       "    </tr>\n",
       "    <tr>\n",
       "      <th id=\"T_ee656_level0_row2\" class=\"row_heading level0 row2\" >2</th>\n",
       "      <td id=\"T_ee656_row2_col0\" class=\"data row2 col0\" >Transformed data shape</td>\n",
       "      <td id=\"T_ee656_row2_col1\" class=\"data row2 col1\" >(150, 4)</td>\n",
       "    </tr>\n",
       "    <tr>\n",
       "      <th id=\"T_ee656_level0_row3\" class=\"row_heading level0 row3\" >3</th>\n",
       "      <td id=\"T_ee656_row3_col0\" class=\"data row3 col0\" >Numeric features</td>\n",
       "      <td id=\"T_ee656_row3_col1\" class=\"data row3 col1\" >4</td>\n",
       "    </tr>\n",
       "    <tr>\n",
       "      <th id=\"T_ee656_level0_row4\" class=\"row_heading level0 row4\" >4</th>\n",
       "      <td id=\"T_ee656_row4_col0\" class=\"data row4 col0\" >Preprocess</td>\n",
       "      <td id=\"T_ee656_row4_col1\" class=\"data row4 col1\" >True</td>\n",
       "    </tr>\n",
       "    <tr>\n",
       "      <th id=\"T_ee656_level0_row5\" class=\"row_heading level0 row5\" >5</th>\n",
       "      <td id=\"T_ee656_row5_col0\" class=\"data row5 col0\" >Imputation type</td>\n",
       "      <td id=\"T_ee656_row5_col1\" class=\"data row5 col1\" >simple</td>\n",
       "    </tr>\n",
       "    <tr>\n",
       "      <th id=\"T_ee656_level0_row6\" class=\"row_heading level0 row6\" >6</th>\n",
       "      <td id=\"T_ee656_row6_col0\" class=\"data row6 col0\" >Numeric imputation</td>\n",
       "      <td id=\"T_ee656_row6_col1\" class=\"data row6 col1\" >mean</td>\n",
       "    </tr>\n",
       "    <tr>\n",
       "      <th id=\"T_ee656_level0_row7\" class=\"row_heading level0 row7\" >7</th>\n",
       "      <td id=\"T_ee656_row7_col0\" class=\"data row7 col0\" >Categorical imputation</td>\n",
       "      <td id=\"T_ee656_row7_col1\" class=\"data row7 col1\" >mode</td>\n",
       "    </tr>\n",
       "    <tr>\n",
       "      <th id=\"T_ee656_level0_row8\" class=\"row_heading level0 row8\" >8</th>\n",
       "      <td id=\"T_ee656_row8_col0\" class=\"data row8 col0\" >Transformation</td>\n",
       "      <td id=\"T_ee656_row8_col1\" class=\"data row8 col1\" ><function custom_preprocess at 0x0000020AA5F8CCA0></td>\n",
       "    </tr>\n",
       "    <tr>\n",
       "      <th id=\"T_ee656_level0_row9\" class=\"row_heading level0 row9\" >9</th>\n",
       "      <td id=\"T_ee656_row9_col0\" class=\"data row9 col0\" >Transformation method</td>\n",
       "      <td id=\"T_ee656_row9_col1\" class=\"data row9 col1\" >yeo-johnson</td>\n",
       "    </tr>\n",
       "    <tr>\n",
       "      <th id=\"T_ee656_level0_row10\" class=\"row_heading level0 row10\" >10</th>\n",
       "      <td id=\"T_ee656_row10_col0\" class=\"data row10 col0\" >Normalize</td>\n",
       "      <td id=\"T_ee656_row10_col1\" class=\"data row10 col1\" >True</td>\n",
       "    </tr>\n",
       "    <tr>\n",
       "      <th id=\"T_ee656_level0_row11\" class=\"row_heading level0 row11\" >11</th>\n",
       "      <td id=\"T_ee656_row11_col0\" class=\"data row11 col0\" >Normalize method</td>\n",
       "      <td id=\"T_ee656_row11_col1\" class=\"data row11 col1\" >zscore</td>\n",
       "    </tr>\n",
       "    <tr>\n",
       "      <th id=\"T_ee656_level0_row12\" class=\"row_heading level0 row12\" >12</th>\n",
       "      <td id=\"T_ee656_row12_col0\" class=\"data row12 col0\" >CPU Jobs</td>\n",
       "      <td id=\"T_ee656_row12_col1\" class=\"data row12 col1\" >-1</td>\n",
       "    </tr>\n",
       "    <tr>\n",
       "      <th id=\"T_ee656_level0_row13\" class=\"row_heading level0 row13\" >13</th>\n",
       "      <td id=\"T_ee656_row13_col0\" class=\"data row13 col0\" >Use GPU</td>\n",
       "      <td id=\"T_ee656_row13_col1\" class=\"data row13 col1\" >False</td>\n",
       "    </tr>\n",
       "    <tr>\n",
       "      <th id=\"T_ee656_level0_row14\" class=\"row_heading level0 row14\" >14</th>\n",
       "      <td id=\"T_ee656_row14_col0\" class=\"data row14 col0\" >Log Experiment</td>\n",
       "      <td id=\"T_ee656_row14_col1\" class=\"data row14 col1\" >False</td>\n",
       "    </tr>\n",
       "    <tr>\n",
       "      <th id=\"T_ee656_level0_row15\" class=\"row_heading level0 row15\" >15</th>\n",
       "      <td id=\"T_ee656_row15_col0\" class=\"data row15 col0\" >Experiment Name</td>\n",
       "      <td id=\"T_ee656_row15_col1\" class=\"data row15 col1\" >cluster-default-name</td>\n",
       "    </tr>\n",
       "    <tr>\n",
       "      <th id=\"T_ee656_level0_row16\" class=\"row_heading level0 row16\" >16</th>\n",
       "      <td id=\"T_ee656_row16_col0\" class=\"data row16 col0\" >USI</td>\n",
       "      <td id=\"T_ee656_row16_col1\" class=\"data row16 col1\" >499b</td>\n",
       "    </tr>\n",
       "  </tbody>\n",
       "</table>\n"
      ],
      "text/plain": [
       "<pandas.io.formats.style.Styler at 0x20aa747da20>"
      ]
     },
     "metadata": {},
     "output_type": "display_data"
    },
    {
     "data": {
      "text/html": [],
      "text/plain": [
       "<IPython.core.display.HTML object>"
      ]
     },
     "metadata": {},
     "output_type": "display_data"
    },
    {
     "data": {
      "text/html": [
       "<style type=\"text/css\">\n",
       "</style>\n",
       "<table id=\"T_9d271\">\n",
       "  <thead>\n",
       "    <tr>\n",
       "      <th class=\"blank level0\" >&nbsp;</th>\n",
       "      <th id=\"T_9d271_level0_col0\" class=\"col_heading level0 col0\" >Silhouette</th>\n",
       "      <th id=\"T_9d271_level0_col1\" class=\"col_heading level0 col1\" >Calinski-Harabasz</th>\n",
       "      <th id=\"T_9d271_level0_col2\" class=\"col_heading level0 col2\" >Davies-Bouldin</th>\n",
       "      <th id=\"T_9d271_level0_col3\" class=\"col_heading level0 col3\" >Homogeneity</th>\n",
       "      <th id=\"T_9d271_level0_col4\" class=\"col_heading level0 col4\" >Rand Index</th>\n",
       "      <th id=\"T_9d271_level0_col5\" class=\"col_heading level0 col5\" >Completeness</th>\n",
       "    </tr>\n",
       "  </thead>\n",
       "  <tbody>\n",
       "    <tr>\n",
       "      <th id=\"T_9d271_level0_row0\" class=\"row_heading level0 row0\" >0</th>\n",
       "      <td id=\"T_9d271_row0_col0\" class=\"data row0 col0\" >0.3542</td>\n",
       "      <td id=\"T_9d271_row0_col1\" class=\"data row0 col1\" >208.0275</td>\n",
       "      <td id=\"T_9d271_row0_col2\" class=\"data row0 col2\" >0.9483</td>\n",
       "      <td id=\"T_9d271_row0_col3\" class=\"data row0 col3\" >0</td>\n",
       "      <td id=\"T_9d271_row0_col4\" class=\"data row0 col4\" >0</td>\n",
       "      <td id=\"T_9d271_row0_col5\" class=\"data row0 col5\" >0</td>\n",
       "    </tr>\n",
       "  </tbody>\n",
       "</table>\n"
      ],
      "text/plain": [
       "<pandas.io.formats.style.Styler at 0x20aa747c580>"
      ]
     },
     "metadata": {},
     "output_type": "display_data"
    },
    {
     "data": {
      "text/html": [],
      "text/plain": [
       "<IPython.core.display.HTML object>"
      ]
     },
     "metadata": {},
     "output_type": "display_data"
    },
    {
     "name": "stdout",
     "output_type": "stream",
     "text": [
      "For kmeans with 5 clusters with Transformation and Normalization\n"
     ]
    },
    {
     "data": {
      "application/vnd.jupyter.widget-view+json": {
       "model_id": "9337698c19c5482b807f6142568f9406",
       "version_major": 2,
       "version_minor": 0
      },
      "text/plain": [
       "interactive(children=(ToggleButtons(description='Plot Type:', icons=('',), options=(('Pipeline Plot', 'pipelin…"
      ]
     },
     "metadata": {},
     "output_type": "display_data"
    },
    {
     "data": {
      "text/html": [
       "<style type=\"text/css\">\n",
       "#T_8c1a1_row4_col1, #T_8c1a1_row10_col1 {\n",
       "  background-color: lightgreen;\n",
       "}\n",
       "</style>\n",
       "<table id=\"T_8c1a1\">\n",
       "  <thead>\n",
       "    <tr>\n",
       "      <th class=\"blank level0\" >&nbsp;</th>\n",
       "      <th id=\"T_8c1a1_level0_col0\" class=\"col_heading level0 col0\" >Description</th>\n",
       "      <th id=\"T_8c1a1_level0_col1\" class=\"col_heading level0 col1\" >Value</th>\n",
       "    </tr>\n",
       "  </thead>\n",
       "  <tbody>\n",
       "    <tr>\n",
       "      <th id=\"T_8c1a1_level0_row0\" class=\"row_heading level0 row0\" >0</th>\n",
       "      <td id=\"T_8c1a1_row0_col0\" class=\"data row0 col0\" >Session id</td>\n",
       "      <td id=\"T_8c1a1_row0_col1\" class=\"data row0 col1\" >2</td>\n",
       "    </tr>\n",
       "    <tr>\n",
       "      <th id=\"T_8c1a1_level0_row1\" class=\"row_heading level0 row1\" >1</th>\n",
       "      <td id=\"T_8c1a1_row1_col0\" class=\"data row1 col0\" >Original data shape</td>\n",
       "      <td id=\"T_8c1a1_row1_col1\" class=\"data row1 col1\" >(150, 4)</td>\n",
       "    </tr>\n",
       "    <tr>\n",
       "      <th id=\"T_8c1a1_level0_row2\" class=\"row_heading level0 row2\" >2</th>\n",
       "      <td id=\"T_8c1a1_row2_col0\" class=\"data row2 col0\" >Transformed data shape</td>\n",
       "      <td id=\"T_8c1a1_row2_col1\" class=\"data row2 col1\" >(150, 4)</td>\n",
       "    </tr>\n",
       "    <tr>\n",
       "      <th id=\"T_8c1a1_level0_row3\" class=\"row_heading level0 row3\" >3</th>\n",
       "      <td id=\"T_8c1a1_row3_col0\" class=\"data row3 col0\" >Numeric features</td>\n",
       "      <td id=\"T_8c1a1_row3_col1\" class=\"data row3 col1\" >4</td>\n",
       "    </tr>\n",
       "    <tr>\n",
       "      <th id=\"T_8c1a1_level0_row4\" class=\"row_heading level0 row4\" >4</th>\n",
       "      <td id=\"T_8c1a1_row4_col0\" class=\"data row4 col0\" >Preprocess</td>\n",
       "      <td id=\"T_8c1a1_row4_col1\" class=\"data row4 col1\" >True</td>\n",
       "    </tr>\n",
       "    <tr>\n",
       "      <th id=\"T_8c1a1_level0_row5\" class=\"row_heading level0 row5\" >5</th>\n",
       "      <td id=\"T_8c1a1_row5_col0\" class=\"data row5 col0\" >Imputation type</td>\n",
       "      <td id=\"T_8c1a1_row5_col1\" class=\"data row5 col1\" >simple</td>\n",
       "    </tr>\n",
       "    <tr>\n",
       "      <th id=\"T_8c1a1_level0_row6\" class=\"row_heading level0 row6\" >6</th>\n",
       "      <td id=\"T_8c1a1_row6_col0\" class=\"data row6 col0\" >Numeric imputation</td>\n",
       "      <td id=\"T_8c1a1_row6_col1\" class=\"data row6 col1\" >mean</td>\n",
       "    </tr>\n",
       "    <tr>\n",
       "      <th id=\"T_8c1a1_level0_row7\" class=\"row_heading level0 row7\" >7</th>\n",
       "      <td id=\"T_8c1a1_row7_col0\" class=\"data row7 col0\" >Categorical imputation</td>\n",
       "      <td id=\"T_8c1a1_row7_col1\" class=\"data row7 col1\" >mode</td>\n",
       "    </tr>\n",
       "    <tr>\n",
       "      <th id=\"T_8c1a1_level0_row8\" class=\"row_heading level0 row8\" >8</th>\n",
       "      <td id=\"T_8c1a1_row8_col0\" class=\"data row8 col0\" >Transformation</td>\n",
       "      <td id=\"T_8c1a1_row8_col1\" class=\"data row8 col1\" ><function custom_preprocess at 0x0000020AA5F8CCA0></td>\n",
       "    </tr>\n",
       "    <tr>\n",
       "      <th id=\"T_8c1a1_level0_row9\" class=\"row_heading level0 row9\" >9</th>\n",
       "      <td id=\"T_8c1a1_row9_col0\" class=\"data row9 col0\" >Transformation method</td>\n",
       "      <td id=\"T_8c1a1_row9_col1\" class=\"data row9 col1\" >yeo-johnson</td>\n",
       "    </tr>\n",
       "    <tr>\n",
       "      <th id=\"T_8c1a1_level0_row10\" class=\"row_heading level0 row10\" >10</th>\n",
       "      <td id=\"T_8c1a1_row10_col0\" class=\"data row10 col0\" >Normalize</td>\n",
       "      <td id=\"T_8c1a1_row10_col1\" class=\"data row10 col1\" >True</td>\n",
       "    </tr>\n",
       "    <tr>\n",
       "      <th id=\"T_8c1a1_level0_row11\" class=\"row_heading level0 row11\" >11</th>\n",
       "      <td id=\"T_8c1a1_row11_col0\" class=\"data row11 col0\" >Normalize method</td>\n",
       "      <td id=\"T_8c1a1_row11_col1\" class=\"data row11 col1\" >zscore</td>\n",
       "    </tr>\n",
       "    <tr>\n",
       "      <th id=\"T_8c1a1_level0_row12\" class=\"row_heading level0 row12\" >12</th>\n",
       "      <td id=\"T_8c1a1_row12_col0\" class=\"data row12 col0\" >CPU Jobs</td>\n",
       "      <td id=\"T_8c1a1_row12_col1\" class=\"data row12 col1\" >-1</td>\n",
       "    </tr>\n",
       "    <tr>\n",
       "      <th id=\"T_8c1a1_level0_row13\" class=\"row_heading level0 row13\" >13</th>\n",
       "      <td id=\"T_8c1a1_row13_col0\" class=\"data row13 col0\" >Use GPU</td>\n",
       "      <td id=\"T_8c1a1_row13_col1\" class=\"data row13 col1\" >False</td>\n",
       "    </tr>\n",
       "    <tr>\n",
       "      <th id=\"T_8c1a1_level0_row14\" class=\"row_heading level0 row14\" >14</th>\n",
       "      <td id=\"T_8c1a1_row14_col0\" class=\"data row14 col0\" >Log Experiment</td>\n",
       "      <td id=\"T_8c1a1_row14_col1\" class=\"data row14 col1\" >False</td>\n",
       "    </tr>\n",
       "    <tr>\n",
       "      <th id=\"T_8c1a1_level0_row15\" class=\"row_heading level0 row15\" >15</th>\n",
       "      <td id=\"T_8c1a1_row15_col0\" class=\"data row15 col0\" >Experiment Name</td>\n",
       "      <td id=\"T_8c1a1_row15_col1\" class=\"data row15 col1\" >cluster-default-name</td>\n",
       "    </tr>\n",
       "    <tr>\n",
       "      <th id=\"T_8c1a1_level0_row16\" class=\"row_heading level0 row16\" >16</th>\n",
       "      <td id=\"T_8c1a1_row16_col0\" class=\"data row16 col0\" >USI</td>\n",
       "      <td id=\"T_8c1a1_row16_col1\" class=\"data row16 col1\" >e142</td>\n",
       "    </tr>\n",
       "  </tbody>\n",
       "</table>\n"
      ],
      "text/plain": [
       "<pandas.io.formats.style.Styler at 0x20aa73dc340>"
      ]
     },
     "metadata": {},
     "output_type": "display_data"
    },
    {
     "data": {
      "text/html": [],
      "text/plain": [
       "<IPython.core.display.HTML object>"
      ]
     },
     "metadata": {},
     "output_type": "display_data"
    },
    {
     "data": {
      "text/html": [
       "<style type=\"text/css\">\n",
       "</style>\n",
       "<table id=\"T_ed90e\">\n",
       "  <thead>\n",
       "    <tr>\n",
       "      <th class=\"blank level0\" >&nbsp;</th>\n",
       "      <th id=\"T_ed90e_level0_col0\" class=\"col_heading level0 col0\" >Silhouette</th>\n",
       "      <th id=\"T_ed90e_level0_col1\" class=\"col_heading level0 col1\" >Calinski-Harabasz</th>\n",
       "      <th id=\"T_ed90e_level0_col2\" class=\"col_heading level0 col2\" >Davies-Bouldin</th>\n",
       "      <th id=\"T_ed90e_level0_col3\" class=\"col_heading level0 col3\" >Homogeneity</th>\n",
       "      <th id=\"T_ed90e_level0_col4\" class=\"col_heading level0 col4\" >Rand Index</th>\n",
       "      <th id=\"T_ed90e_level0_col5\" class=\"col_heading level0 col5\" >Completeness</th>\n",
       "    </tr>\n",
       "  </thead>\n",
       "  <tbody>\n",
       "    <tr>\n",
       "      <th id=\"T_ed90e_level0_row0\" class=\"row_heading level0 row0\" >0</th>\n",
       "      <td id=\"T_ed90e_row0_col0\" class=\"data row0 col0\" >0.4462</td>\n",
       "      <td id=\"T_ed90e_row0_col1\" class=\"data row0 col1\" >223.4591</td>\n",
       "      <td id=\"T_ed90e_row0_col2\" class=\"data row0 col2\" >0.8356</td>\n",
       "      <td id=\"T_ed90e_row0_col3\" class=\"data row0 col3\" >0</td>\n",
       "      <td id=\"T_ed90e_row0_col4\" class=\"data row0 col4\" >0</td>\n",
       "      <td id=\"T_ed90e_row0_col5\" class=\"data row0 col5\" >0</td>\n",
       "    </tr>\n",
       "  </tbody>\n",
       "</table>\n"
      ],
      "text/plain": [
       "<pandas.io.formats.style.Styler at 0x20aa72e64d0>"
      ]
     },
     "metadata": {},
     "output_type": "display_data"
    },
    {
     "data": {
      "text/html": [],
      "text/plain": [
       "<IPython.core.display.HTML object>"
      ]
     },
     "metadata": {},
     "output_type": "display_data"
    },
    {
     "name": "stdout",
     "output_type": "stream",
     "text": [
      "For hclust with 3 clusters with Transformation and Normalization\n"
     ]
    },
    {
     "data": {
      "application/vnd.jupyter.widget-view+json": {
       "model_id": "c40a487360884a50ab8d9f2668714fd1",
       "version_major": 2,
       "version_minor": 0
      },
      "text/plain": [
       "interactive(children=(ToggleButtons(description='Plot Type:', icons=('',), options=(('Pipeline Plot', 'pipelin…"
      ]
     },
     "metadata": {},
     "output_type": "display_data"
    },
    {
     "data": {
      "text/html": [
       "<style type=\"text/css\">\n",
       "#T_d24f7_row4_col1, #T_d24f7_row10_col1 {\n",
       "  background-color: lightgreen;\n",
       "}\n",
       "</style>\n",
       "<table id=\"T_d24f7\">\n",
       "  <thead>\n",
       "    <tr>\n",
       "      <th class=\"blank level0\" >&nbsp;</th>\n",
       "      <th id=\"T_d24f7_level0_col0\" class=\"col_heading level0 col0\" >Description</th>\n",
       "      <th id=\"T_d24f7_level0_col1\" class=\"col_heading level0 col1\" >Value</th>\n",
       "    </tr>\n",
       "  </thead>\n",
       "  <tbody>\n",
       "    <tr>\n",
       "      <th id=\"T_d24f7_level0_row0\" class=\"row_heading level0 row0\" >0</th>\n",
       "      <td id=\"T_d24f7_row0_col0\" class=\"data row0 col0\" >Session id</td>\n",
       "      <td id=\"T_d24f7_row0_col1\" class=\"data row0 col1\" >2</td>\n",
       "    </tr>\n",
       "    <tr>\n",
       "      <th id=\"T_d24f7_level0_row1\" class=\"row_heading level0 row1\" >1</th>\n",
       "      <td id=\"T_d24f7_row1_col0\" class=\"data row1 col0\" >Original data shape</td>\n",
       "      <td id=\"T_d24f7_row1_col1\" class=\"data row1 col1\" >(150, 4)</td>\n",
       "    </tr>\n",
       "    <tr>\n",
       "      <th id=\"T_d24f7_level0_row2\" class=\"row_heading level0 row2\" >2</th>\n",
       "      <td id=\"T_d24f7_row2_col0\" class=\"data row2 col0\" >Transformed data shape</td>\n",
       "      <td id=\"T_d24f7_row2_col1\" class=\"data row2 col1\" >(150, 4)</td>\n",
       "    </tr>\n",
       "    <tr>\n",
       "      <th id=\"T_d24f7_level0_row3\" class=\"row_heading level0 row3\" >3</th>\n",
       "      <td id=\"T_d24f7_row3_col0\" class=\"data row3 col0\" >Numeric features</td>\n",
       "      <td id=\"T_d24f7_row3_col1\" class=\"data row3 col1\" >4</td>\n",
       "    </tr>\n",
       "    <tr>\n",
       "      <th id=\"T_d24f7_level0_row4\" class=\"row_heading level0 row4\" >4</th>\n",
       "      <td id=\"T_d24f7_row4_col0\" class=\"data row4 col0\" >Preprocess</td>\n",
       "      <td id=\"T_d24f7_row4_col1\" class=\"data row4 col1\" >True</td>\n",
       "    </tr>\n",
       "    <tr>\n",
       "      <th id=\"T_d24f7_level0_row5\" class=\"row_heading level0 row5\" >5</th>\n",
       "      <td id=\"T_d24f7_row5_col0\" class=\"data row5 col0\" >Imputation type</td>\n",
       "      <td id=\"T_d24f7_row5_col1\" class=\"data row5 col1\" >simple</td>\n",
       "    </tr>\n",
       "    <tr>\n",
       "      <th id=\"T_d24f7_level0_row6\" class=\"row_heading level0 row6\" >6</th>\n",
       "      <td id=\"T_d24f7_row6_col0\" class=\"data row6 col0\" >Numeric imputation</td>\n",
       "      <td id=\"T_d24f7_row6_col1\" class=\"data row6 col1\" >mean</td>\n",
       "    </tr>\n",
       "    <tr>\n",
       "      <th id=\"T_d24f7_level0_row7\" class=\"row_heading level0 row7\" >7</th>\n",
       "      <td id=\"T_d24f7_row7_col0\" class=\"data row7 col0\" >Categorical imputation</td>\n",
       "      <td id=\"T_d24f7_row7_col1\" class=\"data row7 col1\" >mode</td>\n",
       "    </tr>\n",
       "    <tr>\n",
       "      <th id=\"T_d24f7_level0_row8\" class=\"row_heading level0 row8\" >8</th>\n",
       "      <td id=\"T_d24f7_row8_col0\" class=\"data row8 col0\" >Transformation</td>\n",
       "      <td id=\"T_d24f7_row8_col1\" class=\"data row8 col1\" ><function custom_preprocess at 0x0000020AA5F8CCA0></td>\n",
       "    </tr>\n",
       "    <tr>\n",
       "      <th id=\"T_d24f7_level0_row9\" class=\"row_heading level0 row9\" >9</th>\n",
       "      <td id=\"T_d24f7_row9_col0\" class=\"data row9 col0\" >Transformation method</td>\n",
       "      <td id=\"T_d24f7_row9_col1\" class=\"data row9 col1\" >yeo-johnson</td>\n",
       "    </tr>\n",
       "    <tr>\n",
       "      <th id=\"T_d24f7_level0_row10\" class=\"row_heading level0 row10\" >10</th>\n",
       "      <td id=\"T_d24f7_row10_col0\" class=\"data row10 col0\" >Normalize</td>\n",
       "      <td id=\"T_d24f7_row10_col1\" class=\"data row10 col1\" >True</td>\n",
       "    </tr>\n",
       "    <tr>\n",
       "      <th id=\"T_d24f7_level0_row11\" class=\"row_heading level0 row11\" >11</th>\n",
       "      <td id=\"T_d24f7_row11_col0\" class=\"data row11 col0\" >Normalize method</td>\n",
       "      <td id=\"T_d24f7_row11_col1\" class=\"data row11 col1\" >zscore</td>\n",
       "    </tr>\n",
       "    <tr>\n",
       "      <th id=\"T_d24f7_level0_row12\" class=\"row_heading level0 row12\" >12</th>\n",
       "      <td id=\"T_d24f7_row12_col0\" class=\"data row12 col0\" >CPU Jobs</td>\n",
       "      <td id=\"T_d24f7_row12_col1\" class=\"data row12 col1\" >-1</td>\n",
       "    </tr>\n",
       "    <tr>\n",
       "      <th id=\"T_d24f7_level0_row13\" class=\"row_heading level0 row13\" >13</th>\n",
       "      <td id=\"T_d24f7_row13_col0\" class=\"data row13 col0\" >Use GPU</td>\n",
       "      <td id=\"T_d24f7_row13_col1\" class=\"data row13 col1\" >False</td>\n",
       "    </tr>\n",
       "    <tr>\n",
       "      <th id=\"T_d24f7_level0_row14\" class=\"row_heading level0 row14\" >14</th>\n",
       "      <td id=\"T_d24f7_row14_col0\" class=\"data row14 col0\" >Log Experiment</td>\n",
       "      <td id=\"T_d24f7_row14_col1\" class=\"data row14 col1\" >False</td>\n",
       "    </tr>\n",
       "    <tr>\n",
       "      <th id=\"T_d24f7_level0_row15\" class=\"row_heading level0 row15\" >15</th>\n",
       "      <td id=\"T_d24f7_row15_col0\" class=\"data row15 col0\" >Experiment Name</td>\n",
       "      <td id=\"T_d24f7_row15_col1\" class=\"data row15 col1\" >cluster-default-name</td>\n",
       "    </tr>\n",
       "    <tr>\n",
       "      <th id=\"T_d24f7_level0_row16\" class=\"row_heading level0 row16\" >16</th>\n",
       "      <td id=\"T_d24f7_row16_col0\" class=\"data row16 col0\" >USI</td>\n",
       "      <td id=\"T_d24f7_row16_col1\" class=\"data row16 col1\" >52e7</td>\n",
       "    </tr>\n",
       "  </tbody>\n",
       "</table>\n"
      ],
      "text/plain": [
       "<pandas.io.formats.style.Styler at 0x20aa74b61a0>"
      ]
     },
     "metadata": {},
     "output_type": "display_data"
    },
    {
     "data": {
      "text/html": [],
      "text/plain": [
       "<IPython.core.display.HTML object>"
      ]
     },
     "metadata": {},
     "output_type": "display_data"
    },
    {
     "data": {
      "text/html": [
       "<style type=\"text/css\">\n",
       "</style>\n",
       "<table id=\"T_3c121\">\n",
       "  <thead>\n",
       "    <tr>\n",
       "      <th class=\"blank level0\" >&nbsp;</th>\n",
       "      <th id=\"T_3c121_level0_col0\" class=\"col_heading level0 col0\" >Silhouette</th>\n",
       "      <th id=\"T_3c121_level0_col1\" class=\"col_heading level0 col1\" >Calinski-Harabasz</th>\n",
       "      <th id=\"T_3c121_level0_col2\" class=\"col_heading level0 col2\" >Davies-Bouldin</th>\n",
       "      <th id=\"T_3c121_level0_col3\" class=\"col_heading level0 col3\" >Homogeneity</th>\n",
       "      <th id=\"T_3c121_level0_col4\" class=\"col_heading level0 col4\" >Rand Index</th>\n",
       "      <th id=\"T_3c121_level0_col5\" class=\"col_heading level0 col5\" >Completeness</th>\n",
       "    </tr>\n",
       "  </thead>\n",
       "  <tbody>\n",
       "    <tr>\n",
       "      <th id=\"T_3c121_level0_row0\" class=\"row_heading level0 row0\" >0</th>\n",
       "      <td id=\"T_3c121_row0_col0\" class=\"data row0 col0\" >0.4251</td>\n",
       "      <td id=\"T_3c121_row0_col1\" class=\"data row0 col1\" >200.0175</td>\n",
       "      <td id=\"T_3c121_row0_col2\" class=\"data row0 col2\" >0.8637</td>\n",
       "      <td id=\"T_3c121_row0_col3\" class=\"data row0 col3\" >0</td>\n",
       "      <td id=\"T_3c121_row0_col4\" class=\"data row0 col4\" >0</td>\n",
       "      <td id=\"T_3c121_row0_col5\" class=\"data row0 col5\" >0</td>\n",
       "    </tr>\n",
       "  </tbody>\n",
       "</table>\n"
      ],
      "text/plain": [
       "<pandas.io.formats.style.Styler at 0x20aa74b5ea0>"
      ]
     },
     "metadata": {},
     "output_type": "display_data"
    },
    {
     "data": {
      "text/html": [],
      "text/plain": [
       "<IPython.core.display.HTML object>"
      ]
     },
     "metadata": {},
     "output_type": "display_data"
    },
    {
     "name": "stdout",
     "output_type": "stream",
     "text": [
      "For hclust with 4 clusters with Transformation and Normalization\n"
     ]
    },
    {
     "data": {
      "application/vnd.jupyter.widget-view+json": {
       "model_id": "38cd2ee7713f463ca70542e7bfd1e9c6",
       "version_major": 2,
       "version_minor": 0
      },
      "text/plain": [
       "interactive(children=(ToggleButtons(description='Plot Type:', icons=('',), options=(('Pipeline Plot', 'pipelin…"
      ]
     },
     "metadata": {},
     "output_type": "display_data"
    },
    {
     "data": {
      "text/html": [
       "<style type=\"text/css\">\n",
       "#T_ea531_row4_col1, #T_ea531_row10_col1 {\n",
       "  background-color: lightgreen;\n",
       "}\n",
       "</style>\n",
       "<table id=\"T_ea531\">\n",
       "  <thead>\n",
       "    <tr>\n",
       "      <th class=\"blank level0\" >&nbsp;</th>\n",
       "      <th id=\"T_ea531_level0_col0\" class=\"col_heading level0 col0\" >Description</th>\n",
       "      <th id=\"T_ea531_level0_col1\" class=\"col_heading level0 col1\" >Value</th>\n",
       "    </tr>\n",
       "  </thead>\n",
       "  <tbody>\n",
       "    <tr>\n",
       "      <th id=\"T_ea531_level0_row0\" class=\"row_heading level0 row0\" >0</th>\n",
       "      <td id=\"T_ea531_row0_col0\" class=\"data row0 col0\" >Session id</td>\n",
       "      <td id=\"T_ea531_row0_col1\" class=\"data row0 col1\" >2</td>\n",
       "    </tr>\n",
       "    <tr>\n",
       "      <th id=\"T_ea531_level0_row1\" class=\"row_heading level0 row1\" >1</th>\n",
       "      <td id=\"T_ea531_row1_col0\" class=\"data row1 col0\" >Original data shape</td>\n",
       "      <td id=\"T_ea531_row1_col1\" class=\"data row1 col1\" >(150, 4)</td>\n",
       "    </tr>\n",
       "    <tr>\n",
       "      <th id=\"T_ea531_level0_row2\" class=\"row_heading level0 row2\" >2</th>\n",
       "      <td id=\"T_ea531_row2_col0\" class=\"data row2 col0\" >Transformed data shape</td>\n",
       "      <td id=\"T_ea531_row2_col1\" class=\"data row2 col1\" >(150, 4)</td>\n",
       "    </tr>\n",
       "    <tr>\n",
       "      <th id=\"T_ea531_level0_row3\" class=\"row_heading level0 row3\" >3</th>\n",
       "      <td id=\"T_ea531_row3_col0\" class=\"data row3 col0\" >Numeric features</td>\n",
       "      <td id=\"T_ea531_row3_col1\" class=\"data row3 col1\" >4</td>\n",
       "    </tr>\n",
       "    <tr>\n",
       "      <th id=\"T_ea531_level0_row4\" class=\"row_heading level0 row4\" >4</th>\n",
       "      <td id=\"T_ea531_row4_col0\" class=\"data row4 col0\" >Preprocess</td>\n",
       "      <td id=\"T_ea531_row4_col1\" class=\"data row4 col1\" >True</td>\n",
       "    </tr>\n",
       "    <tr>\n",
       "      <th id=\"T_ea531_level0_row5\" class=\"row_heading level0 row5\" >5</th>\n",
       "      <td id=\"T_ea531_row5_col0\" class=\"data row5 col0\" >Imputation type</td>\n",
       "      <td id=\"T_ea531_row5_col1\" class=\"data row5 col1\" >simple</td>\n",
       "    </tr>\n",
       "    <tr>\n",
       "      <th id=\"T_ea531_level0_row6\" class=\"row_heading level0 row6\" >6</th>\n",
       "      <td id=\"T_ea531_row6_col0\" class=\"data row6 col0\" >Numeric imputation</td>\n",
       "      <td id=\"T_ea531_row6_col1\" class=\"data row6 col1\" >mean</td>\n",
       "    </tr>\n",
       "    <tr>\n",
       "      <th id=\"T_ea531_level0_row7\" class=\"row_heading level0 row7\" >7</th>\n",
       "      <td id=\"T_ea531_row7_col0\" class=\"data row7 col0\" >Categorical imputation</td>\n",
       "      <td id=\"T_ea531_row7_col1\" class=\"data row7 col1\" >mode</td>\n",
       "    </tr>\n",
       "    <tr>\n",
       "      <th id=\"T_ea531_level0_row8\" class=\"row_heading level0 row8\" >8</th>\n",
       "      <td id=\"T_ea531_row8_col0\" class=\"data row8 col0\" >Transformation</td>\n",
       "      <td id=\"T_ea531_row8_col1\" class=\"data row8 col1\" ><function custom_preprocess at 0x0000020AA5F8CCA0></td>\n",
       "    </tr>\n",
       "    <tr>\n",
       "      <th id=\"T_ea531_level0_row9\" class=\"row_heading level0 row9\" >9</th>\n",
       "      <td id=\"T_ea531_row9_col0\" class=\"data row9 col0\" >Transformation method</td>\n",
       "      <td id=\"T_ea531_row9_col1\" class=\"data row9 col1\" >yeo-johnson</td>\n",
       "    </tr>\n",
       "    <tr>\n",
       "      <th id=\"T_ea531_level0_row10\" class=\"row_heading level0 row10\" >10</th>\n",
       "      <td id=\"T_ea531_row10_col0\" class=\"data row10 col0\" >Normalize</td>\n",
       "      <td id=\"T_ea531_row10_col1\" class=\"data row10 col1\" >True</td>\n",
       "    </tr>\n",
       "    <tr>\n",
       "      <th id=\"T_ea531_level0_row11\" class=\"row_heading level0 row11\" >11</th>\n",
       "      <td id=\"T_ea531_row11_col0\" class=\"data row11 col0\" >Normalize method</td>\n",
       "      <td id=\"T_ea531_row11_col1\" class=\"data row11 col1\" >zscore</td>\n",
       "    </tr>\n",
       "    <tr>\n",
       "      <th id=\"T_ea531_level0_row12\" class=\"row_heading level0 row12\" >12</th>\n",
       "      <td id=\"T_ea531_row12_col0\" class=\"data row12 col0\" >CPU Jobs</td>\n",
       "      <td id=\"T_ea531_row12_col1\" class=\"data row12 col1\" >-1</td>\n",
       "    </tr>\n",
       "    <tr>\n",
       "      <th id=\"T_ea531_level0_row13\" class=\"row_heading level0 row13\" >13</th>\n",
       "      <td id=\"T_ea531_row13_col0\" class=\"data row13 col0\" >Use GPU</td>\n",
       "      <td id=\"T_ea531_row13_col1\" class=\"data row13 col1\" >False</td>\n",
       "    </tr>\n",
       "    <tr>\n",
       "      <th id=\"T_ea531_level0_row14\" class=\"row_heading level0 row14\" >14</th>\n",
       "      <td id=\"T_ea531_row14_col0\" class=\"data row14 col0\" >Log Experiment</td>\n",
       "      <td id=\"T_ea531_row14_col1\" class=\"data row14 col1\" >False</td>\n",
       "    </tr>\n",
       "    <tr>\n",
       "      <th id=\"T_ea531_level0_row15\" class=\"row_heading level0 row15\" >15</th>\n",
       "      <td id=\"T_ea531_row15_col0\" class=\"data row15 col0\" >Experiment Name</td>\n",
       "      <td id=\"T_ea531_row15_col1\" class=\"data row15 col1\" >cluster-default-name</td>\n",
       "    </tr>\n",
       "    <tr>\n",
       "      <th id=\"T_ea531_level0_row16\" class=\"row_heading level0 row16\" >16</th>\n",
       "      <td id=\"T_ea531_row16_col0\" class=\"data row16 col0\" >USI</td>\n",
       "      <td id=\"T_ea531_row16_col1\" class=\"data row16 col1\" >f492</td>\n",
       "    </tr>\n",
       "  </tbody>\n",
       "</table>\n"
      ],
      "text/plain": [
       "<pandas.io.formats.style.Styler at 0x20aa744e4a0>"
      ]
     },
     "metadata": {},
     "output_type": "display_data"
    },
    {
     "data": {
      "text/html": [],
      "text/plain": [
       "<IPython.core.display.HTML object>"
      ]
     },
     "metadata": {},
     "output_type": "display_data"
    },
    {
     "data": {
      "text/html": [
       "<style type=\"text/css\">\n",
       "</style>\n",
       "<table id=\"T_d5090\">\n",
       "  <thead>\n",
       "    <tr>\n",
       "      <th class=\"blank level0\" >&nbsp;</th>\n",
       "      <th id=\"T_d5090_level0_col0\" class=\"col_heading level0 col0\" >Silhouette</th>\n",
       "      <th id=\"T_d5090_level0_col1\" class=\"col_heading level0 col1\" >Calinski-Harabasz</th>\n",
       "      <th id=\"T_d5090_level0_col2\" class=\"col_heading level0 col2\" >Davies-Bouldin</th>\n",
       "      <th id=\"T_d5090_level0_col3\" class=\"col_heading level0 col3\" >Homogeneity</th>\n",
       "      <th id=\"T_d5090_level0_col4\" class=\"col_heading level0 col4\" >Rand Index</th>\n",
       "      <th id=\"T_d5090_level0_col5\" class=\"col_heading level0 col5\" >Completeness</th>\n",
       "    </tr>\n",
       "  </thead>\n",
       "  <tbody>\n",
       "    <tr>\n",
       "      <th id=\"T_d5090_level0_row0\" class=\"row_heading level0 row0\" >0</th>\n",
       "      <td id=\"T_d5090_row0_col0\" class=\"data row0 col0\" >0.3625</td>\n",
       "      <td id=\"T_d5090_row0_col1\" class=\"data row0 col1\" >199.3025</td>\n",
       "      <td id=\"T_d5090_row0_col2\" class=\"data row0 col2\" >0.8962</td>\n",
       "      <td id=\"T_d5090_row0_col3\" class=\"data row0 col3\" >0</td>\n",
       "      <td id=\"T_d5090_row0_col4\" class=\"data row0 col4\" >0</td>\n",
       "      <td id=\"T_d5090_row0_col5\" class=\"data row0 col5\" >0</td>\n",
       "    </tr>\n",
       "  </tbody>\n",
       "</table>\n"
      ],
      "text/plain": [
       "<pandas.io.formats.style.Styler at 0x20aa731e8c0>"
      ]
     },
     "metadata": {},
     "output_type": "display_data"
    },
    {
     "data": {
      "text/html": [],
      "text/plain": [
       "<IPython.core.display.HTML object>"
      ]
     },
     "metadata": {},
     "output_type": "display_data"
    },
    {
     "name": "stdout",
     "output_type": "stream",
     "text": [
      "For hclust with 5 clusters with Transformation and Normalization\n"
     ]
    },
    {
     "data": {
      "application/vnd.jupyter.widget-view+json": {
       "model_id": "0f457d2b9d2f4265abc1b05689270b97",
       "version_major": 2,
       "version_minor": 0
      },
      "text/plain": [
       "interactive(children=(ToggleButtons(description='Plot Type:', icons=('',), options=(('Pipeline Plot', 'pipelin…"
      ]
     },
     "metadata": {},
     "output_type": "display_data"
    },
    {
     "data": {
      "text/html": [
       "<style type=\"text/css\">\n",
       "#T_88acd_row4_col1, #T_88acd_row10_col1 {\n",
       "  background-color: lightgreen;\n",
       "}\n",
       "</style>\n",
       "<table id=\"T_88acd\">\n",
       "  <thead>\n",
       "    <tr>\n",
       "      <th class=\"blank level0\" >&nbsp;</th>\n",
       "      <th id=\"T_88acd_level0_col0\" class=\"col_heading level0 col0\" >Description</th>\n",
       "      <th id=\"T_88acd_level0_col1\" class=\"col_heading level0 col1\" >Value</th>\n",
       "    </tr>\n",
       "  </thead>\n",
       "  <tbody>\n",
       "    <tr>\n",
       "      <th id=\"T_88acd_level0_row0\" class=\"row_heading level0 row0\" >0</th>\n",
       "      <td id=\"T_88acd_row0_col0\" class=\"data row0 col0\" >Session id</td>\n",
       "      <td id=\"T_88acd_row0_col1\" class=\"data row0 col1\" >2</td>\n",
       "    </tr>\n",
       "    <tr>\n",
       "      <th id=\"T_88acd_level0_row1\" class=\"row_heading level0 row1\" >1</th>\n",
       "      <td id=\"T_88acd_row1_col0\" class=\"data row1 col0\" >Original data shape</td>\n",
       "      <td id=\"T_88acd_row1_col1\" class=\"data row1 col1\" >(150, 4)</td>\n",
       "    </tr>\n",
       "    <tr>\n",
       "      <th id=\"T_88acd_level0_row2\" class=\"row_heading level0 row2\" >2</th>\n",
       "      <td id=\"T_88acd_row2_col0\" class=\"data row2 col0\" >Transformed data shape</td>\n",
       "      <td id=\"T_88acd_row2_col1\" class=\"data row2 col1\" >(150, 4)</td>\n",
       "    </tr>\n",
       "    <tr>\n",
       "      <th id=\"T_88acd_level0_row3\" class=\"row_heading level0 row3\" >3</th>\n",
       "      <td id=\"T_88acd_row3_col0\" class=\"data row3 col0\" >Numeric features</td>\n",
       "      <td id=\"T_88acd_row3_col1\" class=\"data row3 col1\" >4</td>\n",
       "    </tr>\n",
       "    <tr>\n",
       "      <th id=\"T_88acd_level0_row4\" class=\"row_heading level0 row4\" >4</th>\n",
       "      <td id=\"T_88acd_row4_col0\" class=\"data row4 col0\" >Preprocess</td>\n",
       "      <td id=\"T_88acd_row4_col1\" class=\"data row4 col1\" >True</td>\n",
       "    </tr>\n",
       "    <tr>\n",
       "      <th id=\"T_88acd_level0_row5\" class=\"row_heading level0 row5\" >5</th>\n",
       "      <td id=\"T_88acd_row5_col0\" class=\"data row5 col0\" >Imputation type</td>\n",
       "      <td id=\"T_88acd_row5_col1\" class=\"data row5 col1\" >simple</td>\n",
       "    </tr>\n",
       "    <tr>\n",
       "      <th id=\"T_88acd_level0_row6\" class=\"row_heading level0 row6\" >6</th>\n",
       "      <td id=\"T_88acd_row6_col0\" class=\"data row6 col0\" >Numeric imputation</td>\n",
       "      <td id=\"T_88acd_row6_col1\" class=\"data row6 col1\" >mean</td>\n",
       "    </tr>\n",
       "    <tr>\n",
       "      <th id=\"T_88acd_level0_row7\" class=\"row_heading level0 row7\" >7</th>\n",
       "      <td id=\"T_88acd_row7_col0\" class=\"data row7 col0\" >Categorical imputation</td>\n",
       "      <td id=\"T_88acd_row7_col1\" class=\"data row7 col1\" >mode</td>\n",
       "    </tr>\n",
       "    <tr>\n",
       "      <th id=\"T_88acd_level0_row8\" class=\"row_heading level0 row8\" >8</th>\n",
       "      <td id=\"T_88acd_row8_col0\" class=\"data row8 col0\" >Transformation</td>\n",
       "      <td id=\"T_88acd_row8_col1\" class=\"data row8 col1\" ><function custom_preprocess at 0x0000020AA5F8CCA0></td>\n",
       "    </tr>\n",
       "    <tr>\n",
       "      <th id=\"T_88acd_level0_row9\" class=\"row_heading level0 row9\" >9</th>\n",
       "      <td id=\"T_88acd_row9_col0\" class=\"data row9 col0\" >Transformation method</td>\n",
       "      <td id=\"T_88acd_row9_col1\" class=\"data row9 col1\" >yeo-johnson</td>\n",
       "    </tr>\n",
       "    <tr>\n",
       "      <th id=\"T_88acd_level0_row10\" class=\"row_heading level0 row10\" >10</th>\n",
       "      <td id=\"T_88acd_row10_col0\" class=\"data row10 col0\" >Normalize</td>\n",
       "      <td id=\"T_88acd_row10_col1\" class=\"data row10 col1\" >True</td>\n",
       "    </tr>\n",
       "    <tr>\n",
       "      <th id=\"T_88acd_level0_row11\" class=\"row_heading level0 row11\" >11</th>\n",
       "      <td id=\"T_88acd_row11_col0\" class=\"data row11 col0\" >Normalize method</td>\n",
       "      <td id=\"T_88acd_row11_col1\" class=\"data row11 col1\" >zscore</td>\n",
       "    </tr>\n",
       "    <tr>\n",
       "      <th id=\"T_88acd_level0_row12\" class=\"row_heading level0 row12\" >12</th>\n",
       "      <td id=\"T_88acd_row12_col0\" class=\"data row12 col0\" >CPU Jobs</td>\n",
       "      <td id=\"T_88acd_row12_col1\" class=\"data row12 col1\" >-1</td>\n",
       "    </tr>\n",
       "    <tr>\n",
       "      <th id=\"T_88acd_level0_row13\" class=\"row_heading level0 row13\" >13</th>\n",
       "      <td id=\"T_88acd_row13_col0\" class=\"data row13 col0\" >Use GPU</td>\n",
       "      <td id=\"T_88acd_row13_col1\" class=\"data row13 col1\" >False</td>\n",
       "    </tr>\n",
       "    <tr>\n",
       "      <th id=\"T_88acd_level0_row14\" class=\"row_heading level0 row14\" >14</th>\n",
       "      <td id=\"T_88acd_row14_col0\" class=\"data row14 col0\" >Log Experiment</td>\n",
       "      <td id=\"T_88acd_row14_col1\" class=\"data row14 col1\" >False</td>\n",
       "    </tr>\n",
       "    <tr>\n",
       "      <th id=\"T_88acd_level0_row15\" class=\"row_heading level0 row15\" >15</th>\n",
       "      <td id=\"T_88acd_row15_col0\" class=\"data row15 col0\" >Experiment Name</td>\n",
       "      <td id=\"T_88acd_row15_col1\" class=\"data row15 col1\" >cluster-default-name</td>\n",
       "    </tr>\n",
       "    <tr>\n",
       "      <th id=\"T_88acd_level0_row16\" class=\"row_heading level0 row16\" >16</th>\n",
       "      <td id=\"T_88acd_row16_col0\" class=\"data row16 col0\" >USI</td>\n",
       "      <td id=\"T_88acd_row16_col1\" class=\"data row16 col1\" >1585</td>\n",
       "    </tr>\n",
       "  </tbody>\n",
       "</table>\n"
      ],
      "text/plain": [
       "<pandas.io.formats.style.Styler at 0x20aa74fec50>"
      ]
     },
     "metadata": {},
     "output_type": "display_data"
    },
    {
     "data": {
      "text/html": [],
      "text/plain": [
       "<IPython.core.display.HTML object>"
      ]
     },
     "metadata": {},
     "output_type": "display_data"
    },
    {
     "data": {
      "text/html": [
       "<style type=\"text/css\">\n",
       "</style>\n",
       "<table id=\"T_e9855\">\n",
       "  <thead>\n",
       "    <tr>\n",
       "      <th class=\"blank level0\" >&nbsp;</th>\n",
       "      <th id=\"T_e9855_level0_col0\" class=\"col_heading level0 col0\" >Silhouette</th>\n",
       "      <th id=\"T_e9855_level0_col1\" class=\"col_heading level0 col1\" >Calinski-Harabasz</th>\n",
       "      <th id=\"T_e9855_level0_col2\" class=\"col_heading level0 col2\" >Davies-Bouldin</th>\n",
       "      <th id=\"T_e9855_level0_col3\" class=\"col_heading level0 col3\" >Homogeneity</th>\n",
       "      <th id=\"T_e9855_level0_col4\" class=\"col_heading level0 col4\" >Rand Index</th>\n",
       "      <th id=\"T_e9855_level0_col5\" class=\"col_heading level0 col5\" >Completeness</th>\n",
       "    </tr>\n",
       "  </thead>\n",
       "  <tbody>\n",
       "    <tr>\n",
       "      <th id=\"T_e9855_level0_row0\" class=\"row_heading level0 row0\" >0</th>\n",
       "      <td id=\"T_e9855_row0_col0\" class=\"data row0 col0\" >0.5836</td>\n",
       "      <td id=\"T_e9855_row0_col1\" class=\"data row0 col1\" >254.4470</td>\n",
       "      <td id=\"T_e9855_row0_col2\" class=\"data row0 col2\" >0.5931</td>\n",
       "      <td id=\"T_e9855_row0_col3\" class=\"data row0 col3\" >0</td>\n",
       "      <td id=\"T_e9855_row0_col4\" class=\"data row0 col4\" >0</td>\n",
       "      <td id=\"T_e9855_row0_col5\" class=\"data row0 col5\" >0</td>\n",
       "    </tr>\n",
       "  </tbody>\n",
       "</table>\n"
      ],
      "text/plain": [
       "<pandas.io.formats.style.Styler at 0x20aa72e6230>"
      ]
     },
     "metadata": {},
     "output_type": "display_data"
    },
    {
     "data": {
      "text/html": [],
      "text/plain": [
       "<IPython.core.display.HTML object>"
      ]
     },
     "metadata": {},
     "output_type": "display_data"
    },
    {
     "name": "stdout",
     "output_type": "stream",
     "text": [
      "For meanshift with 3 clusters with Transformation and Normalization\n"
     ]
    },
    {
     "data": {
      "application/vnd.jupyter.widget-view+json": {
       "model_id": "3bd427c3fd624ea683bf2f3fb2fe0f07",
       "version_major": 2,
       "version_minor": 0
      },
      "text/plain": [
       "interactive(children=(ToggleButtons(description='Plot Type:', icons=('',), options=(('Pipeline Plot', 'pipelin…"
      ]
     },
     "metadata": {},
     "output_type": "display_data"
    },
    {
     "data": {
      "text/html": [
       "<style type=\"text/css\">\n",
       "#T_d6d77_row4_col1, #T_d6d77_row10_col1 {\n",
       "  background-color: lightgreen;\n",
       "}\n",
       "</style>\n",
       "<table id=\"T_d6d77\">\n",
       "  <thead>\n",
       "    <tr>\n",
       "      <th class=\"blank level0\" >&nbsp;</th>\n",
       "      <th id=\"T_d6d77_level0_col0\" class=\"col_heading level0 col0\" >Description</th>\n",
       "      <th id=\"T_d6d77_level0_col1\" class=\"col_heading level0 col1\" >Value</th>\n",
       "    </tr>\n",
       "  </thead>\n",
       "  <tbody>\n",
       "    <tr>\n",
       "      <th id=\"T_d6d77_level0_row0\" class=\"row_heading level0 row0\" >0</th>\n",
       "      <td id=\"T_d6d77_row0_col0\" class=\"data row0 col0\" >Session id</td>\n",
       "      <td id=\"T_d6d77_row0_col1\" class=\"data row0 col1\" >2</td>\n",
       "    </tr>\n",
       "    <tr>\n",
       "      <th id=\"T_d6d77_level0_row1\" class=\"row_heading level0 row1\" >1</th>\n",
       "      <td id=\"T_d6d77_row1_col0\" class=\"data row1 col0\" >Original data shape</td>\n",
       "      <td id=\"T_d6d77_row1_col1\" class=\"data row1 col1\" >(150, 4)</td>\n",
       "    </tr>\n",
       "    <tr>\n",
       "      <th id=\"T_d6d77_level0_row2\" class=\"row_heading level0 row2\" >2</th>\n",
       "      <td id=\"T_d6d77_row2_col0\" class=\"data row2 col0\" >Transformed data shape</td>\n",
       "      <td id=\"T_d6d77_row2_col1\" class=\"data row2 col1\" >(150, 4)</td>\n",
       "    </tr>\n",
       "    <tr>\n",
       "      <th id=\"T_d6d77_level0_row3\" class=\"row_heading level0 row3\" >3</th>\n",
       "      <td id=\"T_d6d77_row3_col0\" class=\"data row3 col0\" >Numeric features</td>\n",
       "      <td id=\"T_d6d77_row3_col1\" class=\"data row3 col1\" >4</td>\n",
       "    </tr>\n",
       "    <tr>\n",
       "      <th id=\"T_d6d77_level0_row4\" class=\"row_heading level0 row4\" >4</th>\n",
       "      <td id=\"T_d6d77_row4_col0\" class=\"data row4 col0\" >Preprocess</td>\n",
       "      <td id=\"T_d6d77_row4_col1\" class=\"data row4 col1\" >True</td>\n",
       "    </tr>\n",
       "    <tr>\n",
       "      <th id=\"T_d6d77_level0_row5\" class=\"row_heading level0 row5\" >5</th>\n",
       "      <td id=\"T_d6d77_row5_col0\" class=\"data row5 col0\" >Imputation type</td>\n",
       "      <td id=\"T_d6d77_row5_col1\" class=\"data row5 col1\" >simple</td>\n",
       "    </tr>\n",
       "    <tr>\n",
       "      <th id=\"T_d6d77_level0_row6\" class=\"row_heading level0 row6\" >6</th>\n",
       "      <td id=\"T_d6d77_row6_col0\" class=\"data row6 col0\" >Numeric imputation</td>\n",
       "      <td id=\"T_d6d77_row6_col1\" class=\"data row6 col1\" >mean</td>\n",
       "    </tr>\n",
       "    <tr>\n",
       "      <th id=\"T_d6d77_level0_row7\" class=\"row_heading level0 row7\" >7</th>\n",
       "      <td id=\"T_d6d77_row7_col0\" class=\"data row7 col0\" >Categorical imputation</td>\n",
       "      <td id=\"T_d6d77_row7_col1\" class=\"data row7 col1\" >mode</td>\n",
       "    </tr>\n",
       "    <tr>\n",
       "      <th id=\"T_d6d77_level0_row8\" class=\"row_heading level0 row8\" >8</th>\n",
       "      <td id=\"T_d6d77_row8_col0\" class=\"data row8 col0\" >Transformation</td>\n",
       "      <td id=\"T_d6d77_row8_col1\" class=\"data row8 col1\" ><function custom_preprocess at 0x0000020AA5F8CCA0></td>\n",
       "    </tr>\n",
       "    <tr>\n",
       "      <th id=\"T_d6d77_level0_row9\" class=\"row_heading level0 row9\" >9</th>\n",
       "      <td id=\"T_d6d77_row9_col0\" class=\"data row9 col0\" >Transformation method</td>\n",
       "      <td id=\"T_d6d77_row9_col1\" class=\"data row9 col1\" >yeo-johnson</td>\n",
       "    </tr>\n",
       "    <tr>\n",
       "      <th id=\"T_d6d77_level0_row10\" class=\"row_heading level0 row10\" >10</th>\n",
       "      <td id=\"T_d6d77_row10_col0\" class=\"data row10 col0\" >Normalize</td>\n",
       "      <td id=\"T_d6d77_row10_col1\" class=\"data row10 col1\" >True</td>\n",
       "    </tr>\n",
       "    <tr>\n",
       "      <th id=\"T_d6d77_level0_row11\" class=\"row_heading level0 row11\" >11</th>\n",
       "      <td id=\"T_d6d77_row11_col0\" class=\"data row11 col0\" >Normalize method</td>\n",
       "      <td id=\"T_d6d77_row11_col1\" class=\"data row11 col1\" >zscore</td>\n",
       "    </tr>\n",
       "    <tr>\n",
       "      <th id=\"T_d6d77_level0_row12\" class=\"row_heading level0 row12\" >12</th>\n",
       "      <td id=\"T_d6d77_row12_col0\" class=\"data row12 col0\" >CPU Jobs</td>\n",
       "      <td id=\"T_d6d77_row12_col1\" class=\"data row12 col1\" >-1</td>\n",
       "    </tr>\n",
       "    <tr>\n",
       "      <th id=\"T_d6d77_level0_row13\" class=\"row_heading level0 row13\" >13</th>\n",
       "      <td id=\"T_d6d77_row13_col0\" class=\"data row13 col0\" >Use GPU</td>\n",
       "      <td id=\"T_d6d77_row13_col1\" class=\"data row13 col1\" >False</td>\n",
       "    </tr>\n",
       "    <tr>\n",
       "      <th id=\"T_d6d77_level0_row14\" class=\"row_heading level0 row14\" >14</th>\n",
       "      <td id=\"T_d6d77_row14_col0\" class=\"data row14 col0\" >Log Experiment</td>\n",
       "      <td id=\"T_d6d77_row14_col1\" class=\"data row14 col1\" >False</td>\n",
       "    </tr>\n",
       "    <tr>\n",
       "      <th id=\"T_d6d77_level0_row15\" class=\"row_heading level0 row15\" >15</th>\n",
       "      <td id=\"T_d6d77_row15_col0\" class=\"data row15 col0\" >Experiment Name</td>\n",
       "      <td id=\"T_d6d77_row15_col1\" class=\"data row15 col1\" >cluster-default-name</td>\n",
       "    </tr>\n",
       "    <tr>\n",
       "      <th id=\"T_d6d77_level0_row16\" class=\"row_heading level0 row16\" >16</th>\n",
       "      <td id=\"T_d6d77_row16_col0\" class=\"data row16 col0\" >USI</td>\n",
       "      <td id=\"T_d6d77_row16_col1\" class=\"data row16 col1\" >374b</td>\n",
       "    </tr>\n",
       "  </tbody>\n",
       "</table>\n"
      ],
      "text/plain": [
       "<pandas.io.formats.style.Styler at 0x20aa73dc490>"
      ]
     },
     "metadata": {},
     "output_type": "display_data"
    },
    {
     "data": {
      "text/html": [],
      "text/plain": [
       "<IPython.core.display.HTML object>"
      ]
     },
     "metadata": {},
     "output_type": "display_data"
    },
    {
     "data": {
      "text/html": [
       "<style type=\"text/css\">\n",
       "</style>\n",
       "<table id=\"T_9ecd7\">\n",
       "  <thead>\n",
       "    <tr>\n",
       "      <th class=\"blank level0\" >&nbsp;</th>\n",
       "      <th id=\"T_9ecd7_level0_col0\" class=\"col_heading level0 col0\" >Silhouette</th>\n",
       "      <th id=\"T_9ecd7_level0_col1\" class=\"col_heading level0 col1\" >Calinski-Harabasz</th>\n",
       "      <th id=\"T_9ecd7_level0_col2\" class=\"col_heading level0 col2\" >Davies-Bouldin</th>\n",
       "      <th id=\"T_9ecd7_level0_col3\" class=\"col_heading level0 col3\" >Homogeneity</th>\n",
       "      <th id=\"T_9ecd7_level0_col4\" class=\"col_heading level0 col4\" >Rand Index</th>\n",
       "      <th id=\"T_9ecd7_level0_col5\" class=\"col_heading level0 col5\" >Completeness</th>\n",
       "    </tr>\n",
       "  </thead>\n",
       "  <tbody>\n",
       "    <tr>\n",
       "      <th id=\"T_9ecd7_level0_row0\" class=\"row_heading level0 row0\" >0</th>\n",
       "      <td id=\"T_9ecd7_row0_col0\" class=\"data row0 col0\" >0.5836</td>\n",
       "      <td id=\"T_9ecd7_row0_col1\" class=\"data row0 col1\" >254.4470</td>\n",
       "      <td id=\"T_9ecd7_row0_col2\" class=\"data row0 col2\" >0.5931</td>\n",
       "      <td id=\"T_9ecd7_row0_col3\" class=\"data row0 col3\" >0</td>\n",
       "      <td id=\"T_9ecd7_row0_col4\" class=\"data row0 col4\" >0</td>\n",
       "      <td id=\"T_9ecd7_row0_col5\" class=\"data row0 col5\" >0</td>\n",
       "    </tr>\n",
       "  </tbody>\n",
       "</table>\n"
      ],
      "text/plain": [
       "<pandas.io.formats.style.Styler at 0x20aa74b6cb0>"
      ]
     },
     "metadata": {},
     "output_type": "display_data"
    },
    {
     "data": {
      "text/html": [],
      "text/plain": [
       "<IPython.core.display.HTML object>"
      ]
     },
     "metadata": {},
     "output_type": "display_data"
    },
    {
     "name": "stdout",
     "output_type": "stream",
     "text": [
      "For meanshift with 4 clusters with Transformation and Normalization\n"
     ]
    },
    {
     "data": {
      "application/vnd.jupyter.widget-view+json": {
       "model_id": "260a3f8345bc4a67b743866bf91996b7",
       "version_major": 2,
       "version_minor": 0
      },
      "text/plain": [
       "interactive(children=(ToggleButtons(description='Plot Type:', icons=('',), options=(('Pipeline Plot', 'pipelin…"
      ]
     },
     "metadata": {},
     "output_type": "display_data"
    },
    {
     "data": {
      "text/html": [
       "<style type=\"text/css\">\n",
       "#T_e7bab_row4_col1, #T_e7bab_row10_col1 {\n",
       "  background-color: lightgreen;\n",
       "}\n",
       "</style>\n",
       "<table id=\"T_e7bab\">\n",
       "  <thead>\n",
       "    <tr>\n",
       "      <th class=\"blank level0\" >&nbsp;</th>\n",
       "      <th id=\"T_e7bab_level0_col0\" class=\"col_heading level0 col0\" >Description</th>\n",
       "      <th id=\"T_e7bab_level0_col1\" class=\"col_heading level0 col1\" >Value</th>\n",
       "    </tr>\n",
       "  </thead>\n",
       "  <tbody>\n",
       "    <tr>\n",
       "      <th id=\"T_e7bab_level0_row0\" class=\"row_heading level0 row0\" >0</th>\n",
       "      <td id=\"T_e7bab_row0_col0\" class=\"data row0 col0\" >Session id</td>\n",
       "      <td id=\"T_e7bab_row0_col1\" class=\"data row0 col1\" >2</td>\n",
       "    </tr>\n",
       "    <tr>\n",
       "      <th id=\"T_e7bab_level0_row1\" class=\"row_heading level0 row1\" >1</th>\n",
       "      <td id=\"T_e7bab_row1_col0\" class=\"data row1 col0\" >Original data shape</td>\n",
       "      <td id=\"T_e7bab_row1_col1\" class=\"data row1 col1\" >(150, 4)</td>\n",
       "    </tr>\n",
       "    <tr>\n",
       "      <th id=\"T_e7bab_level0_row2\" class=\"row_heading level0 row2\" >2</th>\n",
       "      <td id=\"T_e7bab_row2_col0\" class=\"data row2 col0\" >Transformed data shape</td>\n",
       "      <td id=\"T_e7bab_row2_col1\" class=\"data row2 col1\" >(150, 4)</td>\n",
       "    </tr>\n",
       "    <tr>\n",
       "      <th id=\"T_e7bab_level0_row3\" class=\"row_heading level0 row3\" >3</th>\n",
       "      <td id=\"T_e7bab_row3_col0\" class=\"data row3 col0\" >Numeric features</td>\n",
       "      <td id=\"T_e7bab_row3_col1\" class=\"data row3 col1\" >4</td>\n",
       "    </tr>\n",
       "    <tr>\n",
       "      <th id=\"T_e7bab_level0_row4\" class=\"row_heading level0 row4\" >4</th>\n",
       "      <td id=\"T_e7bab_row4_col0\" class=\"data row4 col0\" >Preprocess</td>\n",
       "      <td id=\"T_e7bab_row4_col1\" class=\"data row4 col1\" >True</td>\n",
       "    </tr>\n",
       "    <tr>\n",
       "      <th id=\"T_e7bab_level0_row5\" class=\"row_heading level0 row5\" >5</th>\n",
       "      <td id=\"T_e7bab_row5_col0\" class=\"data row5 col0\" >Imputation type</td>\n",
       "      <td id=\"T_e7bab_row5_col1\" class=\"data row5 col1\" >simple</td>\n",
       "    </tr>\n",
       "    <tr>\n",
       "      <th id=\"T_e7bab_level0_row6\" class=\"row_heading level0 row6\" >6</th>\n",
       "      <td id=\"T_e7bab_row6_col0\" class=\"data row6 col0\" >Numeric imputation</td>\n",
       "      <td id=\"T_e7bab_row6_col1\" class=\"data row6 col1\" >mean</td>\n",
       "    </tr>\n",
       "    <tr>\n",
       "      <th id=\"T_e7bab_level0_row7\" class=\"row_heading level0 row7\" >7</th>\n",
       "      <td id=\"T_e7bab_row7_col0\" class=\"data row7 col0\" >Categorical imputation</td>\n",
       "      <td id=\"T_e7bab_row7_col1\" class=\"data row7 col1\" >mode</td>\n",
       "    </tr>\n",
       "    <tr>\n",
       "      <th id=\"T_e7bab_level0_row8\" class=\"row_heading level0 row8\" >8</th>\n",
       "      <td id=\"T_e7bab_row8_col0\" class=\"data row8 col0\" >Transformation</td>\n",
       "      <td id=\"T_e7bab_row8_col1\" class=\"data row8 col1\" ><function custom_preprocess at 0x0000020AA5F8CCA0></td>\n",
       "    </tr>\n",
       "    <tr>\n",
       "      <th id=\"T_e7bab_level0_row9\" class=\"row_heading level0 row9\" >9</th>\n",
       "      <td id=\"T_e7bab_row9_col0\" class=\"data row9 col0\" >Transformation method</td>\n",
       "      <td id=\"T_e7bab_row9_col1\" class=\"data row9 col1\" >yeo-johnson</td>\n",
       "    </tr>\n",
       "    <tr>\n",
       "      <th id=\"T_e7bab_level0_row10\" class=\"row_heading level0 row10\" >10</th>\n",
       "      <td id=\"T_e7bab_row10_col0\" class=\"data row10 col0\" >Normalize</td>\n",
       "      <td id=\"T_e7bab_row10_col1\" class=\"data row10 col1\" >True</td>\n",
       "    </tr>\n",
       "    <tr>\n",
       "      <th id=\"T_e7bab_level0_row11\" class=\"row_heading level0 row11\" >11</th>\n",
       "      <td id=\"T_e7bab_row11_col0\" class=\"data row11 col0\" >Normalize method</td>\n",
       "      <td id=\"T_e7bab_row11_col1\" class=\"data row11 col1\" >zscore</td>\n",
       "    </tr>\n",
       "    <tr>\n",
       "      <th id=\"T_e7bab_level0_row12\" class=\"row_heading level0 row12\" >12</th>\n",
       "      <td id=\"T_e7bab_row12_col0\" class=\"data row12 col0\" >CPU Jobs</td>\n",
       "      <td id=\"T_e7bab_row12_col1\" class=\"data row12 col1\" >-1</td>\n",
       "    </tr>\n",
       "    <tr>\n",
       "      <th id=\"T_e7bab_level0_row13\" class=\"row_heading level0 row13\" >13</th>\n",
       "      <td id=\"T_e7bab_row13_col0\" class=\"data row13 col0\" >Use GPU</td>\n",
       "      <td id=\"T_e7bab_row13_col1\" class=\"data row13 col1\" >False</td>\n",
       "    </tr>\n",
       "    <tr>\n",
       "      <th id=\"T_e7bab_level0_row14\" class=\"row_heading level0 row14\" >14</th>\n",
       "      <td id=\"T_e7bab_row14_col0\" class=\"data row14 col0\" >Log Experiment</td>\n",
       "      <td id=\"T_e7bab_row14_col1\" class=\"data row14 col1\" >False</td>\n",
       "    </tr>\n",
       "    <tr>\n",
       "      <th id=\"T_e7bab_level0_row15\" class=\"row_heading level0 row15\" >15</th>\n",
       "      <td id=\"T_e7bab_row15_col0\" class=\"data row15 col0\" >Experiment Name</td>\n",
       "      <td id=\"T_e7bab_row15_col1\" class=\"data row15 col1\" >cluster-default-name</td>\n",
       "    </tr>\n",
       "    <tr>\n",
       "      <th id=\"T_e7bab_level0_row16\" class=\"row_heading level0 row16\" >16</th>\n",
       "      <td id=\"T_e7bab_row16_col0\" class=\"data row16 col0\" >USI</td>\n",
       "      <td id=\"T_e7bab_row16_col1\" class=\"data row16 col1\" >dc9e</td>\n",
       "    </tr>\n",
       "  </tbody>\n",
       "</table>\n"
      ],
      "text/plain": [
       "<pandas.io.formats.style.Styler at 0x20aa752a7d0>"
      ]
     },
     "metadata": {},
     "output_type": "display_data"
    },
    {
     "data": {
      "text/html": [],
      "text/plain": [
       "<IPython.core.display.HTML object>"
      ]
     },
     "metadata": {},
     "output_type": "display_data"
    },
    {
     "data": {
      "text/html": [
       "<style type=\"text/css\">\n",
       "</style>\n",
       "<table id=\"T_0f894\">\n",
       "  <thead>\n",
       "    <tr>\n",
       "      <th class=\"blank level0\" >&nbsp;</th>\n",
       "      <th id=\"T_0f894_level0_col0\" class=\"col_heading level0 col0\" >Silhouette</th>\n",
       "      <th id=\"T_0f894_level0_col1\" class=\"col_heading level0 col1\" >Calinski-Harabasz</th>\n",
       "      <th id=\"T_0f894_level0_col2\" class=\"col_heading level0 col2\" >Davies-Bouldin</th>\n",
       "      <th id=\"T_0f894_level0_col3\" class=\"col_heading level0 col3\" >Homogeneity</th>\n",
       "      <th id=\"T_0f894_level0_col4\" class=\"col_heading level0 col4\" >Rand Index</th>\n",
       "      <th id=\"T_0f894_level0_col5\" class=\"col_heading level0 col5\" >Completeness</th>\n",
       "    </tr>\n",
       "  </thead>\n",
       "  <tbody>\n",
       "    <tr>\n",
       "      <th id=\"T_0f894_level0_row0\" class=\"row_heading level0 row0\" >0</th>\n",
       "      <td id=\"T_0f894_row0_col0\" class=\"data row0 col0\" >0.5836</td>\n",
       "      <td id=\"T_0f894_row0_col1\" class=\"data row0 col1\" >254.4470</td>\n",
       "      <td id=\"T_0f894_row0_col2\" class=\"data row0 col2\" >0.5931</td>\n",
       "      <td id=\"T_0f894_row0_col3\" class=\"data row0 col3\" >0</td>\n",
       "      <td id=\"T_0f894_row0_col4\" class=\"data row0 col4\" >0</td>\n",
       "      <td id=\"T_0f894_row0_col5\" class=\"data row0 col5\" >0</td>\n",
       "    </tr>\n",
       "  </tbody>\n",
       "</table>\n"
      ],
      "text/plain": [
       "<pandas.io.formats.style.Styler at 0x20aa73ddb10>"
      ]
     },
     "metadata": {},
     "output_type": "display_data"
    },
    {
     "data": {
      "text/html": [],
      "text/plain": [
       "<IPython.core.display.HTML object>"
      ]
     },
     "metadata": {},
     "output_type": "display_data"
    },
    {
     "name": "stdout",
     "output_type": "stream",
     "text": [
      "For meanshift with 5 clusters with Transformation and Normalization\n"
     ]
    },
    {
     "data": {
      "application/vnd.jupyter.widget-view+json": {
       "model_id": "0bdbe55465d940bfa64f2ecf9c8b7b07",
       "version_major": 2,
       "version_minor": 0
      },
      "text/plain": [
       "interactive(children=(ToggleButtons(description='Plot Type:', icons=('',), options=(('Pipeline Plot', 'pipelin…"
      ]
     },
     "metadata": {},
     "output_type": "display_data"
    }
   ],
   "source": [
    "for model in models:\n",
    "    for cluster in clusters:\n",
    "        setup1 = setup(data, normalize=True, pca=False,session_id = 2,transformation=custom_preprocess)\n",
    "        mod1  = create_model(model,num_clusters = cluster)\n",
    "        print(f\"For {model} with {cluster} clusters with Transformation and Normalization\")\n",
    "        evaluate_model(mod1)\n"
   ]
  },
  {
   "cell_type": "markdown",
   "id": "6d542d0c",
   "metadata": {},
   "source": [
    "### Using Transformation and Normalization and PCA"
   ]
  },
  {
   "cell_type": "code",
   "execution_count": 10,
   "id": "3215e551",
   "metadata": {},
   "outputs": [
    {
     "data": {
      "text/html": [
       "<style type=\"text/css\">\n",
       "#T_e31be_row4_col1, #T_e31be_row10_col1, #T_e31be_row12_col1 {\n",
       "  background-color: lightgreen;\n",
       "}\n",
       "</style>\n",
       "<table id=\"T_e31be\">\n",
       "  <thead>\n",
       "    <tr>\n",
       "      <th class=\"blank level0\" >&nbsp;</th>\n",
       "      <th id=\"T_e31be_level0_col0\" class=\"col_heading level0 col0\" >Description</th>\n",
       "      <th id=\"T_e31be_level0_col1\" class=\"col_heading level0 col1\" >Value</th>\n",
       "    </tr>\n",
       "  </thead>\n",
       "  <tbody>\n",
       "    <tr>\n",
       "      <th id=\"T_e31be_level0_row0\" class=\"row_heading level0 row0\" >0</th>\n",
       "      <td id=\"T_e31be_row0_col0\" class=\"data row0 col0\" >Session id</td>\n",
       "      <td id=\"T_e31be_row0_col1\" class=\"data row0 col1\" >2</td>\n",
       "    </tr>\n",
       "    <tr>\n",
       "      <th id=\"T_e31be_level0_row1\" class=\"row_heading level0 row1\" >1</th>\n",
       "      <td id=\"T_e31be_row1_col0\" class=\"data row1 col0\" >Original data shape</td>\n",
       "      <td id=\"T_e31be_row1_col1\" class=\"data row1 col1\" >(150, 4)</td>\n",
       "    </tr>\n",
       "    <tr>\n",
       "      <th id=\"T_e31be_level0_row2\" class=\"row_heading level0 row2\" >2</th>\n",
       "      <td id=\"T_e31be_row2_col0\" class=\"data row2 col0\" >Transformed data shape</td>\n",
       "      <td id=\"T_e31be_row2_col1\" class=\"data row2 col1\" >(150, 4)</td>\n",
       "    </tr>\n",
       "    <tr>\n",
       "      <th id=\"T_e31be_level0_row3\" class=\"row_heading level0 row3\" >3</th>\n",
       "      <td id=\"T_e31be_row3_col0\" class=\"data row3 col0\" >Numeric features</td>\n",
       "      <td id=\"T_e31be_row3_col1\" class=\"data row3 col1\" >4</td>\n",
       "    </tr>\n",
       "    <tr>\n",
       "      <th id=\"T_e31be_level0_row4\" class=\"row_heading level0 row4\" >4</th>\n",
       "      <td id=\"T_e31be_row4_col0\" class=\"data row4 col0\" >Preprocess</td>\n",
       "      <td id=\"T_e31be_row4_col1\" class=\"data row4 col1\" >True</td>\n",
       "    </tr>\n",
       "    <tr>\n",
       "      <th id=\"T_e31be_level0_row5\" class=\"row_heading level0 row5\" >5</th>\n",
       "      <td id=\"T_e31be_row5_col0\" class=\"data row5 col0\" >Imputation type</td>\n",
       "      <td id=\"T_e31be_row5_col1\" class=\"data row5 col1\" >simple</td>\n",
       "    </tr>\n",
       "    <tr>\n",
       "      <th id=\"T_e31be_level0_row6\" class=\"row_heading level0 row6\" >6</th>\n",
       "      <td id=\"T_e31be_row6_col0\" class=\"data row6 col0\" >Numeric imputation</td>\n",
       "      <td id=\"T_e31be_row6_col1\" class=\"data row6 col1\" >mean</td>\n",
       "    </tr>\n",
       "    <tr>\n",
       "      <th id=\"T_e31be_level0_row7\" class=\"row_heading level0 row7\" >7</th>\n",
       "      <td id=\"T_e31be_row7_col0\" class=\"data row7 col0\" >Categorical imputation</td>\n",
       "      <td id=\"T_e31be_row7_col1\" class=\"data row7 col1\" >mode</td>\n",
       "    </tr>\n",
       "    <tr>\n",
       "      <th id=\"T_e31be_level0_row8\" class=\"row_heading level0 row8\" >8</th>\n",
       "      <td id=\"T_e31be_row8_col0\" class=\"data row8 col0\" >Transformation</td>\n",
       "      <td id=\"T_e31be_row8_col1\" class=\"data row8 col1\" ><function custom_preprocess at 0x0000020AA5F8CCA0></td>\n",
       "    </tr>\n",
       "    <tr>\n",
       "      <th id=\"T_e31be_level0_row9\" class=\"row_heading level0 row9\" >9</th>\n",
       "      <td id=\"T_e31be_row9_col0\" class=\"data row9 col0\" >Transformation method</td>\n",
       "      <td id=\"T_e31be_row9_col1\" class=\"data row9 col1\" >yeo-johnson</td>\n",
       "    </tr>\n",
       "    <tr>\n",
       "      <th id=\"T_e31be_level0_row10\" class=\"row_heading level0 row10\" >10</th>\n",
       "      <td id=\"T_e31be_row10_col0\" class=\"data row10 col0\" >Normalize</td>\n",
       "      <td id=\"T_e31be_row10_col1\" class=\"data row10 col1\" >True</td>\n",
       "    </tr>\n",
       "    <tr>\n",
       "      <th id=\"T_e31be_level0_row11\" class=\"row_heading level0 row11\" >11</th>\n",
       "      <td id=\"T_e31be_row11_col0\" class=\"data row11 col0\" >Normalize method</td>\n",
       "      <td id=\"T_e31be_row11_col1\" class=\"data row11 col1\" >zscore</td>\n",
       "    </tr>\n",
       "    <tr>\n",
       "      <th id=\"T_e31be_level0_row12\" class=\"row_heading level0 row12\" >12</th>\n",
       "      <td id=\"T_e31be_row12_col0\" class=\"data row12 col0\" >PCA</td>\n",
       "      <td id=\"T_e31be_row12_col1\" class=\"data row12 col1\" >True</td>\n",
       "    </tr>\n",
       "    <tr>\n",
       "      <th id=\"T_e31be_level0_row13\" class=\"row_heading level0 row13\" >13</th>\n",
       "      <td id=\"T_e31be_row13_col0\" class=\"data row13 col0\" >PCA method</td>\n",
       "      <td id=\"T_e31be_row13_col1\" class=\"data row13 col1\" >linear</td>\n",
       "    </tr>\n",
       "    <tr>\n",
       "      <th id=\"T_e31be_level0_row14\" class=\"row_heading level0 row14\" >14</th>\n",
       "      <td id=\"T_e31be_row14_col0\" class=\"data row14 col0\" >PCA components</td>\n",
       "      <td id=\"T_e31be_row14_col1\" class=\"data row14 col1\" >None</td>\n",
       "    </tr>\n",
       "    <tr>\n",
       "      <th id=\"T_e31be_level0_row15\" class=\"row_heading level0 row15\" >15</th>\n",
       "      <td id=\"T_e31be_row15_col0\" class=\"data row15 col0\" >CPU Jobs</td>\n",
       "      <td id=\"T_e31be_row15_col1\" class=\"data row15 col1\" >-1</td>\n",
       "    </tr>\n",
       "    <tr>\n",
       "      <th id=\"T_e31be_level0_row16\" class=\"row_heading level0 row16\" >16</th>\n",
       "      <td id=\"T_e31be_row16_col0\" class=\"data row16 col0\" >Use GPU</td>\n",
       "      <td id=\"T_e31be_row16_col1\" class=\"data row16 col1\" >False</td>\n",
       "    </tr>\n",
       "    <tr>\n",
       "      <th id=\"T_e31be_level0_row17\" class=\"row_heading level0 row17\" >17</th>\n",
       "      <td id=\"T_e31be_row17_col0\" class=\"data row17 col0\" >Log Experiment</td>\n",
       "      <td id=\"T_e31be_row17_col1\" class=\"data row17 col1\" >False</td>\n",
       "    </tr>\n",
       "    <tr>\n",
       "      <th id=\"T_e31be_level0_row18\" class=\"row_heading level0 row18\" >18</th>\n",
       "      <td id=\"T_e31be_row18_col0\" class=\"data row18 col0\" >Experiment Name</td>\n",
       "      <td id=\"T_e31be_row18_col1\" class=\"data row18 col1\" >cluster-default-name</td>\n",
       "    </tr>\n",
       "    <tr>\n",
       "      <th id=\"T_e31be_level0_row19\" class=\"row_heading level0 row19\" >19</th>\n",
       "      <td id=\"T_e31be_row19_col0\" class=\"data row19 col0\" >USI</td>\n",
       "      <td id=\"T_e31be_row19_col1\" class=\"data row19 col1\" >ded2</td>\n",
       "    </tr>\n",
       "  </tbody>\n",
       "</table>\n"
      ],
      "text/plain": [
       "<pandas.io.formats.style.Styler at 0x20aa7567040>"
      ]
     },
     "metadata": {},
     "output_type": "display_data"
    },
    {
     "data": {
      "text/html": [],
      "text/plain": [
       "<IPython.core.display.HTML object>"
      ]
     },
     "metadata": {},
     "output_type": "display_data"
    },
    {
     "data": {
      "text/html": [
       "<style type=\"text/css\">\n",
       "</style>\n",
       "<table id=\"T_43c7a\">\n",
       "  <thead>\n",
       "    <tr>\n",
       "      <th class=\"blank level0\" >&nbsp;</th>\n",
       "      <th id=\"T_43c7a_level0_col0\" class=\"col_heading level0 col0\" >Silhouette</th>\n",
       "      <th id=\"T_43c7a_level0_col1\" class=\"col_heading level0 col1\" >Calinski-Harabasz</th>\n",
       "      <th id=\"T_43c7a_level0_col2\" class=\"col_heading level0 col2\" >Davies-Bouldin</th>\n",
       "      <th id=\"T_43c7a_level0_col3\" class=\"col_heading level0 col3\" >Homogeneity</th>\n",
       "      <th id=\"T_43c7a_level0_col4\" class=\"col_heading level0 col4\" >Rand Index</th>\n",
       "      <th id=\"T_43c7a_level0_col5\" class=\"col_heading level0 col5\" >Completeness</th>\n",
       "    </tr>\n",
       "  </thead>\n",
       "  <tbody>\n",
       "    <tr>\n",
       "      <th id=\"T_43c7a_level0_row0\" class=\"row_heading level0 row0\" >0</th>\n",
       "      <td id=\"T_43c7a_row0_col0\" class=\"data row0 col0\" >0.4575</td>\n",
       "      <td id=\"T_43c7a_row0_col1\" class=\"data row0 col1\" >242.9960</td>\n",
       "      <td id=\"T_43c7a_row0_col2\" class=\"data row0 col2\" >0.8385</td>\n",
       "      <td id=\"T_43c7a_row0_col3\" class=\"data row0 col3\" >0</td>\n",
       "      <td id=\"T_43c7a_row0_col4\" class=\"data row0 col4\" >0</td>\n",
       "      <td id=\"T_43c7a_row0_col5\" class=\"data row0 col5\" >0</td>\n",
       "    </tr>\n",
       "  </tbody>\n",
       "</table>\n"
      ],
      "text/plain": [
       "<pandas.io.formats.style.Styler at 0x20aa73a2410>"
      ]
     },
     "metadata": {},
     "output_type": "display_data"
    },
    {
     "data": {
      "text/html": [],
      "text/plain": [
       "<IPython.core.display.HTML object>"
      ]
     },
     "metadata": {},
     "output_type": "display_data"
    },
    {
     "name": "stdout",
     "output_type": "stream",
     "text": [
      "For kmeans with 3 clusters with Transformation,Normalization and PCA\n"
     ]
    },
    {
     "data": {
      "application/vnd.jupyter.widget-view+json": {
       "model_id": "8b997c56d2da4fa1b1b505303c1c6030",
       "version_major": 2,
       "version_minor": 0
      },
      "text/plain": [
       "interactive(children=(ToggleButtons(description='Plot Type:', icons=('',), options=(('Pipeline Plot', 'pipelin…"
      ]
     },
     "metadata": {},
     "output_type": "display_data"
    },
    {
     "data": {
      "text/html": [
       "<style type=\"text/css\">\n",
       "#T_3e014_row4_col1, #T_3e014_row10_col1, #T_3e014_row12_col1 {\n",
       "  background-color: lightgreen;\n",
       "}\n",
       "</style>\n",
       "<table id=\"T_3e014\">\n",
       "  <thead>\n",
       "    <tr>\n",
       "      <th class=\"blank level0\" >&nbsp;</th>\n",
       "      <th id=\"T_3e014_level0_col0\" class=\"col_heading level0 col0\" >Description</th>\n",
       "      <th id=\"T_3e014_level0_col1\" class=\"col_heading level0 col1\" >Value</th>\n",
       "    </tr>\n",
       "  </thead>\n",
       "  <tbody>\n",
       "    <tr>\n",
       "      <th id=\"T_3e014_level0_row0\" class=\"row_heading level0 row0\" >0</th>\n",
       "      <td id=\"T_3e014_row0_col0\" class=\"data row0 col0\" >Session id</td>\n",
       "      <td id=\"T_3e014_row0_col1\" class=\"data row0 col1\" >2</td>\n",
       "    </tr>\n",
       "    <tr>\n",
       "      <th id=\"T_3e014_level0_row1\" class=\"row_heading level0 row1\" >1</th>\n",
       "      <td id=\"T_3e014_row1_col0\" class=\"data row1 col0\" >Original data shape</td>\n",
       "      <td id=\"T_3e014_row1_col1\" class=\"data row1 col1\" >(150, 4)</td>\n",
       "    </tr>\n",
       "    <tr>\n",
       "      <th id=\"T_3e014_level0_row2\" class=\"row_heading level0 row2\" >2</th>\n",
       "      <td id=\"T_3e014_row2_col0\" class=\"data row2 col0\" >Transformed data shape</td>\n",
       "      <td id=\"T_3e014_row2_col1\" class=\"data row2 col1\" >(150, 4)</td>\n",
       "    </tr>\n",
       "    <tr>\n",
       "      <th id=\"T_3e014_level0_row3\" class=\"row_heading level0 row3\" >3</th>\n",
       "      <td id=\"T_3e014_row3_col0\" class=\"data row3 col0\" >Numeric features</td>\n",
       "      <td id=\"T_3e014_row3_col1\" class=\"data row3 col1\" >4</td>\n",
       "    </tr>\n",
       "    <tr>\n",
       "      <th id=\"T_3e014_level0_row4\" class=\"row_heading level0 row4\" >4</th>\n",
       "      <td id=\"T_3e014_row4_col0\" class=\"data row4 col0\" >Preprocess</td>\n",
       "      <td id=\"T_3e014_row4_col1\" class=\"data row4 col1\" >True</td>\n",
       "    </tr>\n",
       "    <tr>\n",
       "      <th id=\"T_3e014_level0_row5\" class=\"row_heading level0 row5\" >5</th>\n",
       "      <td id=\"T_3e014_row5_col0\" class=\"data row5 col0\" >Imputation type</td>\n",
       "      <td id=\"T_3e014_row5_col1\" class=\"data row5 col1\" >simple</td>\n",
       "    </tr>\n",
       "    <tr>\n",
       "      <th id=\"T_3e014_level0_row6\" class=\"row_heading level0 row6\" >6</th>\n",
       "      <td id=\"T_3e014_row6_col0\" class=\"data row6 col0\" >Numeric imputation</td>\n",
       "      <td id=\"T_3e014_row6_col1\" class=\"data row6 col1\" >mean</td>\n",
       "    </tr>\n",
       "    <tr>\n",
       "      <th id=\"T_3e014_level0_row7\" class=\"row_heading level0 row7\" >7</th>\n",
       "      <td id=\"T_3e014_row7_col0\" class=\"data row7 col0\" >Categorical imputation</td>\n",
       "      <td id=\"T_3e014_row7_col1\" class=\"data row7 col1\" >mode</td>\n",
       "    </tr>\n",
       "    <tr>\n",
       "      <th id=\"T_3e014_level0_row8\" class=\"row_heading level0 row8\" >8</th>\n",
       "      <td id=\"T_3e014_row8_col0\" class=\"data row8 col0\" >Transformation</td>\n",
       "      <td id=\"T_3e014_row8_col1\" class=\"data row8 col1\" ><function custom_preprocess at 0x0000020AA5F8CCA0></td>\n",
       "    </tr>\n",
       "    <tr>\n",
       "      <th id=\"T_3e014_level0_row9\" class=\"row_heading level0 row9\" >9</th>\n",
       "      <td id=\"T_3e014_row9_col0\" class=\"data row9 col0\" >Transformation method</td>\n",
       "      <td id=\"T_3e014_row9_col1\" class=\"data row9 col1\" >yeo-johnson</td>\n",
       "    </tr>\n",
       "    <tr>\n",
       "      <th id=\"T_3e014_level0_row10\" class=\"row_heading level0 row10\" >10</th>\n",
       "      <td id=\"T_3e014_row10_col0\" class=\"data row10 col0\" >Normalize</td>\n",
       "      <td id=\"T_3e014_row10_col1\" class=\"data row10 col1\" >True</td>\n",
       "    </tr>\n",
       "    <tr>\n",
       "      <th id=\"T_3e014_level0_row11\" class=\"row_heading level0 row11\" >11</th>\n",
       "      <td id=\"T_3e014_row11_col0\" class=\"data row11 col0\" >Normalize method</td>\n",
       "      <td id=\"T_3e014_row11_col1\" class=\"data row11 col1\" >zscore</td>\n",
       "    </tr>\n",
       "    <tr>\n",
       "      <th id=\"T_3e014_level0_row12\" class=\"row_heading level0 row12\" >12</th>\n",
       "      <td id=\"T_3e014_row12_col0\" class=\"data row12 col0\" >PCA</td>\n",
       "      <td id=\"T_3e014_row12_col1\" class=\"data row12 col1\" >True</td>\n",
       "    </tr>\n",
       "    <tr>\n",
       "      <th id=\"T_3e014_level0_row13\" class=\"row_heading level0 row13\" >13</th>\n",
       "      <td id=\"T_3e014_row13_col0\" class=\"data row13 col0\" >PCA method</td>\n",
       "      <td id=\"T_3e014_row13_col1\" class=\"data row13 col1\" >linear</td>\n",
       "    </tr>\n",
       "    <tr>\n",
       "      <th id=\"T_3e014_level0_row14\" class=\"row_heading level0 row14\" >14</th>\n",
       "      <td id=\"T_3e014_row14_col0\" class=\"data row14 col0\" >PCA components</td>\n",
       "      <td id=\"T_3e014_row14_col1\" class=\"data row14 col1\" >None</td>\n",
       "    </tr>\n",
       "    <tr>\n",
       "      <th id=\"T_3e014_level0_row15\" class=\"row_heading level0 row15\" >15</th>\n",
       "      <td id=\"T_3e014_row15_col0\" class=\"data row15 col0\" >CPU Jobs</td>\n",
       "      <td id=\"T_3e014_row15_col1\" class=\"data row15 col1\" >-1</td>\n",
       "    </tr>\n",
       "    <tr>\n",
       "      <th id=\"T_3e014_level0_row16\" class=\"row_heading level0 row16\" >16</th>\n",
       "      <td id=\"T_3e014_row16_col0\" class=\"data row16 col0\" >Use GPU</td>\n",
       "      <td id=\"T_3e014_row16_col1\" class=\"data row16 col1\" >False</td>\n",
       "    </tr>\n",
       "    <tr>\n",
       "      <th id=\"T_3e014_level0_row17\" class=\"row_heading level0 row17\" >17</th>\n",
       "      <td id=\"T_3e014_row17_col0\" class=\"data row17 col0\" >Log Experiment</td>\n",
       "      <td id=\"T_3e014_row17_col1\" class=\"data row17 col1\" >False</td>\n",
       "    </tr>\n",
       "    <tr>\n",
       "      <th id=\"T_3e014_level0_row18\" class=\"row_heading level0 row18\" >18</th>\n",
       "      <td id=\"T_3e014_row18_col0\" class=\"data row18 col0\" >Experiment Name</td>\n",
       "      <td id=\"T_3e014_row18_col1\" class=\"data row18 col1\" >cluster-default-name</td>\n",
       "    </tr>\n",
       "    <tr>\n",
       "      <th id=\"T_3e014_level0_row19\" class=\"row_heading level0 row19\" >19</th>\n",
       "      <td id=\"T_3e014_row19_col0\" class=\"data row19 col0\" >USI</td>\n",
       "      <td id=\"T_3e014_row19_col1\" class=\"data row19 col1\" >c322</td>\n",
       "    </tr>\n",
       "  </tbody>\n",
       "</table>\n"
      ],
      "text/plain": [
       "<pandas.io.formats.style.Styler at 0x20aa7529c90>"
      ]
     },
     "metadata": {},
     "output_type": "display_data"
    },
    {
     "data": {
      "text/html": [],
      "text/plain": [
       "<IPython.core.display.HTML object>"
      ]
     },
     "metadata": {},
     "output_type": "display_data"
    },
    {
     "data": {
      "text/html": [
       "<style type=\"text/css\">\n",
       "</style>\n",
       "<table id=\"T_c0b40\">\n",
       "  <thead>\n",
       "    <tr>\n",
       "      <th class=\"blank level0\" >&nbsp;</th>\n",
       "      <th id=\"T_c0b40_level0_col0\" class=\"col_heading level0 col0\" >Silhouette</th>\n",
       "      <th id=\"T_c0b40_level0_col1\" class=\"col_heading level0 col1\" >Calinski-Harabasz</th>\n",
       "      <th id=\"T_c0b40_level0_col2\" class=\"col_heading level0 col2\" >Davies-Bouldin</th>\n",
       "      <th id=\"T_c0b40_level0_col3\" class=\"col_heading level0 col3\" >Homogeneity</th>\n",
       "      <th id=\"T_c0b40_level0_col4\" class=\"col_heading level0 col4\" >Rand Index</th>\n",
       "      <th id=\"T_c0b40_level0_col5\" class=\"col_heading level0 col5\" >Completeness</th>\n",
       "    </tr>\n",
       "  </thead>\n",
       "  <tbody>\n",
       "    <tr>\n",
       "      <th id=\"T_c0b40_level0_row0\" class=\"row_heading level0 row0\" >0</th>\n",
       "      <td id=\"T_c0b40_row0_col0\" class=\"data row0 col0\" >0.4185</td>\n",
       "      <td id=\"T_c0b40_row0_col1\" class=\"data row0 col1\" >210.2697</td>\n",
       "      <td id=\"T_c0b40_row0_col2\" class=\"data row0 col2\" >0.9307</td>\n",
       "      <td id=\"T_c0b40_row0_col3\" class=\"data row0 col3\" >0</td>\n",
       "      <td id=\"T_c0b40_row0_col4\" class=\"data row0 col4\" >0</td>\n",
       "      <td id=\"T_c0b40_row0_col5\" class=\"data row0 col5\" >0</td>\n",
       "    </tr>\n",
       "  </tbody>\n",
       "</table>\n"
      ],
      "text/plain": [
       "<pandas.io.formats.style.Styler at 0x20aa73dfe20>"
      ]
     },
     "metadata": {},
     "output_type": "display_data"
    },
    {
     "data": {
      "text/html": [],
      "text/plain": [
       "<IPython.core.display.HTML object>"
      ]
     },
     "metadata": {},
     "output_type": "display_data"
    },
    {
     "name": "stdout",
     "output_type": "stream",
     "text": [
      "For kmeans with 4 clusters with Transformation,Normalization and PCA\n"
     ]
    },
    {
     "data": {
      "application/vnd.jupyter.widget-view+json": {
       "model_id": "05e94b4ac12544d9bfc71f58da448d8e",
       "version_major": 2,
       "version_minor": 0
      },
      "text/plain": [
       "interactive(children=(ToggleButtons(description='Plot Type:', icons=('',), options=(('Pipeline Plot', 'pipelin…"
      ]
     },
     "metadata": {},
     "output_type": "display_data"
    },
    {
     "data": {
      "text/html": [
       "<style type=\"text/css\">\n",
       "#T_1d211_row4_col1, #T_1d211_row10_col1, #T_1d211_row12_col1 {\n",
       "  background-color: lightgreen;\n",
       "}\n",
       "</style>\n",
       "<table id=\"T_1d211\">\n",
       "  <thead>\n",
       "    <tr>\n",
       "      <th class=\"blank level0\" >&nbsp;</th>\n",
       "      <th id=\"T_1d211_level0_col0\" class=\"col_heading level0 col0\" >Description</th>\n",
       "      <th id=\"T_1d211_level0_col1\" class=\"col_heading level0 col1\" >Value</th>\n",
       "    </tr>\n",
       "  </thead>\n",
       "  <tbody>\n",
       "    <tr>\n",
       "      <th id=\"T_1d211_level0_row0\" class=\"row_heading level0 row0\" >0</th>\n",
       "      <td id=\"T_1d211_row0_col0\" class=\"data row0 col0\" >Session id</td>\n",
       "      <td id=\"T_1d211_row0_col1\" class=\"data row0 col1\" >2</td>\n",
       "    </tr>\n",
       "    <tr>\n",
       "      <th id=\"T_1d211_level0_row1\" class=\"row_heading level0 row1\" >1</th>\n",
       "      <td id=\"T_1d211_row1_col0\" class=\"data row1 col0\" >Original data shape</td>\n",
       "      <td id=\"T_1d211_row1_col1\" class=\"data row1 col1\" >(150, 4)</td>\n",
       "    </tr>\n",
       "    <tr>\n",
       "      <th id=\"T_1d211_level0_row2\" class=\"row_heading level0 row2\" >2</th>\n",
       "      <td id=\"T_1d211_row2_col0\" class=\"data row2 col0\" >Transformed data shape</td>\n",
       "      <td id=\"T_1d211_row2_col1\" class=\"data row2 col1\" >(150, 4)</td>\n",
       "    </tr>\n",
       "    <tr>\n",
       "      <th id=\"T_1d211_level0_row3\" class=\"row_heading level0 row3\" >3</th>\n",
       "      <td id=\"T_1d211_row3_col0\" class=\"data row3 col0\" >Numeric features</td>\n",
       "      <td id=\"T_1d211_row3_col1\" class=\"data row3 col1\" >4</td>\n",
       "    </tr>\n",
       "    <tr>\n",
       "      <th id=\"T_1d211_level0_row4\" class=\"row_heading level0 row4\" >4</th>\n",
       "      <td id=\"T_1d211_row4_col0\" class=\"data row4 col0\" >Preprocess</td>\n",
       "      <td id=\"T_1d211_row4_col1\" class=\"data row4 col1\" >True</td>\n",
       "    </tr>\n",
       "    <tr>\n",
       "      <th id=\"T_1d211_level0_row5\" class=\"row_heading level0 row5\" >5</th>\n",
       "      <td id=\"T_1d211_row5_col0\" class=\"data row5 col0\" >Imputation type</td>\n",
       "      <td id=\"T_1d211_row5_col1\" class=\"data row5 col1\" >simple</td>\n",
       "    </tr>\n",
       "    <tr>\n",
       "      <th id=\"T_1d211_level0_row6\" class=\"row_heading level0 row6\" >6</th>\n",
       "      <td id=\"T_1d211_row6_col0\" class=\"data row6 col0\" >Numeric imputation</td>\n",
       "      <td id=\"T_1d211_row6_col1\" class=\"data row6 col1\" >mean</td>\n",
       "    </tr>\n",
       "    <tr>\n",
       "      <th id=\"T_1d211_level0_row7\" class=\"row_heading level0 row7\" >7</th>\n",
       "      <td id=\"T_1d211_row7_col0\" class=\"data row7 col0\" >Categorical imputation</td>\n",
       "      <td id=\"T_1d211_row7_col1\" class=\"data row7 col1\" >mode</td>\n",
       "    </tr>\n",
       "    <tr>\n",
       "      <th id=\"T_1d211_level0_row8\" class=\"row_heading level0 row8\" >8</th>\n",
       "      <td id=\"T_1d211_row8_col0\" class=\"data row8 col0\" >Transformation</td>\n",
       "      <td id=\"T_1d211_row8_col1\" class=\"data row8 col1\" ><function custom_preprocess at 0x0000020AA5F8CCA0></td>\n",
       "    </tr>\n",
       "    <tr>\n",
       "      <th id=\"T_1d211_level0_row9\" class=\"row_heading level0 row9\" >9</th>\n",
       "      <td id=\"T_1d211_row9_col0\" class=\"data row9 col0\" >Transformation method</td>\n",
       "      <td id=\"T_1d211_row9_col1\" class=\"data row9 col1\" >yeo-johnson</td>\n",
       "    </tr>\n",
       "    <tr>\n",
       "      <th id=\"T_1d211_level0_row10\" class=\"row_heading level0 row10\" >10</th>\n",
       "      <td id=\"T_1d211_row10_col0\" class=\"data row10 col0\" >Normalize</td>\n",
       "      <td id=\"T_1d211_row10_col1\" class=\"data row10 col1\" >True</td>\n",
       "    </tr>\n",
       "    <tr>\n",
       "      <th id=\"T_1d211_level0_row11\" class=\"row_heading level0 row11\" >11</th>\n",
       "      <td id=\"T_1d211_row11_col0\" class=\"data row11 col0\" >Normalize method</td>\n",
       "      <td id=\"T_1d211_row11_col1\" class=\"data row11 col1\" >zscore</td>\n",
       "    </tr>\n",
       "    <tr>\n",
       "      <th id=\"T_1d211_level0_row12\" class=\"row_heading level0 row12\" >12</th>\n",
       "      <td id=\"T_1d211_row12_col0\" class=\"data row12 col0\" >PCA</td>\n",
       "      <td id=\"T_1d211_row12_col1\" class=\"data row12 col1\" >True</td>\n",
       "    </tr>\n",
       "    <tr>\n",
       "      <th id=\"T_1d211_level0_row13\" class=\"row_heading level0 row13\" >13</th>\n",
       "      <td id=\"T_1d211_row13_col0\" class=\"data row13 col0\" >PCA method</td>\n",
       "      <td id=\"T_1d211_row13_col1\" class=\"data row13 col1\" >linear</td>\n",
       "    </tr>\n",
       "    <tr>\n",
       "      <th id=\"T_1d211_level0_row14\" class=\"row_heading level0 row14\" >14</th>\n",
       "      <td id=\"T_1d211_row14_col0\" class=\"data row14 col0\" >PCA components</td>\n",
       "      <td id=\"T_1d211_row14_col1\" class=\"data row14 col1\" >None</td>\n",
       "    </tr>\n",
       "    <tr>\n",
       "      <th id=\"T_1d211_level0_row15\" class=\"row_heading level0 row15\" >15</th>\n",
       "      <td id=\"T_1d211_row15_col0\" class=\"data row15 col0\" >CPU Jobs</td>\n",
       "      <td id=\"T_1d211_row15_col1\" class=\"data row15 col1\" >-1</td>\n",
       "    </tr>\n",
       "    <tr>\n",
       "      <th id=\"T_1d211_level0_row16\" class=\"row_heading level0 row16\" >16</th>\n",
       "      <td id=\"T_1d211_row16_col0\" class=\"data row16 col0\" >Use GPU</td>\n",
       "      <td id=\"T_1d211_row16_col1\" class=\"data row16 col1\" >False</td>\n",
       "    </tr>\n",
       "    <tr>\n",
       "      <th id=\"T_1d211_level0_row17\" class=\"row_heading level0 row17\" >17</th>\n",
       "      <td id=\"T_1d211_row17_col0\" class=\"data row17 col0\" >Log Experiment</td>\n",
       "      <td id=\"T_1d211_row17_col1\" class=\"data row17 col1\" >False</td>\n",
       "    </tr>\n",
       "    <tr>\n",
       "      <th id=\"T_1d211_level0_row18\" class=\"row_heading level0 row18\" >18</th>\n",
       "      <td id=\"T_1d211_row18_col0\" class=\"data row18 col0\" >Experiment Name</td>\n",
       "      <td id=\"T_1d211_row18_col1\" class=\"data row18 col1\" >cluster-default-name</td>\n",
       "    </tr>\n",
       "    <tr>\n",
       "      <th id=\"T_1d211_level0_row19\" class=\"row_heading level0 row19\" >19</th>\n",
       "      <td id=\"T_1d211_row19_col0\" class=\"data row19 col0\" >USI</td>\n",
       "      <td id=\"T_1d211_row19_col1\" class=\"data row19 col1\" >6e76</td>\n",
       "    </tr>\n",
       "  </tbody>\n",
       "</table>\n"
      ],
      "text/plain": [
       "<pandas.io.formats.style.Styler at 0x20aa759eb30>"
      ]
     },
     "metadata": {},
     "output_type": "display_data"
    },
    {
     "data": {
      "text/html": [],
      "text/plain": [
       "<IPython.core.display.HTML object>"
      ]
     },
     "metadata": {},
     "output_type": "display_data"
    },
    {
     "data": {
      "text/html": [
       "<style type=\"text/css\">\n",
       "</style>\n",
       "<table id=\"T_d3b1d\">\n",
       "  <thead>\n",
       "    <tr>\n",
       "      <th class=\"blank level0\" >&nbsp;</th>\n",
       "      <th id=\"T_d3b1d_level0_col0\" class=\"col_heading level0 col0\" >Silhouette</th>\n",
       "      <th id=\"T_d3b1d_level0_col1\" class=\"col_heading level0 col1\" >Calinski-Harabasz</th>\n",
       "      <th id=\"T_d3b1d_level0_col2\" class=\"col_heading level0 col2\" >Davies-Bouldin</th>\n",
       "      <th id=\"T_d3b1d_level0_col3\" class=\"col_heading level0 col3\" >Homogeneity</th>\n",
       "      <th id=\"T_d3b1d_level0_col4\" class=\"col_heading level0 col4\" >Rand Index</th>\n",
       "      <th id=\"T_d3b1d_level0_col5\" class=\"col_heading level0 col5\" >Completeness</th>\n",
       "    </tr>\n",
       "  </thead>\n",
       "  <tbody>\n",
       "    <tr>\n",
       "      <th id=\"T_d3b1d_level0_row0\" class=\"row_heading level0 row0\" >0</th>\n",
       "      <td id=\"T_d3b1d_row0_col0\" class=\"data row0 col0\" >0.3542</td>\n",
       "      <td id=\"T_d3b1d_row0_col1\" class=\"data row0 col1\" >208.0275</td>\n",
       "      <td id=\"T_d3b1d_row0_col2\" class=\"data row0 col2\" >0.9483</td>\n",
       "      <td id=\"T_d3b1d_row0_col3\" class=\"data row0 col3\" >0</td>\n",
       "      <td id=\"T_d3b1d_row0_col4\" class=\"data row0 col4\" >0</td>\n",
       "      <td id=\"T_d3b1d_row0_col5\" class=\"data row0 col5\" >0</td>\n",
       "    </tr>\n",
       "  </tbody>\n",
       "</table>\n"
      ],
      "text/plain": [
       "<pandas.io.formats.style.Styler at 0x20aa759f730>"
      ]
     },
     "metadata": {},
     "output_type": "display_data"
    },
    {
     "data": {
      "text/html": [],
      "text/plain": [
       "<IPython.core.display.HTML object>"
      ]
     },
     "metadata": {},
     "output_type": "display_data"
    },
    {
     "name": "stdout",
     "output_type": "stream",
     "text": [
      "For kmeans with 5 clusters with Transformation,Normalization and PCA\n"
     ]
    },
    {
     "data": {
      "application/vnd.jupyter.widget-view+json": {
       "model_id": "db694acf0d174455a34f7387e015c260",
       "version_major": 2,
       "version_minor": 0
      },
      "text/plain": [
       "interactive(children=(ToggleButtons(description='Plot Type:', icons=('',), options=(('Pipeline Plot', 'pipelin…"
      ]
     },
     "metadata": {},
     "output_type": "display_data"
    },
    {
     "data": {
      "text/html": [
       "<style type=\"text/css\">\n",
       "#T_bedb1_row4_col1, #T_bedb1_row10_col1, #T_bedb1_row12_col1 {\n",
       "  background-color: lightgreen;\n",
       "}\n",
       "</style>\n",
       "<table id=\"T_bedb1\">\n",
       "  <thead>\n",
       "    <tr>\n",
       "      <th class=\"blank level0\" >&nbsp;</th>\n",
       "      <th id=\"T_bedb1_level0_col0\" class=\"col_heading level0 col0\" >Description</th>\n",
       "      <th id=\"T_bedb1_level0_col1\" class=\"col_heading level0 col1\" >Value</th>\n",
       "    </tr>\n",
       "  </thead>\n",
       "  <tbody>\n",
       "    <tr>\n",
       "      <th id=\"T_bedb1_level0_row0\" class=\"row_heading level0 row0\" >0</th>\n",
       "      <td id=\"T_bedb1_row0_col0\" class=\"data row0 col0\" >Session id</td>\n",
       "      <td id=\"T_bedb1_row0_col1\" class=\"data row0 col1\" >2</td>\n",
       "    </tr>\n",
       "    <tr>\n",
       "      <th id=\"T_bedb1_level0_row1\" class=\"row_heading level0 row1\" >1</th>\n",
       "      <td id=\"T_bedb1_row1_col0\" class=\"data row1 col0\" >Original data shape</td>\n",
       "      <td id=\"T_bedb1_row1_col1\" class=\"data row1 col1\" >(150, 4)</td>\n",
       "    </tr>\n",
       "    <tr>\n",
       "      <th id=\"T_bedb1_level0_row2\" class=\"row_heading level0 row2\" >2</th>\n",
       "      <td id=\"T_bedb1_row2_col0\" class=\"data row2 col0\" >Transformed data shape</td>\n",
       "      <td id=\"T_bedb1_row2_col1\" class=\"data row2 col1\" >(150, 4)</td>\n",
       "    </tr>\n",
       "    <tr>\n",
       "      <th id=\"T_bedb1_level0_row3\" class=\"row_heading level0 row3\" >3</th>\n",
       "      <td id=\"T_bedb1_row3_col0\" class=\"data row3 col0\" >Numeric features</td>\n",
       "      <td id=\"T_bedb1_row3_col1\" class=\"data row3 col1\" >4</td>\n",
       "    </tr>\n",
       "    <tr>\n",
       "      <th id=\"T_bedb1_level0_row4\" class=\"row_heading level0 row4\" >4</th>\n",
       "      <td id=\"T_bedb1_row4_col0\" class=\"data row4 col0\" >Preprocess</td>\n",
       "      <td id=\"T_bedb1_row4_col1\" class=\"data row4 col1\" >True</td>\n",
       "    </tr>\n",
       "    <tr>\n",
       "      <th id=\"T_bedb1_level0_row5\" class=\"row_heading level0 row5\" >5</th>\n",
       "      <td id=\"T_bedb1_row5_col0\" class=\"data row5 col0\" >Imputation type</td>\n",
       "      <td id=\"T_bedb1_row5_col1\" class=\"data row5 col1\" >simple</td>\n",
       "    </tr>\n",
       "    <tr>\n",
       "      <th id=\"T_bedb1_level0_row6\" class=\"row_heading level0 row6\" >6</th>\n",
       "      <td id=\"T_bedb1_row6_col0\" class=\"data row6 col0\" >Numeric imputation</td>\n",
       "      <td id=\"T_bedb1_row6_col1\" class=\"data row6 col1\" >mean</td>\n",
       "    </tr>\n",
       "    <tr>\n",
       "      <th id=\"T_bedb1_level0_row7\" class=\"row_heading level0 row7\" >7</th>\n",
       "      <td id=\"T_bedb1_row7_col0\" class=\"data row7 col0\" >Categorical imputation</td>\n",
       "      <td id=\"T_bedb1_row7_col1\" class=\"data row7 col1\" >mode</td>\n",
       "    </tr>\n",
       "    <tr>\n",
       "      <th id=\"T_bedb1_level0_row8\" class=\"row_heading level0 row8\" >8</th>\n",
       "      <td id=\"T_bedb1_row8_col0\" class=\"data row8 col0\" >Transformation</td>\n",
       "      <td id=\"T_bedb1_row8_col1\" class=\"data row8 col1\" ><function custom_preprocess at 0x0000020AA5F8CCA0></td>\n",
       "    </tr>\n",
       "    <tr>\n",
       "      <th id=\"T_bedb1_level0_row9\" class=\"row_heading level0 row9\" >9</th>\n",
       "      <td id=\"T_bedb1_row9_col0\" class=\"data row9 col0\" >Transformation method</td>\n",
       "      <td id=\"T_bedb1_row9_col1\" class=\"data row9 col1\" >yeo-johnson</td>\n",
       "    </tr>\n",
       "    <tr>\n",
       "      <th id=\"T_bedb1_level0_row10\" class=\"row_heading level0 row10\" >10</th>\n",
       "      <td id=\"T_bedb1_row10_col0\" class=\"data row10 col0\" >Normalize</td>\n",
       "      <td id=\"T_bedb1_row10_col1\" class=\"data row10 col1\" >True</td>\n",
       "    </tr>\n",
       "    <tr>\n",
       "      <th id=\"T_bedb1_level0_row11\" class=\"row_heading level0 row11\" >11</th>\n",
       "      <td id=\"T_bedb1_row11_col0\" class=\"data row11 col0\" >Normalize method</td>\n",
       "      <td id=\"T_bedb1_row11_col1\" class=\"data row11 col1\" >zscore</td>\n",
       "    </tr>\n",
       "    <tr>\n",
       "      <th id=\"T_bedb1_level0_row12\" class=\"row_heading level0 row12\" >12</th>\n",
       "      <td id=\"T_bedb1_row12_col0\" class=\"data row12 col0\" >PCA</td>\n",
       "      <td id=\"T_bedb1_row12_col1\" class=\"data row12 col1\" >True</td>\n",
       "    </tr>\n",
       "    <tr>\n",
       "      <th id=\"T_bedb1_level0_row13\" class=\"row_heading level0 row13\" >13</th>\n",
       "      <td id=\"T_bedb1_row13_col0\" class=\"data row13 col0\" >PCA method</td>\n",
       "      <td id=\"T_bedb1_row13_col1\" class=\"data row13 col1\" >linear</td>\n",
       "    </tr>\n",
       "    <tr>\n",
       "      <th id=\"T_bedb1_level0_row14\" class=\"row_heading level0 row14\" >14</th>\n",
       "      <td id=\"T_bedb1_row14_col0\" class=\"data row14 col0\" >PCA components</td>\n",
       "      <td id=\"T_bedb1_row14_col1\" class=\"data row14 col1\" >None</td>\n",
       "    </tr>\n",
       "    <tr>\n",
       "      <th id=\"T_bedb1_level0_row15\" class=\"row_heading level0 row15\" >15</th>\n",
       "      <td id=\"T_bedb1_row15_col0\" class=\"data row15 col0\" >CPU Jobs</td>\n",
       "      <td id=\"T_bedb1_row15_col1\" class=\"data row15 col1\" >-1</td>\n",
       "    </tr>\n",
       "    <tr>\n",
       "      <th id=\"T_bedb1_level0_row16\" class=\"row_heading level0 row16\" >16</th>\n",
       "      <td id=\"T_bedb1_row16_col0\" class=\"data row16 col0\" >Use GPU</td>\n",
       "      <td id=\"T_bedb1_row16_col1\" class=\"data row16 col1\" >False</td>\n",
       "    </tr>\n",
       "    <tr>\n",
       "      <th id=\"T_bedb1_level0_row17\" class=\"row_heading level0 row17\" >17</th>\n",
       "      <td id=\"T_bedb1_row17_col0\" class=\"data row17 col0\" >Log Experiment</td>\n",
       "      <td id=\"T_bedb1_row17_col1\" class=\"data row17 col1\" >False</td>\n",
       "    </tr>\n",
       "    <tr>\n",
       "      <th id=\"T_bedb1_level0_row18\" class=\"row_heading level0 row18\" >18</th>\n",
       "      <td id=\"T_bedb1_row18_col0\" class=\"data row18 col0\" >Experiment Name</td>\n",
       "      <td id=\"T_bedb1_row18_col1\" class=\"data row18 col1\" >cluster-default-name</td>\n",
       "    </tr>\n",
       "    <tr>\n",
       "      <th id=\"T_bedb1_level0_row19\" class=\"row_heading level0 row19\" >19</th>\n",
       "      <td id=\"T_bedb1_row19_col0\" class=\"data row19 col0\" >USI</td>\n",
       "      <td id=\"T_bedb1_row19_col1\" class=\"data row19 col1\" >cccd</td>\n",
       "    </tr>\n",
       "  </tbody>\n",
       "</table>\n"
      ],
      "text/plain": [
       "<pandas.io.formats.style.Styler at 0x20aa75d09d0>"
      ]
     },
     "metadata": {},
     "output_type": "display_data"
    },
    {
     "data": {
      "text/html": [],
      "text/plain": [
       "<IPython.core.display.HTML object>"
      ]
     },
     "metadata": {},
     "output_type": "display_data"
    },
    {
     "data": {
      "text/html": [
       "<style type=\"text/css\">\n",
       "</style>\n",
       "<table id=\"T_96e8f\">\n",
       "  <thead>\n",
       "    <tr>\n",
       "      <th class=\"blank level0\" >&nbsp;</th>\n",
       "      <th id=\"T_96e8f_level0_col0\" class=\"col_heading level0 col0\" >Silhouette</th>\n",
       "      <th id=\"T_96e8f_level0_col1\" class=\"col_heading level0 col1\" >Calinski-Harabasz</th>\n",
       "      <th id=\"T_96e8f_level0_col2\" class=\"col_heading level0 col2\" >Davies-Bouldin</th>\n",
       "      <th id=\"T_96e8f_level0_col3\" class=\"col_heading level0 col3\" >Homogeneity</th>\n",
       "      <th id=\"T_96e8f_level0_col4\" class=\"col_heading level0 col4\" >Rand Index</th>\n",
       "      <th id=\"T_96e8f_level0_col5\" class=\"col_heading level0 col5\" >Completeness</th>\n",
       "    </tr>\n",
       "  </thead>\n",
       "  <tbody>\n",
       "    <tr>\n",
       "      <th id=\"T_96e8f_level0_row0\" class=\"row_heading level0 row0\" >0</th>\n",
       "      <td id=\"T_96e8f_row0_col0\" class=\"data row0 col0\" >0.4462</td>\n",
       "      <td id=\"T_96e8f_row0_col1\" class=\"data row0 col1\" >223.4590</td>\n",
       "      <td id=\"T_96e8f_row0_col2\" class=\"data row0 col2\" >0.8356</td>\n",
       "      <td id=\"T_96e8f_row0_col3\" class=\"data row0 col3\" >0</td>\n",
       "      <td id=\"T_96e8f_row0_col4\" class=\"data row0 col4\" >0</td>\n",
       "      <td id=\"T_96e8f_row0_col5\" class=\"data row0 col5\" >0</td>\n",
       "    </tr>\n",
       "  </tbody>\n",
       "</table>\n"
      ],
      "text/plain": [
       "<pandas.io.formats.style.Styler at 0x20aa75d3640>"
      ]
     },
     "metadata": {},
     "output_type": "display_data"
    },
    {
     "data": {
      "text/html": [],
      "text/plain": [
       "<IPython.core.display.HTML object>"
      ]
     },
     "metadata": {},
     "output_type": "display_data"
    },
    {
     "name": "stdout",
     "output_type": "stream",
     "text": [
      "For hclust with 3 clusters with Transformation,Normalization and PCA\n"
     ]
    },
    {
     "data": {
      "application/vnd.jupyter.widget-view+json": {
       "model_id": "bd0673e461a54e12bffc508af056efce",
       "version_major": 2,
       "version_minor": 0
      },
      "text/plain": [
       "interactive(children=(ToggleButtons(description='Plot Type:', icons=('',), options=(('Pipeline Plot', 'pipelin…"
      ]
     },
     "metadata": {},
     "output_type": "display_data"
    },
    {
     "data": {
      "text/html": [
       "<style type=\"text/css\">\n",
       "#T_1d323_row4_col1, #T_1d323_row10_col1, #T_1d323_row12_col1 {\n",
       "  background-color: lightgreen;\n",
       "}\n",
       "</style>\n",
       "<table id=\"T_1d323\">\n",
       "  <thead>\n",
       "    <tr>\n",
       "      <th class=\"blank level0\" >&nbsp;</th>\n",
       "      <th id=\"T_1d323_level0_col0\" class=\"col_heading level0 col0\" >Description</th>\n",
       "      <th id=\"T_1d323_level0_col1\" class=\"col_heading level0 col1\" >Value</th>\n",
       "    </tr>\n",
       "  </thead>\n",
       "  <tbody>\n",
       "    <tr>\n",
       "      <th id=\"T_1d323_level0_row0\" class=\"row_heading level0 row0\" >0</th>\n",
       "      <td id=\"T_1d323_row0_col0\" class=\"data row0 col0\" >Session id</td>\n",
       "      <td id=\"T_1d323_row0_col1\" class=\"data row0 col1\" >2</td>\n",
       "    </tr>\n",
       "    <tr>\n",
       "      <th id=\"T_1d323_level0_row1\" class=\"row_heading level0 row1\" >1</th>\n",
       "      <td id=\"T_1d323_row1_col0\" class=\"data row1 col0\" >Original data shape</td>\n",
       "      <td id=\"T_1d323_row1_col1\" class=\"data row1 col1\" >(150, 4)</td>\n",
       "    </tr>\n",
       "    <tr>\n",
       "      <th id=\"T_1d323_level0_row2\" class=\"row_heading level0 row2\" >2</th>\n",
       "      <td id=\"T_1d323_row2_col0\" class=\"data row2 col0\" >Transformed data shape</td>\n",
       "      <td id=\"T_1d323_row2_col1\" class=\"data row2 col1\" >(150, 4)</td>\n",
       "    </tr>\n",
       "    <tr>\n",
       "      <th id=\"T_1d323_level0_row3\" class=\"row_heading level0 row3\" >3</th>\n",
       "      <td id=\"T_1d323_row3_col0\" class=\"data row3 col0\" >Numeric features</td>\n",
       "      <td id=\"T_1d323_row3_col1\" class=\"data row3 col1\" >4</td>\n",
       "    </tr>\n",
       "    <tr>\n",
       "      <th id=\"T_1d323_level0_row4\" class=\"row_heading level0 row4\" >4</th>\n",
       "      <td id=\"T_1d323_row4_col0\" class=\"data row4 col0\" >Preprocess</td>\n",
       "      <td id=\"T_1d323_row4_col1\" class=\"data row4 col1\" >True</td>\n",
       "    </tr>\n",
       "    <tr>\n",
       "      <th id=\"T_1d323_level0_row5\" class=\"row_heading level0 row5\" >5</th>\n",
       "      <td id=\"T_1d323_row5_col0\" class=\"data row5 col0\" >Imputation type</td>\n",
       "      <td id=\"T_1d323_row5_col1\" class=\"data row5 col1\" >simple</td>\n",
       "    </tr>\n",
       "    <tr>\n",
       "      <th id=\"T_1d323_level0_row6\" class=\"row_heading level0 row6\" >6</th>\n",
       "      <td id=\"T_1d323_row6_col0\" class=\"data row6 col0\" >Numeric imputation</td>\n",
       "      <td id=\"T_1d323_row6_col1\" class=\"data row6 col1\" >mean</td>\n",
       "    </tr>\n",
       "    <tr>\n",
       "      <th id=\"T_1d323_level0_row7\" class=\"row_heading level0 row7\" >7</th>\n",
       "      <td id=\"T_1d323_row7_col0\" class=\"data row7 col0\" >Categorical imputation</td>\n",
       "      <td id=\"T_1d323_row7_col1\" class=\"data row7 col1\" >mode</td>\n",
       "    </tr>\n",
       "    <tr>\n",
       "      <th id=\"T_1d323_level0_row8\" class=\"row_heading level0 row8\" >8</th>\n",
       "      <td id=\"T_1d323_row8_col0\" class=\"data row8 col0\" >Transformation</td>\n",
       "      <td id=\"T_1d323_row8_col1\" class=\"data row8 col1\" ><function custom_preprocess at 0x0000020AA5F8CCA0></td>\n",
       "    </tr>\n",
       "    <tr>\n",
       "      <th id=\"T_1d323_level0_row9\" class=\"row_heading level0 row9\" >9</th>\n",
       "      <td id=\"T_1d323_row9_col0\" class=\"data row9 col0\" >Transformation method</td>\n",
       "      <td id=\"T_1d323_row9_col1\" class=\"data row9 col1\" >yeo-johnson</td>\n",
       "    </tr>\n",
       "    <tr>\n",
       "      <th id=\"T_1d323_level0_row10\" class=\"row_heading level0 row10\" >10</th>\n",
       "      <td id=\"T_1d323_row10_col0\" class=\"data row10 col0\" >Normalize</td>\n",
       "      <td id=\"T_1d323_row10_col1\" class=\"data row10 col1\" >True</td>\n",
       "    </tr>\n",
       "    <tr>\n",
       "      <th id=\"T_1d323_level0_row11\" class=\"row_heading level0 row11\" >11</th>\n",
       "      <td id=\"T_1d323_row11_col0\" class=\"data row11 col0\" >Normalize method</td>\n",
       "      <td id=\"T_1d323_row11_col1\" class=\"data row11 col1\" >zscore</td>\n",
       "    </tr>\n",
       "    <tr>\n",
       "      <th id=\"T_1d323_level0_row12\" class=\"row_heading level0 row12\" >12</th>\n",
       "      <td id=\"T_1d323_row12_col0\" class=\"data row12 col0\" >PCA</td>\n",
       "      <td id=\"T_1d323_row12_col1\" class=\"data row12 col1\" >True</td>\n",
       "    </tr>\n",
       "    <tr>\n",
       "      <th id=\"T_1d323_level0_row13\" class=\"row_heading level0 row13\" >13</th>\n",
       "      <td id=\"T_1d323_row13_col0\" class=\"data row13 col0\" >PCA method</td>\n",
       "      <td id=\"T_1d323_row13_col1\" class=\"data row13 col1\" >linear</td>\n",
       "    </tr>\n",
       "    <tr>\n",
       "      <th id=\"T_1d323_level0_row14\" class=\"row_heading level0 row14\" >14</th>\n",
       "      <td id=\"T_1d323_row14_col0\" class=\"data row14 col0\" >PCA components</td>\n",
       "      <td id=\"T_1d323_row14_col1\" class=\"data row14 col1\" >None</td>\n",
       "    </tr>\n",
       "    <tr>\n",
       "      <th id=\"T_1d323_level0_row15\" class=\"row_heading level0 row15\" >15</th>\n",
       "      <td id=\"T_1d323_row15_col0\" class=\"data row15 col0\" >CPU Jobs</td>\n",
       "      <td id=\"T_1d323_row15_col1\" class=\"data row15 col1\" >-1</td>\n",
       "    </tr>\n",
       "    <tr>\n",
       "      <th id=\"T_1d323_level0_row16\" class=\"row_heading level0 row16\" >16</th>\n",
       "      <td id=\"T_1d323_row16_col0\" class=\"data row16 col0\" >Use GPU</td>\n",
       "      <td id=\"T_1d323_row16_col1\" class=\"data row16 col1\" >False</td>\n",
       "    </tr>\n",
       "    <tr>\n",
       "      <th id=\"T_1d323_level0_row17\" class=\"row_heading level0 row17\" >17</th>\n",
       "      <td id=\"T_1d323_row17_col0\" class=\"data row17 col0\" >Log Experiment</td>\n",
       "      <td id=\"T_1d323_row17_col1\" class=\"data row17 col1\" >False</td>\n",
       "    </tr>\n",
       "    <tr>\n",
       "      <th id=\"T_1d323_level0_row18\" class=\"row_heading level0 row18\" >18</th>\n",
       "      <td id=\"T_1d323_row18_col0\" class=\"data row18 col0\" >Experiment Name</td>\n",
       "      <td id=\"T_1d323_row18_col1\" class=\"data row18 col1\" >cluster-default-name</td>\n",
       "    </tr>\n",
       "    <tr>\n",
       "      <th id=\"T_1d323_level0_row19\" class=\"row_heading level0 row19\" >19</th>\n",
       "      <td id=\"T_1d323_row19_col0\" class=\"data row19 col0\" >USI</td>\n",
       "      <td id=\"T_1d323_row19_col1\" class=\"data row19 col1\" >6482</td>\n",
       "    </tr>\n",
       "  </tbody>\n",
       "</table>\n"
      ],
      "text/plain": [
       "<pandas.io.formats.style.Styler at 0x20aa7564ac0>"
      ]
     },
     "metadata": {},
     "output_type": "display_data"
    },
    {
     "data": {
      "text/html": [],
      "text/plain": [
       "<IPython.core.display.HTML object>"
      ]
     },
     "metadata": {},
     "output_type": "display_data"
    },
    {
     "data": {
      "text/html": [
       "<style type=\"text/css\">\n",
       "</style>\n",
       "<table id=\"T_9bdbf\">\n",
       "  <thead>\n",
       "    <tr>\n",
       "      <th class=\"blank level0\" >&nbsp;</th>\n",
       "      <th id=\"T_9bdbf_level0_col0\" class=\"col_heading level0 col0\" >Silhouette</th>\n",
       "      <th id=\"T_9bdbf_level0_col1\" class=\"col_heading level0 col1\" >Calinski-Harabasz</th>\n",
       "      <th id=\"T_9bdbf_level0_col2\" class=\"col_heading level0 col2\" >Davies-Bouldin</th>\n",
       "      <th id=\"T_9bdbf_level0_col3\" class=\"col_heading level0 col3\" >Homogeneity</th>\n",
       "      <th id=\"T_9bdbf_level0_col4\" class=\"col_heading level0 col4\" >Rand Index</th>\n",
       "      <th id=\"T_9bdbf_level0_col5\" class=\"col_heading level0 col5\" >Completeness</th>\n",
       "    </tr>\n",
       "  </thead>\n",
       "  <tbody>\n",
       "    <tr>\n",
       "      <th id=\"T_9bdbf_level0_row0\" class=\"row_heading level0 row0\" >0</th>\n",
       "      <td id=\"T_9bdbf_row0_col0\" class=\"data row0 col0\" >0.4251</td>\n",
       "      <td id=\"T_9bdbf_row0_col1\" class=\"data row0 col1\" >200.0175</td>\n",
       "      <td id=\"T_9bdbf_row0_col2\" class=\"data row0 col2\" >0.8637</td>\n",
       "      <td id=\"T_9bdbf_row0_col3\" class=\"data row0 col3\" >0</td>\n",
       "      <td id=\"T_9bdbf_row0_col4\" class=\"data row0 col4\" >0</td>\n",
       "      <td id=\"T_9bdbf_row0_col5\" class=\"data row0 col5\" >0</td>\n",
       "    </tr>\n",
       "  </tbody>\n",
       "</table>\n"
      ],
      "text/plain": [
       "<pandas.io.formats.style.Styler at 0x20aa74b5210>"
      ]
     },
     "metadata": {},
     "output_type": "display_data"
    },
    {
     "data": {
      "text/html": [],
      "text/plain": [
       "<IPython.core.display.HTML object>"
      ]
     },
     "metadata": {},
     "output_type": "display_data"
    },
    {
     "name": "stdout",
     "output_type": "stream",
     "text": [
      "For hclust with 4 clusters with Transformation,Normalization and PCA\n"
     ]
    },
    {
     "data": {
      "application/vnd.jupyter.widget-view+json": {
       "model_id": "4230dd15e8bb4933aeeb02feb023c71a",
       "version_major": 2,
       "version_minor": 0
      },
      "text/plain": [
       "interactive(children=(ToggleButtons(description='Plot Type:', icons=('',), options=(('Pipeline Plot', 'pipelin…"
      ]
     },
     "metadata": {},
     "output_type": "display_data"
    },
    {
     "data": {
      "text/html": [
       "<style type=\"text/css\">\n",
       "#T_a1a06_row4_col1, #T_a1a06_row10_col1, #T_a1a06_row12_col1 {\n",
       "  background-color: lightgreen;\n",
       "}\n",
       "</style>\n",
       "<table id=\"T_a1a06\">\n",
       "  <thead>\n",
       "    <tr>\n",
       "      <th class=\"blank level0\" >&nbsp;</th>\n",
       "      <th id=\"T_a1a06_level0_col0\" class=\"col_heading level0 col0\" >Description</th>\n",
       "      <th id=\"T_a1a06_level0_col1\" class=\"col_heading level0 col1\" >Value</th>\n",
       "    </tr>\n",
       "  </thead>\n",
       "  <tbody>\n",
       "    <tr>\n",
       "      <th id=\"T_a1a06_level0_row0\" class=\"row_heading level0 row0\" >0</th>\n",
       "      <td id=\"T_a1a06_row0_col0\" class=\"data row0 col0\" >Session id</td>\n",
       "      <td id=\"T_a1a06_row0_col1\" class=\"data row0 col1\" >2</td>\n",
       "    </tr>\n",
       "    <tr>\n",
       "      <th id=\"T_a1a06_level0_row1\" class=\"row_heading level0 row1\" >1</th>\n",
       "      <td id=\"T_a1a06_row1_col0\" class=\"data row1 col0\" >Original data shape</td>\n",
       "      <td id=\"T_a1a06_row1_col1\" class=\"data row1 col1\" >(150, 4)</td>\n",
       "    </tr>\n",
       "    <tr>\n",
       "      <th id=\"T_a1a06_level0_row2\" class=\"row_heading level0 row2\" >2</th>\n",
       "      <td id=\"T_a1a06_row2_col0\" class=\"data row2 col0\" >Transformed data shape</td>\n",
       "      <td id=\"T_a1a06_row2_col1\" class=\"data row2 col1\" >(150, 4)</td>\n",
       "    </tr>\n",
       "    <tr>\n",
       "      <th id=\"T_a1a06_level0_row3\" class=\"row_heading level0 row3\" >3</th>\n",
       "      <td id=\"T_a1a06_row3_col0\" class=\"data row3 col0\" >Numeric features</td>\n",
       "      <td id=\"T_a1a06_row3_col1\" class=\"data row3 col1\" >4</td>\n",
       "    </tr>\n",
       "    <tr>\n",
       "      <th id=\"T_a1a06_level0_row4\" class=\"row_heading level0 row4\" >4</th>\n",
       "      <td id=\"T_a1a06_row4_col0\" class=\"data row4 col0\" >Preprocess</td>\n",
       "      <td id=\"T_a1a06_row4_col1\" class=\"data row4 col1\" >True</td>\n",
       "    </tr>\n",
       "    <tr>\n",
       "      <th id=\"T_a1a06_level0_row5\" class=\"row_heading level0 row5\" >5</th>\n",
       "      <td id=\"T_a1a06_row5_col0\" class=\"data row5 col0\" >Imputation type</td>\n",
       "      <td id=\"T_a1a06_row5_col1\" class=\"data row5 col1\" >simple</td>\n",
       "    </tr>\n",
       "    <tr>\n",
       "      <th id=\"T_a1a06_level0_row6\" class=\"row_heading level0 row6\" >6</th>\n",
       "      <td id=\"T_a1a06_row6_col0\" class=\"data row6 col0\" >Numeric imputation</td>\n",
       "      <td id=\"T_a1a06_row6_col1\" class=\"data row6 col1\" >mean</td>\n",
       "    </tr>\n",
       "    <tr>\n",
       "      <th id=\"T_a1a06_level0_row7\" class=\"row_heading level0 row7\" >7</th>\n",
       "      <td id=\"T_a1a06_row7_col0\" class=\"data row7 col0\" >Categorical imputation</td>\n",
       "      <td id=\"T_a1a06_row7_col1\" class=\"data row7 col1\" >mode</td>\n",
       "    </tr>\n",
       "    <tr>\n",
       "      <th id=\"T_a1a06_level0_row8\" class=\"row_heading level0 row8\" >8</th>\n",
       "      <td id=\"T_a1a06_row8_col0\" class=\"data row8 col0\" >Transformation</td>\n",
       "      <td id=\"T_a1a06_row8_col1\" class=\"data row8 col1\" ><function custom_preprocess at 0x0000020AA5F8CCA0></td>\n",
       "    </tr>\n",
       "    <tr>\n",
       "      <th id=\"T_a1a06_level0_row9\" class=\"row_heading level0 row9\" >9</th>\n",
       "      <td id=\"T_a1a06_row9_col0\" class=\"data row9 col0\" >Transformation method</td>\n",
       "      <td id=\"T_a1a06_row9_col1\" class=\"data row9 col1\" >yeo-johnson</td>\n",
       "    </tr>\n",
       "    <tr>\n",
       "      <th id=\"T_a1a06_level0_row10\" class=\"row_heading level0 row10\" >10</th>\n",
       "      <td id=\"T_a1a06_row10_col0\" class=\"data row10 col0\" >Normalize</td>\n",
       "      <td id=\"T_a1a06_row10_col1\" class=\"data row10 col1\" >True</td>\n",
       "    </tr>\n",
       "    <tr>\n",
       "      <th id=\"T_a1a06_level0_row11\" class=\"row_heading level0 row11\" >11</th>\n",
       "      <td id=\"T_a1a06_row11_col0\" class=\"data row11 col0\" >Normalize method</td>\n",
       "      <td id=\"T_a1a06_row11_col1\" class=\"data row11 col1\" >zscore</td>\n",
       "    </tr>\n",
       "    <tr>\n",
       "      <th id=\"T_a1a06_level0_row12\" class=\"row_heading level0 row12\" >12</th>\n",
       "      <td id=\"T_a1a06_row12_col0\" class=\"data row12 col0\" >PCA</td>\n",
       "      <td id=\"T_a1a06_row12_col1\" class=\"data row12 col1\" >True</td>\n",
       "    </tr>\n",
       "    <tr>\n",
       "      <th id=\"T_a1a06_level0_row13\" class=\"row_heading level0 row13\" >13</th>\n",
       "      <td id=\"T_a1a06_row13_col0\" class=\"data row13 col0\" >PCA method</td>\n",
       "      <td id=\"T_a1a06_row13_col1\" class=\"data row13 col1\" >linear</td>\n",
       "    </tr>\n",
       "    <tr>\n",
       "      <th id=\"T_a1a06_level0_row14\" class=\"row_heading level0 row14\" >14</th>\n",
       "      <td id=\"T_a1a06_row14_col0\" class=\"data row14 col0\" >PCA components</td>\n",
       "      <td id=\"T_a1a06_row14_col1\" class=\"data row14 col1\" >None</td>\n",
       "    </tr>\n",
       "    <tr>\n",
       "      <th id=\"T_a1a06_level0_row15\" class=\"row_heading level0 row15\" >15</th>\n",
       "      <td id=\"T_a1a06_row15_col0\" class=\"data row15 col0\" >CPU Jobs</td>\n",
       "      <td id=\"T_a1a06_row15_col1\" class=\"data row15 col1\" >-1</td>\n",
       "    </tr>\n",
       "    <tr>\n",
       "      <th id=\"T_a1a06_level0_row16\" class=\"row_heading level0 row16\" >16</th>\n",
       "      <td id=\"T_a1a06_row16_col0\" class=\"data row16 col0\" >Use GPU</td>\n",
       "      <td id=\"T_a1a06_row16_col1\" class=\"data row16 col1\" >False</td>\n",
       "    </tr>\n",
       "    <tr>\n",
       "      <th id=\"T_a1a06_level0_row17\" class=\"row_heading level0 row17\" >17</th>\n",
       "      <td id=\"T_a1a06_row17_col0\" class=\"data row17 col0\" >Log Experiment</td>\n",
       "      <td id=\"T_a1a06_row17_col1\" class=\"data row17 col1\" >False</td>\n",
       "    </tr>\n",
       "    <tr>\n",
       "      <th id=\"T_a1a06_level0_row18\" class=\"row_heading level0 row18\" >18</th>\n",
       "      <td id=\"T_a1a06_row18_col0\" class=\"data row18 col0\" >Experiment Name</td>\n",
       "      <td id=\"T_a1a06_row18_col1\" class=\"data row18 col1\" >cluster-default-name</td>\n",
       "    </tr>\n",
       "    <tr>\n",
       "      <th id=\"T_a1a06_level0_row19\" class=\"row_heading level0 row19\" >19</th>\n",
       "      <td id=\"T_a1a06_row19_col0\" class=\"data row19 col0\" >USI</td>\n",
       "      <td id=\"T_a1a06_row19_col1\" class=\"data row19 col1\" >5e5c</td>\n",
       "    </tr>\n",
       "  </tbody>\n",
       "</table>\n"
      ],
      "text/plain": [
       "<pandas.io.formats.style.Styler at 0x20aa76093c0>"
      ]
     },
     "metadata": {},
     "output_type": "display_data"
    },
    {
     "data": {
      "text/html": [],
      "text/plain": [
       "<IPython.core.display.HTML object>"
      ]
     },
     "metadata": {},
     "output_type": "display_data"
    },
    {
     "data": {
      "text/html": [
       "<style type=\"text/css\">\n",
       "</style>\n",
       "<table id=\"T_5e890\">\n",
       "  <thead>\n",
       "    <tr>\n",
       "      <th class=\"blank level0\" >&nbsp;</th>\n",
       "      <th id=\"T_5e890_level0_col0\" class=\"col_heading level0 col0\" >Silhouette</th>\n",
       "      <th id=\"T_5e890_level0_col1\" class=\"col_heading level0 col1\" >Calinski-Harabasz</th>\n",
       "      <th id=\"T_5e890_level0_col2\" class=\"col_heading level0 col2\" >Davies-Bouldin</th>\n",
       "      <th id=\"T_5e890_level0_col3\" class=\"col_heading level0 col3\" >Homogeneity</th>\n",
       "      <th id=\"T_5e890_level0_col4\" class=\"col_heading level0 col4\" >Rand Index</th>\n",
       "      <th id=\"T_5e890_level0_col5\" class=\"col_heading level0 col5\" >Completeness</th>\n",
       "    </tr>\n",
       "  </thead>\n",
       "  <tbody>\n",
       "    <tr>\n",
       "      <th id=\"T_5e890_level0_row0\" class=\"row_heading level0 row0\" >0</th>\n",
       "      <td id=\"T_5e890_row0_col0\" class=\"data row0 col0\" >0.3625</td>\n",
       "      <td id=\"T_5e890_row0_col1\" class=\"data row0 col1\" >199.3024</td>\n",
       "      <td id=\"T_5e890_row0_col2\" class=\"data row0 col2\" >0.8962</td>\n",
       "      <td id=\"T_5e890_row0_col3\" class=\"data row0 col3\" >0</td>\n",
       "      <td id=\"T_5e890_row0_col4\" class=\"data row0 col4\" >0</td>\n",
       "      <td id=\"T_5e890_row0_col5\" class=\"data row0 col5\" >0</td>\n",
       "    </tr>\n",
       "  </tbody>\n",
       "</table>\n"
      ],
      "text/plain": [
       "<pandas.io.formats.style.Styler at 0x20aa760abc0>"
      ]
     },
     "metadata": {},
     "output_type": "display_data"
    },
    {
     "data": {
      "text/html": [],
      "text/plain": [
       "<IPython.core.display.HTML object>"
      ]
     },
     "metadata": {},
     "output_type": "display_data"
    },
    {
     "name": "stdout",
     "output_type": "stream",
     "text": [
      "For hclust with 5 clusters with Transformation,Normalization and PCA\n"
     ]
    },
    {
     "data": {
      "application/vnd.jupyter.widget-view+json": {
       "model_id": "b05770f588de4bfcb354a94067b9c1ba",
       "version_major": 2,
       "version_minor": 0
      },
      "text/plain": [
       "interactive(children=(ToggleButtons(description='Plot Type:', icons=('',), options=(('Pipeline Plot', 'pipelin…"
      ]
     },
     "metadata": {},
     "output_type": "display_data"
    },
    {
     "data": {
      "text/html": [
       "<style type=\"text/css\">\n",
       "#T_2f477_row4_col1, #T_2f477_row10_col1, #T_2f477_row12_col1 {\n",
       "  background-color: lightgreen;\n",
       "}\n",
       "</style>\n",
       "<table id=\"T_2f477\">\n",
       "  <thead>\n",
       "    <tr>\n",
       "      <th class=\"blank level0\" >&nbsp;</th>\n",
       "      <th id=\"T_2f477_level0_col0\" class=\"col_heading level0 col0\" >Description</th>\n",
       "      <th id=\"T_2f477_level0_col1\" class=\"col_heading level0 col1\" >Value</th>\n",
       "    </tr>\n",
       "  </thead>\n",
       "  <tbody>\n",
       "    <tr>\n",
       "      <th id=\"T_2f477_level0_row0\" class=\"row_heading level0 row0\" >0</th>\n",
       "      <td id=\"T_2f477_row0_col0\" class=\"data row0 col0\" >Session id</td>\n",
       "      <td id=\"T_2f477_row0_col1\" class=\"data row0 col1\" >2</td>\n",
       "    </tr>\n",
       "    <tr>\n",
       "      <th id=\"T_2f477_level0_row1\" class=\"row_heading level0 row1\" >1</th>\n",
       "      <td id=\"T_2f477_row1_col0\" class=\"data row1 col0\" >Original data shape</td>\n",
       "      <td id=\"T_2f477_row1_col1\" class=\"data row1 col1\" >(150, 4)</td>\n",
       "    </tr>\n",
       "    <tr>\n",
       "      <th id=\"T_2f477_level0_row2\" class=\"row_heading level0 row2\" >2</th>\n",
       "      <td id=\"T_2f477_row2_col0\" class=\"data row2 col0\" >Transformed data shape</td>\n",
       "      <td id=\"T_2f477_row2_col1\" class=\"data row2 col1\" >(150, 4)</td>\n",
       "    </tr>\n",
       "    <tr>\n",
       "      <th id=\"T_2f477_level0_row3\" class=\"row_heading level0 row3\" >3</th>\n",
       "      <td id=\"T_2f477_row3_col0\" class=\"data row3 col0\" >Numeric features</td>\n",
       "      <td id=\"T_2f477_row3_col1\" class=\"data row3 col1\" >4</td>\n",
       "    </tr>\n",
       "    <tr>\n",
       "      <th id=\"T_2f477_level0_row4\" class=\"row_heading level0 row4\" >4</th>\n",
       "      <td id=\"T_2f477_row4_col0\" class=\"data row4 col0\" >Preprocess</td>\n",
       "      <td id=\"T_2f477_row4_col1\" class=\"data row4 col1\" >True</td>\n",
       "    </tr>\n",
       "    <tr>\n",
       "      <th id=\"T_2f477_level0_row5\" class=\"row_heading level0 row5\" >5</th>\n",
       "      <td id=\"T_2f477_row5_col0\" class=\"data row5 col0\" >Imputation type</td>\n",
       "      <td id=\"T_2f477_row5_col1\" class=\"data row5 col1\" >simple</td>\n",
       "    </tr>\n",
       "    <tr>\n",
       "      <th id=\"T_2f477_level0_row6\" class=\"row_heading level0 row6\" >6</th>\n",
       "      <td id=\"T_2f477_row6_col0\" class=\"data row6 col0\" >Numeric imputation</td>\n",
       "      <td id=\"T_2f477_row6_col1\" class=\"data row6 col1\" >mean</td>\n",
       "    </tr>\n",
       "    <tr>\n",
       "      <th id=\"T_2f477_level0_row7\" class=\"row_heading level0 row7\" >7</th>\n",
       "      <td id=\"T_2f477_row7_col0\" class=\"data row7 col0\" >Categorical imputation</td>\n",
       "      <td id=\"T_2f477_row7_col1\" class=\"data row7 col1\" >mode</td>\n",
       "    </tr>\n",
       "    <tr>\n",
       "      <th id=\"T_2f477_level0_row8\" class=\"row_heading level0 row8\" >8</th>\n",
       "      <td id=\"T_2f477_row8_col0\" class=\"data row8 col0\" >Transformation</td>\n",
       "      <td id=\"T_2f477_row8_col1\" class=\"data row8 col1\" ><function custom_preprocess at 0x0000020AA5F8CCA0></td>\n",
       "    </tr>\n",
       "    <tr>\n",
       "      <th id=\"T_2f477_level0_row9\" class=\"row_heading level0 row9\" >9</th>\n",
       "      <td id=\"T_2f477_row9_col0\" class=\"data row9 col0\" >Transformation method</td>\n",
       "      <td id=\"T_2f477_row9_col1\" class=\"data row9 col1\" >yeo-johnson</td>\n",
       "    </tr>\n",
       "    <tr>\n",
       "      <th id=\"T_2f477_level0_row10\" class=\"row_heading level0 row10\" >10</th>\n",
       "      <td id=\"T_2f477_row10_col0\" class=\"data row10 col0\" >Normalize</td>\n",
       "      <td id=\"T_2f477_row10_col1\" class=\"data row10 col1\" >True</td>\n",
       "    </tr>\n",
       "    <tr>\n",
       "      <th id=\"T_2f477_level0_row11\" class=\"row_heading level0 row11\" >11</th>\n",
       "      <td id=\"T_2f477_row11_col0\" class=\"data row11 col0\" >Normalize method</td>\n",
       "      <td id=\"T_2f477_row11_col1\" class=\"data row11 col1\" >zscore</td>\n",
       "    </tr>\n",
       "    <tr>\n",
       "      <th id=\"T_2f477_level0_row12\" class=\"row_heading level0 row12\" >12</th>\n",
       "      <td id=\"T_2f477_row12_col0\" class=\"data row12 col0\" >PCA</td>\n",
       "      <td id=\"T_2f477_row12_col1\" class=\"data row12 col1\" >True</td>\n",
       "    </tr>\n",
       "    <tr>\n",
       "      <th id=\"T_2f477_level0_row13\" class=\"row_heading level0 row13\" >13</th>\n",
       "      <td id=\"T_2f477_row13_col0\" class=\"data row13 col0\" >PCA method</td>\n",
       "      <td id=\"T_2f477_row13_col1\" class=\"data row13 col1\" >linear</td>\n",
       "    </tr>\n",
       "    <tr>\n",
       "      <th id=\"T_2f477_level0_row14\" class=\"row_heading level0 row14\" >14</th>\n",
       "      <td id=\"T_2f477_row14_col0\" class=\"data row14 col0\" >PCA components</td>\n",
       "      <td id=\"T_2f477_row14_col1\" class=\"data row14 col1\" >None</td>\n",
       "    </tr>\n",
       "    <tr>\n",
       "      <th id=\"T_2f477_level0_row15\" class=\"row_heading level0 row15\" >15</th>\n",
       "      <td id=\"T_2f477_row15_col0\" class=\"data row15 col0\" >CPU Jobs</td>\n",
       "      <td id=\"T_2f477_row15_col1\" class=\"data row15 col1\" >-1</td>\n",
       "    </tr>\n",
       "    <tr>\n",
       "      <th id=\"T_2f477_level0_row16\" class=\"row_heading level0 row16\" >16</th>\n",
       "      <td id=\"T_2f477_row16_col0\" class=\"data row16 col0\" >Use GPU</td>\n",
       "      <td id=\"T_2f477_row16_col1\" class=\"data row16 col1\" >False</td>\n",
       "    </tr>\n",
       "    <tr>\n",
       "      <th id=\"T_2f477_level0_row17\" class=\"row_heading level0 row17\" >17</th>\n",
       "      <td id=\"T_2f477_row17_col0\" class=\"data row17 col0\" >Log Experiment</td>\n",
       "      <td id=\"T_2f477_row17_col1\" class=\"data row17 col1\" >False</td>\n",
       "    </tr>\n",
       "    <tr>\n",
       "      <th id=\"T_2f477_level0_row18\" class=\"row_heading level0 row18\" >18</th>\n",
       "      <td id=\"T_2f477_row18_col0\" class=\"data row18 col0\" >Experiment Name</td>\n",
       "      <td id=\"T_2f477_row18_col1\" class=\"data row18 col1\" >cluster-default-name</td>\n",
       "    </tr>\n",
       "    <tr>\n",
       "      <th id=\"T_2f477_level0_row19\" class=\"row_heading level0 row19\" >19</th>\n",
       "      <td id=\"T_2f477_row19_col0\" class=\"data row19 col0\" >USI</td>\n",
       "      <td id=\"T_2f477_row19_col1\" class=\"data row19 col1\" >30cf</td>\n",
       "    </tr>\n",
       "  </tbody>\n",
       "</table>\n"
      ],
      "text/plain": [
       "<pandas.io.formats.style.Styler at 0x20aa759d390>"
      ]
     },
     "metadata": {},
     "output_type": "display_data"
    },
    {
     "data": {
      "text/html": [],
      "text/plain": [
       "<IPython.core.display.HTML object>"
      ]
     },
     "metadata": {},
     "output_type": "display_data"
    },
    {
     "data": {
      "text/html": [
       "<style type=\"text/css\">\n",
       "</style>\n",
       "<table id=\"T_6588f\">\n",
       "  <thead>\n",
       "    <tr>\n",
       "      <th class=\"blank level0\" >&nbsp;</th>\n",
       "      <th id=\"T_6588f_level0_col0\" class=\"col_heading level0 col0\" >Silhouette</th>\n",
       "      <th id=\"T_6588f_level0_col1\" class=\"col_heading level0 col1\" >Calinski-Harabasz</th>\n",
       "      <th id=\"T_6588f_level0_col2\" class=\"col_heading level0 col2\" >Davies-Bouldin</th>\n",
       "      <th id=\"T_6588f_level0_col3\" class=\"col_heading level0 col3\" >Homogeneity</th>\n",
       "      <th id=\"T_6588f_level0_col4\" class=\"col_heading level0 col4\" >Rand Index</th>\n",
       "      <th id=\"T_6588f_level0_col5\" class=\"col_heading level0 col5\" >Completeness</th>\n",
       "    </tr>\n",
       "  </thead>\n",
       "  <tbody>\n",
       "    <tr>\n",
       "      <th id=\"T_6588f_level0_row0\" class=\"row_heading level0 row0\" >0</th>\n",
       "      <td id=\"T_6588f_row0_col0\" class=\"data row0 col0\" >0.5836</td>\n",
       "      <td id=\"T_6588f_row0_col1\" class=\"data row0 col1\" >254.4469</td>\n",
       "      <td id=\"T_6588f_row0_col2\" class=\"data row0 col2\" >0.5931</td>\n",
       "      <td id=\"T_6588f_row0_col3\" class=\"data row0 col3\" >0</td>\n",
       "      <td id=\"T_6588f_row0_col4\" class=\"data row0 col4\" >0</td>\n",
       "      <td id=\"T_6588f_row0_col5\" class=\"data row0 col5\" >0</td>\n",
       "    </tr>\n",
       "  </tbody>\n",
       "</table>\n"
      ],
      "text/plain": [
       "<pandas.io.formats.style.Styler at 0x20aa74ffd30>"
      ]
     },
     "metadata": {},
     "output_type": "display_data"
    },
    {
     "data": {
      "text/html": [],
      "text/plain": [
       "<IPython.core.display.HTML object>"
      ]
     },
     "metadata": {},
     "output_type": "display_data"
    },
    {
     "name": "stdout",
     "output_type": "stream",
     "text": [
      "For meanshift with 3 clusters with Transformation,Normalization and PCA\n"
     ]
    },
    {
     "data": {
      "application/vnd.jupyter.widget-view+json": {
       "model_id": "6ef56216aa124f87a3773259b498218b",
       "version_major": 2,
       "version_minor": 0
      },
      "text/plain": [
       "interactive(children=(ToggleButtons(description='Plot Type:', icons=('',), options=(('Pipeline Plot', 'pipelin…"
      ]
     },
     "metadata": {},
     "output_type": "display_data"
    },
    {
     "data": {
      "text/html": [
       "<style type=\"text/css\">\n",
       "#T_c1df5_row4_col1, #T_c1df5_row10_col1, #T_c1df5_row12_col1 {\n",
       "  background-color: lightgreen;\n",
       "}\n",
       "</style>\n",
       "<table id=\"T_c1df5\">\n",
       "  <thead>\n",
       "    <tr>\n",
       "      <th class=\"blank level0\" >&nbsp;</th>\n",
       "      <th id=\"T_c1df5_level0_col0\" class=\"col_heading level0 col0\" >Description</th>\n",
       "      <th id=\"T_c1df5_level0_col1\" class=\"col_heading level0 col1\" >Value</th>\n",
       "    </tr>\n",
       "  </thead>\n",
       "  <tbody>\n",
       "    <tr>\n",
       "      <th id=\"T_c1df5_level0_row0\" class=\"row_heading level0 row0\" >0</th>\n",
       "      <td id=\"T_c1df5_row0_col0\" class=\"data row0 col0\" >Session id</td>\n",
       "      <td id=\"T_c1df5_row0_col1\" class=\"data row0 col1\" >2</td>\n",
       "    </tr>\n",
       "    <tr>\n",
       "      <th id=\"T_c1df5_level0_row1\" class=\"row_heading level0 row1\" >1</th>\n",
       "      <td id=\"T_c1df5_row1_col0\" class=\"data row1 col0\" >Original data shape</td>\n",
       "      <td id=\"T_c1df5_row1_col1\" class=\"data row1 col1\" >(150, 4)</td>\n",
       "    </tr>\n",
       "    <tr>\n",
       "      <th id=\"T_c1df5_level0_row2\" class=\"row_heading level0 row2\" >2</th>\n",
       "      <td id=\"T_c1df5_row2_col0\" class=\"data row2 col0\" >Transformed data shape</td>\n",
       "      <td id=\"T_c1df5_row2_col1\" class=\"data row2 col1\" >(150, 4)</td>\n",
       "    </tr>\n",
       "    <tr>\n",
       "      <th id=\"T_c1df5_level0_row3\" class=\"row_heading level0 row3\" >3</th>\n",
       "      <td id=\"T_c1df5_row3_col0\" class=\"data row3 col0\" >Numeric features</td>\n",
       "      <td id=\"T_c1df5_row3_col1\" class=\"data row3 col1\" >4</td>\n",
       "    </tr>\n",
       "    <tr>\n",
       "      <th id=\"T_c1df5_level0_row4\" class=\"row_heading level0 row4\" >4</th>\n",
       "      <td id=\"T_c1df5_row4_col0\" class=\"data row4 col0\" >Preprocess</td>\n",
       "      <td id=\"T_c1df5_row4_col1\" class=\"data row4 col1\" >True</td>\n",
       "    </tr>\n",
       "    <tr>\n",
       "      <th id=\"T_c1df5_level0_row5\" class=\"row_heading level0 row5\" >5</th>\n",
       "      <td id=\"T_c1df5_row5_col0\" class=\"data row5 col0\" >Imputation type</td>\n",
       "      <td id=\"T_c1df5_row5_col1\" class=\"data row5 col1\" >simple</td>\n",
       "    </tr>\n",
       "    <tr>\n",
       "      <th id=\"T_c1df5_level0_row6\" class=\"row_heading level0 row6\" >6</th>\n",
       "      <td id=\"T_c1df5_row6_col0\" class=\"data row6 col0\" >Numeric imputation</td>\n",
       "      <td id=\"T_c1df5_row6_col1\" class=\"data row6 col1\" >mean</td>\n",
       "    </tr>\n",
       "    <tr>\n",
       "      <th id=\"T_c1df5_level0_row7\" class=\"row_heading level0 row7\" >7</th>\n",
       "      <td id=\"T_c1df5_row7_col0\" class=\"data row7 col0\" >Categorical imputation</td>\n",
       "      <td id=\"T_c1df5_row7_col1\" class=\"data row7 col1\" >mode</td>\n",
       "    </tr>\n",
       "    <tr>\n",
       "      <th id=\"T_c1df5_level0_row8\" class=\"row_heading level0 row8\" >8</th>\n",
       "      <td id=\"T_c1df5_row8_col0\" class=\"data row8 col0\" >Transformation</td>\n",
       "      <td id=\"T_c1df5_row8_col1\" class=\"data row8 col1\" ><function custom_preprocess at 0x0000020AA5F8CCA0></td>\n",
       "    </tr>\n",
       "    <tr>\n",
       "      <th id=\"T_c1df5_level0_row9\" class=\"row_heading level0 row9\" >9</th>\n",
       "      <td id=\"T_c1df5_row9_col0\" class=\"data row9 col0\" >Transformation method</td>\n",
       "      <td id=\"T_c1df5_row9_col1\" class=\"data row9 col1\" >yeo-johnson</td>\n",
       "    </tr>\n",
       "    <tr>\n",
       "      <th id=\"T_c1df5_level0_row10\" class=\"row_heading level0 row10\" >10</th>\n",
       "      <td id=\"T_c1df5_row10_col0\" class=\"data row10 col0\" >Normalize</td>\n",
       "      <td id=\"T_c1df5_row10_col1\" class=\"data row10 col1\" >True</td>\n",
       "    </tr>\n",
       "    <tr>\n",
       "      <th id=\"T_c1df5_level0_row11\" class=\"row_heading level0 row11\" >11</th>\n",
       "      <td id=\"T_c1df5_row11_col0\" class=\"data row11 col0\" >Normalize method</td>\n",
       "      <td id=\"T_c1df5_row11_col1\" class=\"data row11 col1\" >zscore</td>\n",
       "    </tr>\n",
       "    <tr>\n",
       "      <th id=\"T_c1df5_level0_row12\" class=\"row_heading level0 row12\" >12</th>\n",
       "      <td id=\"T_c1df5_row12_col0\" class=\"data row12 col0\" >PCA</td>\n",
       "      <td id=\"T_c1df5_row12_col1\" class=\"data row12 col1\" >True</td>\n",
       "    </tr>\n",
       "    <tr>\n",
       "      <th id=\"T_c1df5_level0_row13\" class=\"row_heading level0 row13\" >13</th>\n",
       "      <td id=\"T_c1df5_row13_col0\" class=\"data row13 col0\" >PCA method</td>\n",
       "      <td id=\"T_c1df5_row13_col1\" class=\"data row13 col1\" >linear</td>\n",
       "    </tr>\n",
       "    <tr>\n",
       "      <th id=\"T_c1df5_level0_row14\" class=\"row_heading level0 row14\" >14</th>\n",
       "      <td id=\"T_c1df5_row14_col0\" class=\"data row14 col0\" >PCA components</td>\n",
       "      <td id=\"T_c1df5_row14_col1\" class=\"data row14 col1\" >None</td>\n",
       "    </tr>\n",
       "    <tr>\n",
       "      <th id=\"T_c1df5_level0_row15\" class=\"row_heading level0 row15\" >15</th>\n",
       "      <td id=\"T_c1df5_row15_col0\" class=\"data row15 col0\" >CPU Jobs</td>\n",
       "      <td id=\"T_c1df5_row15_col1\" class=\"data row15 col1\" >-1</td>\n",
       "    </tr>\n",
       "    <tr>\n",
       "      <th id=\"T_c1df5_level0_row16\" class=\"row_heading level0 row16\" >16</th>\n",
       "      <td id=\"T_c1df5_row16_col0\" class=\"data row16 col0\" >Use GPU</td>\n",
       "      <td id=\"T_c1df5_row16_col1\" class=\"data row16 col1\" >False</td>\n",
       "    </tr>\n",
       "    <tr>\n",
       "      <th id=\"T_c1df5_level0_row17\" class=\"row_heading level0 row17\" >17</th>\n",
       "      <td id=\"T_c1df5_row17_col0\" class=\"data row17 col0\" >Log Experiment</td>\n",
       "      <td id=\"T_c1df5_row17_col1\" class=\"data row17 col1\" >False</td>\n",
       "    </tr>\n",
       "    <tr>\n",
       "      <th id=\"T_c1df5_level0_row18\" class=\"row_heading level0 row18\" >18</th>\n",
       "      <td id=\"T_c1df5_row18_col0\" class=\"data row18 col0\" >Experiment Name</td>\n",
       "      <td id=\"T_c1df5_row18_col1\" class=\"data row18 col1\" >cluster-default-name</td>\n",
       "    </tr>\n",
       "    <tr>\n",
       "      <th id=\"T_c1df5_level0_row19\" class=\"row_heading level0 row19\" >19</th>\n",
       "      <td id=\"T_c1df5_row19_col0\" class=\"data row19 col0\" >USI</td>\n",
       "      <td id=\"T_c1df5_row19_col1\" class=\"data row19 col1\" >392e</td>\n",
       "    </tr>\n",
       "  </tbody>\n",
       "</table>\n"
      ],
      "text/plain": [
       "<pandas.io.formats.style.Styler at 0x20aa75c0640>"
      ]
     },
     "metadata": {},
     "output_type": "display_data"
    },
    {
     "data": {
      "text/html": [],
      "text/plain": [
       "<IPython.core.display.HTML object>"
      ]
     },
     "metadata": {},
     "output_type": "display_data"
    },
    {
     "data": {
      "text/html": [
       "<style type=\"text/css\">\n",
       "</style>\n",
       "<table id=\"T_1a3d9\">\n",
       "  <thead>\n",
       "    <tr>\n",
       "      <th class=\"blank level0\" >&nbsp;</th>\n",
       "      <th id=\"T_1a3d9_level0_col0\" class=\"col_heading level0 col0\" >Silhouette</th>\n",
       "      <th id=\"T_1a3d9_level0_col1\" class=\"col_heading level0 col1\" >Calinski-Harabasz</th>\n",
       "      <th id=\"T_1a3d9_level0_col2\" class=\"col_heading level0 col2\" >Davies-Bouldin</th>\n",
       "      <th id=\"T_1a3d9_level0_col3\" class=\"col_heading level0 col3\" >Homogeneity</th>\n",
       "      <th id=\"T_1a3d9_level0_col4\" class=\"col_heading level0 col4\" >Rand Index</th>\n",
       "      <th id=\"T_1a3d9_level0_col5\" class=\"col_heading level0 col5\" >Completeness</th>\n",
       "    </tr>\n",
       "  </thead>\n",
       "  <tbody>\n",
       "    <tr>\n",
       "      <th id=\"T_1a3d9_level0_row0\" class=\"row_heading level0 row0\" >0</th>\n",
       "      <td id=\"T_1a3d9_row0_col0\" class=\"data row0 col0\" >0.5836</td>\n",
       "      <td id=\"T_1a3d9_row0_col1\" class=\"data row0 col1\" >254.4469</td>\n",
       "      <td id=\"T_1a3d9_row0_col2\" class=\"data row0 col2\" >0.5931</td>\n",
       "      <td id=\"T_1a3d9_row0_col3\" class=\"data row0 col3\" >0</td>\n",
       "      <td id=\"T_1a3d9_row0_col4\" class=\"data row0 col4\" >0</td>\n",
       "      <td id=\"T_1a3d9_row0_col5\" class=\"data row0 col5\" >0</td>\n",
       "    </tr>\n",
       "  </tbody>\n",
       "</table>\n"
      ],
      "text/plain": [
       "<pandas.io.formats.style.Styler at 0x20aa752b1f0>"
      ]
     },
     "metadata": {},
     "output_type": "display_data"
    },
    {
     "data": {
      "text/html": [],
      "text/plain": [
       "<IPython.core.display.HTML object>"
      ]
     },
     "metadata": {},
     "output_type": "display_data"
    },
    {
     "name": "stdout",
     "output_type": "stream",
     "text": [
      "For meanshift with 4 clusters with Transformation,Normalization and PCA\n"
     ]
    },
    {
     "data": {
      "application/vnd.jupyter.widget-view+json": {
       "model_id": "1449e5da1a7d4a3aab7feaf8745c642d",
       "version_major": 2,
       "version_minor": 0
      },
      "text/plain": [
       "interactive(children=(ToggleButtons(description='Plot Type:', icons=('',), options=(('Pipeline Plot', 'pipelin…"
      ]
     },
     "metadata": {},
     "output_type": "display_data"
    },
    {
     "data": {
      "text/html": [
       "<style type=\"text/css\">\n",
       "#T_fe03b_row4_col1, #T_fe03b_row10_col1, #T_fe03b_row12_col1 {\n",
       "  background-color: lightgreen;\n",
       "}\n",
       "</style>\n",
       "<table id=\"T_fe03b\">\n",
       "  <thead>\n",
       "    <tr>\n",
       "      <th class=\"blank level0\" >&nbsp;</th>\n",
       "      <th id=\"T_fe03b_level0_col0\" class=\"col_heading level0 col0\" >Description</th>\n",
       "      <th id=\"T_fe03b_level0_col1\" class=\"col_heading level0 col1\" >Value</th>\n",
       "    </tr>\n",
       "  </thead>\n",
       "  <tbody>\n",
       "    <tr>\n",
       "      <th id=\"T_fe03b_level0_row0\" class=\"row_heading level0 row0\" >0</th>\n",
       "      <td id=\"T_fe03b_row0_col0\" class=\"data row0 col0\" >Session id</td>\n",
       "      <td id=\"T_fe03b_row0_col1\" class=\"data row0 col1\" >2</td>\n",
       "    </tr>\n",
       "    <tr>\n",
       "      <th id=\"T_fe03b_level0_row1\" class=\"row_heading level0 row1\" >1</th>\n",
       "      <td id=\"T_fe03b_row1_col0\" class=\"data row1 col0\" >Original data shape</td>\n",
       "      <td id=\"T_fe03b_row1_col1\" class=\"data row1 col1\" >(150, 4)</td>\n",
       "    </tr>\n",
       "    <tr>\n",
       "      <th id=\"T_fe03b_level0_row2\" class=\"row_heading level0 row2\" >2</th>\n",
       "      <td id=\"T_fe03b_row2_col0\" class=\"data row2 col0\" >Transformed data shape</td>\n",
       "      <td id=\"T_fe03b_row2_col1\" class=\"data row2 col1\" >(150, 4)</td>\n",
       "    </tr>\n",
       "    <tr>\n",
       "      <th id=\"T_fe03b_level0_row3\" class=\"row_heading level0 row3\" >3</th>\n",
       "      <td id=\"T_fe03b_row3_col0\" class=\"data row3 col0\" >Numeric features</td>\n",
       "      <td id=\"T_fe03b_row3_col1\" class=\"data row3 col1\" >4</td>\n",
       "    </tr>\n",
       "    <tr>\n",
       "      <th id=\"T_fe03b_level0_row4\" class=\"row_heading level0 row4\" >4</th>\n",
       "      <td id=\"T_fe03b_row4_col0\" class=\"data row4 col0\" >Preprocess</td>\n",
       "      <td id=\"T_fe03b_row4_col1\" class=\"data row4 col1\" >True</td>\n",
       "    </tr>\n",
       "    <tr>\n",
       "      <th id=\"T_fe03b_level0_row5\" class=\"row_heading level0 row5\" >5</th>\n",
       "      <td id=\"T_fe03b_row5_col0\" class=\"data row5 col0\" >Imputation type</td>\n",
       "      <td id=\"T_fe03b_row5_col1\" class=\"data row5 col1\" >simple</td>\n",
       "    </tr>\n",
       "    <tr>\n",
       "      <th id=\"T_fe03b_level0_row6\" class=\"row_heading level0 row6\" >6</th>\n",
       "      <td id=\"T_fe03b_row6_col0\" class=\"data row6 col0\" >Numeric imputation</td>\n",
       "      <td id=\"T_fe03b_row6_col1\" class=\"data row6 col1\" >mean</td>\n",
       "    </tr>\n",
       "    <tr>\n",
       "      <th id=\"T_fe03b_level0_row7\" class=\"row_heading level0 row7\" >7</th>\n",
       "      <td id=\"T_fe03b_row7_col0\" class=\"data row7 col0\" >Categorical imputation</td>\n",
       "      <td id=\"T_fe03b_row7_col1\" class=\"data row7 col1\" >mode</td>\n",
       "    </tr>\n",
       "    <tr>\n",
       "      <th id=\"T_fe03b_level0_row8\" class=\"row_heading level0 row8\" >8</th>\n",
       "      <td id=\"T_fe03b_row8_col0\" class=\"data row8 col0\" >Transformation</td>\n",
       "      <td id=\"T_fe03b_row8_col1\" class=\"data row8 col1\" ><function custom_preprocess at 0x0000020AA5F8CCA0></td>\n",
       "    </tr>\n",
       "    <tr>\n",
       "      <th id=\"T_fe03b_level0_row9\" class=\"row_heading level0 row9\" >9</th>\n",
       "      <td id=\"T_fe03b_row9_col0\" class=\"data row9 col0\" >Transformation method</td>\n",
       "      <td id=\"T_fe03b_row9_col1\" class=\"data row9 col1\" >yeo-johnson</td>\n",
       "    </tr>\n",
       "    <tr>\n",
       "      <th id=\"T_fe03b_level0_row10\" class=\"row_heading level0 row10\" >10</th>\n",
       "      <td id=\"T_fe03b_row10_col0\" class=\"data row10 col0\" >Normalize</td>\n",
       "      <td id=\"T_fe03b_row10_col1\" class=\"data row10 col1\" >True</td>\n",
       "    </tr>\n",
       "    <tr>\n",
       "      <th id=\"T_fe03b_level0_row11\" class=\"row_heading level0 row11\" >11</th>\n",
       "      <td id=\"T_fe03b_row11_col0\" class=\"data row11 col0\" >Normalize method</td>\n",
       "      <td id=\"T_fe03b_row11_col1\" class=\"data row11 col1\" >zscore</td>\n",
       "    </tr>\n",
       "    <tr>\n",
       "      <th id=\"T_fe03b_level0_row12\" class=\"row_heading level0 row12\" >12</th>\n",
       "      <td id=\"T_fe03b_row12_col0\" class=\"data row12 col0\" >PCA</td>\n",
       "      <td id=\"T_fe03b_row12_col1\" class=\"data row12 col1\" >True</td>\n",
       "    </tr>\n",
       "    <tr>\n",
       "      <th id=\"T_fe03b_level0_row13\" class=\"row_heading level0 row13\" >13</th>\n",
       "      <td id=\"T_fe03b_row13_col0\" class=\"data row13 col0\" >PCA method</td>\n",
       "      <td id=\"T_fe03b_row13_col1\" class=\"data row13 col1\" >linear</td>\n",
       "    </tr>\n",
       "    <tr>\n",
       "      <th id=\"T_fe03b_level0_row14\" class=\"row_heading level0 row14\" >14</th>\n",
       "      <td id=\"T_fe03b_row14_col0\" class=\"data row14 col0\" >PCA components</td>\n",
       "      <td id=\"T_fe03b_row14_col1\" class=\"data row14 col1\" >None</td>\n",
       "    </tr>\n",
       "    <tr>\n",
       "      <th id=\"T_fe03b_level0_row15\" class=\"row_heading level0 row15\" >15</th>\n",
       "      <td id=\"T_fe03b_row15_col0\" class=\"data row15 col0\" >CPU Jobs</td>\n",
       "      <td id=\"T_fe03b_row15_col1\" class=\"data row15 col1\" >-1</td>\n",
       "    </tr>\n",
       "    <tr>\n",
       "      <th id=\"T_fe03b_level0_row16\" class=\"row_heading level0 row16\" >16</th>\n",
       "      <td id=\"T_fe03b_row16_col0\" class=\"data row16 col0\" >Use GPU</td>\n",
       "      <td id=\"T_fe03b_row16_col1\" class=\"data row16 col1\" >False</td>\n",
       "    </tr>\n",
       "    <tr>\n",
       "      <th id=\"T_fe03b_level0_row17\" class=\"row_heading level0 row17\" >17</th>\n",
       "      <td id=\"T_fe03b_row17_col0\" class=\"data row17 col0\" >Log Experiment</td>\n",
       "      <td id=\"T_fe03b_row17_col1\" class=\"data row17 col1\" >False</td>\n",
       "    </tr>\n",
       "    <tr>\n",
       "      <th id=\"T_fe03b_level0_row18\" class=\"row_heading level0 row18\" >18</th>\n",
       "      <td id=\"T_fe03b_row18_col0\" class=\"data row18 col0\" >Experiment Name</td>\n",
       "      <td id=\"T_fe03b_row18_col1\" class=\"data row18 col1\" >cluster-default-name</td>\n",
       "    </tr>\n",
       "    <tr>\n",
       "      <th id=\"T_fe03b_level0_row19\" class=\"row_heading level0 row19\" >19</th>\n",
       "      <td id=\"T_fe03b_row19_col0\" class=\"data row19 col0\" >USI</td>\n",
       "      <td id=\"T_fe03b_row19_col1\" class=\"data row19 col1\" >fd30</td>\n",
       "    </tr>\n",
       "  </tbody>\n",
       "</table>\n"
      ],
      "text/plain": [
       "<pandas.io.formats.style.Styler at 0x20aa767a890>"
      ]
     },
     "metadata": {},
     "output_type": "display_data"
    },
    {
     "data": {
      "text/html": [],
      "text/plain": [
       "<IPython.core.display.HTML object>"
      ]
     },
     "metadata": {},
     "output_type": "display_data"
    },
    {
     "data": {
      "text/html": [
       "<style type=\"text/css\">\n",
       "</style>\n",
       "<table id=\"T_f624e\">\n",
       "  <thead>\n",
       "    <tr>\n",
       "      <th class=\"blank level0\" >&nbsp;</th>\n",
       "      <th id=\"T_f624e_level0_col0\" class=\"col_heading level0 col0\" >Silhouette</th>\n",
       "      <th id=\"T_f624e_level0_col1\" class=\"col_heading level0 col1\" >Calinski-Harabasz</th>\n",
       "      <th id=\"T_f624e_level0_col2\" class=\"col_heading level0 col2\" >Davies-Bouldin</th>\n",
       "      <th id=\"T_f624e_level0_col3\" class=\"col_heading level0 col3\" >Homogeneity</th>\n",
       "      <th id=\"T_f624e_level0_col4\" class=\"col_heading level0 col4\" >Rand Index</th>\n",
       "      <th id=\"T_f624e_level0_col5\" class=\"col_heading level0 col5\" >Completeness</th>\n",
       "    </tr>\n",
       "  </thead>\n",
       "  <tbody>\n",
       "    <tr>\n",
       "      <th id=\"T_f624e_level0_row0\" class=\"row_heading level0 row0\" >0</th>\n",
       "      <td id=\"T_f624e_row0_col0\" class=\"data row0 col0\" >0.5836</td>\n",
       "      <td id=\"T_f624e_row0_col1\" class=\"data row0 col1\" >254.4469</td>\n",
       "      <td id=\"T_f624e_row0_col2\" class=\"data row0 col2\" >0.5931</td>\n",
       "      <td id=\"T_f624e_row0_col3\" class=\"data row0 col3\" >0</td>\n",
       "      <td id=\"T_f624e_row0_col4\" class=\"data row0 col4\" >0</td>\n",
       "      <td id=\"T_f624e_row0_col5\" class=\"data row0 col5\" >0</td>\n",
       "    </tr>\n",
       "  </tbody>\n",
       "</table>\n"
      ],
      "text/plain": [
       "<pandas.io.formats.style.Styler at 0x20aa747e740>"
      ]
     },
     "metadata": {},
     "output_type": "display_data"
    },
    {
     "data": {
      "text/html": [],
      "text/plain": [
       "<IPython.core.display.HTML object>"
      ]
     },
     "metadata": {},
     "output_type": "display_data"
    },
    {
     "name": "stdout",
     "output_type": "stream",
     "text": [
      "For meanshift with 5 clusters with Transformation,Normalization and PCA\n"
     ]
    },
    {
     "data": {
      "application/vnd.jupyter.widget-view+json": {
       "model_id": "7be2a4ddaf8c4568af393e5c823900b1",
       "version_major": 2,
       "version_minor": 0
      },
      "text/plain": [
       "interactive(children=(ToggleButtons(description='Plot Type:', icons=('',), options=(('Pipeline Plot', 'pipelin…"
      ]
     },
     "metadata": {},
     "output_type": "display_data"
    }
   ],
   "source": [
    "for model in models:\n",
    "    for cluster in clusters:\n",
    "        setup1 = setup(data, normalize=True, pca=True,session_id = 2,transformation=custom_preprocess)\n",
    "        mod1  = create_model(model,num_clusters = cluster)\n",
    "        print(f\"For {model} with {cluster} clusters with Transformation,Normalization and PCA\")\n",
    "        evaluate_model(mod1)\n"
   ]
  }
 ],
 "metadata": {
  "kernelspec": {
   "display_name": "Python 3 (ipykernel)",
   "language": "python",
   "name": "python3"
  },
  "language_info": {
   "codemirror_mode": {
    "name": "ipython",
    "version": 3
   },
   "file_extension": ".py",
   "mimetype": "text/x-python",
   "name": "python",
   "nbconvert_exporter": "python",
   "pygments_lexer": "ipython3",
   "version": "3.10.10"
  }
 },
 "nbformat": 4,
 "nbformat_minor": 5
}
